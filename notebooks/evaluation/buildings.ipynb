{
 "cells": [
  {
   "cell_type": "markdown",
   "metadata": {},
   "source": [
    "# Enhanced evaluation with building data\n",
    "\n",
    "To Do:\n",
    "- [ ] fetch OSM building data for all FUAs\n",
    "- [ ] re-run neatnet twice: `methods/neatnet.ipynb` and `methods/neatnet-buildings.ipynb`, where in the 2nd case we use an exclusion mask for polygons containing buildings\n",
    "- [ ] re-run statistical_comparison but *only* for neatnet with vs. without builings\n",
    "- [ ] comparison plots of neatnet with vs. without buildings"
   ]
  },
  {
   "cell_type": "markdown",
   "metadata": {},
   "source": []
  }
 ],
 "metadata": {
  "language_info": {
   "name": "python"
  }
 },
 "nbformat": 4,
 "nbformat_minor": 2
}
