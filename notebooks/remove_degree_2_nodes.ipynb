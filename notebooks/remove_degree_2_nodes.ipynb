{
 "cells": [
  {
   "cell_type": "markdown",
   "id": "57d0ba47-4d99-493d-ae34-d5146ed77e01",
   "metadata": {},
   "source": [
    "# Remove (non-articulation / intersitial) nodes from road networks"
   ]
  },
  {
   "cell_type": "code",
   "execution_count": 1,
   "id": "c785905e-e1de-4940-9a40-d50a1769062a",
   "metadata": {
    "execution": {
     "iopub.execute_input": "2024-07-24T14:21:30.459808Z",
     "iopub.status.busy": "2024-07-24T14:21:30.459660Z",
     "iopub.status.idle": "2024-07-24T14:21:30.489539Z",
     "shell.execute_reply": "2024-07-24T14:21:30.489179Z",
     "shell.execute_reply.started": "2024-07-24T14:21:30.459790Z"
    }
   },
   "outputs": [
    {
     "name": "stdout",
     "output_type": "stream",
     "text": [
      "Last updated: 2024-07-24T10:21:30.480226-04:00\n",
      "\n",
      "Python implementation: CPython\n",
      "Python version       : 3.11.9\n",
      "IPython version      : 8.26.0\n",
      "\n",
      "Compiler    : Clang 16.0.6 \n",
      "OS          : Darwin\n",
      "Release     : 23.5.0\n",
      "Machine     : arm64\n",
      "Processor   : arm\n",
      "CPU cores   : 8\n",
      "Architecture: 64bit\n",
      "\n"
     ]
    }
   ],
   "source": [
    "%load_ext watermark\n",
    "%watermark"
   ]
  },
  {
   "cell_type": "code",
   "execution_count": 2,
   "id": "b4891b2f-c26f-450e-8afb-ce147455d649",
   "metadata": {
    "execution": {
     "iopub.execute_input": "2024-07-24T14:21:30.490708Z",
     "iopub.status.busy": "2024-07-24T14:21:30.490451Z",
     "iopub.status.idle": "2024-07-24T14:21:31.550819Z",
     "shell.execute_reply": "2024-07-24T14:21:31.550522Z",
     "shell.execute_reply.started": "2024-07-24T14:21:30.490695Z"
    }
   },
   "outputs": [],
   "source": [
    "import pathlib\n",
    "\n",
    "import momepy  # noqa: F401\n",
    "\n",
    "import core  # noqa: F401\n",
    "from core import utils"
   ]
  },
  {
   "cell_type": "code",
   "execution_count": 3,
   "id": "a124677d-de91-4164-9f9b-fa07afe1904d",
   "metadata": {
    "execution": {
     "iopub.execute_input": "2024-07-24T14:21:31.551465Z",
     "iopub.status.busy": "2024-07-24T14:21:31.551317Z",
     "iopub.status.idle": "2024-07-24T14:21:31.554311Z",
     "shell.execute_reply": "2024-07-24T14:21:31.554085Z",
     "shell.execute_reply.started": "2024-07-24T14:21:31.551458Z"
    }
   },
   "outputs": [
    {
     "name": "stdout",
     "output_type": "stream",
     "text": [
      "Watermark: 2.4.3\n",
      "\n",
      "core  : 0.1.dev103+gc27d2d8\n",
      "momepy: 0.8.0a3.dev35+g4e45e54\n",
      "\n"
     ]
    }
   ],
   "source": [
    "%watermark -w\n",
    "%watermark -iv"
   ]
  },
  {
   "cell_type": "code",
   "execution_count": 4,
   "id": "5ec07872-0a18-400b-98cf-2c2a05c59727",
   "metadata": {
    "execution": {
     "iopub.execute_input": "2024-07-24T14:21:31.554707Z",
     "iopub.status.busy": "2024-07-24T14:21:31.554643Z",
     "iopub.status.idle": "2024-07-24T14:21:31.557104Z",
     "shell.execute_reply": "2024-07-24T14:21:31.556900Z",
     "shell.execute_reply.started": "2024-07-24T14:21:31.554699Z"
    }
   },
   "outputs": [
    {
     "data": {
      "text/plain": [
       "{1133: 'Aleppo',\n",
       " 869: 'Auckland',\n",
       " 4617: 'Bucaramanga',\n",
       " 809: 'Douala',\n",
       " 1656: 'Liège',\n",
       " 4881: 'Salt Lake City',\n",
       " 8989: 'Wuhan'}"
      ]
     },
     "execution_count": 4,
     "metadata": {},
     "output_type": "execute_result"
    }
   ],
   "source": [
    "utils.fua_city"
   ]
  },
  {
   "cell_type": "code",
   "execution_count": 5,
   "id": "a1731d0f-65ac-483c-8dde-6a410747ea71",
   "metadata": {
    "execution": {
     "iopub.execute_input": "2024-07-24T14:21:31.557508Z",
     "iopub.status.busy": "2024-07-24T14:21:31.557437Z",
     "iopub.status.idle": "2024-07-24T14:21:31.559154Z",
     "shell.execute_reply": "2024-07-24T14:21:31.558984Z",
     "shell.execute_reply.started": "2024-07-24T14:21:31.557502Z"
    }
   },
   "outputs": [
    {
     "data": {
      "text/plain": [
       "PosixPath('../data')"
      ]
     },
     "execution_count": 5,
     "metadata": {},
     "output_type": "execute_result"
    }
   ],
   "source": [
    "ddir = pathlib.Path(\"..\", \"data\")\n",
    "ddir"
   ]
  },
  {
   "cell_type": "code",
   "execution_count": 6,
   "id": "1489f17a-18c7-4192-9bc8-881eabc13866",
   "metadata": {
    "execution": {
     "iopub.execute_input": "2024-07-24T14:21:31.560220Z",
     "iopub.status.busy": "2024-07-24T14:21:31.560140Z",
     "iopub.status.idle": "2024-07-24T14:21:31.561535Z",
     "shell.execute_reply": "2024-07-24T14:21:31.561372Z",
     "shell.execute_reply.started": "2024-07-24T14:21:31.560212Z"
    }
   },
   "outputs": [],
   "source": [
    "xd2 = \"no_degree_2\"\n",
    "p = \"{}.parquet\""
   ]
  },
  {
   "cell_type": "code",
   "execution_count": 7,
   "id": "a4c550d8-28ef-4971-b4cf-ddbbeda80a2e",
   "metadata": {
    "execution": {
     "iopub.execute_input": "2024-07-24T14:21:31.561822Z",
     "iopub.status.busy": "2024-07-24T14:21:31.561764Z",
     "iopub.status.idle": "2024-07-24T14:21:54.236402Z",
     "shell.execute_reply": "2024-07-24T14:21:54.236194Z",
     "shell.execute_reply.started": "2024-07-24T14:21:31.561816Z"
    }
   },
   "outputs": [
    {
     "name": "stdout",
     "output_type": "stream",
     "text": [
      "Aleppo\n",
      "\t../data/1133/no_degree_2/1133.parquet: complete\n",
      "Auckland\n",
      "\t../data/869/no_degree_2/869.parquet: complete\n",
      "Bucaramanga\n",
      "\t../data/4617/no_degree_2/4617.parquet: complete\n",
      "Douala\n",
      "\t../data/809/no_degree_2/809.parquet: complete\n",
      "Liège\n",
      "\t../data/1656/no_degree_2/1656.parquet: complete\n",
      "Salt Lake City\n",
      "\t../data/4881/no_degree_2/4881.parquet: complete\n",
      "Wuhan\n",
      "\t../data/8989/no_degree_2/8989.parquet: complete\n"
     ]
    }
   ],
   "source": [
    "for fua, city in utils.fua_city.items():\n",
    "    print(city)\n",
    "    fua_dir = ddir / str(fua)\n",
    "    fua_dir_xd2 = fua_dir / xd2\n",
    "    fua_dir_xd2.mkdir(parents=True, exist_ok=True)\n",
    "\n",
    "    parq_out = fua_dir_xd2 / p.format(fua)\n",
    "\n",
    "    xd2_gdf = utils.remove_degree_2_nodes(city)\n",
    "    xd2_gdf.to_parquet(parq_out)\n",
    "\n",
    "    print(f\"\\t{parq_out}: complete\")"
   ]
  }
 ],
 "metadata": {
  "kernelspec": {
   "display_name": "Python 3 (ipykernel)",
   "language": "python",
   "name": "python3"
  },
  "language_info": {
   "codemirror_mode": {
    "name": "ipython",
    "version": 3
   },
   "file_extension": ".py",
   "mimetype": "text/x-python",
   "name": "python",
   "nbconvert_exporter": "python",
   "pygments_lexer": "ipython3",
   "version": "3.11.9"
  }
 },
 "nbformat": 4,
 "nbformat_minor": 5
}
