{
 "cells": [
  {
   "cell_type": "markdown",
   "id": "07bfd607-b784-4fa9-a706-60084383e81a",
   "metadata": {},
   "source": [
    "# `nx_merge_parallel_edges()` with [`cityseer`](https://github.com/benchmark-urbanism/cityseer-api)\n",
    "\n",
    "* **Simons, G.** (2023). *The cityseer Python package for pedestrian-scale network-based urban analysis*. Environment and Planning B: Urban Analytics and City Science, 50(5), 1328-1344. https://doi.org/10.1177/23998083221133827\n",
    "\n",
    "-----------------\n",
    "\n",
    "1. Setup\n",
    "2. Prep `cityseer` graph\n",
    "3. Experiment\n",
    "4. Viz\n",
    "\n",
    "-----------------\n",
    "\n",
    "## 1. Setup"
   ]
  },
  {
   "cell_type": "code",
   "execution_count": 1,
   "id": "571e1dd3-ce27-4c26-a199-30da6e77ebb8",
   "metadata": {
    "execution": {
     "iopub.execute_input": "2024-06-13T13:00:11.792046Z",
     "iopub.status.busy": "2024-06-13T13:00:11.791530Z",
     "iopub.status.idle": "2024-06-13T13:00:11.815890Z",
     "shell.execute_reply": "2024-06-13T13:00:11.815336Z",
     "shell.execute_reply.started": "2024-06-13T13:00:11.792004Z"
    }
   },
   "outputs": [
    {
     "name": "stdout",
     "output_type": "stream",
     "text": [
      "Last updated: 2024-06-13T09:00:11.808343-04:00\n",
      "\n",
      "Python implementation: CPython\n",
      "Python version       : 3.11.9\n",
      "IPython version      : 8.25.0\n",
      "\n",
      "Compiler    : Clang 16.0.6 \n",
      "OS          : Darwin\n",
      "Release     : 23.5.0\n",
      "Machine     : arm64\n",
      "Processor   : arm\n",
      "CPU cores   : 8\n",
      "Architecture: 64bit\n",
      "\n"
     ]
    }
   ],
   "source": [
    "%load_ext watermark\n",
    "%watermark"
   ]
  },
  {
   "cell_type": "code",
   "execution_count": 2,
   "id": "f4ec78c3-cc55-4c1d-aef0-ed33b44b98b5",
   "metadata": {
    "execution": {
     "iopub.execute_input": "2024-06-13T13:00:11.816981Z",
     "iopub.status.busy": "2024-06-13T13:00:11.816630Z",
     "iopub.status.idle": "2024-06-13T13:00:15.289050Z",
     "shell.execute_reply": "2024-06-13T13:00:15.288803Z",
     "shell.execute_reply.started": "2024-06-13T13:00:11.816948Z"
    }
   },
   "outputs": [
    {
     "name": "stdout",
     "output_type": "stream",
     "text": [
      "Watermark: 2.4.3\n",
      "\n",
      "pyproj   : 3.6.1\n",
      "momepy   : 0.7.1.dev43+g6f1d740\n",
      "core     : 0.1.dev99+gb02958b.d20240608\n",
      "cityseer : 4.12.0\n",
      "networkx : 3.3\n",
      "geopandas: 0.14.4\n",
      "\n"
     ]
    }
   ],
   "source": [
    "import cityseer  # noqa: F401\n",
    "import geopandas\n",
    "import momepy\n",
    "import networkx\n",
    "import pyproj\n",
    "from cityseer.tools import graphs, io\n",
    "\n",
    "from core import utils, viz\n",
    "\n",
    "%watermark -w\n",
    "%watermark -iv"
   ]
  },
  {
   "cell_type": "code",
   "execution_count": 3,
   "id": "91bd144e-b567-4edd-8693-5b7d8d40bd16",
   "metadata": {
    "execution": {
     "iopub.execute_input": "2024-06-13T13:00:15.289615Z",
     "iopub.status.busy": "2024-06-13T13:00:15.289439Z",
     "iopub.status.idle": "2024-06-13T13:00:15.304028Z",
     "shell.execute_reply": "2024-06-13T13:00:15.303824Z",
     "shell.execute_reply.started": "2024-06-13T13:00:15.289607Z"
    }
   },
   "outputs": [
    {
     "data": {
      "text/plain": [
       "\u001b[0;31mSignature:\u001b[0m\n",
       "\u001b[0mgraphs\u001b[0m\u001b[0;34m.\u001b[0m\u001b[0mnx_merge_parallel_edges\u001b[0m\u001b[0;34m(\u001b[0m\u001b[0;34m\u001b[0m\n",
       "\u001b[0;34m\u001b[0m    \u001b[0mnx_multigraph\u001b[0m\u001b[0;34m:\u001b[0m \u001b[0;34m'MultiGraph'\u001b[0m\u001b[0;34m,\u001b[0m\u001b[0;34m\u001b[0m\n",
       "\u001b[0;34m\u001b[0m    \u001b[0mmerge_edges_by_midline\u001b[0m\u001b[0;34m:\u001b[0m \u001b[0;34m'bool'\u001b[0m\u001b[0;34m,\u001b[0m\u001b[0;34m\u001b[0m\n",
       "\u001b[0;34m\u001b[0m    \u001b[0mcontains_buffer_dist\u001b[0m\u001b[0;34m:\u001b[0m \u001b[0;34m'int'\u001b[0m\u001b[0;34m,\u001b[0m\u001b[0;34m\u001b[0m\n",
       "\u001b[0;34m\u001b[0m\u001b[0;34m)\u001b[0m \u001b[0;34m->\u001b[0m \u001b[0;34m'MultiGraph'\u001b[0m\u001b[0;34m\u001b[0m\u001b[0;34m\u001b[0m\u001b[0m\n",
       "\u001b[0;31mDocstring:\u001b[0m\n",
       "Check a MultiGraph for duplicate edges; which, if found, will be merged.\n",
       "\n",
       "The shortest of these parallel edges is selected and buffered by `contains_buffer_dist`. If this buffer contains an\n",
       "adjacent edge, then the adjacent edge is merged. Edges falling outside this buffer are retained.\n",
       "\n",
       "When candidate edges are found for merging, they are replaced by a single new edge. The new geometry selected from\n",
       "either:\n",
       "- An imaginary centreline of the combined edges if `merge_edges_by_midline` is set to `True`;\n",
       "- Else, the shortest edge is retained, with longer edges discarded.\n",
       "\n",
       "Parameters\n",
       "----------\n",
       "nx_multigraph: MultiGraph\n",
       "    A `networkX` `MultiGraph` in a projected coordinate system, containing `x` and `y` node attributes, and `geom`\n",
       "    edge attributes containing `LineString` geoms.\n",
       "merge_edges_by_midline: bool\n",
       "    Whether to merge parallel edges by an imaginary centreline. If set to False, then the shortest edge will be\n",
       "    retained as the new geometry and the longer edges will be discarded. Defaults to True.\n",
       "contains_buffer_dist: int\n",
       "    The buffer distance to consider when checking if parallel edges sharing the same start and end nodes are\n",
       "    sufficiently adjacent to be merged.\n",
       "\n",
       "Returns\n",
       "-------\n",
       "MultiGraph\n",
       "    A `networkX` `MultiGraph` with consolidated nodes.\n",
       "\u001b[0;31mFile:\u001b[0m      ~/miniforge3/envs/py311_uscuni_simplification/lib/python3.11/site-packages/cityseer/tools/graphs.py\n",
       "\u001b[0;31mType:\u001b[0m      function"
      ]
     },
     "metadata": {},
     "output_type": "display_data"
    }
   ],
   "source": [
    "graphs.nx_merge_parallel_edges?"
   ]
  },
  {
   "cell_type": "markdown",
   "id": "cffc8744-2905-404c-8a65-fae30a62c8b8",
   "metadata": {},
   "source": [
    "### Funtions"
   ]
  },
  {
   "cell_type": "code",
   "execution_count": 4,
   "id": "528114a6-c02f-4546-bea7-e96dc36a108f",
   "metadata": {
    "execution": {
     "iopub.execute_input": "2024-06-13T13:00:15.304509Z",
     "iopub.status.busy": "2024-06-13T13:00:15.304435Z",
     "iopub.status.idle": "2024-06-13T13:00:15.306428Z",
     "shell.execute_reply": "2024-06-13T13:00:15.306241Z",
     "shell.execute_reply.started": "2024-06-13T13:00:15.304500Z"
    }
   },
   "outputs": [],
   "source": [
    "def merge_parallel_routine(\n",
    "    graph: networkx.Graph, midline: bool, buff: int | float\n",
    ") -> networkx.Graph:\n",
    "    # \"simple geoms\"\n",
    "    _g = graphs.nx_simple_geoms(graph.copy())\n",
    "    print(utils.graph_size(f\"simple geoms: {city}\", _g))\n",
    "\n",
    "    # \"remove filler nodes\"\n",
    "    _g = graphs.nx_remove_filler_nodes(_g.copy())\n",
    "    print(utils.graph_size(f\"remove filler nodes: {city}\", _g))\n",
    "\n",
    "    # run ``nx_merge_parallel_edges``\n",
    "    _g = graphs.nx_merge_parallel_edges(_g.copy(), midline, buff)\n",
    "    print(utils.graph_size(f\"merged parallel edges\\n  {buff=}m\", _g))\n",
    "\n",
    "    return _g"
   ]
  },
  {
   "cell_type": "code",
   "execution_count": 5,
   "id": "95c1248f-9972-4bc2-a88e-a0988b6f4f1c",
   "metadata": {
    "execution": {
     "iopub.execute_input": "2024-06-13T13:00:15.306818Z",
     "iopub.status.busy": "2024-06-13T13:00:15.306746Z",
     "iopub.status.idle": "2024-06-13T13:00:15.308639Z",
     "shell.execute_reply": "2024-06-13T13:00:15.308458Z",
     "shell.execute_reply.started": "2024-06-13T13:00:15.306812Z"
    }
   },
   "outputs": [],
   "source": [
    "def convert_cs2mm(\n",
    "    graph: networkx.Graph, crs: pyproj.CRS\n",
    ") -> tuple[geopandas.GeoDataFrame, geopandas.GeoDataFrame]:\n",
    "    \"\"\"conversion from ``cityseer`` format to ``momepy``/``geopandas``\"\"\"\n",
    "\n",
    "    cs_gdf = io.geopandas_from_nx(graph, crs=crs).rename_geometry(\"geometry\")\n",
    "    mm_nx = momepy.gdf_to_nx(cs_gdf, integer_labels=True)\n",
    "\n",
    "    n, e = momepy.nx_to_gdf(mm_nx)\n",
    "    n = n[[\"nodeID\", \"geometry\"]].copy()\n",
    "    e = e[[\"node_start\", \"node_end\", \"geometry\"]].copy()\n",
    "\n",
    "    return n, e"
   ]
  },
  {
   "cell_type": "markdown",
   "id": "5dd4cc4a-2185-483d-a61a-1e51c7e7bfd9",
   "metadata": {},
   "source": [
    "-----------------------------------------\n",
    "## 2. Prep `cityseer` graph"
   ]
  },
  {
   "cell_type": "markdown",
   "id": "ae1a3c13-d774-4d49-935c-06ca03209b40",
   "metadata": {},
   "source": [
    "* https://cityseer.benchmarkurbanism.com/tools/graphs#nx-merge-parallel-edges"
   ]
  },
  {
   "cell_type": "code",
   "execution_count": 6,
   "id": "961ffe2d-9f18-4532-b500-22154ce569c3",
   "metadata": {
    "execution": {
     "iopub.execute_input": "2024-06-13T13:00:15.309917Z",
     "iopub.status.busy": "2024-06-13T13:00:15.309849Z",
     "iopub.status.idle": "2024-06-13T13:00:15.312508Z",
     "shell.execute_reply": "2024-06-13T13:00:15.312012Z",
     "shell.execute_reply.started": "2024-06-13T13:00:15.309911Z"
    }
   },
   "outputs": [
    {
     "data": {
      "text/plain": [
       "1656"
      ]
     },
     "execution_count": 6,
     "metadata": {},
     "output_type": "execute_result"
    }
   ],
   "source": [
    "# city = \"Douala\"\n",
    "city = \"Liège\"\n",
    "utils.city_fua[city]"
   ]
  },
  {
   "cell_type": "code",
   "execution_count": 7,
   "id": "b9ae12c1-97fd-4c5e-bc9d-434242e54b57",
   "metadata": {
    "execution": {
     "iopub.execute_input": "2024-06-13T13:00:15.312908Z",
     "iopub.status.busy": "2024-06-13T13:00:15.312834Z",
     "iopub.status.idle": "2024-06-13T13:00:15.512085Z",
     "shell.execute_reply": "2024-06-13T13:00:15.511808Z",
     "shell.execute_reply.started": "2024-06-13T13:00:15.312900Z"
    }
   },
   "outputs": [],
   "source": [
    "roads_bare = utils.read_original(utils.city_fua[city])\n",
    "orig_crs = roads_bare.crs"
   ]
  },
  {
   "cell_type": "markdown",
   "id": "71a21223-efaf-4579-b330-207e8e9d02b7",
   "metadata": {},
   "source": [
    "### Convert edges `geopandas.GeoDataFrame` to `cityseer`-compatible `networkx.Graph`\n",
    "* performs an initial 1-meter parallel edge buffer"
   ]
  },
  {
   "cell_type": "code",
   "execution_count": 8,
   "id": "51e454d4-a271-4a83-9e83-ac1d8a40d831",
   "metadata": {
    "execution": {
     "iopub.execute_input": "2024-06-13T13:00:15.512634Z",
     "iopub.status.busy": "2024-06-13T13:00:15.512516Z",
     "iopub.status.idle": "2024-06-13T13:00:19.164761Z",
     "shell.execute_reply": "2024-06-13T13:00:19.164527Z",
     "shell.execute_reply.started": "2024-06-13T13:00:15.512626Z"
    }
   },
   "outputs": [
    {
     "name": "stderr",
     "output_type": "stream",
     "text": [
      "INFO:cityseer.tools.graphs:Merging parallel edges within buffer of 1.\n",
      "100%|███████████████████████████████| 105174/105174 [00:00<00:00, 254630.75it/s]"
     ]
    },
    {
     "name": "stdout",
     "output_type": "stream",
     "text": [
      "NetworkX Graph from CitySeer: Liège\n",
      "\t* MultiGraph with 98777 nodes and 105156 edges\n"
     ]
    },
    {
     "name": "stderr",
     "output_type": "stream",
     "text": [
      "\n"
     ]
    }
   ],
   "source": [
    "G = io.nx_from_generic_geopandas(roads_bare)\n",
    "print(utils.graph_size(f\"NetworkX Graph from CitySeer: {city}\", G))"
   ]
  },
  {
   "cell_type": "markdown",
   "id": "bd8efc17-b80e-448b-a8f9-478a2a9ed602",
   "metadata": {},
   "source": [
    "--------------------------------------\n",
    "\n",
    "## 3. Experiement\n",
    "\n",
    "### params\n",
    "* Merge parallel edges by 2 methods: a derived centerline and the shortest edge\n",
    "* Use a buffer of 5m to 100m, by 5m"
   ]
  },
  {
   "cell_type": "code",
   "execution_count": 9,
   "id": "305501bd-3ee4-49c4-adf3-3059c9bf550b",
   "metadata": {
    "execution": {
     "iopub.execute_input": "2024-06-13T13:00:19.165285Z",
     "iopub.status.busy": "2024-06-13T13:00:19.165214Z",
     "iopub.status.idle": "2024-06-13T13:00:19.166856Z",
     "shell.execute_reply": "2024-06-13T13:00:19.166671Z",
     "shell.execute_reply.started": "2024-06-13T13:00:19.165277Z"
    }
   },
   "outputs": [],
   "source": [
    "merge_edges_by_midline = [True, False]\n",
    "contains_buffer_dists = list(range(5, 101, 5))"
   ]
  },
  {
   "cell_type": "code",
   "execution_count": 10,
   "id": "4f09f3a7-15a4-4018-8051-15d0ce1c4fb5",
   "metadata": {
    "execution": {
     "iopub.execute_input": "2024-06-13T13:00:19.167233Z",
     "iopub.status.busy": "2024-06-13T13:00:19.167172Z",
     "iopub.status.idle": "2024-06-13T13:06:47.756760Z",
     "shell.execute_reply": "2024-06-13T13:06:47.756475Z",
     "shell.execute_reply.started": "2024-06-13T13:00:19.167227Z"
    }
   },
   "outputs": [
    {
     "name": "stderr",
     "output_type": "stream",
     "text": [
      "INFO:cityseer.tools.graphs:Generating interpolated edge geometries.\n",
      "100%|███████████████████████████████| 105156/105156 [00:00<00:00, 200557.68it/s]\n"
     ]
    },
    {
     "name": "stdout",
     "output_type": "stream",
     "text": [
      "simple geoms: Liège\n",
      "\t* MultiGraph with 98777 nodes and 105156 edges\n"
     ]
    },
    {
     "name": "stderr",
     "output_type": "stream",
     "text": [
      "INFO:cityseer.tools.graphs:Removing filler nodes.\n",
      "100%|██████████████████████████████████| 98777/98777 [00:04<00:00, 23264.98it/s]\n",
      "INFO:cityseer.tools.graphs:Merging parallel edges within buffer of 5.\n"
     ]
    },
    {
     "name": "stdout",
     "output_type": "stream",
     "text": [
      "remove filler nodes: Liège\n",
      "\t* MultiGraph with 22216 nodes and 28595 edges\n"
     ]
    },
    {
     "name": "stderr",
     "output_type": "stream",
     "text": [
      "100%|█████████████████████████████████| 28595/28595 [00:00<00:00, 405119.80it/s]\n",
      "INFO:cityseer.tools.io:Preparing node and edge arrays from networkX graph.\n"
     ]
    },
    {
     "name": "stdout",
     "output_type": "stream",
     "text": [
      "merged parallel edges\n",
      "  buff=5m\n",
      "\t* MultiGraph with 22216 nodes and 28591 edges\n"
     ]
    },
    {
     "name": "stderr",
     "output_type": "stream",
     "text": [
      "INFO:cityseer.tools.graphs:Generating interpolated edge geometries.\n",
      "100%|███████████████████████████████| 105156/105156 [00:00<00:00, 197435.65it/s]\n"
     ]
    },
    {
     "name": "stdout",
     "output_type": "stream",
     "text": [
      "simple geoms: Liège\n",
      "\t* MultiGraph with 98777 nodes and 105156 edges\n"
     ]
    },
    {
     "name": "stderr",
     "output_type": "stream",
     "text": [
      "INFO:cityseer.tools.graphs:Removing filler nodes.\n",
      "100%|██████████████████████████████████| 98777/98777 [00:04<00:00, 23493.94it/s]\n",
      "INFO:cityseer.tools.graphs:Merging parallel edges within buffer of 10.\n"
     ]
    },
    {
     "name": "stdout",
     "output_type": "stream",
     "text": [
      "remove filler nodes: Liège\n",
      "\t* MultiGraph with 22216 nodes and 28595 edges\n"
     ]
    },
    {
     "name": "stderr",
     "output_type": "stream",
     "text": [
      "100%|█████████████████████████████████| 28595/28595 [00:00<00:00, 354213.91it/s]\n",
      "INFO:cityseer.tools.io:Preparing node and edge arrays from networkX graph.\n"
     ]
    },
    {
     "name": "stdout",
     "output_type": "stream",
     "text": [
      "merged parallel edges\n",
      "  buff=10m\n",
      "\t* MultiGraph with 22216 nodes and 28553 edges\n"
     ]
    },
    {
     "name": "stderr",
     "output_type": "stream",
     "text": [
      "INFO:cityseer.tools.graphs:Generating interpolated edge geometries.\n",
      "100%|███████████████████████████████| 105156/105156 [00:00<00:00, 195327.28it/s]\n"
     ]
    },
    {
     "name": "stdout",
     "output_type": "stream",
     "text": [
      "simple geoms: Liège\n",
      "\t* MultiGraph with 98777 nodes and 105156 edges\n"
     ]
    },
    {
     "name": "stderr",
     "output_type": "stream",
     "text": [
      "INFO:cityseer.tools.graphs:Removing filler nodes.\n",
      "100%|██████████████████████████████████| 98777/98777 [00:04<00:00, 23368.78it/s]\n",
      "INFO:cityseer.tools.graphs:Merging parallel edges within buffer of 15.\n"
     ]
    },
    {
     "name": "stdout",
     "output_type": "stream",
     "text": [
      "remove filler nodes: Liège\n",
      "\t* MultiGraph with 22216 nodes and 28595 edges\n"
     ]
    },
    {
     "name": "stderr",
     "output_type": "stream",
     "text": [
      "100%|█████████████████████████████████| 28595/28595 [00:00<00:00, 308808.09it/s]\n"
     ]
    },
    {
     "name": "stdout",
     "output_type": "stream",
     "text": [
      "merged parallel edges\n",
      "  buff=15m\n",
      "\t* MultiGraph with 22216 nodes and 28499 edges\n"
     ]
    },
    {
     "name": "stderr",
     "output_type": "stream",
     "text": [
      "INFO:cityseer.tools.io:Preparing node and edge arrays from networkX graph.\n",
      "INFO:cityseer.tools.graphs:Generating interpolated edge geometries.\n",
      "100%|███████████████████████████████| 105156/105156 [00:00<00:00, 126965.08it/s]\n"
     ]
    },
    {
     "name": "stdout",
     "output_type": "stream",
     "text": [
      "simple geoms: Liège\n",
      "\t* MultiGraph with 98777 nodes and 105156 edges\n"
     ]
    },
    {
     "name": "stderr",
     "output_type": "stream",
     "text": [
      "INFO:cityseer.tools.graphs:Removing filler nodes.\n",
      "100%|██████████████████████████████████| 98777/98777 [00:04<00:00, 23164.74it/s]\n",
      "INFO:cityseer.tools.graphs:Merging parallel edges within buffer of 20.\n"
     ]
    },
    {
     "name": "stdout",
     "output_type": "stream",
     "text": [
      "remove filler nodes: Liège\n",
      "\t* MultiGraph with 22216 nodes and 28595 edges\n"
     ]
    },
    {
     "name": "stderr",
     "output_type": "stream",
     "text": [
      "100%|█████████████████████████████████| 28595/28595 [00:00<00:00, 250846.79it/s]"
     ]
    },
    {
     "name": "stdout",
     "output_type": "stream",
     "text": [
      "merged parallel edges\n",
      "  buff=20m\n",
      "\t* MultiGraph with 22216 nodes and 28415 edges"
     ]
    },
    {
     "name": "stderr",
     "output_type": "stream",
     "text": [
      "\n",
      "INFO:cityseer.tools.io:Preparing node and edge arrays from networkX graph.\n"
     ]
    },
    {
     "name": "stdout",
     "output_type": "stream",
     "text": [
      "\n"
     ]
    },
    {
     "name": "stderr",
     "output_type": "stream",
     "text": [
      "INFO:cityseer.tools.graphs:Generating interpolated edge geometries.\n",
      "100%|███████████████████████████████| 105156/105156 [00:00<00:00, 196209.17it/s]\n"
     ]
    },
    {
     "name": "stdout",
     "output_type": "stream",
     "text": [
      "simple geoms: Liège\n",
      "\t* MultiGraph with 98777 nodes and 105156 edges\n"
     ]
    },
    {
     "name": "stderr",
     "output_type": "stream",
     "text": [
      "INFO:cityseer.tools.graphs:Removing filler nodes.\n",
      "100%|██████████████████████████████████| 98777/98777 [00:04<00:00, 23500.92it/s]\n",
      "INFO:cityseer.tools.graphs:Merging parallel edges within buffer of 25.\n"
     ]
    },
    {
     "name": "stdout",
     "output_type": "stream",
     "text": [
      "remove filler nodes: Liège\n",
      "\t* MultiGraph with 22216 nodes and 28595 edges\n"
     ]
    },
    {
     "name": "stderr",
     "output_type": "stream",
     "text": [
      "100%|█████████████████████████████████| 28595/28595 [00:00<00:00, 230945.73it/s]\n",
      "INFO:cityseer.tools.io:Preparing node and edge arrays from networkX graph.\n"
     ]
    },
    {
     "name": "stdout",
     "output_type": "stream",
     "text": [
      "merged parallel edges\n",
      "  buff=25m\n",
      "\t* MultiGraph with 22216 nodes and 28370 edges\n"
     ]
    },
    {
     "name": "stderr",
     "output_type": "stream",
     "text": [
      "INFO:cityseer.tools.graphs:Generating interpolated edge geometries.\n",
      "100%|███████████████████████████████| 105156/105156 [00:00<00:00, 193145.66it/s]\n"
     ]
    },
    {
     "name": "stdout",
     "output_type": "stream",
     "text": [
      "simple geoms: Liège\n",
      "\t* MultiGraph with 98777 nodes and 105156 edges\n"
     ]
    },
    {
     "name": "stderr",
     "output_type": "stream",
     "text": [
      "INFO:cityseer.tools.graphs:Removing filler nodes.\n",
      "100%|██████████████████████████████████| 98777/98777 [00:04<00:00, 22946.74it/s]\n",
      "INFO:cityseer.tools.graphs:Merging parallel edges within buffer of 30.\n"
     ]
    },
    {
     "name": "stdout",
     "output_type": "stream",
     "text": [
      "remove filler nodes: Liège\n",
      "\t* MultiGraph with 22216 nodes and 28595 edges\n"
     ]
    },
    {
     "name": "stderr",
     "output_type": "stream",
     "text": [
      "100%|█████████████████████████████████| 28595/28595 [00:00<00:00, 215525.22it/s]\n",
      "INFO:cityseer.tools.io:Preparing node and edge arrays from networkX graph.\n"
     ]
    },
    {
     "name": "stdout",
     "output_type": "stream",
     "text": [
      "merged parallel edges\n",
      "  buff=30m\n",
      "\t* MultiGraph with 22216 nodes and 28333 edges\n"
     ]
    },
    {
     "name": "stderr",
     "output_type": "stream",
     "text": [
      "INFO:cityseer.tools.graphs:Generating interpolated edge geometries.\n",
      "100%|███████████████████████████████| 105156/105156 [00:00<00:00, 184095.06it/s]\n"
     ]
    },
    {
     "name": "stdout",
     "output_type": "stream",
     "text": [
      "simple geoms: Liège\n",
      "\t* MultiGraph with 98777 nodes and 105156 edges\n"
     ]
    },
    {
     "name": "stderr",
     "output_type": "stream",
     "text": [
      "INFO:cityseer.tools.graphs:Removing filler nodes.\n",
      "100%|██████████████████████████████████| 98777/98777 [00:04<00:00, 23032.58it/s]\n",
      "INFO:cityseer.tools.graphs:Merging parallel edges within buffer of 35.\n"
     ]
    },
    {
     "name": "stdout",
     "output_type": "stream",
     "text": [
      "remove filler nodes: Liège\n",
      "\t* MultiGraph with 22216 nodes and 28595 edges\n"
     ]
    },
    {
     "name": "stderr",
     "output_type": "stream",
     "text": [
      "100%|█████████████████████████████████| 28595/28595 [00:00<00:00, 199681.54it/s]\n",
      "INFO:cityseer.tools.io:Preparing node and edge arrays from networkX graph.\n"
     ]
    },
    {
     "name": "stdout",
     "output_type": "stream",
     "text": [
      "merged parallel edges\n",
      "  buff=35m\n",
      "\t* MultiGraph with 22216 nodes and 28294 edges\n"
     ]
    },
    {
     "name": "stderr",
     "output_type": "stream",
     "text": [
      "INFO:cityseer.tools.graphs:Generating interpolated edge geometries.\n",
      "100%|███████████████████████████████| 105156/105156 [00:00<00:00, 123090.52it/s]\n"
     ]
    },
    {
     "name": "stdout",
     "output_type": "stream",
     "text": [
      "simple geoms: Liège\n",
      "\t* MultiGraph with 98777 nodes and 105156 edges\n"
     ]
    },
    {
     "name": "stderr",
     "output_type": "stream",
     "text": [
      "INFO:cityseer.tools.graphs:Removing filler nodes.\n",
      "100%|██████████████████████████████████| 98777/98777 [00:04<00:00, 23162.21it/s]\n",
      "INFO:cityseer.tools.graphs:Merging parallel edges within buffer of 40.\n"
     ]
    },
    {
     "name": "stdout",
     "output_type": "stream",
     "text": [
      "remove filler nodes: Liège\n",
      "\t* MultiGraph with 22216 nodes and 28595 edges\n"
     ]
    },
    {
     "name": "stderr",
     "output_type": "stream",
     "text": [
      "100%|█████████████████████████████████| 28595/28595 [00:00<00:00, 196414.06it/s]\n",
      "INFO:cityseer.tools.io:Preparing node and edge arrays from networkX graph.\n"
     ]
    },
    {
     "name": "stdout",
     "output_type": "stream",
     "text": [
      "merged parallel edges\n",
      "  buff=40m\n",
      "\t* MultiGraph with 22216 nodes and 28270 edges\n"
     ]
    },
    {
     "name": "stderr",
     "output_type": "stream",
     "text": [
      "INFO:cityseer.tools.graphs:Generating interpolated edge geometries.\n",
      "100%|███████████████████████████████| 105156/105156 [00:00<00:00, 115464.67it/s]\n"
     ]
    },
    {
     "name": "stdout",
     "output_type": "stream",
     "text": [
      "simple geoms: Liège\n",
      "\t* MultiGraph with 98777 nodes and 105156 edges\n"
     ]
    },
    {
     "name": "stderr",
     "output_type": "stream",
     "text": [
      "INFO:cityseer.tools.graphs:Removing filler nodes.\n",
      "100%|██████████████████████████████████| 98777/98777 [00:04<00:00, 23268.38it/s]\n",
      "INFO:cityseer.tools.graphs:Merging parallel edges within buffer of 45.\n"
     ]
    },
    {
     "name": "stdout",
     "output_type": "stream",
     "text": [
      "remove filler nodes: Liège\n",
      "\t* MultiGraph with 22216 nodes and 28595 edges\n"
     ]
    },
    {
     "name": "stderr",
     "output_type": "stream",
     "text": [
      "100%|█████████████████████████████████| 28595/28595 [00:00<00:00, 189099.43it/s]\n",
      "INFO:cityseer.tools.io:Preparing node and edge arrays from networkX graph.\n"
     ]
    },
    {
     "name": "stdout",
     "output_type": "stream",
     "text": [
      "merged parallel edges\n",
      "  buff=45m\n",
      "\t* MultiGraph with 22216 nodes and 28238 edges\n"
     ]
    },
    {
     "name": "stderr",
     "output_type": "stream",
     "text": [
      "INFO:cityseer.tools.graphs:Generating interpolated edge geometries.\n",
      "100%|███████████████████████████████| 105156/105156 [00:00<00:00, 190886.91it/s]\n"
     ]
    },
    {
     "name": "stdout",
     "output_type": "stream",
     "text": [
      "simple geoms: Liège\n",
      "\t* MultiGraph with 98777 nodes and 105156 edges\n"
     ]
    },
    {
     "name": "stderr",
     "output_type": "stream",
     "text": [
      "INFO:cityseer.tools.graphs:Removing filler nodes.\n",
      "100%|██████████████████████████████████| 98777/98777 [00:04<00:00, 23286.49it/s]\n",
      "INFO:cityseer.tools.graphs:Merging parallel edges within buffer of 50.\n"
     ]
    },
    {
     "name": "stdout",
     "output_type": "stream",
     "text": [
      "remove filler nodes: Liège\n",
      "\t* MultiGraph with 22216 nodes and 28595 edges\n"
     ]
    },
    {
     "name": "stderr",
     "output_type": "stream",
     "text": [
      "100%|█████████████████████████████████| 28595/28595 [00:00<00:00, 184061.21it/s]\n",
      "INFO:cityseer.tools.io:Preparing node and edge arrays from networkX graph.\n"
     ]
    },
    {
     "name": "stdout",
     "output_type": "stream",
     "text": [
      "merged parallel edges\n",
      "  buff=50m\n",
      "\t* MultiGraph with 22216 nodes and 28222 edges\n"
     ]
    },
    {
     "name": "stderr",
     "output_type": "stream",
     "text": [
      "INFO:cityseer.tools.graphs:Generating interpolated edge geometries.\n",
      "100%|███████████████████████████████| 105156/105156 [00:00<00:00, 190899.88it/s]\n"
     ]
    },
    {
     "name": "stdout",
     "output_type": "stream",
     "text": [
      "simple geoms: Liège\n",
      "\t* MultiGraph with 98777 nodes and 105156 edges\n"
     ]
    },
    {
     "name": "stderr",
     "output_type": "stream",
     "text": [
      "INFO:cityseer.tools.graphs:Removing filler nodes.\n",
      "100%|██████████████████████████████████| 98777/98777 [00:04<00:00, 22992.64it/s]\n",
      "INFO:cityseer.tools.graphs:Merging parallel edges within buffer of 55.\n"
     ]
    },
    {
     "name": "stdout",
     "output_type": "stream",
     "text": [
      "remove filler nodes: Liège\n",
      "\t* MultiGraph with 22216 nodes and 28595 edges\n"
     ]
    },
    {
     "name": "stderr",
     "output_type": "stream",
     "text": [
      "100%|█████████████████████████████████| 28595/28595 [00:00<00:00, 180687.37it/s]\n",
      "INFO:cityseer.tools.io:Preparing node and edge arrays from networkX graph.\n"
     ]
    },
    {
     "name": "stdout",
     "output_type": "stream",
     "text": [
      "merged parallel edges\n",
      "  buff=55m\n",
      "\t* MultiGraph with 22216 nodes and 28208 edges\n"
     ]
    },
    {
     "name": "stderr",
     "output_type": "stream",
     "text": [
      "INFO:cityseer.tools.graphs:Generating interpolated edge geometries.\n",
      "100%|███████████████████████████████| 105156/105156 [00:00<00:00, 193729.09it/s]\n"
     ]
    },
    {
     "name": "stdout",
     "output_type": "stream",
     "text": [
      "simple geoms: Liège\n",
      "\t* MultiGraph with 98777 nodes and 105156 edges\n"
     ]
    },
    {
     "name": "stderr",
     "output_type": "stream",
     "text": [
      "INFO:cityseer.tools.graphs:Removing filler nodes.\n",
      "100%|██████████████████████████████████| 98777/98777 [00:04<00:00, 23062.44it/s]\n",
      "INFO:cityseer.tools.graphs:Merging parallel edges within buffer of 60.\n"
     ]
    },
    {
     "name": "stdout",
     "output_type": "stream",
     "text": [
      "remove filler nodes: Liège\n",
      "\t* MultiGraph with 22216 nodes and 28595 edges\n"
     ]
    },
    {
     "name": "stderr",
     "output_type": "stream",
     "text": [
      "100%|█████████████████████████████████| 28595/28595 [00:00<00:00, 173928.10it/s]\n",
      "INFO:cityseer.tools.io:Preparing node and edge arrays from networkX graph.\n"
     ]
    },
    {
     "name": "stdout",
     "output_type": "stream",
     "text": [
      "merged parallel edges\n",
      "  buff=60m\n",
      "\t* MultiGraph with 22216 nodes and 28196 edges\n"
     ]
    },
    {
     "name": "stderr",
     "output_type": "stream",
     "text": [
      "INFO:cityseer.tools.graphs:Generating interpolated edge geometries.\n",
      "100%|███████████████████████████████| 105156/105156 [00:00<00:00, 112867.92it/s]\n"
     ]
    },
    {
     "name": "stdout",
     "output_type": "stream",
     "text": [
      "simple geoms: Liège\n",
      "\t* MultiGraph with 98777 nodes and 105156 edges\n"
     ]
    },
    {
     "name": "stderr",
     "output_type": "stream",
     "text": [
      "INFO:cityseer.tools.graphs:Removing filler nodes.\n",
      "100%|██████████████████████████████████| 98777/98777 [00:04<00:00, 23164.60it/s]\n",
      "INFO:cityseer.tools.graphs:Merging parallel edges within buffer of 65.\n"
     ]
    },
    {
     "name": "stdout",
     "output_type": "stream",
     "text": [
      "remove filler nodes: Liège\n",
      "\t* MultiGraph with 22216 nodes and 28595 edges\n"
     ]
    },
    {
     "name": "stderr",
     "output_type": "stream",
     "text": [
      "100%|█████████████████████████████████| 28595/28595 [00:00<00:00, 167617.41it/s]\n",
      "INFO:cityseer.tools.io:Preparing node and edge arrays from networkX graph.\n"
     ]
    },
    {
     "name": "stdout",
     "output_type": "stream",
     "text": [
      "merged parallel edges\n",
      "  buff=65m\n",
      "\t* MultiGraph with 22216 nodes and 28190 edges\n"
     ]
    },
    {
     "name": "stderr",
     "output_type": "stream",
     "text": [
      "INFO:cityseer.tools.graphs:Generating interpolated edge geometries.\n",
      "100%|███████████████████████████████| 105156/105156 [00:00<00:00, 186120.49it/s]\n"
     ]
    },
    {
     "name": "stdout",
     "output_type": "stream",
     "text": [
      "simple geoms: Liège\n",
      "\t* MultiGraph with 98777 nodes and 105156 edges\n"
     ]
    },
    {
     "name": "stderr",
     "output_type": "stream",
     "text": [
      "INFO:cityseer.tools.graphs:Removing filler nodes.\n",
      "100%|██████████████████████████████████| 98777/98777 [00:04<00:00, 23565.91it/s]\n",
      "INFO:cityseer.tools.graphs:Merging parallel edges within buffer of 70.\n"
     ]
    },
    {
     "name": "stdout",
     "output_type": "stream",
     "text": [
      "remove filler nodes: Liège\n",
      "\t* MultiGraph with 22216 nodes and 28595 edges\n"
     ]
    },
    {
     "name": "stderr",
     "output_type": "stream",
     "text": [
      "100%|█████████████████████████████████| 28595/28595 [00:00<00:00, 174366.31it/s]\n",
      "INFO:cityseer.tools.io:Preparing node and edge arrays from networkX graph.\n"
     ]
    },
    {
     "name": "stdout",
     "output_type": "stream",
     "text": [
      "merged parallel edges\n",
      "  buff=70m\n",
      "\t* MultiGraph with 22216 nodes and 28181 edges\n"
     ]
    },
    {
     "name": "stderr",
     "output_type": "stream",
     "text": [
      "INFO:cityseer.tools.graphs:Generating interpolated edge geometries.\n",
      "100%|███████████████████████████████| 105156/105156 [00:00<00:00, 190682.41it/s]\n"
     ]
    },
    {
     "name": "stdout",
     "output_type": "stream",
     "text": [
      "simple geoms: Liège\n",
      "\t* MultiGraph with 98777 nodes and 105156 edges\n"
     ]
    },
    {
     "name": "stderr",
     "output_type": "stream",
     "text": [
      "INFO:cityseer.tools.graphs:Removing filler nodes.\n",
      "100%|██████████████████████████████████| 98777/98777 [00:04<00:00, 23086.71it/s]\n",
      "INFO:cityseer.tools.graphs:Merging parallel edges within buffer of 75.\n"
     ]
    },
    {
     "name": "stdout",
     "output_type": "stream",
     "text": [
      "remove filler nodes: Liège\n",
      "\t* MultiGraph with 22216 nodes and 28595 edges\n"
     ]
    },
    {
     "name": "stderr",
     "output_type": "stream",
     "text": [
      "100%|█████████████████████████████████| 28595/28595 [00:00<00:00, 165110.53it/s]\n",
      "INFO:cityseer.tools.io:Preparing node and edge arrays from networkX graph.\n"
     ]
    },
    {
     "name": "stdout",
     "output_type": "stream",
     "text": [
      "merged parallel edges\n",
      "  buff=75m\n",
      "\t* MultiGraph with 22216 nodes and 28176 edges\n"
     ]
    },
    {
     "name": "stderr",
     "output_type": "stream",
     "text": [
      "INFO:cityseer.tools.graphs:Generating interpolated edge geometries.\n",
      "100%|███████████████████████████████| 105156/105156 [00:00<00:00, 192642.78it/s]\n"
     ]
    },
    {
     "name": "stdout",
     "output_type": "stream",
     "text": [
      "simple geoms: Liège\n",
      "\t* MultiGraph with 98777 nodes and 105156 edges\n"
     ]
    },
    {
     "name": "stderr",
     "output_type": "stream",
     "text": [
      "INFO:cityseer.tools.graphs:Removing filler nodes.\n",
      "100%|██████████████████████████████████| 98777/98777 [00:04<00:00, 23135.42it/s]\n",
      "INFO:cityseer.tools.graphs:Merging parallel edges within buffer of 80.\n"
     ]
    },
    {
     "name": "stdout",
     "output_type": "stream",
     "text": [
      "remove filler nodes: Liège\n",
      "\t* MultiGraph with 22216 nodes and 28595 edges\n"
     ]
    },
    {
     "name": "stderr",
     "output_type": "stream",
     "text": [
      "100%|█████████████████████████████████| 28595/28595 [00:00<00:00, 171239.71it/s]\n",
      "INFO:cityseer.tools.io:Preparing node and edge arrays from networkX graph.\n"
     ]
    },
    {
     "name": "stdout",
     "output_type": "stream",
     "text": [
      "merged parallel edges\n",
      "  buff=80m\n",
      "\t* MultiGraph with 22216 nodes and 28171 edges\n"
     ]
    },
    {
     "name": "stderr",
     "output_type": "stream",
     "text": [
      "INFO:cityseer.tools.graphs:Generating interpolated edge geometries.\n",
      "100%|███████████████████████████████| 105156/105156 [00:00<00:00, 190617.39it/s]\n"
     ]
    },
    {
     "name": "stdout",
     "output_type": "stream",
     "text": [
      "simple geoms: Liège\n",
      "\t* MultiGraph with 98777 nodes and 105156 edges\n"
     ]
    },
    {
     "name": "stderr",
     "output_type": "stream",
     "text": [
      "INFO:cityseer.tools.graphs:Removing filler nodes.\n",
      "100%|██████████████████████████████████| 98777/98777 [00:04<00:00, 23052.04it/s]\n",
      "INFO:cityseer.tools.graphs:Merging parallel edges within buffer of 85.\n"
     ]
    },
    {
     "name": "stdout",
     "output_type": "stream",
     "text": [
      "remove filler nodes: Liège\n",
      "\t* MultiGraph with 22216 nodes and 28595 edges\n"
     ]
    },
    {
     "name": "stderr",
     "output_type": "stream",
     "text": [
      "100%|█████████████████████████████████| 28595/28595 [00:00<00:00, 171109.74it/s]\n",
      "INFO:cityseer.tools.io:Preparing node and edge arrays from networkX graph.\n"
     ]
    },
    {
     "name": "stdout",
     "output_type": "stream",
     "text": [
      "merged parallel edges\n",
      "  buff=85m\n",
      "\t* MultiGraph with 22216 nodes and 28166 edges\n"
     ]
    },
    {
     "name": "stderr",
     "output_type": "stream",
     "text": [
      "INFO:cityseer.tools.graphs:Generating interpolated edge geometries.\n",
      "100%|███████████████████████████████| 105156/105156 [00:00<00:00, 193612.15it/s]\n"
     ]
    },
    {
     "name": "stdout",
     "output_type": "stream",
     "text": [
      "simple geoms: Liège\n",
      "\t* MultiGraph with 98777 nodes and 105156 edges\n"
     ]
    },
    {
     "name": "stderr",
     "output_type": "stream",
     "text": [
      "INFO:cityseer.tools.graphs:Removing filler nodes.\n",
      "100%|██████████████████████████████████| 98777/98777 [00:04<00:00, 23256.74it/s]\n",
      "INFO:cityseer.tools.graphs:Merging parallel edges within buffer of 90.\n"
     ]
    },
    {
     "name": "stdout",
     "output_type": "stream",
     "text": [
      "remove filler nodes: Liège\n",
      "\t* MultiGraph with 22216 nodes and 28595 edges\n"
     ]
    },
    {
     "name": "stderr",
     "output_type": "stream",
     "text": [
      "100%|█████████████████████████████████| 28595/28595 [00:00<00:00, 168773.88it/s]\n",
      "INFO:cityseer.tools.io:Preparing node and edge arrays from networkX graph.\n"
     ]
    },
    {
     "name": "stdout",
     "output_type": "stream",
     "text": [
      "merged parallel edges\n",
      "  buff=90m\n",
      "\t* MultiGraph with 22216 nodes and 28155 edges\n"
     ]
    },
    {
     "name": "stderr",
     "output_type": "stream",
     "text": [
      "INFO:cityseer.tools.graphs:Generating interpolated edge geometries.\n",
      "100%|███████████████████████████████| 105156/105156 [00:00<00:00, 186279.27it/s]\n"
     ]
    },
    {
     "name": "stdout",
     "output_type": "stream",
     "text": [
      "simple geoms: Liège\n",
      "\t* MultiGraph with 98777 nodes and 105156 edges\n"
     ]
    },
    {
     "name": "stderr",
     "output_type": "stream",
     "text": [
      "INFO:cityseer.tools.graphs:Removing filler nodes.\n",
      "100%|██████████████████████████████████| 98777/98777 [00:04<00:00, 23091.59it/s]\n",
      "INFO:cityseer.tools.graphs:Merging parallel edges within buffer of 95.\n"
     ]
    },
    {
     "name": "stdout",
     "output_type": "stream",
     "text": [
      "remove filler nodes: Liège\n",
      "\t* MultiGraph with 22216 nodes and 28595 edges\n"
     ]
    },
    {
     "name": "stderr",
     "output_type": "stream",
     "text": [
      "100%|█████████████████████████████████| 28595/28595 [00:00<00:00, 166564.53it/s]\n",
      "INFO:cityseer.tools.io:Preparing node and edge arrays from networkX graph.\n"
     ]
    },
    {
     "name": "stdout",
     "output_type": "stream",
     "text": [
      "merged parallel edges\n",
      "  buff=95m\n",
      "\t* MultiGraph with 22216 nodes and 28152 edges\n"
     ]
    },
    {
     "name": "stderr",
     "output_type": "stream",
     "text": [
      "INFO:cityseer.tools.graphs:Generating interpolated edge geometries.\n",
      "100%|███████████████████████████████| 105156/105156 [00:00<00:00, 188932.71it/s]\n"
     ]
    },
    {
     "name": "stdout",
     "output_type": "stream",
     "text": [
      "simple geoms: Liège\n",
      "\t* MultiGraph with 98777 nodes and 105156 edges\n"
     ]
    },
    {
     "name": "stderr",
     "output_type": "stream",
     "text": [
      "INFO:cityseer.tools.graphs:Removing filler nodes.\n",
      "100%|██████████████████████████████████| 98777/98777 [00:04<00:00, 23148.85it/s]\n",
      "INFO:cityseer.tools.graphs:Merging parallel edges within buffer of 100.\n"
     ]
    },
    {
     "name": "stdout",
     "output_type": "stream",
     "text": [
      "remove filler nodes: Liège\n",
      "\t* MultiGraph with 22216 nodes and 28595 edges\n"
     ]
    },
    {
     "name": "stderr",
     "output_type": "stream",
     "text": [
      "100%|█████████████████████████████████| 28595/28595 [00:00<00:00, 159794.24it/s]\n",
      "INFO:cityseer.tools.io:Preparing node and edge arrays from networkX graph.\n"
     ]
    },
    {
     "name": "stdout",
     "output_type": "stream",
     "text": [
      "merged parallel edges\n",
      "  buff=100m\n",
      "\t* MultiGraph with 22216 nodes and 28150 edges\n"
     ]
    },
    {
     "name": "stderr",
     "output_type": "stream",
     "text": [
      "INFO:cityseer.tools.graphs:Generating interpolated edge geometries.\n",
      "100%|███████████████████████████████| 105156/105156 [00:01<00:00, 102471.84it/s]\n"
     ]
    },
    {
     "name": "stdout",
     "output_type": "stream",
     "text": [
      "simple geoms: Liège\n",
      "\t* MultiGraph with 98777 nodes and 105156 edges\n"
     ]
    },
    {
     "name": "stderr",
     "output_type": "stream",
     "text": [
      "INFO:cityseer.tools.graphs:Removing filler nodes.\n",
      "100%|██████████████████████████████████| 98777/98777 [00:04<00:00, 23120.47it/s]\n",
      "INFO:cityseer.tools.graphs:Merging parallel edges within buffer of 5.\n"
     ]
    },
    {
     "name": "stdout",
     "output_type": "stream",
     "text": [
      "remove filler nodes: Liège\n",
      "\t* MultiGraph with 22216 nodes and 28595 edges\n"
     ]
    },
    {
     "name": "stderr",
     "output_type": "stream",
     "text": [
      "100%|█████████████████████████████████| 28595/28595 [00:00<00:00, 367262.32it/s]\n",
      "INFO:cityseer.tools.io:Preparing node and edge arrays from networkX graph.\n"
     ]
    },
    {
     "name": "stdout",
     "output_type": "stream",
     "text": [
      "merged parallel edges\n",
      "  buff=5m\n",
      "\t* MultiGraph with 22216 nodes and 28591 edges\n"
     ]
    },
    {
     "name": "stderr",
     "output_type": "stream",
     "text": [
      "INFO:cityseer.tools.graphs:Generating interpolated edge geometries.\n",
      "100%|███████████████████████████████| 105156/105156 [00:00<00:00, 187630.17it/s]\n"
     ]
    },
    {
     "name": "stdout",
     "output_type": "stream",
     "text": [
      "simple geoms: Liège\n",
      "\t* MultiGraph with 98777 nodes and 105156 edges\n"
     ]
    },
    {
     "name": "stderr",
     "output_type": "stream",
     "text": [
      "INFO:cityseer.tools.graphs:Removing filler nodes.\n",
      "100%|██████████████████████████████████| 98777/98777 [00:04<00:00, 23204.98it/s]\n",
      "INFO:cityseer.tools.graphs:Merging parallel edges within buffer of 10.\n"
     ]
    },
    {
     "name": "stdout",
     "output_type": "stream",
     "text": [
      "remove filler nodes: Liège\n",
      "\t* MultiGraph with 22216 nodes and 28595 edges\n"
     ]
    },
    {
     "name": "stderr",
     "output_type": "stream",
     "text": [
      "100%|█████████████████████████████████| 28595/28595 [00:00<00:00, 410818.93it/s]\n",
      "INFO:cityseer.tools.io:Preparing node and edge arrays from networkX graph.\n"
     ]
    },
    {
     "name": "stdout",
     "output_type": "stream",
     "text": [
      "merged parallel edges\n",
      "  buff=10m\n",
      "\t* MultiGraph with 22216 nodes and 28553 edges\n"
     ]
    },
    {
     "name": "stderr",
     "output_type": "stream",
     "text": [
      "INFO:cityseer.tools.graphs:Generating interpolated edge geometries.\n",
      "100%|███████████████████████████████| 105156/105156 [00:00<00:00, 190960.80it/s]\n"
     ]
    },
    {
     "name": "stdout",
     "output_type": "stream",
     "text": [
      "simple geoms: Liège\n",
      "\t* MultiGraph with 98777 nodes and 105156 edges\n"
     ]
    },
    {
     "name": "stderr",
     "output_type": "stream",
     "text": [
      "INFO:cityseer.tools.graphs:Removing filler nodes.\n",
      "100%|██████████████████████████████████| 98777/98777 [00:04<00:00, 23013.73it/s]\n",
      "INFO:cityseer.tools.graphs:Merging parallel edges within buffer of 15.\n"
     ]
    },
    {
     "name": "stdout",
     "output_type": "stream",
     "text": [
      "remove filler nodes: Liège\n",
      "\t* MultiGraph with 22216 nodes and 28595 edges\n"
     ]
    },
    {
     "name": "stderr",
     "output_type": "stream",
     "text": [
      "100%|██████████████████████████████████| 28595/28595 [00:00<00:00, 34514.78it/s]\n",
      "INFO:cityseer.tools.io:Preparing node and edge arrays from networkX graph.\n"
     ]
    },
    {
     "name": "stdout",
     "output_type": "stream",
     "text": [
      "merged parallel edges\n",
      "  buff=15m\n",
      "\t* MultiGraph with 22216 nodes and 28499 edges\n"
     ]
    },
    {
     "name": "stderr",
     "output_type": "stream",
     "text": [
      "INFO:cityseer.tools.graphs:Generating interpolated edge geometries.\n",
      "100%|███████████████████████████████| 105156/105156 [00:00<00:00, 187368.72it/s]\n"
     ]
    },
    {
     "name": "stdout",
     "output_type": "stream",
     "text": [
      "simple geoms: Liège\n",
      "\t* MultiGraph with 98777 nodes and 105156 edges\n"
     ]
    },
    {
     "name": "stderr",
     "output_type": "stream",
     "text": [
      "INFO:cityseer.tools.graphs:Removing filler nodes.\n",
      "100%|██████████████████████████████████| 98777/98777 [00:04<00:00, 23100.22it/s]\n",
      "INFO:cityseer.tools.graphs:Merging parallel edges within buffer of 20.\n"
     ]
    },
    {
     "name": "stdout",
     "output_type": "stream",
     "text": [
      "remove filler nodes: Liège\n",
      "\t* MultiGraph with 22216 nodes and 28595 edges\n"
     ]
    },
    {
     "name": "stderr",
     "output_type": "stream",
     "text": [
      "100%|█████████████████████████████████| 28595/28595 [00:00<00:00, 359500.28it/s]\n",
      "INFO:cityseer.tools.io:Preparing node and edge arrays from networkX graph.\n"
     ]
    },
    {
     "name": "stdout",
     "output_type": "stream",
     "text": [
      "merged parallel edges\n",
      "  buff=20m\n",
      "\t* MultiGraph with 22216 nodes and 28415 edges\n"
     ]
    },
    {
     "name": "stderr",
     "output_type": "stream",
     "text": [
      "INFO:cityseer.tools.graphs:Generating interpolated edge geometries.\n",
      "100%|███████████████████████████████| 105156/105156 [00:00<00:00, 178741.63it/s]\n"
     ]
    },
    {
     "name": "stdout",
     "output_type": "stream",
     "text": [
      "simple geoms: Liège\n",
      "\t* MultiGraph with 98777 nodes and 105156 edges\n"
     ]
    },
    {
     "name": "stderr",
     "output_type": "stream",
     "text": [
      "INFO:cityseer.tools.graphs:Removing filler nodes.\n",
      "100%|██████████████████████████████████| 98777/98777 [00:04<00:00, 23289.51it/s]\n",
      "INFO:cityseer.tools.graphs:Merging parallel edges within buffer of 25.\n"
     ]
    },
    {
     "name": "stdout",
     "output_type": "stream",
     "text": [
      "remove filler nodes: Liège\n",
      "\t* MultiGraph with 22216 nodes and 28595 edges\n"
     ]
    },
    {
     "name": "stderr",
     "output_type": "stream",
     "text": [
      "100%|██████████████████████████████████| 28595/28595 [00:00<00:00, 33346.89it/s]\n",
      "INFO:cityseer.tools.io:Preparing node and edge arrays from networkX graph.\n"
     ]
    },
    {
     "name": "stdout",
     "output_type": "stream",
     "text": [
      "merged parallel edges\n",
      "  buff=25m\n",
      "\t* MultiGraph with 22216 nodes and 28370 edges\n"
     ]
    },
    {
     "name": "stderr",
     "output_type": "stream",
     "text": [
      "INFO:cityseer.tools.graphs:Generating interpolated edge geometries.\n",
      "100%|███████████████████████████████| 105156/105156 [00:00<00:00, 188801.45it/s]\n"
     ]
    },
    {
     "name": "stdout",
     "output_type": "stream",
     "text": [
      "simple geoms: Liège\n",
      "\t* MultiGraph with 98777 nodes and 105156 edges\n"
     ]
    },
    {
     "name": "stderr",
     "output_type": "stream",
     "text": [
      "INFO:cityseer.tools.graphs:Removing filler nodes.\n",
      "100%|██████████████████████████████████| 98777/98777 [00:04<00:00, 22782.03it/s]\n",
      "INFO:cityseer.tools.graphs:Merging parallel edges within buffer of 30.\n"
     ]
    },
    {
     "name": "stdout",
     "output_type": "stream",
     "text": [
      "remove filler nodes: Liège\n",
      "\t* MultiGraph with 22216 nodes and 28595 edges\n"
     ]
    },
    {
     "name": "stderr",
     "output_type": "stream",
     "text": [
      "100%|█████████████████████████████████| 28595/28595 [00:00<00:00, 374069.78it/s]\n",
      "INFO:cityseer.tools.io:Preparing node and edge arrays from networkX graph.\n"
     ]
    },
    {
     "name": "stdout",
     "output_type": "stream",
     "text": [
      "merged parallel edges\n",
      "  buff=30m\n",
      "\t* MultiGraph with 22216 nodes and 28333 edges\n"
     ]
    },
    {
     "name": "stderr",
     "output_type": "stream",
     "text": [
      "INFO:cityseer.tools.graphs:Generating interpolated edge geometries.\n",
      "100%|███████████████████████████████| 105156/105156 [00:00<00:00, 190579.34it/s]\n"
     ]
    },
    {
     "name": "stdout",
     "output_type": "stream",
     "text": [
      "simple geoms: Liège\n",
      "\t* MultiGraph with 98777 nodes and 105156 edges\n"
     ]
    },
    {
     "name": "stderr",
     "output_type": "stream",
     "text": [
      "INFO:cityseer.tools.graphs:Removing filler nodes.\n",
      "100%|██████████████████████████████████| 98777/98777 [00:04<00:00, 23387.27it/s]\n",
      "INFO:cityseer.tools.graphs:Merging parallel edges within buffer of 35.\n"
     ]
    },
    {
     "name": "stdout",
     "output_type": "stream",
     "text": [
      "remove filler nodes: Liège\n",
      "\t* MultiGraph with 22216 nodes and 28595 edges\n"
     ]
    },
    {
     "name": "stderr",
     "output_type": "stream",
     "text": [
      "100%|█████████████████████████████████| 28595/28595 [00:00<00:00, 390551.83it/s]\n"
     ]
    },
    {
     "name": "stdout",
     "output_type": "stream",
     "text": [
      "merged parallel edges\n",
      "  buff=35m\n",
      "\t* MultiGraph with 22216 nodes and 28294 edges\n"
     ]
    },
    {
     "name": "stderr",
     "output_type": "stream",
     "text": [
      "INFO:cityseer.tools.io:Preparing node and edge arrays from networkX graph.\n",
      "INFO:cityseer.tools.graphs:Generating interpolated edge geometries.\n",
      "100%|███████████████████████████████| 105156/105156 [00:00<00:00, 191606.54it/s]\n"
     ]
    },
    {
     "name": "stdout",
     "output_type": "stream",
     "text": [
      "simple geoms: Liège\n",
      "\t* MultiGraph with 98777 nodes and 105156 edges\n"
     ]
    },
    {
     "name": "stderr",
     "output_type": "stream",
     "text": [
      "INFO:cityseer.tools.graphs:Removing filler nodes.\n",
      "100%|██████████████████████████████████| 98777/98777 [00:04<00:00, 23017.84it/s]\n",
      "INFO:cityseer.tools.graphs:Merging parallel edges within buffer of 40.\n"
     ]
    },
    {
     "name": "stdout",
     "output_type": "stream",
     "text": [
      "remove filler nodes: Liège\n",
      "\t* MultiGraph with 22216 nodes and 28595 edges\n"
     ]
    },
    {
     "name": "stderr",
     "output_type": "stream",
     "text": [
      "100%|█████████████████████████████████| 28595/28595 [00:00<00:00, 389896.70it/s]\n",
      "INFO:cityseer.tools.io:Preparing node and edge arrays from networkX graph.\n"
     ]
    },
    {
     "name": "stdout",
     "output_type": "stream",
     "text": [
      "merged parallel edges\n",
      "  buff=40m\n",
      "\t* MultiGraph with 22216 nodes and 28270 edges\n"
     ]
    },
    {
     "name": "stderr",
     "output_type": "stream",
     "text": [
      "INFO:cityseer.tools.graphs:Generating interpolated edge geometries.\n",
      "100%|███████████████████████████████| 105156/105156 [00:00<00:00, 189296.31it/s]\n"
     ]
    },
    {
     "name": "stdout",
     "output_type": "stream",
     "text": [
      "simple geoms: Liège\n",
      "\t* MultiGraph with 98777 nodes and 105156 edges\n"
     ]
    },
    {
     "name": "stderr",
     "output_type": "stream",
     "text": [
      "INFO:cityseer.tools.graphs:Removing filler nodes.\n",
      "100%|██████████████████████████████████| 98777/98777 [00:04<00:00, 22990.96it/s]\n",
      "INFO:cityseer.tools.graphs:Merging parallel edges within buffer of 45.\n"
     ]
    },
    {
     "name": "stdout",
     "output_type": "stream",
     "text": [
      "remove filler nodes: Liège\n",
      "\t* MultiGraph with 22216 nodes and 28595 edges\n"
     ]
    },
    {
     "name": "stderr",
     "output_type": "stream",
     "text": [
      "100%|█████████████████████████████████| 28595/28595 [00:00<00:00, 388581.68it/s]"
     ]
    },
    {
     "name": "stdout",
     "output_type": "stream",
     "text": [
      "merged parallel edges\n",
      "  buff=45m\n",
      "\t* MultiGraph with 22216 nodes and 28238 edges"
     ]
    },
    {
     "name": "stderr",
     "output_type": "stream",
     "text": [
      "\n",
      "INFO:cityseer.tools.io:Preparing node and edge arrays from networkX graph.\n"
     ]
    },
    {
     "name": "stdout",
     "output_type": "stream",
     "text": [
      "\n"
     ]
    },
    {
     "name": "stderr",
     "output_type": "stream",
     "text": [
      "INFO:cityseer.tools.graphs:Generating interpolated edge geometries.\n",
      "100%|███████████████████████████████| 105156/105156 [00:00<00:00, 190825.30it/s]\n"
     ]
    },
    {
     "name": "stdout",
     "output_type": "stream",
     "text": [
      "simple geoms: Liège\n",
      "\t* MultiGraph with 98777 nodes and 105156 edges\n"
     ]
    },
    {
     "name": "stderr",
     "output_type": "stream",
     "text": [
      "INFO:cityseer.tools.graphs:Removing filler nodes.\n",
      "100%|██████████████████████████████████| 98777/98777 [00:04<00:00, 23140.65it/s]\n",
      "INFO:cityseer.tools.graphs:Merging parallel edges within buffer of 50.\n"
     ]
    },
    {
     "name": "stdout",
     "output_type": "stream",
     "text": [
      "remove filler nodes: Liège\n",
      "\t* MultiGraph with 22216 nodes and 28595 edges\n"
     ]
    },
    {
     "name": "stderr",
     "output_type": "stream",
     "text": [
      "100%|█████████████████████████████████| 28595/28595 [00:00<00:00, 392713.01it/s]\n",
      "INFO:cityseer.tools.io:Preparing node and edge arrays from networkX graph.\n"
     ]
    },
    {
     "name": "stdout",
     "output_type": "stream",
     "text": [
      "merged parallel edges\n",
      "  buff=50m\n",
      "\t* MultiGraph with 22216 nodes and 28222 edges\n"
     ]
    },
    {
     "name": "stderr",
     "output_type": "stream",
     "text": [
      "INFO:cityseer.tools.graphs:Generating interpolated edge geometries.\n",
      "100%|███████████████████████████████| 105156/105156 [00:00<00:00, 187041.67it/s]\n"
     ]
    },
    {
     "name": "stdout",
     "output_type": "stream",
     "text": [
      "simple geoms: Liège\n",
      "\t* MultiGraph with 98777 nodes and 105156 edges\n"
     ]
    },
    {
     "name": "stderr",
     "output_type": "stream",
     "text": [
      "INFO:cityseer.tools.graphs:Removing filler nodes.\n",
      "100%|██████████████████████████████████| 98777/98777 [00:04<00:00, 23107.29it/s]\n",
      "INFO:cityseer.tools.graphs:Merging parallel edges within buffer of 55.\n"
     ]
    },
    {
     "name": "stdout",
     "output_type": "stream",
     "text": [
      "remove filler nodes: Liège\n",
      "\t* MultiGraph with 22216 nodes and 28595 edges\n"
     ]
    },
    {
     "name": "stderr",
     "output_type": "stream",
     "text": [
      "100%|█████████████████████████████████| 28595/28595 [00:00<00:00, 392674.43it/s]\n"
     ]
    },
    {
     "name": "stdout",
     "output_type": "stream",
     "text": [
      "merged parallel edges\n",
      "  buff=55m\n",
      "\t* MultiGraph with 22216 nodes and 28208 edges\n"
     ]
    },
    {
     "name": "stderr",
     "output_type": "stream",
     "text": [
      "INFO:cityseer.tools.io:Preparing node and edge arrays from networkX graph.\n",
      "INFO:cityseer.tools.graphs:Generating interpolated edge geometries.\n",
      "100%|███████████████████████████████| 105156/105156 [00:00<00:00, 192751.47it/s]\n"
     ]
    },
    {
     "name": "stdout",
     "output_type": "stream",
     "text": [
      "simple geoms: Liège\n",
      "\t* MultiGraph with 98777 nodes and 105156 edges\n"
     ]
    },
    {
     "name": "stderr",
     "output_type": "stream",
     "text": [
      "INFO:cityseer.tools.graphs:Removing filler nodes.\n",
      "100%|██████████████████████████████████| 98777/98777 [00:04<00:00, 23402.67it/s]\n",
      "INFO:cityseer.tools.graphs:Merging parallel edges within buffer of 60.\n"
     ]
    },
    {
     "name": "stdout",
     "output_type": "stream",
     "text": [
      "remove filler nodes: Liège\n",
      "\t* MultiGraph with 22216 nodes and 28595 edges\n"
     ]
    },
    {
     "name": "stderr",
     "output_type": "stream",
     "text": [
      "100%|█████████████████████████████████| 28595/28595 [00:00<00:00, 388013.45it/s]\n",
      "INFO:cityseer.tools.io:Preparing node and edge arrays from networkX graph.\n"
     ]
    },
    {
     "name": "stdout",
     "output_type": "stream",
     "text": [
      "merged parallel edges\n",
      "  buff=60m\n",
      "\t* MultiGraph with 22216 nodes and 28196 edges\n"
     ]
    },
    {
     "name": "stderr",
     "output_type": "stream",
     "text": [
      "INFO:cityseer.tools.graphs:Generating interpolated edge geometries.\n",
      "100%|███████████████████████████████| 105156/105156 [00:00<00:00, 189790.34it/s]\n"
     ]
    },
    {
     "name": "stdout",
     "output_type": "stream",
     "text": [
      "simple geoms: Liège\n",
      "\t* MultiGraph with 98777 nodes and 105156 edges\n"
     ]
    },
    {
     "name": "stderr",
     "output_type": "stream",
     "text": [
      "INFO:cityseer.tools.graphs:Removing filler nodes.\n",
      "100%|██████████████████████████████████| 98777/98777 [00:04<00:00, 23101.92it/s]\n",
      "INFO:cityseer.tools.graphs:Merging parallel edges within buffer of 65.\n"
     ]
    },
    {
     "name": "stdout",
     "output_type": "stream",
     "text": [
      "remove filler nodes: Liège\n",
      "\t* MultiGraph with 22216 nodes and 28595 edges\n"
     ]
    },
    {
     "name": "stderr",
     "output_type": "stream",
     "text": [
      "100%|█████████████████████████████████| 28595/28595 [00:00<00:00, 358478.41it/s]\n",
      "INFO:cityseer.tools.io:Preparing node and edge arrays from networkX graph.\n"
     ]
    },
    {
     "name": "stdout",
     "output_type": "stream",
     "text": [
      "merged parallel edges\n",
      "  buff=65m\n",
      "\t* MultiGraph with 22216 nodes and 28190 edges\n"
     ]
    },
    {
     "name": "stderr",
     "output_type": "stream",
     "text": [
      "INFO:cityseer.tools.graphs:Generating interpolated edge geometries.\n",
      "100%|███████████████████████████████| 105156/105156 [00:00<00:00, 174270.74it/s]\n"
     ]
    },
    {
     "name": "stdout",
     "output_type": "stream",
     "text": [
      "simple geoms: Liège\n",
      "\t* MultiGraph with 98777 nodes and 105156 edges\n"
     ]
    },
    {
     "name": "stderr",
     "output_type": "stream",
     "text": [
      "INFO:cityseer.tools.graphs:Removing filler nodes.\n",
      "100%|██████████████████████████████████| 98777/98777 [00:04<00:00, 22993.22it/s]\n"
     ]
    },
    {
     "name": "stdout",
     "output_type": "stream",
     "text": [
      "remove filler nodes: Liège\n",
      "\t* MultiGraph with 22216 nodes and 28595 edges\n"
     ]
    },
    {
     "name": "stderr",
     "output_type": "stream",
     "text": [
      "INFO:cityseer.tools.graphs:Merging parallel edges within buffer of 70.\n",
      "100%|█████████████████████████████████| 28595/28595 [00:00<00:00, 340372.74it/s]\n",
      "INFO:cityseer.tools.io:Preparing node and edge arrays from networkX graph.\n"
     ]
    },
    {
     "name": "stdout",
     "output_type": "stream",
     "text": [
      "merged parallel edges\n",
      "  buff=70m\n",
      "\t* MultiGraph with 22216 nodes and 28181 edges\n"
     ]
    },
    {
     "name": "stderr",
     "output_type": "stream",
     "text": [
      "INFO:cityseer.tools.graphs:Generating interpolated edge geometries.\n",
      "100%|███████████████████████████████| 105156/105156 [00:00<00:00, 193514.97it/s]\n"
     ]
    },
    {
     "name": "stdout",
     "output_type": "stream",
     "text": [
      "simple geoms: Liège\n",
      "\t* MultiGraph with 98777 nodes and 105156 edges\n"
     ]
    },
    {
     "name": "stderr",
     "output_type": "stream",
     "text": [
      "INFO:cityseer.tools.graphs:Removing filler nodes.\n",
      "100%|██████████████████████████████████| 98777/98777 [00:04<00:00, 22902.68it/s]\n",
      "INFO:cityseer.tools.graphs:Merging parallel edges within buffer of 75.\n"
     ]
    },
    {
     "name": "stdout",
     "output_type": "stream",
     "text": [
      "remove filler nodes: Liège\n",
      "\t* MultiGraph with 22216 nodes and 28595 edges\n"
     ]
    },
    {
     "name": "stderr",
     "output_type": "stream",
     "text": [
      "100%|█████████████████████████████████| 28595/28595 [00:00<00:00, 388666.05it/s]\n",
      "INFO:cityseer.tools.io:Preparing node and edge arrays from networkX graph.\n"
     ]
    },
    {
     "name": "stdout",
     "output_type": "stream",
     "text": [
      "merged parallel edges\n",
      "  buff=75m\n",
      "\t* MultiGraph with 22216 nodes and 28176 edges\n"
     ]
    },
    {
     "name": "stderr",
     "output_type": "stream",
     "text": [
      "INFO:cityseer.tools.graphs:Generating interpolated edge geometries.\n",
      "100%|███████████████████████████████| 105156/105156 [00:00<00:00, 189754.08it/s]\n"
     ]
    },
    {
     "name": "stdout",
     "output_type": "stream",
     "text": [
      "simple geoms: Liège\n",
      "\t* MultiGraph with 98777 nodes and 105156 edges\n"
     ]
    },
    {
     "name": "stderr",
     "output_type": "stream",
     "text": [
      "INFO:cityseer.tools.graphs:Removing filler nodes.\n",
      "100%|██████████████████████████████████| 98777/98777 [00:04<00:00, 23204.59it/s]\n"
     ]
    },
    {
     "name": "stdout",
     "output_type": "stream",
     "text": [
      "remove filler nodes: Liège\n",
      "\t* MultiGraph with 22216 nodes and 28595 edges\n"
     ]
    },
    {
     "name": "stderr",
     "output_type": "stream",
     "text": [
      "INFO:cityseer.tools.graphs:Merging parallel edges within buffer of 80.\n",
      "100%|█████████████████████████████████| 28595/28595 [00:00<00:00, 388507.41it/s]\n",
      "INFO:cityseer.tools.io:Preparing node and edge arrays from networkX graph.\n"
     ]
    },
    {
     "name": "stdout",
     "output_type": "stream",
     "text": [
      "merged parallel edges\n",
      "  buff=80m\n",
      "\t* MultiGraph with 22216 nodes and 28171 edges\n"
     ]
    },
    {
     "name": "stderr",
     "output_type": "stream",
     "text": [
      "INFO:cityseer.tools.graphs:Generating interpolated edge geometries.\n",
      "100%|████████████████████████████████| 105156/105156 [00:01<00:00, 84557.45it/s]\n"
     ]
    },
    {
     "name": "stdout",
     "output_type": "stream",
     "text": [
      "simple geoms: Liège\n",
      "\t* MultiGraph with 98777 nodes and 105156 edges\n"
     ]
    },
    {
     "name": "stderr",
     "output_type": "stream",
     "text": [
      "INFO:cityseer.tools.graphs:Removing filler nodes.\n",
      "100%|██████████████████████████████████| 98777/98777 [00:04<00:00, 23362.42it/s]\n",
      "INFO:cityseer.tools.graphs:Merging parallel edges within buffer of 85.\n"
     ]
    },
    {
     "name": "stdout",
     "output_type": "stream",
     "text": [
      "remove filler nodes: Liège\n",
      "\t* MultiGraph with 22216 nodes and 28595 edges\n"
     ]
    },
    {
     "name": "stderr",
     "output_type": "stream",
     "text": [
      "100%|█████████████████████████████████| 28595/28595 [00:00<00:00, 375291.78it/s]\n",
      "INFO:cityseer.tools.io:Preparing node and edge arrays from networkX graph.\n"
     ]
    },
    {
     "name": "stdout",
     "output_type": "stream",
     "text": [
      "merged parallel edges\n",
      "  buff=85m\n",
      "\t* MultiGraph with 22216 nodes and 28166 edges\n"
     ]
    },
    {
     "name": "stderr",
     "output_type": "stream",
     "text": [
      "INFO:cityseer.tools.graphs:Generating interpolated edge geometries.\n",
      "100%|███████████████████████████████| 105156/105156 [00:00<00:00, 190631.97it/s]\n"
     ]
    },
    {
     "name": "stdout",
     "output_type": "stream",
     "text": [
      "simple geoms: Liège\n",
      "\t* MultiGraph with 98777 nodes and 105156 edges\n"
     ]
    },
    {
     "name": "stderr",
     "output_type": "stream",
     "text": [
      "INFO:cityseer.tools.graphs:Removing filler nodes.\n",
      "100%|██████████████████████████████████| 98777/98777 [00:04<00:00, 23153.59it/s]\n",
      "INFO:cityseer.tools.graphs:Merging parallel edges within buffer of 90.\n"
     ]
    },
    {
     "name": "stdout",
     "output_type": "stream",
     "text": [
      "remove filler nodes: Liège\n",
      "\t* MultiGraph with 22216 nodes and 28595 edges\n"
     ]
    },
    {
     "name": "stderr",
     "output_type": "stream",
     "text": [
      "100%|█████████████████████████████████| 28595/28595 [00:00<00:00, 389863.74it/s]\n",
      "INFO:cityseer.tools.io:Preparing node and edge arrays from networkX graph.\n"
     ]
    },
    {
     "name": "stdout",
     "output_type": "stream",
     "text": [
      "merged parallel edges\n",
      "  buff=90m\n",
      "\t* MultiGraph with 22216 nodes and 28155 edges\n"
     ]
    },
    {
     "name": "stderr",
     "output_type": "stream",
     "text": [
      "INFO:cityseer.tools.graphs:Generating interpolated edge geometries.\n",
      "100%|███████████████████████████████| 105156/105156 [00:00<00:00, 186800.77it/s]\n"
     ]
    },
    {
     "name": "stdout",
     "output_type": "stream",
     "text": [
      "simple geoms: Liège\n",
      "\t* MultiGraph with 98777 nodes and 105156 edges\n"
     ]
    },
    {
     "name": "stderr",
     "output_type": "stream",
     "text": [
      "INFO:cityseer.tools.graphs:Removing filler nodes.\n",
      "100%|██████████████████████████████████| 98777/98777 [00:04<00:00, 23231.05it/s]\n",
      "INFO:cityseer.tools.graphs:Merging parallel edges within buffer of 95.\n"
     ]
    },
    {
     "name": "stdout",
     "output_type": "stream",
     "text": [
      "remove filler nodes: Liège\n",
      "\t* MultiGraph with 22216 nodes and 28595 edges\n"
     ]
    },
    {
     "name": "stderr",
     "output_type": "stream",
     "text": [
      "100%|█████████████████████████████████| 28595/28595 [00:00<00:00, 391278.08it/s]\n",
      "INFO:cityseer.tools.io:Preparing node and edge arrays from networkX graph.\n"
     ]
    },
    {
     "name": "stdout",
     "output_type": "stream",
     "text": [
      "merged parallel edges\n",
      "  buff=95m\n",
      "\t* MultiGraph with 22216 nodes and 28152 edges\n"
     ]
    },
    {
     "name": "stderr",
     "output_type": "stream",
     "text": [
      "INFO:cityseer.tools.graphs:Generating interpolated edge geometries.\n",
      "100%|███████████████████████████████| 105156/105156 [00:00<00:00, 191576.25it/s]\n"
     ]
    },
    {
     "name": "stdout",
     "output_type": "stream",
     "text": [
      "simple geoms: Liège\n",
      "\t* MultiGraph with 98777 nodes and 105156 edges\n"
     ]
    },
    {
     "name": "stderr",
     "output_type": "stream",
     "text": [
      "INFO:cityseer.tools.graphs:Removing filler nodes.\n",
      "100%|██████████████████████████████████| 98777/98777 [00:04<00:00, 23257.91it/s]\n",
      "INFO:cityseer.tools.graphs:Merging parallel edges within buffer of 100.\n"
     ]
    },
    {
     "name": "stdout",
     "output_type": "stream",
     "text": [
      "remove filler nodes: Liège\n",
      "\t* MultiGraph with 22216 nodes and 28595 edges\n"
     ]
    },
    {
     "name": "stderr",
     "output_type": "stream",
     "text": [
      "100%|█████████████████████████████████| 28595/28595 [00:00<00:00, 366264.14it/s]\n",
      "INFO:cityseer.tools.io:Preparing node and edge arrays from networkX graph.\n"
     ]
    },
    {
     "name": "stdout",
     "output_type": "stream",
     "text": [
      "merged parallel edges\n",
      "  buff=100m\n",
      "\t* MultiGraph with 22216 nodes and 28150 edges\n"
     ]
    }
   ],
   "source": [
    "results = {}\n",
    "\n",
    "for merge_midline in merge_edges_by_midline:\n",
    "    results[merge_midline] = {}\n",
    "    for contains_buffer_dist in contains_buffer_dists:\n",
    "        results[merge_midline][contains_buffer_dist] = {}\n",
    "\n",
    "        # simple geoms >> remove filler nodes >> merge parallel edges\n",
    "        _G = merge_parallel_routine(G.copy(), merge_midline, contains_buffer_dist)\n",
    "\n",
    "        # conversion from ``cityseer`` format to ``momepy``/``geopandas``\n",
    "        nodes, edges = convert_cs2mm(_G, orig_crs)\n",
    "\n",
    "        results[merge_midline][contains_buffer_dist][\"nodes\"] = nodes\n",
    "        results[merge_midline][contains_buffer_dist][\"edges\"] = edges"
   ]
  },
  {
   "cell_type": "markdown",
   "id": "c63d93c0-0b02-4f9c-802f-ae09c4607f56",
   "metadata": {},
   "source": [
    "---------------------------------\n",
    "\n",
    "## 4. Viz\n",
    "\n",
    "### use cases"
   ]
  },
  {
   "cell_type": "code",
   "execution_count": 11,
   "id": "b4a86df2-2422-44eb-85f1-8cf7a74ee125",
   "metadata": {
    "execution": {
     "iopub.execute_input": "2024-06-13T13:06:47.757332Z",
     "iopub.status.busy": "2024-06-13T13:06:47.757250Z",
     "iopub.status.idle": "2024-06-13T13:06:47.759535Z",
     "shell.execute_reply": "2024-06-13T13:06:47.759330Z",
     "shell.execute_reply.started": "2024-06-13T13:06:47.757325Z"
    }
   },
   "outputs": [],
   "source": [
    "points, fpath_base = utils.load_usecases(city)"
   ]
  },
  {
   "cell_type": "code",
   "execution_count": 12,
   "id": "ae9eeb7c-eb9d-4822-846f-6a9d48ba95b8",
   "metadata": {
    "execution": {
     "iopub.execute_input": "2024-06-13T13:06:47.760021Z",
     "iopub.status.busy": "2024-06-13T13:06:47.759920Z",
     "iopub.status.idle": "2024-06-13T13:06:47.762023Z",
     "shell.execute_reply": "2024-06-13T13:06:47.761832Z",
     "shell.execute_reply.started": "2024-06-13T13:06:47.760014Z"
    }
   },
   "outputs": [
    {
     "data": {
      "text/plain": [
       "{'roundabout': {'coords': [5.587873, 50.641955],\n",
       "  'address': 'Place du Congrès',\n",
       "  'comments': '...'},\n",
       " 'highway': {'coords': [5.560604, 50.632068],\n",
       "  'address': 'A602 / Rue de Puisatiers',\n",
       "  'comments': '...'},\n",
       " 'parkinglot': {'coords': [5.592738, 50.616253],\n",
       "  'address': 'Carrefour Quai des Vennes',\n",
       "  'comments': '...'},\n",
       " 'intersection': {'coords': [5.511301, 50.618373],\n",
       "  'address': 'Pont de Seraing',\n",
       "  'comments': '...'},\n",
       " 'parallel_edges_1': {'coords': [5.5708487, 50.6236314],\n",
       "  'address': 'LIEGE Place des Franchises',\n",
       "  'comments': 'small, textbook case'},\n",
       " 'parallel_edges_2': {'coords': [5.6192988, 50.6928202],\n",
       "  'address': \"WBCC, Rue d'Abhooz 82, 4040 Herstal, Belgium\",\n",
       "  'comments': 'parking lot of parallel edges'},\n",
       " 'parallel_edges_3': {'coords': [5.6202498, 50.6790271],\n",
       "  'address': 'Rue du Coq Mosan 7, 4040 Herstal, Belgium',\n",
       "  'comments': 'collapsed neighborhood - parallel edges'}}"
      ]
     },
     "execution_count": 12,
     "metadata": {},
     "output_type": "execute_result"
    }
   ],
   "source": [
    "points"
   ]
  },
  {
   "cell_type": "code",
   "execution_count": 13,
   "id": "eb81555f-4670-476b-839c-331bf225f5f8",
   "metadata": {
    "execution": {
     "iopub.execute_input": "2024-06-13T13:06:47.762508Z",
     "iopub.status.busy": "2024-06-13T13:06:47.762402Z",
     "iopub.status.idle": "2024-06-13T13:06:47.764143Z",
     "shell.execute_reply": "2024-06-13T13:06:47.763953Z",
     "shell.execute_reply.started": "2024-06-13T13:06:47.762500Z"
    }
   },
   "outputs": [
    {
     "data": {
      "text/plain": [
       "PosixPath('/Users/jgaboardi/github_repos/uscuni/simplification/usecases/1656')"
      ]
     },
     "execution_count": 13,
     "metadata": {},
     "output_type": "execute_result"
    }
   ],
   "source": [
    "fpath_base"
   ]
  },
  {
   "cell_type": "code",
   "execution_count": 14,
   "id": "6dbd6444-0d3a-4f46-8a0b-995134fb5637",
   "metadata": {
    "execution": {
     "iopub.execute_input": "2024-06-13T13:06:47.764535Z",
     "iopub.status.busy": "2024-06-13T13:06:47.764469Z",
     "iopub.status.idle": "2024-06-13T13:06:47.766280Z",
     "shell.execute_reply": "2024-06-13T13:06:47.766117Z",
     "shell.execute_reply.started": "2024-06-13T13:06:47.764528Z"
    }
   },
   "outputs": [
    {
     "data": {
      "text/plain": [
       "PosixPath('/Users/jgaboardi/github_repos/uscuni/simplification/usecases/1656/cityseer')"
      ]
     },
     "execution_count": 14,
     "metadata": {},
     "output_type": "execute_result"
    }
   ],
   "source": [
    "package = \"cityseer\"\n",
    "fpath_pack = fpath_base / package\n",
    "fpath_pack"
   ]
  },
  {
   "cell_type": "markdown",
   "id": "383c6524-6e4b-48d9-89e8-89d442520fc8",
   "metadata": {},
   "source": [
    "### class experiments"
   ]
  },
  {
   "cell_type": "code",
   "execution_count": 15,
   "id": "370b9fa3-978d-45a9-9315-0260f1dc19c8",
   "metadata": {
    "execution": {
     "iopub.execute_input": "2024-06-13T13:06:47.766716Z",
     "iopub.status.busy": "2024-06-13T13:06:47.766624Z",
     "iopub.status.idle": "2024-06-13T13:06:47.768412Z",
     "shell.execute_reply": "2024-06-13T13:06:47.768239Z",
     "shell.execute_reply.started": "2024-06-13T13:06:47.766709Z"
    }
   },
   "outputs": [
    {
     "data": {
      "text/plain": [
       "['parallel_edges_1', 'parallel_edges_2', 'parallel_edges_3']"
      ]
     },
     "execution_count": 15,
     "metadata": {},
     "output_type": "execute_result"
    }
   ],
   "source": [
    "contexts = [\"parallel_edges_1\", \"parallel_edges_2\", \"parallel_edges_3\"]\n",
    "contexts"
   ]
  },
  {
   "cell_type": "code",
   "execution_count": 16,
   "id": "fd876f9e-016a-4345-89ad-165e1a24dbc7",
   "metadata": {
    "execution": {
     "iopub.execute_input": "2024-06-13T13:06:47.768800Z",
     "iopub.status.busy": "2024-06-13T13:06:47.768730Z",
     "iopub.status.idle": "2024-06-13T13:08:27.765647Z",
     "shell.execute_reply": "2024-06-13T13:08:27.765271Z",
     "shell.execute_reply.started": "2024-06-13T13:06:47.768793Z"
    }
   },
   "outputs": [],
   "source": [
    "for context in contexts:\n",
    "    # isolate central AOI\n",
    "    point = points[context][\"coords\"]\n",
    "    center = viz.context.location(point, orig_crs)\n",
    "\n",
    "    for merge_midline in merge_edges_by_midline:\n",
    "        # make subfolder for plot saving\n",
    "        _context = f\"{context}_midline_{merge_midline}\"\n",
    "        fpath_context = viz.context.path(_context, fpath_pack)\n",
    "\n",
    "        for contains_buffer_dist in contains_buffer_dists:\n",
    "            # Make class-param plot\n",
    "            buff_pad_3 = f\"{contains_buffer_dist:03d}\"\n",
    "            fmt_title = (\n",
    "                f\"Contains Buffer Dist: {buff_pad_3}m\\n\"\n",
    "                f\"Merge Edges by Midline: {merge_midline}\"\n",
    "            )\n",
    "            fmt_fname = f\"{buff_pad_3}_{merge_midline}\"\n",
    "            viz.context.param_plot(\n",
    "                results[merge_midline][contains_buffer_dist][\"nodes\"],\n",
    "                results[merge_midline][contains_buffer_dist][\"edges\"],\n",
    "                center,\n",
    "                fmt_title,\n",
    "                fmt_fname,\n",
    "                fpath_context,\n",
    "                orig_crs,\n",
    "            )\n",
    "\n",
    "        # Make Video\n",
    "        viz.context.video(fpath_context)"
   ]
  },
  {
   "cell_type": "markdown",
   "id": "8fb19815-cde4-4748-a76c-b0b914363641",
   "metadata": {},
   "source": [
    "-----------------------------------"
   ]
  }
 ],
 "metadata": {
  "gist_info": {
   "create_date": "2024-01-22T01:48:06Z",
   "gist_id": "582dc1f207054a861eda93e975713b4b",
   "gist_url": "https://gist.github.com/jGaboardi/582dc1f207054a861eda93e975713b4b"
  },
  "kernelspec": {
   "display_name": "Python 3 (ipykernel)",
   "language": "python",
   "name": "python3"
  },
  "language_info": {
   "codemirror_mode": {
    "name": "ipython",
    "version": 3
   },
   "file_extension": ".py",
   "mimetype": "text/x-python",
   "name": "python",
   "nbconvert_exporter": "python",
   "pygments_lexer": "ipython3",
   "version": "3.11.9"
  }
 },
 "nbformat": 4,
 "nbformat_minor": 5
}
