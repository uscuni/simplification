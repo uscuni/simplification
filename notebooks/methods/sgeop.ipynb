{
 "cells": [
  {
   "cell_type": "markdown",
   "metadata": {},
   "source": [
    "# Running `sgeop`\n",
    "\n",
    "Draft - testing with all parameters set to default values"
   ]
  },
  {
   "cell_type": "code",
   "execution_count": null,
   "metadata": {},
   "outputs": [],
   "source": [
    "%load_ext watermark\n",
    "%watermark"
   ]
  },
  {
   "cell_type": "code",
   "execution_count": 2,
   "metadata": {},
   "outputs": [],
   "source": [
    "import os\n",
    "import time\n",
    "\n",
    "import sgeop\n",
    "\n",
    "from core import utils"
   ]
  },
  {
   "cell_type": "code",
   "execution_count": null,
   "metadata": {},
   "outputs": [],
   "source": [
    "utils.fua_city"
   ]
  },
  {
   "cell_type": "code",
   "execution_count": null,
   "metadata": {},
   "outputs": [],
   "source": [
    "for fua in utils.fua_city:\n",
    "    city = utils.fua_city[fua]\n",
    "    print(f\"Simplifying {city}\")\n",
    "\n",
    "    # read in original data\n",
    "    gdf = utils.read_original(fua)\n",
    "\n",
    "    # simplify with sgeop\n",
    "    t1 = time.time()\n",
    "    simplified = sgeop.simplify_network(gdf)\n",
    "    t2 = time.time()\n",
    "    print(f\"{city} simplified in {round(t2-t1)}s \\n\")\n",
    "\n",
    "    # save to target folder\n",
    "    target_folder = f\"../../data/{fua}/sgeop/\"\n",
    "    os.makedirs(target_folder, exist_ok=True)\n",
    "    simplified.to_parquet(target_folder + f\"{fua}.parquet\")"
   ]
  },
  {
   "cell_type": "markdown",
   "metadata": {},
   "source": []
  }
 ],
 "metadata": {
  "kernelspec": {
   "display_name": "simplification",
   "language": "python",
   "name": "python3"
  },
  "language_info": {
   "codemirror_mode": {
    "name": "ipython",
    "version": 3
   },
   "file_extension": ".py",
   "mimetype": "text/x-python",
   "name": "python",
   "nbconvert_exporter": "python",
   "pygments_lexer": "ipython3",
   "version": "3.11.9"
  }
 },
 "nbformat": 4,
 "nbformat_minor": 2
}
