{
 "cells": [
  {
   "cell_type": "markdown",
   "metadata": {},
   "source": [
    "### \"Simplification\" attemps with OSMnx\n",
    "\n",
    "For test (continents) cities [FUA ID]:\n",
    "* (Africa) Douala [809]\n",
    "* (Oceania) Auckland [869]\n",
    "* (Asia) Aleppo [1133] -- Wuhan [8989]\n",
    "* (Europe) Liège [1656]\n",
    "* (South America) Bucaramanga [4617]\n",
    "* (North America) Salt Lake City [4881]"
   ]
  },
  {
   "cell_type": "code",
   "execution_count": 1,
   "metadata": {
    "execution": {
     "iopub.execute_input": "2024-04-17T01:36:44.129893Z",
     "iopub.status.busy": "2024-04-17T01:36:44.129760Z",
     "iopub.status.idle": "2024-04-17T01:36:44.159950Z",
     "shell.execute_reply": "2024-04-17T01:36:44.159289Z",
     "shell.execute_reply.started": "2024-04-17T01:36:44.129875Z"
    }
   },
   "outputs": [
    {
     "name": "stdout",
     "output_type": "stream",
     "text": [
      "Last updated: 2024-04-16T21:36:44.149228-04:00\n",
      "\n",
      "Python implementation: CPython\n",
      "Python version       : 3.11.8\n",
      "IPython version      : 8.22.2\n",
      "\n",
      "Compiler    : Clang 16.0.6 \n",
      "OS          : Darwin\n",
      "Release     : 23.4.0\n",
      "Machine     : arm64\n",
      "Processor   : arm\n",
      "CPU cores   : 8\n",
      "Architecture: 64bit\n",
      "\n"
     ]
    }
   ],
   "source": [
    "%load_ext watermark\n",
    "%watermark"
   ]
  },
  {
   "cell_type": "code",
   "execution_count": 2,
   "metadata": {
    "execution": {
     "iopub.execute_input": "2024-04-17T01:36:44.161456Z",
     "iopub.status.busy": "2024-04-17T01:36:44.161163Z",
     "iopub.status.idle": "2024-04-17T01:36:45.844160Z",
     "shell.execute_reply": "2024-04-17T01:36:45.843949Z",
     "shell.execute_reply.started": "2024-04-17T01:36:44.161403Z"
    }
   },
   "outputs": [
    {
     "name": "stdout",
     "output_type": "stream",
     "text": [
      "Watermark: 2.4.3\n",
      "\n",
      "cv2       : 4.9.0\n",
      "json      : 2.0.9\n",
      "osmnx     : 1.9.2\n",
      "contextily: 1.6.0\n",
      "geopandas : 0.14.3\n",
      "momepy    : 0.7.1.dev23+ga5e30d8\n",
      "matplotlib: 3.8.4\n",
      "\n"
     ]
    }
   ],
   "source": [
    "# import libraries\n",
    "import pathlib\n",
    "\n",
    "import contextily as cx\n",
    "import cv2\n",
    "import geopandas as gpd\n",
    "import matplotlib.pyplot as plt\n",
    "import momepy\n",
    "import osmnx as ox\n",
    "import utils\n",
    "from shapely.geometry import Point\n",
    "\n",
    "%watermark -w\n",
    "%watermark -iv"
   ]
  },
  {
   "cell_type": "markdown",
   "metadata": {},
   "source": [
    "**Read in meta data**"
   ]
  },
  {
   "cell_type": "code",
   "execution_count": 3,
   "metadata": {
    "execution": {
     "iopub.execute_input": "2024-04-17T01:36:45.844650Z",
     "iopub.status.busy": "2024-04-17T01:36:45.844512Z",
     "iopub.status.idle": "2024-04-17T01:36:45.893193Z",
     "shell.execute_reply": "2024-04-17T01:36:45.892994Z",
     "shell.execute_reply.started": "2024-04-17T01:36:45.844642Z"
    }
   },
   "outputs": [
    {
     "data": {
      "text/html": [
       "<div>\n",
       "<style scoped>\n",
       "    .dataframe tbody tr th:only-of-type {\n",
       "        vertical-align: middle;\n",
       "    }\n",
       "\n",
       "    .dataframe tbody tr th {\n",
       "        vertical-align: top;\n",
       "    }\n",
       "\n",
       "    .dataframe thead th {\n",
       "        text-align: right;\n",
       "    }\n",
       "</style>\n",
       "<table border=\"1\" class=\"dataframe\">\n",
       "  <thead>\n",
       "    <tr style=\"text-align: right;\">\n",
       "      <th></th>\n",
       "      <th>eFUA_ID</th>\n",
       "      <th>UC_num</th>\n",
       "      <th>UC_IDs</th>\n",
       "      <th>eFUA_name</th>\n",
       "      <th>Commuting</th>\n",
       "      <th>Cntry_ISO</th>\n",
       "      <th>Cntry_name</th>\n",
       "      <th>FUA_area</th>\n",
       "      <th>UC_area</th>\n",
       "      <th>FUA_p_2015</th>\n",
       "      <th>UC_p_2015</th>\n",
       "      <th>Com_p_2015</th>\n",
       "      <th>geometry</th>\n",
       "      <th>continent</th>\n",
       "      <th>iso_a3</th>\n",
       "    </tr>\n",
       "  </thead>\n",
       "  <tbody>\n",
       "    <tr>\n",
       "      <th>305</th>\n",
       "      <td>9129.0</td>\n",
       "      <td>1.0</td>\n",
       "      <td>8078</td>\n",
       "      <td>Gonda</td>\n",
       "      <td>1.0</td>\n",
       "      <td>IND</td>\n",
       "      <td>India</td>\n",
       "      <td>66.0</td>\n",
       "      <td>29.0</td>\n",
       "      <td>1.074100e+06</td>\n",
       "      <td>1.066419e+06</td>\n",
       "      <td>7680.678101</td>\n",
       "      <td>POLYGON ((81.98398 27.19657, 81.99471 27.19657...</td>\n",
       "      <td>Asia</td>\n",
       "      <td>IND</td>\n",
       "    </tr>\n",
       "    <tr>\n",
       "      <th>91</th>\n",
       "      <td>7578.0</td>\n",
       "      <td>6.0</td>\n",
       "      <td>10577;10581;10583;10596;10605;10607</td>\n",
       "      <td>Chongqing</td>\n",
       "      <td>1.0</td>\n",
       "      <td>CHN</td>\n",
       "      <td>China</td>\n",
       "      <td>2267.0</td>\n",
       "      <td>618.0</td>\n",
       "      <td>6.036834e+06</td>\n",
       "      <td>5.157726e+06</td>\n",
       "      <td>879107.861057</td>\n",
       "      <td>POLYGON ((106.23972 29.52328, 106.19622 29.523...</td>\n",
       "      <td>Asia</td>\n",
       "      <td>CHN</td>\n",
       "    </tr>\n",
       "  </tbody>\n",
       "</table>\n",
       "</div>"
      ],
      "text/plain": [
       "     eFUA_ID  UC_num                               UC_IDs  eFUA_name  \\\n",
       "305   9129.0     1.0                                 8078      Gonda   \n",
       "91    7578.0     6.0  10577;10581;10583;10596;10605;10607  Chongqing   \n",
       "\n",
       "     Commuting Cntry_ISO Cntry_name  FUA_area  UC_area    FUA_p_2015  \\\n",
       "305        1.0       IND      India      66.0     29.0  1.074100e+06   \n",
       "91         1.0       CHN      China    2267.0    618.0  6.036834e+06   \n",
       "\n",
       "        UC_p_2015     Com_p_2015  \\\n",
       "305  1.066419e+06    7680.678101   \n",
       "91   5.157726e+06  879107.861057   \n",
       "\n",
       "                                              geometry continent iso_a3  \n",
       "305  POLYGON ((81.98398 27.19657, 81.99471 27.19657...      Asia    IND  \n",
       "91   POLYGON ((106.23972 29.52328, 106.19622 29.523...      Asia    CHN  "
      ]
     },
     "execution_count": 3,
     "metadata": {},
     "output_type": "execute_result"
    }
   ],
   "source": [
    "# read in sample metadata\n",
    "sample = utils.read_sample_data()\n",
    "sample.head(2)"
   ]
  },
  {
   "cell_type": "code",
   "execution_count": 4,
   "metadata": {
    "execution": {
     "iopub.execute_input": "2024-04-17T01:36:45.893686Z",
     "iopub.status.busy": "2024-04-17T01:36:45.893586Z",
     "iopub.status.idle": "2024-04-17T01:36:45.895494Z",
     "shell.execute_reply": "2024-04-17T01:36:45.895288Z",
     "shell.execute_reply.started": "2024-04-17T01:36:45.893679Z"
    }
   },
   "outputs": [
    {
     "data": {
      "text/plain": [
       "{'Aleppo': 1133,\n",
       " 'Auckland': 869,\n",
       " 'Bucaramanga': 4617,\n",
       " 'Douala': 809,\n",
       " 'Liège': 1656,\n",
       " 'Salt Lake City': 4881,\n",
       " 'Wuhan': 8989}"
      ]
     },
     "execution_count": 4,
     "metadata": {},
     "output_type": "execute_result"
    }
   ],
   "source": [
    "utils.city_fua"
   ]
  },
  {
   "cell_type": "markdown",
   "metadata": {},
   "source": [
    "**Read in data for example city**"
   ]
  },
  {
   "cell_type": "code",
   "execution_count": 5,
   "metadata": {
    "execution": {
     "iopub.execute_input": "2024-04-17T01:36:45.895883Z",
     "iopub.status.busy": "2024-04-17T01:36:45.895818Z",
     "iopub.status.idle": "2024-04-17T01:36:48.103363Z",
     "shell.execute_reply": "2024-04-17T01:36:48.103100Z",
     "shell.execute_reply.started": "2024-04-17T01:36:45.895876Z"
    }
   },
   "outputs": [
    {
     "name": "stdout",
     "output_type": "stream",
     "text": [
      "Momepy-NetworkX Primal Graph: Liège\n",
      "\t* MultiDiGraph with 98777 nodes and 105174 edges\n"
     ]
    }
   ],
   "source": [
    "# read in data for example city: Liege\n",
    "city = \"Liège\"\n",
    "gdf = utils.read_parquet_roads(utils.city_fua[city])\n",
    "G = momepy.gdf_to_nx(\n",
    "    gdf_network=gdf, approach=\"primal\", directed=True, integer_labels=True\n",
    ")\n",
    "print(utils.graph_size(f\"Momepy-NetworkX Primal Graph: {city}\", G))"
   ]
  },
  {
   "cell_type": "markdown",
   "metadata": {},
   "source": [
    "**Simplify graph (in OSMNnx terms, i.e. remove interstitial nodes)**"
   ]
  },
  {
   "cell_type": "code",
   "execution_count": 6,
   "metadata": {
    "execution": {
     "iopub.execute_input": "2024-04-17T01:36:48.104675Z",
     "iopub.status.busy": "2024-04-17T01:36:48.104601Z",
     "iopub.status.idle": "2024-04-17T01:36:50.101277Z",
     "shell.execute_reply": "2024-04-17T01:36:50.101029Z",
     "shell.execute_reply.started": "2024-04-17T01:36:48.104667Z"
    }
   },
   "outputs": [
    {
     "name": "stdout",
     "output_type": "stream",
     "text": [
      "Momepy-NetworkX Primal Graph (simplified): Liège\n",
      "\t* MultiDiGraph with 38034 nodes and 44421 edges\n"
     ]
    }
   ],
   "source": [
    "G_simp = ox.simplify_graph(G)\n",
    "print(utils.graph_size(f\"Momepy-NetworkX Primal Graph (simplified): {city}\", G_simp))"
   ]
  },
  {
   "cell_type": "code",
   "execution_count": 7,
   "metadata": {
    "execution": {
     "iopub.execute_input": "2024-04-17T01:36:50.101728Z",
     "iopub.status.busy": "2024-04-17T01:36:50.101645Z",
     "iopub.status.idle": "2024-04-17T01:36:50.105882Z",
     "shell.execute_reply": "2024-04-17T01:36:50.105663Z",
     "shell.execute_reply.started": "2024-04-17T01:36:50.101720Z"
    }
   },
   "outputs": [
    {
     "data": {
      "text/plain": [
       "<Projected CRS: {\"$schema\": \"https://proj.org/schemas/v0.7/projjso ...>\n",
       "Name: unknown\n",
       "Axis Info [cartesian]:\n",
       "- E[east]: Easting (metre)\n",
       "- N[north]: Northing (metre)\n",
       "Area of Use:\n",
       "- undefined\n",
       "Coordinate Operation:\n",
       "- name: UTM zone 31N\n",
       "- method: Transverse Mercator\n",
       "Datum: World Geodetic System 1984\n",
       "- Ellipsoid: WGS 84\n",
       "- Prime Meridian: Greenwich"
      ]
     },
     "execution_count": 7,
     "metadata": {},
     "output_type": "execute_result"
    }
   ],
   "source": [
    "# check crs, needs to be a projected one\n",
    "G_simp.graph[\"crs\"]"
   ]
  },
  {
   "cell_type": "markdown",
   "metadata": {},
   "source": [
    "**Consolidate nodes (test different thresholds)**"
   ]
  },
  {
   "cell_type": "code",
   "execution_count": 8,
   "metadata": {
    "execution": {
     "iopub.execute_input": "2024-04-17T01:36:50.106315Z",
     "iopub.status.busy": "2024-04-17T01:36:50.106246Z",
     "iopub.status.idle": "2024-04-17T01:38:55.339997Z",
     "shell.execute_reply": "2024-04-17T01:38:55.339748Z",
     "shell.execute_reply.started": "2024-04-17T01:36:50.106307Z"
    }
   },
   "outputs": [
    {
     "name": "stdout",
     "output_type": "stream",
     "text": [
      "Consolidating with tolerance 1m\n",
      "\t* MultiDiGraph with 37899 nodes and 44285 edges\n",
      "Consolidating with tolerance 2m\n",
      "\t* MultiDiGraph with 37286 nodes and 43670 edges\n",
      "Consolidating with tolerance 3m\n",
      "\t* MultiDiGraph with 36165 nodes and 42538 edges\n",
      "Consolidating with tolerance 4m\n",
      "\t* MultiDiGraph with 34769 nodes and 41125 edges\n",
      "Consolidating with tolerance 5m\n",
      "\t* MultiDiGraph with 33210 nodes and 39527 edges\n",
      "Consolidating with tolerance 6m\n",
      "\t* MultiDiGraph with 31579 nodes and 37824 edges\n",
      "Consolidating with tolerance 7m\n",
      "\t* MultiDiGraph with 30058 nodes and 36205 edges\n",
      "Consolidating with tolerance 8m\n",
      "\t* MultiDiGraph with 28322 nodes and 34353 edges\n",
      "Consolidating with tolerance 9m\n",
      "\t* MultiDiGraph with 26561 nodes and 32437 edges\n",
      "Consolidating with tolerance 10m\n",
      "\t* MultiDiGraph with 25158 nodes and 30847 edges\n",
      "Consolidating with tolerance 11m\n",
      "\t* MultiDiGraph with 23902 nodes and 29445 edges\n",
      "Consolidating with tolerance 12m\n",
      "\t* MultiDiGraph with 22771 nodes and 28187 edges\n",
      "Consolidating with tolerance 13m\n",
      "\t* MultiDiGraph with 21675 nodes and 26968 edges\n",
      "Consolidating with tolerance 14m\n",
      "\t* MultiDiGraph with 20711 nodes and 25894 edges\n",
      "Consolidating with tolerance 15m\n",
      "\t* MultiDiGraph with 19732 nodes and 24825 edges\n",
      "Consolidating with tolerance 16m\n",
      "\t* MultiDiGraph with 18815 nodes and 23757 edges\n",
      "Consolidating with tolerance 17m\n",
      "\t* MultiDiGraph with 17916 nodes and 22727 edges\n",
      "Consolidating with tolerance 18m\n",
      "\t* MultiDiGraph with 16995 nodes and 21704 edges\n",
      "Consolidating with tolerance 19m\n",
      "\t* MultiDiGraph with 16158 nodes and 20739 edges\n",
      "Consolidating with tolerance 20m\n",
      "\t* MultiDiGraph with 15384 nodes and 19849 edges\n"
     ]
    }
   ],
   "source": [
    "cons_dict = {}\n",
    "for tol in range(1, 21):\n",
    "    # consolidate graph\n",
    "    G_cons = ox.consolidate_intersections(\n",
    "        G=G_simp,\n",
    "        tolerance=tol,\n",
    "        rebuild_graph=True,\n",
    "        dead_ends=True,\n",
    "        reconnect_edges=True,\n",
    "    )\n",
    "    # derive consolidated edges\n",
    "    edges_cons = ox.graph_to_gdfs(G=G_cons, nodes=False, edges=True)\n",
    "    # save in cons_dict\n",
    "    cons_dict[tol] = {}\n",
    "    cons_dict[tol][\"graph\"] = G_cons\n",
    "    cons_dict[tol][\"edges\"] = edges_cons\n",
    "    print(utils.graph_size(f\"Consolidating with tolerance {tol}m\", G_cons))"
   ]
  },
  {
   "cell_type": "code",
   "execution_count": 9,
   "metadata": {
    "execution": {
     "iopub.execute_input": "2024-04-17T01:38:55.340431Z",
     "iopub.status.busy": "2024-04-17T01:38:55.340365Z",
     "iopub.status.idle": "2024-04-17T01:38:58.052340Z",
     "shell.execute_reply": "2024-04-17T01:38:58.052001Z",
     "shell.execute_reply.started": "2024-04-17T01:38:55.340424Z"
    }
   },
   "outputs": [],
   "source": [
    "for tol in cons_dict:\n",
    "    cons_dict[tol][\"nodes\"] = ox.graph_to_gdfs(\n",
    "        G=cons_dict[tol][\"graph\"], nodes=True, edges=False\n",
    "    )"
   ]
  },
  {
   "cell_type": "markdown",
   "metadata": {},
   "source": [
    "**Find examples** (see nb `usecases.ipynb`)\n",
    "\n",
    "**Check what happens for examples / use cases for different consolidation thresholds**\n",
    "\n",
    "Make plots and videos for each use case, for gradually increasing simplification threshold"
   ]
  },
  {
   "cell_type": "code",
   "execution_count": 10,
   "metadata": {
    "execution": {
     "iopub.execute_input": "2024-04-17T01:38:58.052750Z",
     "iopub.status.busy": "2024-04-17T01:38:58.052684Z",
     "iopub.status.idle": "2024-04-17T01:38:58.054925Z",
     "shell.execute_reply": "2024-04-17T01:38:58.054707Z",
     "shell.execute_reply.started": "2024-04-17T01:38:58.052744Z"
    }
   },
   "outputs": [
    {
     "data": {
      "text/plain": [
       "PosixPath('../usecases/1656')"
      ]
     },
     "execution_count": 10,
     "metadata": {},
     "output_type": "execute_result"
    }
   ],
   "source": [
    "points, fpath_base = utils.load_usecases(city)\n",
    "fpath_base"
   ]
  },
  {
   "cell_type": "code",
   "execution_count": 11,
   "metadata": {
    "execution": {
     "iopub.execute_input": "2024-04-17T01:38:58.055269Z",
     "iopub.status.busy": "2024-04-17T01:38:58.055204Z",
     "iopub.status.idle": "2024-04-17T01:38:58.057140Z",
     "shell.execute_reply": "2024-04-17T01:38:58.056924Z",
     "shell.execute_reply.started": "2024-04-17T01:38:58.055263Z"
    }
   },
   "outputs": [
    {
     "data": {
      "text/plain": [
       "PosixPath('../usecases/1656/osmnx')"
      ]
     },
     "execution_count": 11,
     "metadata": {},
     "output_type": "execute_result"
    }
   ],
   "source": [
    "package = \"osmnx\"\n",
    "fpath_pack = fpath_base / package\n",
    "fpath_pack"
   ]
  },
  {
   "cell_type": "code",
   "execution_count": 12,
   "metadata": {
    "execution": {
     "iopub.execute_input": "2024-04-17T01:38:58.057609Z",
     "iopub.status.busy": "2024-04-17T01:38:58.057536Z",
     "iopub.status.idle": "2024-04-17T01:40:20.374261Z",
     "shell.execute_reply": "2024-04-17T01:40:20.373962Z",
     "shell.execute_reply.started": "2024-04-17T01:38:58.057602Z"
    }
   },
   "outputs": [],
   "source": [
    "for _class, v in points.items():\n",
    "    mypoint = v[\"coords\"]\n",
    "    myclass = _class\n",
    "\n",
    "    # make subfolder for plot saving\n",
    "    fpath_class = fpath_pack / myclass\n",
    "    fpath_class.mkdir(parents=True, exist_ok=True)\n",
    "\n",
    "    # get center frame (for clipping)\n",
    "    center = gpd.GeoDataFrame(geometry=[Point(mypoint)], crs=\"epsg:4326\")\n",
    "    center = center.to_crs(gdf.crs)\n",
    "    center = center.buffer(250, cap_style=3)\n",
    "\n",
    "    # -------------------------------------------------------------------\n",
    "    # for each tolerance threshold\n",
    "    # MAKE PLOTS ------------------------------------------\n",
    "    for tol in cons_dict:\n",
    "        # make a plot\n",
    "        fig, ax = plt.subplots(1, 1, figsize=(8, 8))\n",
    "\n",
    "        edges = cons_dict[tol][\"edges\"]\n",
    "        nodes = cons_dict[tol][\"nodes\"]\n",
    "\n",
    "        # clip geometries to box\n",
    "        edges_clipped = edges.copy()\n",
    "        nodes_clipped = nodes.copy()\n",
    "        edges_clipped = edges_clipped.clip(center)\n",
    "        nodes_clipped = nodes_clipped.clip(center)\n",
    "\n",
    "        # plot\n",
    "        edges_clipped.plot(ax=ax, zorder=1, color=\"black\", linewidth=2)\n",
    "        nodes_clipped.plot(ax=ax, zorder=2, color=\"red\", markersize=15, alpha=0.9)\n",
    "        cx.add_basemap(ax=ax, source=cx.providers.CartoDB.Voyager, crs=gdf.crs)\n",
    "        ax.set_axis_off()\n",
    "        ax.set_title(f\"Tolerance {tol}m\")\n",
    "        plt.tight_layout()\n",
    "\n",
    "        # save to subfolder\n",
    "        fill_tol = f\"{tol:03d}\"\n",
    "        fig.savefig(fpath_class / f\"{fill_tol}.png\", dpi=300)\n",
    "        plt.close()\n",
    "\n",
    "    # MAKE VIDEOS -----------------------------------------\n",
    "    fps = 1\n",
    "    images = sorted(fpath_class.glob(\"*.png\"))\n",
    "    video_name = pathlib.Path(f\"{fpath_class}.mp4\")\n",
    "    frame = cv2.imread(str(images[0]))\n",
    "    height, width, layers = frame.shape\n",
    "    fourcc = cv2.VideoWriter_fourcc(*\"mp4v\")\n",
    "    video = cv2.VideoWriter(str(video_name), fourcc, fps, (width, height))\n",
    "    for image in images:\n",
    "        video.write(cv2.resize(cv2.imread(str(image)), (width, height)))\n",
    "    cv2.destroyAllWindows()\n",
    "    video.release()"
   ]
  }
 ],
 "metadata": {
  "kernelspec": {
   "display_name": "Python 3 (ipykernel)",
   "language": "python",
   "name": "python3"
  },
  "language_info": {
   "codemirror_mode": {
    "name": "ipython",
    "version": 3
   },
   "file_extension": ".py",
   "mimetype": "text/x-python",
   "name": "python",
   "nbconvert_exporter": "python",
   "pygments_lexer": "ipython3",
   "version": "3.11.8"
  }
 },
 "nbformat": 4,
 "nbformat_minor": 4
}
