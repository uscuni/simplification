{
 "cells": [
  {
   "cell_type": "markdown",
   "id": "07bfd607-b784-4fa9-a706-60084383e81a",
   "metadata": {},
   "source": [
    "# `nx_merge_parallel_edges()` with [`cityseer`](https://github.com/benchmark-urbanism/cityseer-api)\n",
    "\n",
    "* **Simons, G.** (2023). *The cityseer Python package for pedestrian-scale network-based urban analysis*. Environment and Planning B: Urban Analytics and City Science, 50(5), 1328-1344. https://doi.org/10.1177/23998083221133827\n",
    "\n",
    "-----------------\n",
    "\n",
    "1. Setup\n",
    "2. Prep work\n",
    "3. Experiment\n",
    "\n",
    "-----------------\n",
    "\n",
    "## 1. Setup"
   ]
  },
  {
   "cell_type": "code",
   "execution_count": 1,
   "id": "571e1dd3-ce27-4c26-a199-30da6e77ebb8",
   "metadata": {
    "execution": {
     "iopub.execute_input": "2024-04-18T18:22:12.687164Z",
     "iopub.status.busy": "2024-04-18T18:22:12.686981Z",
     "iopub.status.idle": "2024-04-18T18:22:12.712332Z",
     "shell.execute_reply": "2024-04-18T18:22:12.711976Z",
     "shell.execute_reply.started": "2024-04-18T18:22:12.687145Z"
    }
   },
   "outputs": [
    {
     "name": "stdout",
     "output_type": "stream",
     "text": [
      "Last updated: 2024-04-18T14:22:12.706164-04:00\n",
      "\n",
      "Python implementation: CPython\n",
      "Python version       : 3.11.8\n",
      "IPython version      : 8.22.2\n",
      "\n",
      "Compiler    : Clang 16.0.6 \n",
      "OS          : Darwin\n",
      "Release     : 23.4.0\n",
      "Machine     : arm64\n",
      "Processor   : arm\n",
      "CPU cores   : 8\n",
      "Architecture: 64bit\n",
      "\n"
     ]
    }
   ],
   "source": [
    "%load_ext watermark\n",
    "%watermark"
   ]
  },
  {
   "cell_type": "code",
   "execution_count": 2,
   "id": "f4ec78c3-cc55-4c1d-aef0-ed33b44b98b5",
   "metadata": {
    "execution": {
     "iopub.execute_input": "2024-04-18T18:22:12.713294Z",
     "iopub.status.busy": "2024-04-18T18:22:12.713170Z",
     "iopub.status.idle": "2024-04-18T18:22:17.051456Z",
     "shell.execute_reply": "2024-04-18T18:22:17.051238Z",
     "shell.execute_reply.started": "2024-04-18T18:22:12.713278Z"
    }
   },
   "outputs": [
    {
     "name": "stdout",
     "output_type": "stream",
     "text": [
      "Watermark: 2.4.3\n",
      "\n",
      "cityseer: 4.12.0\n",
      "momepy  : 0.7.1.dev29+g593fc8e\n",
      "\n"
     ]
    }
   ],
   "source": [
    "import cityseer  # noqa: F401\n",
    "import momepy\n",
    "import utils\n",
    "from cityseer.tools import graphs, io\n",
    "\n",
    "%watermark -w\n",
    "%watermark -iv"
   ]
  },
  {
   "cell_type": "markdown",
   "id": "5dd4cc4a-2185-483d-a61a-1e51c7e7bfd9",
   "metadata": {},
   "source": [
    "-----------------------------------------\n",
    "## 1. Setup"
   ]
  },
  {
   "cell_type": "markdown",
   "id": "ae1a3c13-d774-4d49-935c-06ca03209b40",
   "metadata": {},
   "source": [
    "* https://cityseer.benchmarkurbanism.com/tools/graphs#nx-merge-parallel-edges"
   ]
  },
  {
   "cell_type": "code",
   "execution_count": 3,
   "id": "961ffe2d-9f18-4532-b500-22154ce569c3",
   "metadata": {
    "execution": {
     "iopub.execute_input": "2024-04-18T18:22:17.052039Z",
     "iopub.status.busy": "2024-04-18T18:22:17.051890Z",
     "iopub.status.idle": "2024-04-18T18:22:17.054542Z",
     "shell.execute_reply": "2024-04-18T18:22:17.054365Z",
     "shell.execute_reply.started": "2024-04-18T18:22:17.052031Z"
    }
   },
   "outputs": [
    {
     "data": {
      "text/plain": [
       "1656"
      ]
     },
     "execution_count": 3,
     "metadata": {},
     "output_type": "execute_result"
    }
   ],
   "source": [
    "# city = \"Douala\"\n",
    "city = \"Liège\"\n",
    "utils.city_fua[city]"
   ]
  },
  {
   "cell_type": "code",
   "execution_count": 4,
   "id": "b9ae12c1-97fd-4c5e-bc9d-434242e54b57",
   "metadata": {
    "execution": {
     "iopub.execute_input": "2024-04-18T18:22:17.054923Z",
     "iopub.status.busy": "2024-04-18T18:22:17.054858Z",
     "iopub.status.idle": "2024-04-18T18:22:17.294413Z",
     "shell.execute_reply": "2024-04-18T18:22:17.294148Z",
     "shell.execute_reply.started": "2024-04-18T18:22:17.054916Z"
    }
   },
   "outputs": [],
   "source": [
    "roads_bare = utils.read_parquet_roads(utils.city_fua[city])\n",
    "crs = roads_bare.crs\n",
    "# roads_bare.to_crs(4326).to_file(\"TEMP_DOUALA.geojson\")\n",
    "# roads_bare.to_crs(4326).to_file(\"TEMP_LIEGE.geojson\")"
   ]
  },
  {
   "cell_type": "markdown",
   "id": "71a21223-efaf-4579-b330-207e8e9d02b7",
   "metadata": {},
   "source": [
    "## Prep `cityseer` graph\n",
    "* performs an initial 1-meter parallel edge buffer"
   ]
  },
  {
   "cell_type": "code",
   "execution_count": 5,
   "id": "51e454d4-a271-4a83-9e83-ac1d8a40d831",
   "metadata": {
    "execution": {
     "iopub.execute_input": "2024-04-18T18:22:17.295034Z",
     "iopub.status.busy": "2024-04-18T18:22:17.294955Z",
     "iopub.status.idle": "2024-04-18T18:22:20.467344Z",
     "shell.execute_reply": "2024-04-18T18:22:20.467115Z",
     "shell.execute_reply.started": "2024-04-18T18:22:17.295026Z"
    }
   },
   "outputs": [
    {
     "name": "stderr",
     "output_type": "stream",
     "text": [
      "INFO:cityseer.tools.graphs:Merging parallel edges within buffer of 1.\n",
      "100%|█████████████████████████████████████████████████████████████████████████████████████████████████| 105174/105174 [00:00<00:00, 364363.90it/s]"
     ]
    },
    {
     "name": "stdout",
     "output_type": "stream",
     "text": [
      "NetworkX Graph from CitySeer: Liège\n",
      "\t* MultiGraph with 98777 nodes and 105156 edges\n"
     ]
    },
    {
     "name": "stderr",
     "output_type": "stream",
     "text": [
      "\n"
     ]
    }
   ],
   "source": [
    "G = io.nx_from_generic_geopandas(roads_bare)\n",
    "print(utils.graph_size(f\"NetworkX Graph from CitySeer: {city}\", G))"
   ]
  },
  {
   "cell_type": "code",
   "execution_count": 6,
   "id": "1e237a2b-15a7-4dfb-a602-e7643cbe187a",
   "metadata": {
    "execution": {
     "iopub.execute_input": "2024-04-18T18:22:20.468579Z",
     "iopub.status.busy": "2024-04-18T18:22:20.468508Z",
     "iopub.status.idle": "2024-04-18T18:22:20.470436Z",
     "shell.execute_reply": "2024-04-18T18:22:20.470252Z",
     "shell.execute_reply.started": "2024-04-18T18:22:20.468570Z"
    }
   },
   "outputs": [
    {
     "name": "stdout",
     "output_type": "stream",
     "text": [
      "Help on function nx_merge_parallel_edges in module cityseer.tools.graphs:\n",
      "\n",
      "nx_merge_parallel_edges(nx_multigraph: 'MultiGraph', merge_edges_by_midline: 'bool', contains_buffer_dist: 'int') -> 'MultiGraph'\n",
      "    Check a MultiGraph for duplicate edges; which, if found, will be merged.\n",
      "    \n",
      "    The shortest of these parallel edges is selected and buffered by `contains_buffer_dist`. If this buffer contains an\n",
      "    adjacent edge, then the adjacent edge is merged. Edges falling outside this buffer are retained.\n",
      "    \n",
      "    When candidate edges are found for merging, they are replaced by a single new edge. The new geometry selected from\n",
      "    either:\n",
      "    - An imaginary centreline of the combined edges if `merge_edges_by_midline` is set to `True`;\n",
      "    - Else, the shortest edge is retained, with longer edges discarded.\n",
      "    \n",
      "    Parameters\n",
      "    ----------\n",
      "    nx_multigraph: MultiGraph\n",
      "        A `networkX` `MultiGraph` in a projected coordinate system, containing `x` and `y` node attributes, and `geom`\n",
      "        edge attributes containing `LineString` geoms.\n",
      "    merge_edges_by_midline: bool\n",
      "        Whether to merge parallel edges by an imaginary centreline. If set to False, then the shortest edge will be\n",
      "        retained as the new geometry and the longer edges will be discarded. Defaults to True.\n",
      "    contains_buffer_dist: int\n",
      "        The buffer distance to consider when checking if parallel edges sharing the same start and end nodes are\n",
      "        sufficiently adjacent to be merged.\n",
      "    \n",
      "    Returns\n",
      "    -------\n",
      "    MultiGraph\n",
      "        A `networkX` `MultiGraph` with consolidated nodes.\n",
      "\n",
      "None\n"
     ]
    }
   ],
   "source": [
    "print(help(graphs.nx_merge_parallel_edges))"
   ]
  },
  {
   "cell_type": "markdown",
   "id": "bd8efc17-b80e-448b-a8f9-478a2a9ed602",
   "metadata": {},
   "source": [
    "## Experiement params\n",
    "* only `merge_edges_by_midline = True`\n",
    "* `contains_buffer_dists` of 1m (from default) to 100m, by 5m"
   ]
  },
  {
   "cell_type": "code",
   "execution_count": 7,
   "id": "305501bd-3ee4-49c4-adf3-3059c9bf550b",
   "metadata": {
    "execution": {
     "iopub.execute_input": "2024-04-18T18:22:20.470829Z",
     "iopub.status.busy": "2024-04-18T18:22:20.470764Z",
     "iopub.status.idle": "2024-04-18T18:22:20.472271Z",
     "shell.execute_reply": "2024-04-18T18:22:20.472076Z",
     "shell.execute_reply.started": "2024-04-18T18:22:20.470821Z"
    }
   },
   "outputs": [],
   "source": [
    "merge_edges_by_midline = True\n",
    "contains_buffer_dists = list(range(5, 101, 5))"
   ]
  },
  {
   "cell_type": "markdown",
   "id": "d8c21de5-4205-4059-98d3-a3a8c1088c85",
   "metadata": {},
   "source": [
    "----------------\n",
    "\n",
    "## 3. Experiment"
   ]
  },
  {
   "cell_type": "code",
   "execution_count": 8,
   "id": "c502b796-fb45-4ab1-9d84-1b42f863a333",
   "metadata": {
    "execution": {
     "iopub.execute_input": "2024-04-18T18:22:20.472755Z",
     "iopub.status.busy": "2024-04-18T18:22:20.472691Z",
     "iopub.status.idle": "2024-04-18T18:23:43.201275Z",
     "shell.execute_reply": "2024-04-18T18:23:43.200954Z",
     "shell.execute_reply.started": "2024-04-18T18:22:20.472748Z"
    }
   },
   "outputs": [
    {
     "name": "stderr",
     "output_type": "stream",
     "text": [
      "INFO:cityseer.tools.graphs:Merging parallel edges within buffer of 5.\n",
      "100%|█████████████████████████████████████████████████████████████████████████████████████████████████| 105156/105156 [00:00<00:00, 335976.54it/s]\n",
      "INFO:cityseer.tools.io:Preparing node and edge arrays from networkX graph.\n"
     ]
    },
    {
     "name": "stdout",
     "output_type": "stream",
     "text": [
      "CitySeer - merged parallel edges\n",
      "  city='Liège' - contains_buffer_dist=5\n",
      "\t* MultiGraph with 98777 nodes and 105156 edges\n"
     ]
    },
    {
     "name": "stderr",
     "output_type": "stream",
     "text": [
      "INFO:cityseer.tools.graphs:Merging parallel edges within buffer of 10.\n",
      "100%|█████████████████████████████████████████████████████████████████████████████████████████████████| 105156/105156 [00:00<00:00, 572882.14it/s]\n",
      "INFO:cityseer.tools.io:Preparing node and edge arrays from networkX graph.\n"
     ]
    },
    {
     "name": "stdout",
     "output_type": "stream",
     "text": [
      "CitySeer - merged parallel edges\n",
      "  city='Liège' - contains_buffer_dist=10\n",
      "\t* MultiGraph with 98777 nodes and 105156 edges\n"
     ]
    },
    {
     "name": "stderr",
     "output_type": "stream",
     "text": [
      "INFO:cityseer.tools.graphs:Merging parallel edges within buffer of 15.\n",
      "100%|█████████████████████████████████████████████████████████████████████████████████████████████████| 105156/105156 [00:00<00:00, 218416.03it/s]\n",
      "INFO:cityseer.tools.io:Preparing node and edge arrays from networkX graph.\n"
     ]
    },
    {
     "name": "stdout",
     "output_type": "stream",
     "text": [
      "CitySeer - merged parallel edges\n",
      "  city='Liège' - contains_buffer_dist=15\n",
      "\t* MultiGraph with 98777 nodes and 105156 edges\n"
     ]
    },
    {
     "name": "stderr",
     "output_type": "stream",
     "text": [
      "INFO:cityseer.tools.graphs:Merging parallel edges within buffer of 20.\n",
      "100%|█████████████████████████████████████████████████████████████████████████████████████████████████| 105156/105156 [00:00<00:00, 214243.39it/s]\n",
      "INFO:cityseer.tools.io:Preparing node and edge arrays from networkX graph.\n"
     ]
    },
    {
     "name": "stdout",
     "output_type": "stream",
     "text": [
      "CitySeer - merged parallel edges\n",
      "  city='Liège' - contains_buffer_dist=20\n",
      "\t* MultiGraph with 98777 nodes and 105156 edges\n"
     ]
    },
    {
     "name": "stderr",
     "output_type": "stream",
     "text": [
      "INFO:cityseer.tools.graphs:Merging parallel edges within buffer of 25.\n",
      "100%|█████████████████████████████████████████████████████████████████████████████████████████████████| 105156/105156 [00:00<00:00, 562517.91it/s]\n",
      "INFO:cityseer.tools.io:Preparing node and edge arrays from networkX graph.\n"
     ]
    },
    {
     "name": "stdout",
     "output_type": "stream",
     "text": [
      "CitySeer - merged parallel edges\n",
      "  city='Liège' - contains_buffer_dist=25\n",
      "\t* MultiGraph with 98777 nodes and 105156 edges\n"
     ]
    },
    {
     "name": "stderr",
     "output_type": "stream",
     "text": [
      "INFO:cityseer.tools.graphs:Merging parallel edges within buffer of 30.\n",
      "100%|█████████████████████████████████████████████████████████████████████████████████████████████████| 105156/105156 [00:00<00:00, 550805.97it/s]\n",
      "INFO:cityseer.tools.io:Preparing node and edge arrays from networkX graph.\n"
     ]
    },
    {
     "name": "stdout",
     "output_type": "stream",
     "text": [
      "CitySeer - merged parallel edges\n",
      "  city='Liège' - contains_buffer_dist=30\n",
      "\t* MultiGraph with 98777 nodes and 105156 edges\n"
     ]
    },
    {
     "name": "stderr",
     "output_type": "stream",
     "text": [
      "INFO:cityseer.tools.graphs:Merging parallel edges within buffer of 35.\n",
      "100%|█████████████████████████████████████████████████████████████████████████████████████████████████| 105156/105156 [00:00<00:00, 211413.45it/s]\n",
      "INFO:cityseer.tools.io:Preparing node and edge arrays from networkX graph.\n"
     ]
    },
    {
     "name": "stdout",
     "output_type": "stream",
     "text": [
      "CitySeer - merged parallel edges\n",
      "  city='Liège' - contains_buffer_dist=35\n",
      "\t* MultiGraph with 98777 nodes and 105156 edges\n"
     ]
    },
    {
     "name": "stderr",
     "output_type": "stream",
     "text": [
      "INFO:cityseer.tools.graphs:Merging parallel edges within buffer of 40.\n",
      "100%|█████████████████████████████████████████████████████████████████████████████████████████████████| 105156/105156 [00:00<00:00, 563844.69it/s]\n",
      "INFO:cityseer.tools.io:Preparing node and edge arrays from networkX graph.\n"
     ]
    },
    {
     "name": "stdout",
     "output_type": "stream",
     "text": [
      "CitySeer - merged parallel edges\n",
      "  city='Liège' - contains_buffer_dist=40\n",
      "\t* MultiGraph with 98777 nodes and 105156 edges\n"
     ]
    },
    {
     "name": "stderr",
     "output_type": "stream",
     "text": [
      "INFO:cityseer.tools.graphs:Merging parallel edges within buffer of 45.\n",
      "100%|█████████████████████████████████████████████████████████████████████████████████████████████████| 105156/105156 [00:00<00:00, 553254.61it/s]\n",
      "INFO:cityseer.tools.io:Preparing node and edge arrays from networkX graph.\n"
     ]
    },
    {
     "name": "stdout",
     "output_type": "stream",
     "text": [
      "CitySeer - merged parallel edges\n",
      "  city='Liège' - contains_buffer_dist=45\n",
      "\t* MultiGraph with 98777 nodes and 105156 edges\n"
     ]
    },
    {
     "name": "stderr",
     "output_type": "stream",
     "text": [
      "INFO:cityseer.tools.graphs:Merging parallel edges within buffer of 50.\n",
      "100%|█████████████████████████████████████████████████████████████████████████████████████████████████| 105156/105156 [00:00<00:00, 196732.70it/s]\n",
      "INFO:cityseer.tools.io:Preparing node and edge arrays from networkX graph.\n"
     ]
    },
    {
     "name": "stdout",
     "output_type": "stream",
     "text": [
      "CitySeer - merged parallel edges\n",
      "  city='Liège' - contains_buffer_dist=50\n",
      "\t* MultiGraph with 98777 nodes and 105156 edges\n"
     ]
    },
    {
     "name": "stderr",
     "output_type": "stream",
     "text": [
      "INFO:cityseer.tools.graphs:Merging parallel edges within buffer of 55.\n",
      "100%|█████████████████████████████████████████████████████████████████████████████████████████████████| 105156/105156 [00:00<00:00, 196957.87it/s]\n",
      "INFO:cityseer.tools.io:Preparing node and edge arrays from networkX graph.\n"
     ]
    },
    {
     "name": "stdout",
     "output_type": "stream",
     "text": [
      "CitySeer - merged parallel edges\n",
      "  city='Liège' - contains_buffer_dist=55\n",
      "\t* MultiGraph with 98777 nodes and 105156 edges\n"
     ]
    },
    {
     "name": "stderr",
     "output_type": "stream",
     "text": [
      "INFO:cityseer.tools.graphs:Merging parallel edges within buffer of 60.\n",
      "100%|█████████████████████████████████████████████████████████████████████████████████████████████████| 105156/105156 [00:00<00:00, 198130.19it/s]\n",
      "INFO:cityseer.tools.io:Preparing node and edge arrays from networkX graph.\n"
     ]
    },
    {
     "name": "stdout",
     "output_type": "stream",
     "text": [
      "CitySeer - merged parallel edges\n",
      "  city='Liège' - contains_buffer_dist=60\n",
      "\t* MultiGraph with 98777 nodes and 105156 edges\n"
     ]
    },
    {
     "name": "stderr",
     "output_type": "stream",
     "text": [
      "INFO:cityseer.tools.graphs:Merging parallel edges within buffer of 65.\n",
      "100%|█████████████████████████████████████████████████████████████████████████████████████████████████| 105156/105156 [00:00<00:00, 196517.60it/s]\n",
      "INFO:cityseer.tools.io:Preparing node and edge arrays from networkX graph.\n"
     ]
    },
    {
     "name": "stdout",
     "output_type": "stream",
     "text": [
      "CitySeer - merged parallel edges\n",
      "  city='Liège' - contains_buffer_dist=65\n",
      "\t* MultiGraph with 98777 nodes and 105156 edges\n"
     ]
    },
    {
     "name": "stderr",
     "output_type": "stream",
     "text": [
      "INFO:cityseer.tools.graphs:Merging parallel edges within buffer of 70.\n",
      "100%|█████████████████████████████████████████████████████████████████████████████████████████████████| 105156/105156 [00:00<00:00, 188388.15it/s]\n",
      "INFO:cityseer.tools.io:Preparing node and edge arrays from networkX graph.\n"
     ]
    },
    {
     "name": "stdout",
     "output_type": "stream",
     "text": [
      "CitySeer - merged parallel edges\n",
      "  city='Liège' - contains_buffer_dist=70\n",
      "\t* MultiGraph with 98777 nodes and 105156 edges\n"
     ]
    },
    {
     "name": "stderr",
     "output_type": "stream",
     "text": [
      "INFO:cityseer.tools.graphs:Merging parallel edges within buffer of 75.\n",
      "100%|█████████████████████████████████████████████████████████████████████████████████████████████████| 105156/105156 [00:00<00:00, 557945.19it/s]\n",
      "INFO:cityseer.tools.io:Preparing node and edge arrays from networkX graph.\n"
     ]
    },
    {
     "name": "stdout",
     "output_type": "stream",
     "text": [
      "CitySeer - merged parallel edges\n",
      "  city='Liège' - contains_buffer_dist=75\n",
      "\t* MultiGraph with 98777 nodes and 105156 edges\n"
     ]
    },
    {
     "name": "stderr",
     "output_type": "stream",
     "text": [
      "INFO:cityseer.tools.graphs:Merging parallel edges within buffer of 80.\n",
      "100%|█████████████████████████████████████████████████████████████████████████████████████████████████| 105156/105156 [00:00<00:00, 137421.80it/s]\n",
      "INFO:cityseer.tools.io:Preparing node and edge arrays from networkX graph.\n"
     ]
    },
    {
     "name": "stdout",
     "output_type": "stream",
     "text": [
      "CitySeer - merged parallel edges\n",
      "  city='Liège' - contains_buffer_dist=80\n",
      "\t* MultiGraph with 98777 nodes and 105156 edges\n"
     ]
    },
    {
     "name": "stderr",
     "output_type": "stream",
     "text": [
      "INFO:cityseer.tools.graphs:Merging parallel edges within buffer of 85.\n",
      "100%|█████████████████████████████████████████████████████████████████████████████████████████████████| 105156/105156 [00:00<00:00, 566347.62it/s]\n",
      "INFO:cityseer.tools.io:Preparing node and edge arrays from networkX graph.\n"
     ]
    },
    {
     "name": "stdout",
     "output_type": "stream",
     "text": [
      "CitySeer - merged parallel edges\n",
      "  city='Liège' - contains_buffer_dist=85\n",
      "\t* MultiGraph with 98777 nodes and 105156 edges\n"
     ]
    },
    {
     "name": "stderr",
     "output_type": "stream",
     "text": [
      "INFO:cityseer.tools.graphs:Merging parallel edges within buffer of 90.\n",
      "100%|█████████████████████████████████████████████████████████████████████████████████████████████████| 105156/105156 [00:00<00:00, 554068.47it/s]\n",
      "INFO:cityseer.tools.io:Preparing node and edge arrays from networkX graph.\n"
     ]
    },
    {
     "name": "stdout",
     "output_type": "stream",
     "text": [
      "CitySeer - merged parallel edges\n",
      "  city='Liège' - contains_buffer_dist=90\n",
      "\t* MultiGraph with 98777 nodes and 105156 edges\n"
     ]
    },
    {
     "name": "stderr",
     "output_type": "stream",
     "text": [
      "INFO:cityseer.tools.graphs:Merging parallel edges within buffer of 95.\n",
      "100%|█████████████████████████████████████████████████████████████████████████████████████████████████| 105156/105156 [00:00<00:00, 556163.78it/s]\n",
      "INFO:cityseer.tools.io:Preparing node and edge arrays from networkX graph.\n"
     ]
    },
    {
     "name": "stdout",
     "output_type": "stream",
     "text": [
      "CitySeer - merged parallel edges\n",
      "  city='Liège' - contains_buffer_dist=95\n",
      "\t* MultiGraph with 98777 nodes and 105156 edges\n"
     ]
    },
    {
     "name": "stderr",
     "output_type": "stream",
     "text": [
      "INFO:cityseer.tools.graphs:Merging parallel edges within buffer of 100.\n",
      "100%|█████████████████████████████████████████████████████████████████████████████████████████████████| 105156/105156 [00:00<00:00, 174346.17it/s]\n",
      "INFO:cityseer.tools.io:Preparing node and edge arrays from networkX graph.\n"
     ]
    },
    {
     "name": "stdout",
     "output_type": "stream",
     "text": [
      "CitySeer - merged parallel edges\n",
      "  city='Liège' - contains_buffer_dist=100\n",
      "\t* MultiGraph with 98777 nodes and 105156 edges\n"
     ]
    }
   ],
   "source": [
    "buff_dict = {}\n",
    "\n",
    "# ana's style results recorder\n",
    "for contains_buffer_dist in contains_buffer_dists:\n",
    "    buff_dict[contains_buffer_dist] = {}\n",
    "\n",
    "    # run ``nx_merge_parallel_edges``\n",
    "    merge_args = G.copy(), merge_edges_by_midline, contains_buffer_dist\n",
    "    G_merged = graphs.nx_merge_parallel_edges(*merge_args)\n",
    "\n",
    "    # diagnostic\n",
    "    _ginfo = f\"CitySeer - merged parallel edges\\n  {city=} - {contains_buffer_dist=}\"\n",
    "    print(utils.graph_size(_ginfo, G_merged))\n",
    "\n",
    "    # conversion from ``cityseer`` format to ``momepy``/``geopandas``\n",
    "    cs_gdf = io.geopandas_from_nx(G_merged, crs=crs).rename_geometry(\"geometry\")\n",
    "    mm_nx = momepy.gdf_to_nx(cs_gdf, integer_labels=True)\n",
    "    nodes, edges = momepy.nx_to_gdf(mm_nx)\n",
    "\n",
    "    nodes = nodes[[\"nodeID\", \"geometry\"]].copy()\n",
    "    edges = edges[[\"node_start\", \"node_end\"]].copy()\n",
    "\n",
    "    buff_dict[contains_buffer_dist][\"nodes\"] = nodes\n",
    "    buff_dict[contains_buffer_dist][\"edges\"] = edges"
   ]
  },
  {
   "cell_type": "markdown",
   "id": "8fb19815-cde4-4748-a76c-b0b914363641",
   "metadata": {},
   "source": [
    "-----------------------------------"
   ]
  }
 ],
 "metadata": {
  "gist_info": {
   "create_date": "2024-01-22T01:48:06Z",
   "gist_id": "582dc1f207054a861eda93e975713b4b",
   "gist_url": "https://gist.github.com/jGaboardi/582dc1f207054a861eda93e975713b4b"
  },
  "kernelspec": {
   "display_name": "Python 3 (ipykernel)",
   "language": "python",
   "name": "python3"
  },
  "language_info": {
   "codemirror_mode": {
    "name": "ipython",
    "version": 3
   },
   "file_extension": ".py",
   "mimetype": "text/x-python",
   "name": "python",
   "nbconvert_exporter": "python",
   "pygments_lexer": "ipython3",
   "version": "3.11.8"
  }
 },
 "nbformat": 4,
 "nbformat_minor": 5
}
