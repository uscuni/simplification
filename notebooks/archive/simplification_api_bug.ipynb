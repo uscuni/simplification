{
 "cells": [
  {
   "cell_type": "markdown",
   "metadata": {},
   "source": [
    "# Simplification API\n",
    "\n",
    "Ideal API of the simplification, all wrapped to a single function."
   ]
  },
  {
   "cell_type": "code",
   "execution_count": 1,
   "metadata": {},
   "outputs": [],
   "source": [
    "import logging\n",
    "import warnings\n",
    "\n",
    "import folium\n",
    "import geopandas as gpd\n",
    "\n",
    "from core import algorithms, utils"
   ]
  },
  {
   "cell_type": "markdown",
   "metadata": {},
   "source": [
    "Filter out the RuntimeWarning showing on Apple Silicon."
   ]
  },
  {
   "cell_type": "code",
   "execution_count": 2,
   "metadata": {},
   "outputs": [],
   "source": [
    "warnings.filterwarnings(\n",
    "    \"ignore\",\n",
    "    category=RuntimeWarning,\n",
    "    message=\"invalid value encountered in intersection\",\n",
    ")"
   ]
  },
  {
   "cell_type": "markdown",
   "metadata": {},
   "source": [
    "Set logging level to debug to see the debugging messages."
   ]
  },
  {
   "cell_type": "code",
   "execution_count": 3,
   "metadata": {},
   "outputs": [],
   "source": [
    "# # Get the logger for core.algorithms.simplify\n",
    "# logger = logging.getLogger('core.algorithms.simplify')\n",
    "# logger.setLevel(logging.DEBUG)\n",
    "\n",
    "# # Set the logging format\n",
    "# formatter = logging.Formatter('%(asctime)s - %(name)s - %(levelname)s - %(message)s')\n",
    "\n",
    "# # Create a handler for the logger\n",
    "# handler = logging.StreamHandler()\n",
    "# handler.setLevel(logging.DEBUG)\n",
    "# handler.setFormatter(formatter)\n",
    "\n",
    "# # Add the handler to the logger\n",
    "# logger.addHandler(handler)"
   ]
  },
  {
   "cell_type": "markdown",
   "metadata": {},
   "source": [
    "Specify case metadata"
   ]
  },
  {
   "cell_type": "code",
   "execution_count": 4,
   "metadata": {},
   "outputs": [],
   "source": [
    "case = \"85283473fffffff\""
   ]
  },
  {
   "cell_type": "markdown",
   "metadata": {},
   "source": [
    "Read road data"
   ]
  },
  {
   "cell_type": "code",
   "execution_count": 5,
   "metadata": {},
   "outputs": [],
   "source": [
    "roads = gpd.read_file(f\"../data/{case}/edges.gpkg\")"
   ]
  },
  {
   "cell_type": "markdown",
   "metadata": {},
   "source": [
    "Roads doesn't contain duplicates. exploding here, but error message still appears."
   ]
  },
  {
   "cell_type": "code",
   "execution_count": 8,
   "metadata": {},
   "outputs": [
    {
     "data": {
      "text/plain": [
       "False"
      ]
     },
     "execution_count": 8,
     "metadata": {},
     "output_type": "execute_result"
    }
   ],
   "source": [
    "any(roads.duplicated())"
   ]
  },
  {
   "cell_type": "code",
   "execution_count": 9,
   "metadata": {},
   "outputs": [
    {
     "data": {
      "text/html": [
       "<div>\n",
       "<style scoped>\n",
       "    .dataframe tbody tr th:only-of-type {\n",
       "        vertical-align: middle;\n",
       "    }\n",
       "\n",
       "    .dataframe tbody tr th {\n",
       "        vertical-align: top;\n",
       "    }\n",
       "\n",
       "    .dataframe thead th {\n",
       "        text-align: right;\n",
       "    }\n",
       "</style>\n",
       "<table border=\"1\" class=\"dataframe\">\n",
       "  <thead>\n",
       "    <tr style=\"text-align: right;\">\n",
       "      <th></th>\n",
       "      <th>geometry</th>\n",
       "    </tr>\n",
       "  </thead>\n",
       "  <tbody>\n",
       "    <tr>\n",
       "      <th>0</th>\n",
       "      <td>LINESTRING (-1926332.941 -590722.852, -1926329...</td>\n",
       "    </tr>\n",
       "    <tr>\n",
       "      <th>1</th>\n",
       "      <td>LINESTRING (-1926352.107 -592745.633, -1926352...</td>\n",
       "    </tr>\n",
       "    <tr>\n",
       "      <th>2</th>\n",
       "      <td>LINESTRING (-1926348.409 -593595.568, -1926339...</td>\n",
       "    </tr>\n",
       "    <tr>\n",
       "      <th>3</th>\n",
       "      <td>LINESTRING (-1926348.409 -593595.568, -1926402...</td>\n",
       "    </tr>\n",
       "    <tr>\n",
       "      <th>4</th>\n",
       "      <td>LINESTRING (-1926348.409 -593595.568, -1926335...</td>\n",
       "    </tr>\n",
       "  </tbody>\n",
       "</table>\n",
       "</div>"
      ],
      "text/plain": [
       "                                            geometry\n",
       "0  LINESTRING (-1926332.941 -590722.852, -1926329...\n",
       "1  LINESTRING (-1926352.107 -592745.633, -1926352...\n",
       "2  LINESTRING (-1926348.409 -593595.568, -1926339...\n",
       "3  LINESTRING (-1926348.409 -593595.568, -1926402...\n",
       "4  LINESTRING (-1926348.409 -593595.568, -1926335..."
      ]
     },
     "execution_count": 9,
     "metadata": {},
     "output_type": "execute_result"
    }
   ],
   "source": [
    "roads = roads.explode().reset_index(drop=True)\n",
    "roads.head()"
   ]
  },
  {
   "cell_type": "markdown",
   "metadata": {},
   "source": [
    "Simplify network"
   ]
  },
  {
   "cell_type": "code",
   "execution_count": 10,
   "metadata": {},
   "outputs": [
    {
     "name": "stderr",
     "output_type": "stream",
     "text": [
      "/Users/anvy/Library/CloudStorage/OneDrive-ITU/projects/simplification/core/algorithms/simplify.py:525: UserWarning: An error occured at location POINT (-1920601.6435387495 -596829.9739112958). The artifact has not been simplified. The original message:\n",
      "can only convert an array of size 1 to a Python scalar\n",
      "  roads = simplify_singletons(\n",
      "/Users/anvy/Library/CloudStorage/OneDrive-ITU/projects/simplification/core/algorithms/nodes.py:109: RuntimeWarning: The given network consists of multiple geometry types. This can lead to unexpected behaviour. The intended usage of the conversion function is with networks made of LineStrings only.\n",
      "  momepy.node_degree(momepy.gdf_to_nx(aggregated[[aggregated.geometry.name]])),\n"
     ]
    },
    {
     "ename": "NotImplementedError",
     "evalue": "Sub-geometries may have coordinate sequences, but multi-part geometries do not",
     "output_type": "error",
     "traceback": [
      "\u001b[0;31m---------------------------------------------------------------------------\u001b[0m",
      "\u001b[0;31mNotImplementedError\u001b[0m                       Traceback (most recent call last)",
      "Cell \u001b[0;32mIn[10], line 1\u001b[0m\n\u001b[0;32m----> 1\u001b[0m new_roads \u001b[38;5;241m=\u001b[39m \u001b[43malgorithms\u001b[49m\u001b[38;5;241;43m.\u001b[39;49m\u001b[43msimplify\u001b[49m\u001b[38;5;241;43m.\u001b[39;49m\u001b[43msimplify_network\u001b[49m\u001b[43m(\u001b[49m\u001b[43mroads\u001b[49m\u001b[43m)\u001b[49m\n",
      "File \u001b[0;32m~/Library/CloudStorage/OneDrive-ITU/projects/simplification/core/algorithms/simplify.py:457\u001b[0m, in \u001b[0;36msimplify_network\u001b[0;34m(roads, max_segment_length, min_dangle_length, limit_distance, simplification_factor, consolidation_tolerance, area_threshold_blocks, isoareal_threshold_blocks, area_threshold_circles, isoareal_threshold_circles, eps, exclusion_mask, predicate)\u001b[0m\n\u001b[1;32m    446\u001b[0m artifacts, threshold \u001b[38;5;241m=\u001b[39m get_artifacts(\n\u001b[1;32m    447\u001b[0m     roads,\n\u001b[1;32m    448\u001b[0m     area_threshold_blocks\u001b[38;5;241m=\u001b[39marea_threshold_blocks,\n\u001b[0;32m   (...)\u001b[0m\n\u001b[1;32m    453\u001b[0m     predicate\u001b[38;5;241m=\u001b[39mpredicate,\n\u001b[1;32m    454\u001b[0m )\n\u001b[1;32m    456\u001b[0m \u001b[38;5;66;03m# Loop 1\u001b[39;00m\n\u001b[0;32m--> 457\u001b[0m new_roads \u001b[38;5;241m=\u001b[39m \u001b[43msimplify_loop\u001b[49m\u001b[43m(\u001b[49m\n\u001b[1;32m    458\u001b[0m \u001b[43m    \u001b[49m\u001b[43mroads\u001b[49m\u001b[43m,\u001b[49m\n\u001b[1;32m    459\u001b[0m \u001b[43m    \u001b[49m\u001b[43martifacts\u001b[49m\u001b[43m,\u001b[49m\n\u001b[1;32m    460\u001b[0m \u001b[43m    \u001b[49m\u001b[43mmax_segment_length\u001b[49m\u001b[38;5;241;43m=\u001b[39;49m\u001b[43mmax_segment_length\u001b[49m\u001b[43m,\u001b[49m\n\u001b[1;32m    461\u001b[0m \u001b[43m    \u001b[49m\u001b[43mmin_dangle_length\u001b[49m\u001b[38;5;241;43m=\u001b[39;49m\u001b[43mmin_dangle_length\u001b[49m\u001b[43m,\u001b[49m\n\u001b[1;32m    462\u001b[0m \u001b[43m    \u001b[49m\u001b[43mlimit_distance\u001b[49m\u001b[38;5;241;43m=\u001b[39;49m\u001b[43mlimit_distance\u001b[49m\u001b[43m,\u001b[49m\n\u001b[1;32m    463\u001b[0m \u001b[43m    \u001b[49m\u001b[43msimplification_factor\u001b[49m\u001b[38;5;241;43m=\u001b[39;49m\u001b[43msimplification_factor\u001b[49m\u001b[43m,\u001b[49m\n\u001b[1;32m    464\u001b[0m \u001b[43m    \u001b[49m\u001b[43mconsolidation_tolerance\u001b[49m\u001b[38;5;241;43m=\u001b[39;49m\u001b[43mconsolidation_tolerance\u001b[49m\u001b[43m,\u001b[49m\n\u001b[1;32m    465\u001b[0m \u001b[43m    \u001b[49m\u001b[43meps\u001b[49m\u001b[38;5;241;43m=\u001b[39;49m\u001b[43meps\u001b[49m\u001b[43m,\u001b[49m\n\u001b[1;32m    466\u001b[0m \u001b[43m\u001b[49m\u001b[43m)\u001b[49m\n\u001b[1;32m    468\u001b[0m \u001b[38;5;66;03m# Identify artifacts based on the first loop network\u001b[39;00m\n\u001b[1;32m    469\u001b[0m artifacts, _ \u001b[38;5;241m=\u001b[39m get_artifacts(\n\u001b[1;32m    470\u001b[0m     new_roads,\n\u001b[1;32m    471\u001b[0m     threshold\u001b[38;5;241m=\u001b[39mthreshold,\n\u001b[0;32m   (...)\u001b[0m\n\u001b[1;32m    477\u001b[0m     predicate\u001b[38;5;241m=\u001b[39mpredicate,\n\u001b[1;32m    478\u001b[0m )\n",
      "File \u001b[0;32m~/Library/CloudStorage/OneDrive-ITU/projects/simplification/core/algorithms/simplify.py:525\u001b[0m, in \u001b[0;36msimplify_loop\u001b[0;34m(roads, artifacts, max_segment_length, min_dangle_length, limit_distance, simplification_factor, consolidation_tolerance, eps)\u001b[0m\n\u001b[1;32m    522\u001b[0m clusters \u001b[38;5;241m=\u001b[39m artifacts\u001b[38;5;241m.\u001b[39mloc[artifacts[\u001b[38;5;124m\"\u001b[39m\u001b[38;5;124mcomp\u001b[39m\u001b[38;5;124m\"\u001b[39m]\u001b[38;5;241m.\u001b[39misin(counts[counts \u001b[38;5;241m>\u001b[39m \u001b[38;5;241m2\u001b[39m]\u001b[38;5;241m.\u001b[39mindex)]\u001b[38;5;241m.\u001b[39mcopy()\n\u001b[1;32m    524\u001b[0m \u001b[38;5;28;01mif\u001b[39;00m \u001b[38;5;129;01mnot\u001b[39;00m singles\u001b[38;5;241m.\u001b[39mempty:\n\u001b[0;32m--> 525\u001b[0m     roads \u001b[38;5;241m=\u001b[39m \u001b[43msimplify_singletons\u001b[49m\u001b[43m(\u001b[49m\n\u001b[1;32m    526\u001b[0m \u001b[43m        \u001b[49m\u001b[43msingles\u001b[49m\u001b[43m,\u001b[49m\n\u001b[1;32m    527\u001b[0m \u001b[43m        \u001b[49m\u001b[43mroads\u001b[49m\u001b[43m,\u001b[49m\n\u001b[1;32m    528\u001b[0m \u001b[43m        \u001b[49m\u001b[43mmax_segment_length\u001b[49m\u001b[38;5;241;43m=\u001b[39;49m\u001b[43mmax_segment_length\u001b[49m\u001b[43m,\u001b[49m\n\u001b[1;32m    529\u001b[0m \u001b[43m        \u001b[49m\u001b[43msimplification_factor\u001b[49m\u001b[38;5;241;43m=\u001b[39;49m\u001b[43msimplification_factor\u001b[49m\u001b[43m,\u001b[49m\n\u001b[1;32m    530\u001b[0m \u001b[43m        \u001b[49m\u001b[43mconsolidation_tolerance\u001b[49m\u001b[38;5;241;43m=\u001b[39;49m\u001b[43mconsolidation_tolerance\u001b[49m\u001b[43m,\u001b[49m\n\u001b[1;32m    531\u001b[0m \u001b[43m    \u001b[49m\u001b[43m)\u001b[49m\n\u001b[1;32m    532\u001b[0m \u001b[38;5;28;01mif\u001b[39;00m \u001b[38;5;129;01mnot\u001b[39;00m doubles\u001b[38;5;241m.\u001b[39mempty:\n\u001b[1;32m    533\u001b[0m     roads \u001b[38;5;241m=\u001b[39m simplify_pairs(\n\u001b[1;32m    534\u001b[0m         doubles,\n\u001b[1;32m    535\u001b[0m         roads,\n\u001b[0;32m   (...)\u001b[0m\n\u001b[1;32m    540\u001b[0m         consolidation_tolerance\u001b[38;5;241m=\u001b[39mconsolidation_tolerance,\n\u001b[1;32m    541\u001b[0m     )\n",
      "File \u001b[0;32m~/Library/CloudStorage/OneDrive-ITU/projects/simplification/core/algorithms/simplify.py:157\u001b[0m, in \u001b[0;36msimplify_singletons\u001b[0;34m(artifacts, roads, max_segment_length, compute_coins, min_dangle_length, eps, limit_distance, simplification_factor, consolidation_tolerance)\u001b[0m\n\u001b[1;32m    152\u001b[0m     new\u001b[38;5;241m.\u001b[39mgeometry \u001b[38;5;241m=\u001b[39m new\u001b[38;5;241m.\u001b[39msimplify(max_segment_length \u001b[38;5;241m*\u001b[39m simplification_factor)\n\u001b[1;32m    153\u001b[0m     new_roads \u001b[38;5;241m=\u001b[39m pd\u001b[38;5;241m.\u001b[39mconcat(\n\u001b[1;32m    154\u001b[0m         [cleaned_roads, new],\n\u001b[1;32m    155\u001b[0m         ignore_index\u001b[38;5;241m=\u001b[39m\u001b[38;5;28;01mTrue\u001b[39;00m,\n\u001b[1;32m    156\u001b[0m     )\n\u001b[0;32m--> 157\u001b[0m     new_roads \u001b[38;5;241m=\u001b[39m \u001b[43mremove_false_nodes\u001b[49m\u001b[43m(\u001b[49m\n\u001b[1;32m    158\u001b[0m \u001b[43m        \u001b[49m\u001b[43mnew_roads\u001b[49m\u001b[43m[\u001b[49m\u001b[38;5;241;43m~\u001b[39;49m\u001b[43m(\u001b[49m\u001b[43mnew_roads\u001b[49m\u001b[38;5;241;43m.\u001b[39;49m\u001b[43mis_empty\u001b[49m\u001b[43m \u001b[49m\u001b[38;5;241;43m|\u001b[39;49m\u001b[43m \u001b[49m\u001b[43mnew_roads\u001b[49m\u001b[38;5;241;43m.\u001b[39;49m\u001b[43mgeometry\u001b[49m\u001b[38;5;241;43m.\u001b[39;49m\u001b[43misna\u001b[49m\u001b[43m(\u001b[49m\u001b[43m)\u001b[49m\u001b[43m)\u001b[49m\u001b[43m]\u001b[49m\u001b[43m,\u001b[49m\n\u001b[1;32m    159\u001b[0m \u001b[43m        \u001b[49m\u001b[43maggfunc\u001b[49m\u001b[38;5;241;43m=\u001b[39;49m\u001b[43m{\u001b[49m\u001b[38;5;124;43m\"\u001b[39;49m\u001b[38;5;124;43m_status\u001b[39;49m\u001b[38;5;124;43m\"\u001b[39;49m\u001b[43m:\u001b[49m\u001b[43m \u001b[49m\u001b[43m_status\u001b[49m\u001b[43m}\u001b[49m\u001b[43m,\u001b[49m\n\u001b[1;32m    160\u001b[0m \u001b[43m    \u001b[49m\u001b[43m)\u001b[49m\n\u001b[1;32m    162\u001b[0m     \u001b[38;5;28;01mreturn\u001b[39;00m new_roads\n\u001b[1;32m    163\u001b[0m \u001b[38;5;28;01melse\u001b[39;00m:\n",
      "File \u001b[0;32m~/Library/CloudStorage/OneDrive-ITU/projects/simplification/core/algorithms/nodes.py:109\u001b[0m, in \u001b[0;36mremove_false_nodes\u001b[0;34m(gdf, aggfunc, **kwargs)\u001b[0m\n\u001b[1;32m    105\u001b[0m \u001b[38;5;66;03m# Recombine\u001b[39;00m\n\u001b[1;32m    106\u001b[0m aggregated \u001b[38;5;241m=\u001b[39m aggregated_geometry\u001b[38;5;241m.\u001b[39mjoin(aggregated_data)\n\u001b[1;32m    108\u001b[0m nodes \u001b[38;5;241m=\u001b[39m momepy\u001b[38;5;241m.\u001b[39mnx_to_gdf(\n\u001b[0;32m--> 109\u001b[0m     momepy\u001b[38;5;241m.\u001b[39mnode_degree(\u001b[43mmomepy\u001b[49m\u001b[38;5;241;43m.\u001b[39;49m\u001b[43mgdf_to_nx\u001b[49m\u001b[43m(\u001b[49m\u001b[43maggregated\u001b[49m\u001b[43m[\u001b[49m\u001b[43m[\u001b[49m\u001b[43maggregated\u001b[49m\u001b[38;5;241;43m.\u001b[39;49m\u001b[43mgeometry\u001b[49m\u001b[38;5;241;43m.\u001b[39;49m\u001b[43mname\u001b[49m\u001b[43m]\u001b[49m\u001b[43m]\u001b[49m\u001b[43m)\u001b[49m),\n\u001b[1;32m    110\u001b[0m     lines\u001b[38;5;241m=\u001b[39m\u001b[38;5;28;01mFalse\u001b[39;00m,\n\u001b[1;32m    111\u001b[0m )\n\u001b[1;32m    112\u001b[0m loop_mask \u001b[38;5;241m=\u001b[39m aggregated\u001b[38;5;241m.\u001b[39mis_ring\n\u001b[1;32m    113\u001b[0m loops \u001b[38;5;241m=\u001b[39m aggregated[loop_mask]\n",
      "File \u001b[0;32m~/anaconda3/envs/simplification/lib/python3.11/site-packages/momepy/utils.py:361\u001b[0m, in \u001b[0;36mgdf_to_nx\u001b[0;34m(gdf_network, approach, length, multigraph, directed, angles, angle, oneway_column, integer_labels, preserve_index)\u001b[0m\n\u001b[1;32m    356\u001b[0m     \u001b[38;5;28;01mif\u001b[39;00m oneway_column \u001b[38;5;129;01mand\u001b[39;00m \u001b[38;5;129;01mnot\u001b[39;00m directed:\n\u001b[1;32m    357\u001b[0m         \u001b[38;5;28;01mraise\u001b[39;00m \u001b[38;5;167;01mValueError\u001b[39;00m(\n\u001b[1;32m    358\u001b[0m             \u001b[38;5;124m\"\u001b[39m\u001b[38;5;124mBidirectional lines are only supported for directed graphs.\u001b[39m\u001b[38;5;124m\"\u001b[39m\n\u001b[1;32m    359\u001b[0m         )\n\u001b[0;32m--> 361\u001b[0m     \u001b[43m_generate_primal\u001b[49m\u001b[43m(\u001b[49m\n\u001b[1;32m    362\u001b[0m \u001b[43m        \u001b[49m\u001b[43mnet\u001b[49m\u001b[43m,\u001b[49m\n\u001b[1;32m    363\u001b[0m \u001b[43m        \u001b[49m\u001b[43mgdf_network\u001b[49m\u001b[43m,\u001b[49m\n\u001b[1;32m    364\u001b[0m \u001b[43m        \u001b[49m\u001b[43mfields\u001b[49m\u001b[43m,\u001b[49m\n\u001b[1;32m    365\u001b[0m \u001b[43m        \u001b[49m\u001b[43mmultigraph\u001b[49m\u001b[43m,\u001b[49m\n\u001b[1;32m    366\u001b[0m \u001b[43m        \u001b[49m\u001b[43moneway_column\u001b[49m\u001b[43m,\u001b[49m\n\u001b[1;32m    367\u001b[0m \u001b[43m        \u001b[49m\u001b[43mpreserve_index\u001b[49m\u001b[38;5;241;43m=\u001b[39;49m\u001b[43mpreserve_index\u001b[49m\u001b[43m,\u001b[49m\n\u001b[1;32m    368\u001b[0m \u001b[43m    \u001b[49m\u001b[43m)\u001b[49m\n\u001b[1;32m    370\u001b[0m \u001b[38;5;28;01melif\u001b[39;00m approach \u001b[38;5;241m==\u001b[39m \u001b[38;5;124m\"\u001b[39m\u001b[38;5;124mdual\u001b[39m\u001b[38;5;124m\"\u001b[39m:\n\u001b[1;32m    371\u001b[0m     \u001b[38;5;28;01mif\u001b[39;00m directed:\n",
      "File \u001b[0;32m~/anaconda3/envs/simplification/lib/python3.11/site-packages/momepy/utils.py:145\u001b[0m, in \u001b[0;36m_generate_primal\u001b[0;34m(graph, gdf_network, fields, multigraph, oneway_column, preserve_index)\u001b[0m\n\u001b[1;32m    142\u001b[0m custom_index \u001b[38;5;241m=\u001b[39m \u001b[38;5;129;01mnot\u001b[39;00m gdf_network\u001b[38;5;241m.\u001b[39mindex\u001b[38;5;241m.\u001b[39mequals(pd\u001b[38;5;241m.\u001b[39mRangeIndex(\u001b[38;5;28mlen\u001b[39m(gdf_network)))\n\u001b[1;32m    144\u001b[0m \u001b[38;5;28;01mfor\u001b[39;00m i, row \u001b[38;5;129;01min\u001b[39;00m \u001b[38;5;28menumerate\u001b[39m(gdf_network\u001b[38;5;241m.\u001b[39mitertuples()):\n\u001b[0;32m--> 145\u001b[0m     first \u001b[38;5;241m=\u001b[39m \u001b[43mrow\u001b[49m\u001b[38;5;241;43m.\u001b[39;49m\u001b[43mgeometry\u001b[49m\u001b[38;5;241;43m.\u001b[39;49m\u001b[43mcoords\u001b[49m[\u001b[38;5;241m0\u001b[39m]\n\u001b[1;32m    146\u001b[0m     last \u001b[38;5;241m=\u001b[39m row\u001b[38;5;241m.\u001b[39mgeometry\u001b[38;5;241m.\u001b[39mcoords[\u001b[38;5;241m-\u001b[39m\u001b[38;5;241m1\u001b[39m]\n\u001b[1;32m    148\u001b[0m     data \u001b[38;5;241m=\u001b[39m \u001b[38;5;28mlist\u001b[39m(row)[\u001b[38;5;241m1\u001b[39m:]\n",
      "File \u001b[0;32m~/anaconda3/envs/simplification/lib/python3.11/site-packages/shapely/geometry/base.py:927\u001b[0m, in \u001b[0;36mBaseMultipartGeometry.coords\u001b[0;34m(self)\u001b[0m\n\u001b[1;32m    925\u001b[0m \u001b[38;5;129m@property\u001b[39m\n\u001b[1;32m    926\u001b[0m \u001b[38;5;28;01mdef\u001b[39;00m \u001b[38;5;21mcoords\u001b[39m(\u001b[38;5;28mself\u001b[39m):\n\u001b[0;32m--> 927\u001b[0m     \u001b[38;5;28;01mraise\u001b[39;00m \u001b[38;5;167;01mNotImplementedError\u001b[39;00m(\n\u001b[1;32m    928\u001b[0m         \u001b[38;5;124m\"\u001b[39m\u001b[38;5;124mSub-geometries may have coordinate sequences, \u001b[39m\u001b[38;5;124m\"\u001b[39m\n\u001b[1;32m    929\u001b[0m         \u001b[38;5;124m\"\u001b[39m\u001b[38;5;124mbut multi-part geometries do not\u001b[39m\u001b[38;5;124m\"\u001b[39m\n\u001b[1;32m    930\u001b[0m     )\n",
      "\u001b[0;31mNotImplementedError\u001b[0m: Sub-geometries may have coordinate sequences, but multi-part geometries do not"
     ]
    }
   ],
   "source": [
    "new_roads = algorithms.simplify.simplify_network(roads)"
   ]
  },
  {
   "cell_type": "markdown",
   "metadata": {},
   "source": [
    "Visualise"
   ]
  },
  {
   "cell_type": "code",
   "execution_count": null,
   "metadata": {},
   "outputs": [],
   "source": [
    "# m = roads.explore(max_zoom=52, tiles=\"cartodb positron\", color=\"black\", prefer_canvas=True)\n",
    "# m = new_roads.explore(\"_status\", m=m, highlight_kwds=dict(color='red'))\n",
    "# folium.LayerControl().add_to(m)\n",
    "# m"
   ]
  }
 ],
 "metadata": {
  "kernelspec": {
   "display_name": "Python 3 (ipykernel)",
   "language": "python",
   "name": "python3"
  },
  "language_info": {
   "codemirror_mode": {
    "name": "ipython",
    "version": 3
   },
   "file_extension": ".py",
   "mimetype": "text/x-python",
   "name": "python",
   "nbconvert_exporter": "python",
   "pygments_lexer": "ipython3",
   "version": "3.11.10"
  }
 },
 "nbformat": 4,
 "nbformat_minor": 4
}
