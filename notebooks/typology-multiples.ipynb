{
 "cells": [
  {
   "cell_type": "markdown",
   "metadata": {},
   "source": [
    "# Workflow for n-artifact clusters\n",
    "\n",
    "1. **additional artifacts**: \n",
    "\n",
    "(a) completely surrounded by artifacts --> artifacts themselves\n",
    "\n",
    "(b) contiguous to an artifact (or artifact cluster?) and with an artifact index NEAR the artifact index for that city\n",
    "\n",
    "2. Identify n-artifact clusters (clusters of contiguous artifacts, n>2); make sure that the union has no interior\n",
    "3. For each cluster, drop all the interior lines and skeletonize\n",
    "4. Visualize to see if it works"
   ]
  },
  {
   "cell_type": "markdown",
   "metadata": {},
   "source": [
    "- number of nodes\n",
    "- number of continuity groups\n",
    "- filter non-planarity artifacts\n",
    "- CES counts\n",
    "- prime detection\n",
    "- crosses detection\n",
    "- touches detecion"
   ]
  },
  {
   "cell_type": "code",
   "execution_count": 1,
   "metadata": {},
   "outputs": [],
   "source": [
    "import geopandas as gpd\n",
    "import matplotlib.pyplot as plt\n",
    "import momepy\n",
    "import numpy as np\n",
    "import pandas as pd\n",
    "import shapely\n",
    "from libpysal import graph\n",
    "from scipy import sparse\n",
    "import folium\n",
    "import folium.plugins as plugins\n",
    "import shapely\n",
    "\n",
    "from core import algorithms, utils\n",
    "from core.geometry import voronoi_skeleton"
   ]
  },
  {
   "cell_type": "markdown",
   "metadata": {},
   "source": [
    "Specify case metadata"
   ]
  },
  {
   "cell_type": "code",
   "execution_count": 2,
   "metadata": {},
   "outputs": [],
   "source": [
    "case = \"Liège\""
   ]
  },
  {
   "cell_type": "markdown",
   "metadata": {},
   "source": [
    "Read road data"
   ]
  },
  {
   "cell_type": "code",
   "execution_count": 3,
   "metadata": {},
   "outputs": [],
   "source": [
    "roads = utils.read_parquet_roads(case)"
   ]
  },
  {
   "cell_type": "markdown",
   "metadata": {},
   "source": [
    "Remove duplicated roads"
   ]
  },
  {
   "cell_type": "code",
   "execution_count": 4,
   "metadata": {},
   "outputs": [],
   "source": [
    "roads = momepy.remove_false_nodes(roads)\n",
    "roads = roads[~roads.geometry.duplicated()].reset_index()\n",
    "roads = momepy.remove_false_nodes(roads)"
   ]
  },
  {
   "cell_type": "markdown",
   "metadata": {},
   "source": [
    "Assign COINS-based information to roads"
   ]
  },
  {
   "cell_type": "code",
   "execution_count": 5,
   "metadata": {},
   "outputs": [],
   "source": [
    "# %%time\n",
    "roads, coins = algorithms.common.continuity(roads)"
   ]
  },
  {
   "cell_type": "markdown",
   "metadata": {},
   "source": [
    "Read **polygons**"
   ]
  },
  {
   "cell_type": "code",
   "execution_count": 6,
   "metadata": {},
   "outputs": [],
   "source": [
    "fas = momepy.FaceArtifacts(roads)\n",
    "polygons = fas.polygons.set_crs(roads.crs)"
   ]
  },
  {
   "cell_type": "markdown",
   "metadata": {},
   "source": [
    "**Iteratively identify polygons that are fully enclosed by artifacts, or that touch artifacts and have a FAI in +1% of threshold, as artifacts**  "
   ]
  },
  {
   "cell_type": "code",
   "execution_count": 7,
   "metadata": {},
   "outputs": [],
   "source": [
    "# rook neighbors\n",
    "rook = graph.Graph.build_contiguity(polygons, rook=True)\n",
    "polygons['neighbors'] = rook.neighbors\n",
    "prop = 1.01\n",
    "\n",
    "# polygons are not artifacts,\n",
    "polygons[\"is_artifact\"] = False\n",
    "# unless the fai is below the threshold,\n",
    "polygons.loc[polygons.face_artifact_index < fas.threshold, \"is_artifact\"] = True\n",
    "\n",
    "# OR (iteratively)\n",
    "\n",
    "while True:\n",
    "\n",
    "    artifact_count_before = sum(polygons.is_artifact)\n",
    "\n",
    "    # polygons that are enclosed by artifacts\n",
    "    polygons[\"enclosed\"] = polygons.apply(\n",
    "        lambda x: len(x.neighbors)>0 and all(polygons.loc[list(x.neighbors), \"is_artifact\"]), \n",
    "        axis = 1\n",
    "    )\n",
    "    # setting is_artifact to True\n",
    "    polygons.loc[polygons.enclosed, \"is_artifact\"] = True\n",
    "\n",
    "    # polygons that are touching artifacts and within x% of fai\n",
    "    polygons[\"touching\"] = polygons.apply(\n",
    "        lambda x: len(x.neighbors)>0 and any(polygons.loc[list(x.neighbors), \"is_artifact\"]), \n",
    "        axis = 1\n",
    "    )\n",
    "\n",
    "    # setting is_artifact to True\n",
    "    polygons.loc[\n",
    "        (polygons.touching == True) & (polygons.face_artifact_index < fas.threshold * prop),\n",
    "        \"is_artifact\"\n",
    "    ] = True\n",
    "\n",
    "    artifact_count_after = sum(polygons.is_artifact)\n",
    "    if artifact_count_after == artifact_count_before:\n",
    "        break"
   ]
  },
  {
   "cell_type": "code",
   "execution_count": 8,
   "metadata": {},
   "outputs": [
    {
     "name": "stdout",
     "output_type": "stream",
     "text": [
      "3662\n"
     ]
    }
   ],
   "source": [
    "print(artifact_count_after)"
   ]
  },
  {
   "cell_type": "code",
   "execution_count": 9,
   "metadata": {},
   "outputs": [],
   "source": [
    "# m = roads.explore(\n",
    "#     \"coins_len\",\n",
    "#     k=20,\n",
    "#     scheme=\"quantiles\",\n",
    "#     tiles=\"cartodb positron\",\n",
    "#     prefer_canvas=True,\n",
    "#     name=\"Roads\",\n",
    "#     highlight_kwds={\"color\": \"red\"},\n",
    "#     style_kwds=dict(weight=5),\n",
    "#     max_zoom=52,\n",
    "#     opacity=0.5,\n",
    "# )\n",
    "# polygons[polygons.is_artifact].explore(m=m, name = \"All artifacts\", color = \"red\")\n",
    "# polygons[polygons.face_artifact_index < fas.threshold].explore(m=m, name = \"Initial artifacts\", color = \"green\")\n",
    "# #nodes.explore(m=m, name=\"Nodes\", color=\"blue\", marker_size=250)\n",
    "# folium.LayerControl().add_to(m)\n",
    "# plugins.MousePosition().add_to(m)\n",
    "\n",
    "# m"
   ]
  },
  {
   "cell_type": "markdown",
   "metadata": {},
   "source": [
    "**Get artifacts gdf**"
   ]
  },
  {
   "cell_type": "code",
   "execution_count": 10,
   "metadata": {},
   "outputs": [
    {
     "data": {
      "text/html": [
       "<div>\n",
       "<style scoped>\n",
       "    .dataframe tbody tr th:only-of-type {\n",
       "        vertical-align: middle;\n",
       "    }\n",
       "\n",
       "    .dataframe tbody tr th {\n",
       "        vertical-align: top;\n",
       "    }\n",
       "\n",
       "    .dataframe thead th {\n",
       "        text-align: right;\n",
       "    }\n",
       "</style>\n",
       "<table border=\"1\" class=\"dataframe\">\n",
       "  <thead>\n",
       "    <tr style=\"text-align: right;\">\n",
       "      <th></th>\n",
       "      <th>geometry</th>\n",
       "      <th>id</th>\n",
       "    </tr>\n",
       "  </thead>\n",
       "  <tbody>\n",
       "    <tr>\n",
       "      <th>0</th>\n",
       "      <td>POLYGON ((687053.642 5615820.989, 687059.393 5...</td>\n",
       "      <td>0</td>\n",
       "    </tr>\n",
       "    <tr>\n",
       "      <th>2</th>\n",
       "      <td>POLYGON ((687053.642 5615820.989, 687051.723 5...</td>\n",
       "      <td>2</td>\n",
       "    </tr>\n",
       "    <tr>\n",
       "      <th>4</th>\n",
       "      <td>POLYGON ((677400.757 5613704.998, 677429.096 5...</td>\n",
       "      <td>4</td>\n",
       "    </tr>\n",
       "    <tr>\n",
       "      <th>7</th>\n",
       "      <td>POLYGON ((682353.554 5612410.841, 682350.603 5...</td>\n",
       "      <td>7</td>\n",
       "    </tr>\n",
       "    <tr>\n",
       "      <th>10</th>\n",
       "      <td>POLYGON ((685360.558 5609766.62, 685359.515 56...</td>\n",
       "      <td>10</td>\n",
       "    </tr>\n",
       "  </tbody>\n",
       "</table>\n",
       "</div>"
      ],
      "text/plain": [
       "                                             geometry  id\n",
       "0   POLYGON ((687053.642 5615820.989, 687059.393 5...   0\n",
       "2   POLYGON ((687053.642 5615820.989, 687051.723 5...   2\n",
       "4   POLYGON ((677400.757 5613704.998, 677429.096 5...   4\n",
       "7   POLYGON ((682353.554 5612410.841, 682350.603 5...   7\n",
       "10  POLYGON ((685360.558 5609766.62, 685359.515 56...  10"
      ]
     },
     "execution_count": 10,
     "metadata": {},
     "output_type": "execute_result"
    }
   ],
   "source": [
    "artifacts = polygons[polygons.is_artifact][[\"geometry\"]].copy()\n",
    "artifacts[\"id\"] = artifacts.index\n",
    "artifacts.head()"
   ]
  },
  {
   "cell_type": "markdown",
   "metadata": {},
   "source": [
    "Remove edges fully within the artifact (dangles)."
   ]
  },
  {
   "cell_type": "code",
   "execution_count": 11,
   "metadata": {},
   "outputs": [],
   "source": [
    "a_idx, _ = roads.sindex.query(artifacts.geometry, predicate=\"contains\")\n",
    "artifacts = artifacts.drop(artifacts.index[a_idx])"
   ]
  },
  {
   "cell_type": "markdown",
   "metadata": {},
   "source": [
    "Get nodes from the network."
   ]
  },
  {
   "cell_type": "code",
   "execution_count": 12,
   "metadata": {},
   "outputs": [],
   "source": [
    "nodes = momepy.nx_to_gdf(momepy.node_degree(momepy.gdf_to_nx(roads)), lines=False)"
   ]
  },
  {
   "cell_type": "markdown",
   "metadata": {},
   "source": [
    "Link nodes to artifacts"
   ]
  },
  {
   "cell_type": "code",
   "execution_count": 13,
   "metadata": {},
   "outputs": [],
   "source": [
    "node_idx, artifact_idx = artifacts.sindex.query(\n",
    "    nodes.buffer(0.1), predicate=\"intersects\"\n",
    ")\n",
    "intersects = sparse.coo_array(\n",
    "    ([True] * len(node_idx), (node_idx, artifact_idx)),\n",
    "    shape=(len(nodes), len(artifacts)),\n",
    "    dtype=np.bool_,\n",
    ")"
   ]
  },
  {
   "cell_type": "markdown",
   "metadata": {},
   "source": [
    "Compute number of nodes per artifact"
   ]
  },
  {
   "cell_type": "code",
   "execution_count": 14,
   "metadata": {},
   "outputs": [],
   "source": [
    "artifacts[\"node_count\"] = intersects.sum(axis=0)"
   ]
  },
  {
   "cell_type": "markdown",
   "metadata": {},
   "source": [
    "Apply additional filters to remove artifacts that are not suitable for simplification. These may be artifacts that:\n",
    "- are too large in size\n",
    "- are part of a larger intersection that may need different methods of simplification"
   ]
  },
  {
   "cell_type": "code",
   "execution_count": 15,
   "metadata": {},
   "outputs": [],
   "source": [
    "area_threshold = 1250  # this is hard to determine but it can be done iteratively using different thresholds\n",
    "circular_compactness_threshold = 0.15  # same as above\n",
    "\n",
    "rook = graph.Graph.build_contiguity(artifacts, rook=True)"
   ]
  },
  {
   "cell_type": "markdown",
   "metadata": {},
   "source": [
    "**keeping only size n>2 clusters!**"
   ]
  },
  {
   "cell_type": "code",
   "execution_count": 16,
   "metadata": {},
   "outputs": [],
   "source": [
    "artifacts['comp'] = rook.component_labels\n",
    "counts = artifacts['comp'].value_counts()\n",
    "artifacts = artifacts.loc[artifacts['comp'].isin(counts[counts>2].index)].copy()"
   ]
  },
  {
   "cell_type": "markdown",
   "metadata": {},
   "source": [
    "Compute number of stroke groups per artifact."
   ]
  },
  {
   "cell_type": "code",
   "execution_count": 17,
   "metadata": {},
   "outputs": [],
   "source": [
    "# def _get_stroke_info(artifacts, roads):\n",
    "#     strokes = []\n",
    "#     c_ = []\n",
    "#     e_ = []\n",
    "#     s_ = []\n",
    "#     for geom in artifacts.geometry:\n",
    "#         singles = 0\n",
    "#         ends = 0\n",
    "#         edges = roads.iloc[roads.sindex.query(geom, predicate=\"covers\")]\n",
    "#         if (  # roundabout special case\n",
    "#             edges.coins_group.nunique() == 1\n",
    "#             and edges.shape[0] == edges.coins_count.iloc[0]\n",
    "#         ):\n",
    "#             singles = 1\n",
    "#             mains = 0\n",
    "#         else:\n",
    "#             all_ends = edges[edges.coins_end]\n",
    "#             mains = edges[\n",
    "#                 ~edges.coins_group.isin(all_ends.coins_group)\n",
    "#             ].coins_group.nunique()\n",
    "\n",
    "#             visited = []\n",
    "#             for coins_count, group in zip(\n",
    "#                 all_ends.coins_count, all_ends.coins_group, strict=True\n",
    "#             ):\n",
    "#                 if (group not in visited) and (\n",
    "#                     coins_count == (edges.coins_group == group).sum()\n",
    "#                 ):\n",
    "#                     singles += 1\n",
    "#                     visited.append(group)\n",
    "#                 elif group not in visited:\n",
    "#                     ends += 1\n",
    "#                     # do not add to visited as they may be disjoint within the artifact\n",
    "#         strokes.append(edges.coins_group.nunique())\n",
    "#         c_.append(mains)\n",
    "#         e_.append(ends)\n",
    "#         s_.append(singles)\n",
    "#     return strokes, c_, e_, s_\n",
    "\n",
    "\n",
    "# strokes, c_, e_, s_ = _get_stroke_info(artifacts, roads)\n",
    "# artifacts[\"stroke_count\"] = strokes\n",
    "# artifacts[\"C\"] = c_\n",
    "# artifacts[\"E\"] = e_\n",
    "# artifacts[\"S\"] = s_"
   ]
  },
  {
   "cell_type": "markdown",
   "metadata": {},
   "source": [
    "Filer artifacts caused by non-planar intersections."
   ]
  },
  {
   "cell_type": "code",
   "execution_count": 18,
   "metadata": {},
   "outputs": [],
   "source": [
    "# artifacts[\"non_planar\"] = artifacts[\"stroke_count\"] > artifacts[\"node_count\"]\n",
    "# a_idx, r_idx = roads.sindex.query(artifacts.geometry.boundary, predicate=\"overlaps\")\n",
    "# artifacts.iloc[np.unique(a_idx), -1] = True"
   ]
  },
  {
   "cell_type": "markdown",
   "metadata": {},
   "source": [
    "**(not removing) the clusters that contain at least one non-planar component** (we will deal with them later, ...?)"
   ]
  },
  {
   "cell_type": "code",
   "execution_count": 19,
   "metadata": {},
   "outputs": [],
   "source": [
    "# # non_planar_cluster: number of non-planar artifacts per cluster\n",
    "# artifacts[\"non_planar_cluster\"] = artifacts.apply(lambda x: sum(artifacts.loc[artifacts[\"comp\"]==x.comp][\"non_planar\"]), axis = 1)\n",
    "# # dealing with the non-planar later!\n",
    "# artifacts = artifacts[artifacts.non_planar_cluster == 0].copy()"
   ]
  },
  {
   "cell_type": "markdown",
   "metadata": {},
   "source": [
    "Count intersititial nodes (primes)."
   ]
  },
  {
   "cell_type": "code",
   "execution_count": 20,
   "metadata": {},
   "outputs": [],
   "source": [
    "# artifacts[\"interstitial_nodes\"] = artifacts.node_count - artifacts[[\"C\", \"E\", \"S\"]].sum(\n",
    "#     axis=1\n",
    "# )"
   ]
  },
  {
   "cell_type": "markdown",
   "metadata": {},
   "source": [
    "Define the type label."
   ]
  },
  {
   "cell_type": "code",
   "execution_count": 21,
   "metadata": {},
   "outputs": [],
   "source": [
    "# ces_type = []\n",
    "# for x in artifacts[[\"node_count\", \"C\", \"E\", \"S\"]].itertuples():\n",
    "#     ces_type.append(f\"{x.node_count}{'C' * x.C}{'E' * x.E}{'S' * x.S}\")\n",
    "# artifacts[\"ces_type\"] = ces_type"
   ]
  },
  {
   "cell_type": "code",
   "execution_count": 22,
   "metadata": {},
   "outputs": [
    {
     "data": {
      "text/html": [
       "<div>\n",
       "<style scoped>\n",
       "    .dataframe tbody tr th:only-of-type {\n",
       "        vertical-align: middle;\n",
       "    }\n",
       "\n",
       "    .dataframe tbody tr th {\n",
       "        vertical-align: top;\n",
       "    }\n",
       "\n",
       "    .dataframe thead th {\n",
       "        text-align: right;\n",
       "    }\n",
       "</style>\n",
       "<table border=\"1\" class=\"dataframe\">\n",
       "  <thead>\n",
       "    <tr style=\"text-align: right;\">\n",
       "      <th></th>\n",
       "      <th>geometry</th>\n",
       "      <th>id</th>\n",
       "      <th>node_count</th>\n",
       "      <th>comp</th>\n",
       "    </tr>\n",
       "  </thead>\n",
       "  <tbody>\n",
       "    <tr>\n",
       "      <th>2</th>\n",
       "      <td>POLYGON ((687053.642 5615820.989, 687051.723 5...</td>\n",
       "      <td>2</td>\n",
       "      <td>8</td>\n",
       "      <td>0</td>\n",
       "    </tr>\n",
       "    <tr>\n",
       "      <th>12</th>\n",
       "      <td>POLYGON ((681630.974 5612736.531, 681632.875 5...</td>\n",
       "      <td>12</td>\n",
       "      <td>5</td>\n",
       "      <td>5</td>\n",
       "    </tr>\n",
       "    <tr>\n",
       "      <th>13</th>\n",
       "      <td>POLYGON ((681632.875 5612756.622, 681630.974 5...</td>\n",
       "      <td>13</td>\n",
       "      <td>4</td>\n",
       "      <td>5</td>\n",
       "    </tr>\n",
       "    <tr>\n",
       "      <th>15</th>\n",
       "      <td>POLYGON ((684239.346 5610285.862, 684307.976 5...</td>\n",
       "      <td>15</td>\n",
       "      <td>6</td>\n",
       "      <td>5</td>\n",
       "    </tr>\n",
       "    <tr>\n",
       "      <th>16</th>\n",
       "      <td>POLYGON ((684239.346 5610285.862, 684229.9 561...</td>\n",
       "      <td>16</td>\n",
       "      <td>2</td>\n",
       "      <td>5</td>\n",
       "    </tr>\n",
       "  </tbody>\n",
       "</table>\n",
       "</div>"
      ],
      "text/plain": [
       "                                             geometry  id  node_count  comp\n",
       "2   POLYGON ((687053.642 5615820.989, 687051.723 5...   2           8     0\n",
       "12  POLYGON ((681630.974 5612736.531, 681632.875 5...  12           5     5\n",
       "13  POLYGON ((681632.875 5612756.622, 681630.974 5...  13           4     5\n",
       "15  POLYGON ((684239.346 5610285.862, 684307.976 5...  15           6     5\n",
       "16  POLYGON ((684239.346 5610285.862, 684229.9 561...  16           2     5"
      ]
     },
     "execution_count": 22,
     "metadata": {},
     "output_type": "execute_result"
    }
   ],
   "source": [
    "artifacts.head()"
   ]
  },
  {
   "cell_type": "markdown",
   "metadata": {},
   "source": [
    "**Skeletonization**"
   ]
  },
  {
   "cell_type": "code",
   "execution_count": 30,
   "metadata": {},
   "outputs": [
    {
     "data": {
      "image/png": "[encoded data removed]",
      "text/plain": [
       "<Figure size 1000x1000 with 1 Axes>"
      ]
     },
     "metadata": {},
     "output_type": "display_data"
    }
   ],
   "source": [
    "mycomp = 5\n",
    "\n",
    "# get the cluster polygon\n",
    "cluster_geom = artifacts[artifacts.comp == mycomp].union_all()\n",
    "\n",
    "# find road segments WITHIN cluster polygon (to be dropped)\n",
    "edges_outside = roads.iloc[roads.sindex.query(cluster_geom.boundary, predicate=\"covers\")].copy()\n",
    "\n",
    "# find road segments DELINEATING cluster polygon (to be partially merged, and kept)\n",
    "edges_within = roads.iloc[roads.sindex.query(cluster_geom, predicate = \"contains\")].copy()\n",
    "\n",
    "# find nodes ON the cluster polygon boundary (to be partially kept)\n",
    "nodes_boundary = nodes.iloc[nodes.sindex.query(cluster_geom.boundary, predicate=\"intersects\")].copy()\n",
    "\n",
    "### determining which nodes to keep, by degree:\n",
    "# count number of inner line road segments that intersect with each node\n",
    "nodes_boundary[\"inner_line_count\"] = nodes_boundary.geometry.apply(\n",
    "    lambda x: len(edges_within.sindex.query(x, predicate=\"intersects\"))\n",
    ")\n",
    "# count how many more edges are at that node (subtracting the x inner lines and the 2 from the boundary)\n",
    "# if to_keep = 0 (i.e. degree is inner_lines + 2), this is an interstitial node and we want to drop it\n",
    "# if to_keep >= 1 we want to keep it\n",
    "nodes_boundary[\"to_keep\"] = nodes_boundary.degree - nodes_boundary.inner_line_count - 2\n",
    "\n",
    "# visualize to check if all is correct\n",
    "fig, ax = plt.subplots(1,1, figsize = (10,10))\n",
    "roads.iloc[roads.sindex.query(cluster_geom, predicate=\"intersects\")].plot(ax=ax, alpha = .1)\n",
    "artifacts[artifacts.comp == mycomp].plot(ax=ax, alpha = .1, zorder = 0)\n",
    "edges_outside.plot(ax=ax, color = \"grey\", zorder = 1)\n",
    "edges_within.plot(ax=ax, color = \"grey\", alpha = .1, zorder = 2)\n",
    "nodes_boundary.to_keep = nodes_boundary.to_keep > 0\n",
    "nodes_boundary.plot(ax=ax, column = \"to_keep\", zorder = 3, markersize = 15, cmap = \"coolwarm\", legend =True)\n",
    "ax.set_axis_off()"
   ]
  },
  {
   "cell_type": "code",
   "execution_count": 31,
   "metadata": {},
   "outputs": [
    {
     "data": {
      "image/png": "[encoded data removed]",
      "text/plain": [
       "<Figure size 1000x1000 with 1 Axes>"
      ]
     },
     "metadata": {},
     "output_type": "display_data"
    }
   ],
   "source": [
    "# merging lines between nodes to keep:\n",
    "\n",
    "tiny_buffers = nodes_boundary[nodes_boundary.to_keep].buffer(0.01).union_all()\n",
    "\n",
    "# make queen contiguity graph on MINUSBUFFERED outline road segments, \n",
    "# and copy component labels into edge_outside gdf\n",
    "queen = graph.Graph.build_contiguity(\n",
    "    edges_outside.difference(tiny_buffers), \n",
    "    rook=False\n",
    ")\n",
    "edges_outside[\"comp\"] = queen.component_labels\n",
    "\n",
    "# plot to see if it worked\n",
    "fig, ax = plt.subplots(1,1, figsize = (10,10))\n",
    "edges_outside.plot(column=\"comp\", ax=ax, cmap = \"Set1\")\n",
    "nodes_boundary[nodes_boundary.to_keep].plot(ax=ax, alpha = .3)\n",
    "ax.set_axis_off()"
   ]
  },
  {
   "cell_type": "code",
   "execution_count": 33,
   "metadata": {},
   "outputs": [],
   "source": [
    "%%time\n",
    "skel, _ = voronoi_skeleton( # this is the one we need\n",
    "    edges_outside.dissolve(by=\"comp\").geometry,\n",
    "    cluster_geom\n",
    ")\n"
   ]
  },
  {
   "cell_type": "code",
   "execution_count": null,
   "metadata": {},
   "outputs": [],
   "source": [
    "%%time\n",
    "# skeletonize twice (just to compare: with and without interstitial node removal)\n",
    "skel_full, _ = voronoi_skeleton( # this is the superfluous one\n",
    "    edges_outside.geometry,\n",
    "    cluster_geom\n",
    ")\n"
   ]
  },
  {
   "cell_type": "code",
   "execution_count": null,
   "metadata": {},
   "outputs": [],
   "source": [
    "### plot to see if all is correct\n",
    "fig, ax = plt.subplots(1,1, figsize =(20,40))\n",
    "\n",
    "# plot the entire street network\n",
    "roads.iloc[roads.sindex.query(cluster_geom, predicate=\"intersects\")].plot(ax=ax, alpha = .1)\n",
    "\n",
    "# plot the artifact cluster\n",
    "artifacts[artifacts.comp == mycomp].plot(ax=ax, alpha = .1, zorder = 0)\n",
    "\n",
    "# plot artifact boundary \n",
    "edges_outside.plot(ax=ax, color = \"grey\", zorder = 1)\n",
    "\n",
    "#edges_within.plot(ax=ax, color = \"grey\", alpha = .1, zorder = 2)\n",
    "\n",
    "# plot nodes to keep\n",
    "nodes_boundary[nodes_boundary.to_keep].plot(\n",
    "    ax=ax, zorder = 3, markersize = 15, color = \"red\"\n",
    ")\n",
    "\n",
    "# plot skeletonization (=new edges WITHIN artifact cluster)\n",
    "gpd.GeoSeries(skel).plot(ax=ax, color = \"black\", lw = 1, linestyle = \"dotted\")\n",
    "\n",
    "# plot superfluous skeletonization (the above one is a subset of this)\n",
    "gpd.GeoSeries(skel_full).plot(ax=ax, color = \"grey\", lw = 4, zorder = 0, alpha = .2)\n",
    "\n",
    "ax.set_axis_off()"
   ]
  },
  {
   "cell_type": "code",
   "execution_count": null,
   "metadata": {},
   "outputs": [],
   "source": []
  },
  {
   "cell_type": "markdown",
   "metadata": {},
   "source": [
    "*instructions on which above was based*\n",
    "\n",
    "find nodes that \n",
    "\n",
    "* have degree n \n",
    "* on the boundary of cluster_geom\n",
    "* intersect n-2 orange\n",
    "\n",
    "if remove before skel:\n",
    "* linemerged boundary minus nodes-to-keep plus tiny buffer gives sequences of road segments to merge\n",
    "* create queen contiguity graph on roads segments minus tiny buffers, from there component label that assigns to original segments pre-bufferlip\n",
    "* dissolve\n",
    "* pass as input for skel\n",
    "\n",
    "if remove after skel:\n",
    "* remove lines from skelet that intersect these nodes, then remove dangles"
   ]
  },
  {
   "cell_type": "markdown",
   "metadata": {},
   "source": []
  },
  {
   "cell_type": "markdown",
   "metadata": {},
   "source": []
  }
 ],
 "metadata": {
  "kernelspec": {
   "display_name": "simplification",
   "language": "python",
   "name": "python3"
  },
  "language_info": {
   "codemirror_mode": {
    "name": "ipython",
    "version": 3
   },
   "file_extension": ".py",
   "mimetype": "text/x-python",
   "name": "python",
   "nbconvert_exporter": "python",
   "pygments_lexer": "ipython3",
   "version": "3.11.9"
  }
 },
 "nbformat": 4,
 "nbformat_minor": 2
}
