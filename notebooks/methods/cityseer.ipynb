{
 "cells": [
  {
   "cell_type": "markdown",
   "id": "07bfd607-b784-4fa9-a706-60084383e81a",
   "metadata": {},
   "source": [
    "# FUA simplification with [`cityseer`](https://github.com/benchmark-urbanism/cityseer-api)\n",
    "\n",
    "* **Simons, G.** (2023). *The cityseer Python package for pedestrian-scale network-based urban analysis*. Environment and Planning B: Urban Analytics and City Science, 50(5), 1328-1344. https://doi.org/10.1177/23998083221133827"
   ]
  },
  {
   "cell_type": "code",
   "execution_count": 1,
   "id": "571e1dd3-ce27-4c26-a199-30da6e77ebb8",
   "metadata": {
    "execution": {
     "iopub.execute_input": "2024-11-04T00:40:24.044394Z",
     "iopub.status.busy": "2024-11-04T00:40:24.044166Z",
     "iopub.status.idle": "2024-11-04T00:40:24.069855Z",
     "shell.execute_reply": "2024-11-04T00:40:24.069560Z",
     "shell.execute_reply.started": "2024-11-04T00:40:24.044372Z"
    }
   },
   "outputs": [
    {
     "name": "stdout",
     "output_type": "stream",
     "text": [
      "Last updated: 2024-12-04T13:20:25.358364+01:00\n",
      "\n",
      "Python implementation: CPython\n",
      "Python version       : 3.11.9\n",
      "IPython version      : 8.26.0\n",
      "\n",
      "Compiler    : Clang 16.0.6 \n",
      "OS          : Darwin\n",
      "Release     : 24.1.0\n",
      "Machine     : arm64\n",
      "Processor   : arm\n",
      "CPU cores   : 8\n",
      "Architecture: 64bit\n",
      "\n"
     ]
    }
   ],
   "source": [
    "%load_ext watermark\n",
    "%watermark"
   ]
  },
  {
   "cell_type": "code",
   "execution_count": 2,
   "id": "f4ec78c3-cc55-4c1d-aef0-ed33b44b98b5",
   "metadata": {
    "execution": {
     "iopub.execute_input": "2024-11-04T00:40:24.070775Z",
     "iopub.status.busy": "2024-11-04T00:40:24.070610Z",
     "iopub.status.idle": "2024-11-04T00:40:25.157390Z",
     "shell.execute_reply": "2024-11-04T00:40:25.157170Z",
     "shell.execute_reply.started": "2024-11-04T00:40:24.070761Z"
    }
   },
   "outputs": [
    {
     "name": "stdout",
     "output_type": "stream",
     "text": [
      "Watermark: 2.4.3\n",
      "\n",
      "geopandas: 1.0.1\n",
      "core     : 0.1.dev155+ge86f29a.d20240823\n",
      "cityseer : 4.15.1\n",
      "\n"
     ]
    }
   ],
   "source": [
    "import pathlib\n",
    "import time\n",
    "\n",
    "import cityseer\n",
    "import geopandas\n",
    "\n",
    "from core import utils\n",
    "\n",
    "%watermark -w\n",
    "%watermark -iv"
   ]
  },
  {
   "cell_type": "code",
   "execution_count": 6,
   "id": "60f4743b-c752-42e5-9474-1b06310681cd",
   "metadata": {
    "execution": {
     "iopub.execute_input": "2024-11-04T00:40:25.157940Z",
     "iopub.status.busy": "2024-11-04T00:40:25.157784Z",
     "iopub.status.idle": "2024-11-04T00:40:25.160236Z",
     "shell.execute_reply": "2024-11-04T00:40:25.160020Z",
     "shell.execute_reply.started": "2024-11-04T00:40:25.157933Z"
    }
   },
   "outputs": [],
   "source": [
    "def run_cityseer(city: str) -> geopandas.GeoDataFrame:\n",
    "    \"\"\"Run the ``cityseer`` workflow as laid out in\n",
    "    [https://benchmark-urbanism.github.io/cityseer-examples/examples/graph_cleaning.html#manual-cleaning]\n",
    "    with ***all default arguments***.\n",
    "\n",
    "    Parameters\n",
    "    ----------\n",
    "    city : str\n",
    "        City anme. See ``utils.city_fua.keys()``.\n",
    "\n",
    "    Returns\n",
    "    -------\n",
    "    geopandas.GeoDataFrame\n",
    "        Resultant simplified network edges – only geometry column.\n",
    "        Will be written to ``.parquet``.\n",
    "    \"\"\"\n",
    "    edges = utils.read_original(city)\n",
    "    graph = cityseer.tools.io.nx_from_generic_geopandas(edges)\n",
    "    graph = cityseer.tools.graphs.nx_remove_filler_nodes(graph)\n",
    "    graph = cityseer.tools.graphs.nx_remove_dangling_nodes(graph)\n",
    "    graph = cityseer.tools.graphs.nx_split_opposing_geoms(graph)\n",
    "    graph = cityseer.tools.graphs.nx_remove_filler_nodes(graph)\n",
    "    graph = cityseer.tools.graphs.nx_consolidate_nodes(graph)\n",
    "    graph = cityseer.tools.graphs.nx_remove_filler_nodes(graph)\n",
    "    graph = cityseer.tools.graphs.nx_iron_edges(graph)\n",
    "    return cityseer.tools.io.geopandas_from_nx(graph, crs=edges.crs).rename_geometry(\n",
    "        \"geometry\"\n",
    "    )[[\"geometry\"]]"
   ]
  },
  {
   "cell_type": "code",
   "execution_count": 10,
   "id": "d9ebf441",
   "metadata": {},
   "outputs": [
    {
     "data": {
      "text/plain": [
       "{'Aleppo': 1133,\n",
       " 'Auckland': 869,\n",
       " 'Bucaramanga': 4617,\n",
       " 'Douala': 809,\n",
       " 'Liège': 1656,\n",
       " 'Salt Lake City': 4881,\n",
       " 'Wuhan': 8989}"
      ]
     },
     "execution_count": 10,
     "metadata": {},
     "output_type": "execute_result"
    }
   ],
   "source": [
    "utils.city_fua"
   ]
  },
  {
   "cell_type": "code",
   "execution_count": 4,
   "id": "203634c6-8dd0-4e63-baaa-f0a0ac02e81c",
   "metadata": {
    "execution": {
     "iopub.execute_input": "2024-11-04T00:40:25.160530Z",
     "iopub.status.busy": "2024-11-04T00:40:25.160465Z",
     "iopub.status.idle": "2024-11-04T00:40:25.161966Z",
     "shell.execute_reply": "2024-11-04T00:40:25.161776Z",
     "shell.execute_reply.started": "2024-11-04T00:40:25.160523Z"
    }
   },
   "outputs": [],
   "source": [
    "output_base = pathlib.Path(\"..\", \"..\", \"data\")"
   ]
  },
  {
   "cell_type": "code",
   "execution_count": null,
   "id": "9111a595-fb15-4ffd-8a79-88375b2f9c3e",
   "metadata": {
    "execution": {
     "iopub.execute_input": "2024-11-04T00:40:25.162439Z",
     "iopub.status.busy": "2024-11-04T00:40:25.162290Z",
     "iopub.status.idle": "2024-11-04T00:43:45.113733Z",
     "shell.execute_reply": "2024-11-04T00:43:45.113465Z",
     "shell.execute_reply.started": "2024-11-04T00:40:25.162431Z"
    }
   },
   "outputs": [
    {
     "name": "stdout",
     "output_type": "stream",
     "text": [
      "===================================================================\n",
      "Starting Salt Lake City\n",
      "-------------------------\n",
      "\n",
      "\n",
      "\n"
     ]
    },
    {
     "name": "stderr",
     "output_type": "stream",
     "text": [
      "100%|██████████| 50917/50917 [00:03<00:00, 16610.66it/s]\n",
      "INFO:cityseer.tools.graphs:Merging parallel edges within buffer of 1.\n",
      "100%|██████████| 50917/50917 [00:00<00:00, 176495.40it/s]\n",
      "INFO:cityseer.tools.graphs:Removing filler nodes.\n",
      "100%|██████████| 46988/46988 [00:02<00:00, 17447.32it/s]\n",
      "INFO:cityseer.tools.graphs:Removing dangling nodes.\n",
      "100%|██████████| 9539/9539 [00:00<00:00, 528184.74it/s]\n",
      "INFO:cityseer.tools.util:Creating edges STR tree.\n",
      "100%|██████████| 13400/13400 [00:00<00:00, 1228576.16it/s]\n",
      "INFO:cityseer.tools.graphs:Splitting opposing edges.\n",
      "100%|██████████| 9473/9473 [00:00<00:00, 17056.95it/s]\n",
      "INFO:cityseer.tools.graphs:Squashing opposing nodes\n",
      "INFO:cityseer.tools.graphs:Merging parallel edges within buffer of 25.\n",
      "100%|██████████| 13571/13571 [00:00<00:00, 94405.58it/s] \n",
      "INFO:cityseer.tools.graphs:Removing filler nodes.\n",
      "100%|██████████| 9473/9473 [00:00<00:00, 255589.35it/s]\n",
      "INFO:cityseer.tools.util:Creating nodes STR tree\n",
      "100%|██████████| 9246/9246 [00:00<00:00, 211729.22it/s]\n",
      "INFO:cityseer.tools.graphs:Consolidating nodes.\n",
      "100%|██████████| 9246/9246 [00:00<00:00, 20275.20it/s]\n",
      "INFO:cityseer.tools.graphs:Merging parallel edges within buffer of 25.\n",
      "100%|██████████| 12793/12793 [00:00<00:00, 46582.70it/s]\n",
      "INFO:cityseer.tools.graphs:Removing filler nodes.\n",
      "100%|██████████| 8988/8988 [00:00<00:00, 514218.74it/s]\n",
      "INFO:cityseer.tools.graphs:Ironing edges.\n",
      "100%|██████████| 12696/12696 [00:01<00:00, 12350.66it/s]\n",
      "INFO:cityseer.tools.graphs:Merging parallel edges within buffer of 1.\n",
      "100%|██████████| 12696/12696 [00:00<00:00, 321979.39it/s]\n",
      "INFO:cityseer.tools.io:Preparing node and edge arrays from networkX graph.\n"
     ]
    },
    {
     "name": "stdout",
     "output_type": "stream",
     "text": [
      "\tSalt Lake City completed in: 0.172 minutes\n",
      "\n",
      "\n",
      "\n",
      "\n",
      "\n",
      "~ ~ ~ ~ ~ ~ ~ ~ ~ ~ ~ ~ ~ ~ ~ ~ ~ ~ ~ ~ ~ ~ ~ ~ ~ ~ ~ ~ ~ ~ ~ ~ ~ ~ ~ \n",
      " ~ ~ ~ ~ ~ ~ ~ ~ ~ ~ ~ ~ ~ ~ ~ ~ ~ ~ ~ ~ ~ ~ ~ ~ ~ ~ ~ ~ ~ ~ ~ ~ ~ ~ ~\n",
      "~ ~ ~ ~ ~ ~ ~ ~ ~ ~ ~ ~ ~ ~ ~ ~ ~ ~ ~ ~ ~ ~ ~ ~ ~ ~ ~ ~ ~ ~ ~ ~ ~ ~ ~ \n",
      " ~ ~ ~ ~ ~ ~ ~ ~ ~ ~ ~ ~ ~ ~ ~ ~ ~ ~ ~ ~ ~ ~ ~ ~ ~ ~ ~ ~ ~ ~ ~ ~ ~ ~ ~\n",
      "Total runtime: 0.172 minutes\n"
     ]
    }
   ],
   "source": [
    "global_start = time.time()\n",
    "\n",
    "for city, fua in utils.city_fua.items():\n",
    "    print(\"===================================================================\")\n",
    "    print(f\"Starting {city}\")\n",
    "    print(\"-------------------------\")\n",
    "    print(\"\\n\\n\")\n",
    "\n",
    "    fua_start = time.time()\n",
    "    simplified = run_cityseer(city)\n",
    "    output_fua = output_base / pathlib.Path(f\"{fua}\", \"cityseer\", f\"{fua}.parquet\")\n",
    "    simplified.to_parquet(output_fua)\n",
    "    fua_end = time.time()\n",
    "    fua_duration = round((fua_end - fua_start) / 60.0, 3)\n",
    "\n",
    "    print(f\"\\t{city} completed in: {fua_duration} minutes\")\n",
    "    print(\"\\n\\n\\n\\n\")\n",
    "\n",
    "print(\"~ ~ ~ ~ ~ ~ ~ ~ ~ ~ ~ ~ ~ ~ ~ ~ ~ ~ ~ ~ ~ ~ ~ ~ ~ ~ ~ ~ ~ ~ ~ ~ ~ ~ ~ \")\n",
    "print(\" ~ ~ ~ ~ ~ ~ ~ ~ ~ ~ ~ ~ ~ ~ ~ ~ ~ ~ ~ ~ ~ ~ ~ ~ ~ ~ ~ ~ ~ ~ ~ ~ ~ ~ ~\")\n",
    "print(\"~ ~ ~ ~ ~ ~ ~ ~ ~ ~ ~ ~ ~ ~ ~ ~ ~ ~ ~ ~ ~ ~ ~ ~ ~ ~ ~ ~ ~ ~ ~ ~ ~ ~ ~ \")\n",
    "print(\" ~ ~ ~ ~ ~ ~ ~ ~ ~ ~ ~ ~ ~ ~ ~ ~ ~ ~ ~ ~ ~ ~ ~ ~ ~ ~ ~ ~ ~ ~ ~ ~ ~ ~ ~\")\n",
    "\n",
    "global_end = time.time()\n",
    "global_duration = round((global_end - global_start) / 60.0, 3)\n",
    "\n",
    "print(f\"Total runtime: {global_duration} minutes\")"
   ]
  },
  {
   "cell_type": "code",
   "execution_count": null,
   "id": "107c1e00",
   "metadata": {},
   "outputs": [],
   "source": []
  }
 ],
 "metadata": {
  "gist_info": {
   "create_date": "2024-01-22T01:48:06Z",
   "gist_id": "582dc1f207054a861eda93e975713b4b",
   "gist_url": "https://gist.github.com/jGaboardi/582dc1f207054a861eda93e975713b4b"
  },
  "kernelspec": {
   "display_name": "default",
   "language": "python",
   "name": "python3"
  },
  "language_info": {
   "codemirror_mode": {
    "name": "ipython",
    "version": 3
   },
   "file_extension": ".py",
   "mimetype": "text/x-python",
   "name": "python",
   "nbconvert_exporter": "python",
   "pygments_lexer": "ipython3",
   "version": "3.11.9"
  }
 },
 "nbformat": 4,
 "nbformat_minor": 5
}
