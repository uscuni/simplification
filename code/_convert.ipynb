{
 "cells": [
  {
   "cell_type": "markdown",
   "metadata": {},
   "source": [
    "# Convert Parquets to layered GPKG"
   ]
  },
  {
   "cell_type": "code",
   "execution_count": 1,
   "metadata": {},
   "outputs": [],
   "source": [
    "import glob\n",
    "\n",
    "import geopandas as gpd"
   ]
  },
  {
   "cell_type": "code",
   "execution_count": 12,
   "metadata": {},
   "outputs": [],
   "source": [
    "folders = glob.glob(\"../data/*\")\n",
    "for folder in folders:\n",
    "    if not folder.endswith(\"parquet\"):\n",
    "        roads = gpd.read_parquet(folder + \"/roads_osm.parquet\").reset_index(drop=True)\n",
    "        polygons = gpd.read_parquet(folder + \"/polygons\").reset_index(drop=True)[[\"geometry\", \"is_artifact\"]]\n",
    "        roads[\"id\"] = range(len(roads))\n",
    "        roads.to_file(f\"/Users/martin/Library/CloudStorage/GoogleDrive-fleischma@natur.cuni.cz/Shared drives/US CUNI/Data/2024_simplification/{folder.split(\"/\")[-1]}.gpkg\", layer=\"roads\", engine=\"pyogrio\")\n",
    "        polygons.to_file(f\"/Users/martin/Library/CloudStorage/GoogleDrive-fleischma@natur.cuni.cz/Shared drives/US CUNI/Data/2024_simplification/{folder.split(\"/\")[-1]}.gpkg\", layer=\"polygons\", engine=\"pyogrio\")\n"
   ]
  }
 ],
 "metadata": {
  "kernelspec": {
   "display_name": "stable",
   "language": "python",
   "name": "python3"
  },
  "language_info": {
   "codemirror_mode": {
    "name": "ipython",
    "version": 3
   },
   "file_extension": ".py",
   "mimetype": "text/x-python",
   "name": "python",
   "nbconvert_exporter": "python",
   "pygments_lexer": "ipython3",
   "version": "3.12.0"
  }
 },
 "nbformat": 4,
 "nbformat_minor": 2
}
