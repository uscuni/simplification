{
 "cells": [
  {
   "cell_type": "markdown",
   "id": "57d0ba47-4d99-493d-ae34-d5146ed77e01",
   "metadata": {},
   "source": [
    "# Remove (non-articulation / intersitial) nodes from road networks"
   ]
  },
  {
   "cell_type": "code",
   "execution_count": 1,
   "id": "c785905e-e1de-4940-9a40-d50a1769062a",
   "metadata": {
    "execution": {
     "iopub.execute_input": "2024-07-21T00:34:33.156615Z",
     "iopub.status.busy": "2024-07-21T00:34:33.156225Z",
     "iopub.status.idle": "2024-07-21T00:34:33.182523Z",
     "shell.execute_reply": "2024-07-21T00:34:33.182106Z",
     "shell.execute_reply.started": "2024-07-21T00:34:33.156592Z"
    }
   },
   "outputs": [
    {
     "name": "stdout",
     "output_type": "stream",
     "text": [
      "Last updated: 2024-07-20T20:34:33.174450-04:00\n",
      "\n",
      "Python implementation: CPython\n",
      "Python version       : 3.11.9\n",
      "IPython version      : 8.26.0\n",
      "\n",
      "Compiler    : Clang 16.0.6 \n",
      "OS          : Darwin\n",
      "Release     : 23.5.0\n",
      "Machine     : arm64\n",
      "Processor   : arm\n",
      "CPU cores   : 8\n",
      "Architecture: 64bit\n",
      "\n"
     ]
    }
   ],
   "source": [
    "%load_ext watermark\n",
    "%watermark"
   ]
  },
  {
   "cell_type": "code",
   "execution_count": 2,
   "id": "b4891b2f-c26f-450e-8afb-ce147455d649",
   "metadata": {
    "execution": {
     "iopub.execute_input": "2024-07-21T00:34:33.184079Z",
     "iopub.status.busy": "2024-07-21T00:34:33.183845Z",
     "iopub.status.idle": "2024-07-21T00:34:34.241056Z",
     "shell.execute_reply": "2024-07-21T00:34:34.240738Z",
     "shell.execute_reply.started": "2024-07-21T00:34:33.184062Z"
    }
   },
   "outputs": [],
   "source": [
    "import pathlib\n",
    "\n",
    "import momepy  # noqa: F401\n",
    "\n",
    "import core  # noqa: F401\n",
    "from core import utils"
   ]
  },
  {
   "cell_type": "code",
   "execution_count": 3,
   "id": "a124677d-de91-4164-9f9b-fa07afe1904d",
   "metadata": {
    "execution": {
     "iopub.execute_input": "2024-07-21T00:34:34.241670Z",
     "iopub.status.busy": "2024-07-21T00:34:34.241520Z",
     "iopub.status.idle": "2024-07-21T00:34:34.244523Z",
     "shell.execute_reply": "2024-07-21T00:34:34.244335Z",
     "shell.execute_reply.started": "2024-07-21T00:34:34.241663Z"
    }
   },
   "outputs": [
    {
     "name": "stdout",
     "output_type": "stream",
     "text": [
      "Watermark: 2.4.3\n",
      "\n",
      "momepy: 0.8.0a3.dev35+g4e45e54\n",
      "core  : 0.1.dev103+gc27d2d8\n",
      "\n"
     ]
    }
   ],
   "source": [
    "%watermark -w\n",
    "%watermark -iv"
   ]
  },
  {
   "cell_type": "code",
   "execution_count": 4,
   "id": "5ec07872-0a18-400b-98cf-2c2a05c59727",
   "metadata": {
    "execution": {
     "iopub.execute_input": "2024-07-21T00:34:34.244968Z",
     "iopub.status.busy": "2024-07-21T00:34:34.244885Z",
     "iopub.status.idle": "2024-07-21T00:34:34.247484Z",
     "shell.execute_reply": "2024-07-21T00:34:34.247316Z",
     "shell.execute_reply.started": "2024-07-21T00:34:34.244961Z"
    }
   },
   "outputs": [
    {
     "data": {
      "text/plain": [
       "{1133: 'Aleppo',\n",
       " 869: 'Auckland',\n",
       " 4617: 'Bucaramanga',\n",
       " 809: 'Douala',\n",
       " 1656: 'Liège',\n",
       " 4881: 'Salt Lake City',\n",
       " 8989: 'Wuhan'}"
      ]
     },
     "execution_count": 4,
     "metadata": {},
     "output_type": "execute_result"
    }
   ],
   "source": [
    "utils.fua_city"
   ]
  },
  {
   "cell_type": "code",
   "execution_count": 5,
   "id": "a1731d0f-65ac-483c-8dde-6a410747ea71",
   "metadata": {
    "execution": {
     "iopub.execute_input": "2024-07-21T00:34:34.247769Z",
     "iopub.status.busy": "2024-07-21T00:34:34.247711Z",
     "iopub.status.idle": "2024-07-21T00:34:34.249426Z",
     "shell.execute_reply": "2024-07-21T00:34:34.249264Z",
     "shell.execute_reply.started": "2024-07-21T00:34:34.247762Z"
    }
   },
   "outputs": [
    {
     "data": {
      "text/plain": [
       "PosixPath('../data')"
      ]
     },
     "execution_count": 5,
     "metadata": {},
     "output_type": "execute_result"
    }
   ],
   "source": [
    "ddir = pathlib.Path(\"..\", \"data\")\n",
    "ddir"
   ]
  },
  {
   "cell_type": "code",
   "execution_count": 6,
   "id": "1489f17a-18c7-4192-9bc8-881eabc13866",
   "metadata": {
    "execution": {
     "iopub.execute_input": "2024-07-21T00:34:34.250577Z",
     "iopub.status.busy": "2024-07-21T00:34:34.250500Z",
     "iopub.status.idle": "2024-07-21T00:34:34.251846Z",
     "shell.execute_reply": "2024-07-21T00:34:34.251683Z",
     "shell.execute_reply.started": "2024-07-21T00:34:34.250570Z"
    }
   },
   "outputs": [],
   "source": [
    "xd2 = \"no_degree_2\"\n",
    "p = \"{}.parquet\""
   ]
  },
  {
   "cell_type": "code",
   "execution_count": 7,
   "id": "a4c550d8-28ef-4971-b4cf-ddbbeda80a2e",
   "metadata": {
    "execution": {
     "iopub.execute_input": "2024-07-21T00:34:34.252125Z",
     "iopub.status.busy": "2024-07-21T00:34:34.252061Z",
     "iopub.status.idle": "2024-07-21T00:34:49.126537Z",
     "shell.execute_reply": "2024-07-21T00:34:49.126304Z",
     "shell.execute_reply.started": "2024-07-21T00:34:34.252119Z"
    }
   },
   "outputs": [
    {
     "name": "stdout",
     "output_type": "stream",
     "text": [
      "Aleppo\n",
      "\t../data/1133/no_degree_2/1133.parquet: complete\n",
      "Auckland\n",
      "\t../data/869/no_degree_2/869.parquet: complete\n",
      "Bucaramanga\n",
      "\t../data/4617/no_degree_2/4617.parquet: complete\n",
      "Douala\n",
      "\t../data/809/no_degree_2/809.parquet: complete\n",
      "Liège\n",
      "\t../data/1656/no_degree_2/1656.parquet: complete\n",
      "Salt Lake City\n",
      "\t../data/4881/no_degree_2/4881.parquet: complete\n",
      "Wuhan\n",
      "\t../data/8989/no_degree_2/8989.parquet: complete\n"
     ]
    }
   ],
   "source": [
    "for fua, city in utils.fua_city.items():\n",
    "    print(city)\n",
    "    fua_dir = ddir / str(fua)\n",
    "    fua_dir_xd2 = fua_dir / xd2\n",
    "    fua_dir_xd2.mkdir(parents=True, exist_ok=True)\n",
    "\n",
    "    parq_out = fua_dir_xd2 / p.format(fua)\n",
    "\n",
    "    xd2_gdf = utils.remove_degree_2_nodes(city)\n",
    "    xd2_gdf.to_parquet(parq_out)\n",
    "\n",
    "    print(f\"\\t{parq_out}: complete\")"
   ]
  }
 ],
 "metadata": {
  "kernelspec": {
   "display_name": "Python 3 (ipykernel)",
   "language": "python",
   "name": "python3"
  },
  "language_info": {
   "codemirror_mode": {
    "name": "ipython",
    "version": 3
   },
   "file_extension": ".py",
   "mimetype": "text/x-python",
   "name": "python",
   "nbconvert_exporter": "python",
   "pygments_lexer": "ipython3",
   "version": "3.11.9"
  }
 },
 "nbformat": 4,
 "nbformat_minor": 5
}
