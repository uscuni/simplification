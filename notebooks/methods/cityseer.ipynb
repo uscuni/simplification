{
 "cells": [
  {
   "cell_type": "markdown",
   "id": "07bfd607-b784-4fa9-a706-60084383e81a",
   "metadata": {},
   "source": [
    "# FUA simplification with [`cityseer`](https://github.com/benchmark-urbanism/cityseer-api)\n",
    "\n",
    "* **Simons, G.** (2023). *The cityseer Python package for pedestrian-scale network-based urban analysis*. Environment and Planning B: Urban Analytics and City Science, 50(5), 1328-1344. https://doi.org/10.1177/23998083221133827"
   ]
  },
  {
   "cell_type": "code",
   "execution_count": 1,
   "id": "571e1dd3-ce27-4c26-a199-30da6e77ebb8",
   "metadata": {
    "execution": {
     "iopub.execute_input": "2024-11-04T00:40:24.044394Z",
     "iopub.status.busy": "2024-11-04T00:40:24.044166Z",
     "iopub.status.idle": "2024-11-04T00:40:24.069855Z",
     "shell.execute_reply": "2024-11-04T00:40:24.069560Z",
     "shell.execute_reply.started": "2024-11-04T00:40:24.044372Z"
    }
   },
   "outputs": [
    {
     "name": "stdout",
     "output_type": "stream",
     "text": [
      "Last updated: 2024-12-05T11:45:54.033468+01:00\n",
      "\n",
      "Python implementation: CPython\n",
      "Python version       : 3.12.7\n",
      "IPython version      : 8.30.0\n",
      "\n",
      "Compiler    : Clang 17.0.6 \n",
      "OS          : Darwin\n",
      "Release     : 24.1.0\n",
      "Machine     : arm64\n",
      "Processor   : arm\n",
      "CPU cores   : 8\n",
      "Architecture: 64bit\n",
      "\n"
     ]
    }
   ],
   "source": [
    "%load_ext watermark\n",
    "%watermark"
   ]
  },
  {
   "cell_type": "code",
   "execution_count": 2,
   "id": "f4ec78c3-cc55-4c1d-aef0-ed33b44b98b5",
   "metadata": {
    "execution": {
     "iopub.execute_input": "2024-11-04T00:40:24.070775Z",
     "iopub.status.busy": "2024-11-04T00:40:24.070610Z",
     "iopub.status.idle": "2024-11-04T00:40:25.157390Z",
     "shell.execute_reply": "2024-11-04T00:40:25.157170Z",
     "shell.execute_reply.started": "2024-11-04T00:40:24.070761Z"
    }
   },
   "outputs": [
    {
     "name": "stdout",
     "output_type": "stream",
     "text": [
      "Watermark: 2.5.0\n",
      "\n",
      "cityseer : 4.17.2\n",
      "core     : 0.1.dev170+gc3e76d8.d20241205\n",
      "geopandas: 1.0.1\n",
      "\n"
     ]
    }
   ],
   "source": [
    "import pathlib\n",
    "import time\n",
    "\n",
    "import cityseer\n",
    "import geopandas\n",
    "\n",
    "from core import utils\n",
    "\n",
    "%watermark -w\n",
    "%watermark -iv"
   ]
  },
  {
   "cell_type": "code",
   "execution_count": 3,
   "id": "60f4743b-c752-42e5-9474-1b06310681cd",
   "metadata": {
    "execution": {
     "iopub.execute_input": "2024-11-04T00:40:25.157940Z",
     "iopub.status.busy": "2024-11-04T00:40:25.157784Z",
     "iopub.status.idle": "2024-11-04T00:40:25.160236Z",
     "shell.execute_reply": "2024-11-04T00:40:25.160020Z",
     "shell.execute_reply.started": "2024-11-04T00:40:25.157933Z"
    }
   },
   "outputs": [],
   "source": [
    "def run_cityseer(city: str) -> geopandas.GeoDataFrame:\n",
    "    \"\"\"Run the ``cityseer`` workflow as laid out in\n",
    "    [https://benchmark-urbanism.github.io/cityseer-examples/examples/graph_cleaning.html#manual-cleaning]\n",
    "    with ***all default arguments***.\n",
    "\n",
    "    Parameters\n",
    "    ----------\n",
    "    city : str\n",
    "        City anme. See ``utils.city_fua.keys()``.\n",
    "\n",
    "    Returns\n",
    "    -------\n",
    "    geopandas.GeoDataFrame\n",
    "        Resultant simplified network edges – only geometry column.\n",
    "        Will be written to ``.parquet``.\n",
    "    \"\"\"\n",
    "    edges = utils.read_original(city)\n",
    "    graph = cityseer.tools.io.nx_from_generic_geopandas(edges)\n",
    "    graph = cityseer.tools.graphs.nx_remove_filler_nodes(graph)\n",
    "    graph = cityseer.tools.graphs.nx_remove_dangling_nodes(graph)\n",
    "    graph = cityseer.tools.graphs.nx_split_opposing_geoms(graph)\n",
    "    graph = cityseer.tools.graphs.nx_remove_filler_nodes(graph)\n",
    "    graph = cityseer.tools.graphs.nx_consolidate_nodes(graph)\n",
    "    graph = cityseer.tools.graphs.nx_remove_filler_nodes(graph)\n",
    "    graph = cityseer.tools.graphs.nx_iron_edges(graph)\n",
    "    return cityseer.tools.io.geopandas_from_nx(graph, crs=edges.crs).rename_geometry(\n",
    "        \"geometry\"\n",
    "    )[[\"geometry\"]]"
   ]
  },
  {
   "cell_type": "code",
   "execution_count": 5,
   "id": "203634c6-8dd0-4e63-baaa-f0a0ac02e81c",
   "metadata": {
    "execution": {
     "iopub.execute_input": "2024-11-04T00:40:25.160530Z",
     "iopub.status.busy": "2024-11-04T00:40:25.160465Z",
     "iopub.status.idle": "2024-11-04T00:40:25.161966Z",
     "shell.execute_reply": "2024-11-04T00:40:25.161776Z",
     "shell.execute_reply.started": "2024-11-04T00:40:25.160523Z"
    }
   },
   "outputs": [],
   "source": [
    "output_base = pathlib.Path(\"..\", \"..\", \"data\")"
   ]
  },
  {
   "cell_type": "code",
   "execution_count": 6,
   "id": "9111a595-fb15-4ffd-8a79-88375b2f9c3e",
   "metadata": {
    "execution": {
     "iopub.execute_input": "2024-11-04T00:40:25.162439Z",
     "iopub.status.busy": "2024-11-04T00:40:25.162290Z",
     "iopub.status.idle": "2024-11-04T00:43:45.113733Z",
     "shell.execute_reply": "2024-11-04T00:43:45.113465Z",
     "shell.execute_reply.started": "2024-11-04T00:40:25.162431Z"
    }
   },
   "outputs": [
    {
     "name": "stdout",
     "output_type": "stream",
     "text": [
      "===================================================================\n",
      "Starting Aleppo\n",
      "-------------------------\n",
      "\n",
      "\n",
      "\n"
     ]
    },
    {
     "name": "stderr",
     "output_type": "stream",
     "text": [
      "100%|██████████| 78908/78908 [00:05<00:00, 15605.52it/s]\n",
      "INFO:cityseer.tools.graphs:Merging parallel edges within buffer of 1.\n",
      "100%|██████████| 78908/78908 [00:00<00:00, 243062.34it/s]\n",
      "INFO:cityseer.tools.graphs:Removing filler nodes.\n",
      "100%|██████████| 64445/64445 [00:02<00:00, 26347.83it/s]\n",
      "INFO:cityseer.tools.graphs:Removing dangling nodes.\n",
      "100%|██████████| 28776/28776 [00:00<00:00, 719327.80it/s]\n",
      "INFO:cityseer.tools.graphs:Removing filler nodes.\n",
      "100%|██████████| 28710/28710 [00:00<00:00, 1014203.99it/s]\n",
      "INFO:cityseer.tools.util:Creating edges STR tree.\n",
      "100%|██████████| 43034/43034 [00:00<00:00, 1415257.36it/s]\n",
      "INFO:cityseer.tools.graphs:Splitting opposing edges.\n",
      "100%|██████████| 28571/28571 [00:01<00:00, 19287.70it/s]\n",
      "INFO:cityseer.tools.graphs:Squashing opposing nodes\n",
      "INFO:cityseer.tools.graphs:Merging parallel edges within buffer of 25.\n",
      "100%|██████████| 43576/43576 [00:00<00:00, 109593.99it/s]\n",
      "INFO:cityseer.tools.graphs:Removing filler nodes.\n",
      "100%|██████████| 28571/28571 [00:00<00:00, 1138968.76it/s]\n",
      "INFO:cityseer.tools.util:Creating nodes STR tree\n",
      "100%|██████████| 28551/28551 [00:00<00:00, 229604.00it/s]\n",
      "INFO:cityseer.tools.graphs:Consolidating nodes.\n",
      "100%|██████████| 28551/28551 [00:02<00:00, 13080.39it/s]\n",
      "INFO:cityseer.tools.graphs:Merging parallel edges within buffer of 25.\n",
      "100%|██████████| 40936/40936 [00:00<00:00, 209038.34it/s]\n",
      "INFO:cityseer.tools.graphs:Removing filler nodes.\n",
      "100%|██████████| 26479/26479 [00:00<00:00, 762033.00it/s]\n",
      "INFO:cityseer.tools.graphs:Ironing edges.\n",
      "100%|██████████| 40596/40596 [00:00<00:00, 65964.93it/s]\n",
      "INFO:cityseer.tools.graphs:Merging parallel edges within buffer of 1.\n",
      "100%|██████████| 40593/40593 [00:00<00:00, 127081.53it/s]\n",
      "INFO:cityseer.tools.io:Preparing node and edge arrays from networkX graph.\n"
     ]
    },
    {
     "name": "stdout",
     "output_type": "stream",
     "text": [
      "\tAleppo completed in: 0.344 minutes\n",
      "\n",
      "\n",
      "\n",
      "\n",
      "\n",
      "===================================================================\n",
      "Starting Auckland\n",
      "-------------------------\n",
      "\n",
      "\n",
      "\n"
     ]
    },
    {
     "name": "stderr",
     "output_type": "stream",
     "text": [
      "100%|██████████| 60364/60364 [00:04<00:00, 14590.03it/s]\n",
      "INFO:cityseer.tools.graphs:Merging parallel edges within buffer of 1.\n",
      "100%|██████████| 60364/60364 [00:00<00:00, 190614.01it/s]\n",
      "INFO:cityseer.tools.graphs:Removing filler nodes.\n",
      "100%|██████████| 57031/57031 [00:02<00:00, 19073.53it/s]\n",
      "INFO:cityseer.tools.graphs:Removing dangling nodes.\n",
      "100%|██████████| 9123/9123 [00:00<00:00, 486042.09it/s]\n",
      "INFO:cityseer.tools.graphs:Removing filler nodes.\n",
      "100%|██████████| 8980/8980 [00:00<00:00, 475104.38it/s]\n",
      "INFO:cityseer.tools.util:Creating edges STR tree.\n",
      "100%|██████████| 12214/12214 [00:00<00:00, 1203015.90it/s]\n",
      "INFO:cityseer.tools.graphs:Splitting opposing edges.\n",
      "100%|██████████| 8898/8898 [00:00<00:00, 17139.89it/s]\n",
      "INFO:cityseer.tools.graphs:Squashing opposing nodes\n",
      "INFO:cityseer.tools.graphs:Merging parallel edges within buffer of 25.\n",
      "100%|██████████| 12573/12573 [00:00<00:00, 99041.20it/s] \n",
      "INFO:cityseer.tools.graphs:Removing filler nodes.\n",
      "100%|██████████| 8898/8898 [00:00<00:00, 468367.37it/s]\n",
      "INFO:cityseer.tools.util:Creating nodes STR tree\n",
      "100%|██████████| 8792/8792 [00:00<00:00, 51294.62it/s]\n",
      "INFO:cityseer.tools.graphs:Consolidating nodes.\n",
      "100%|██████████| 8792/8792 [00:00<00:00, 10614.26it/s]\n",
      "INFO:cityseer.tools.graphs:Merging parallel edges within buffer of 25.\n",
      "100%|██████████| 11037/11037 [00:00<00:00, 49170.69it/s]\n",
      "INFO:cityseer.tools.graphs:Removing filler nodes.\n",
      "100%|██████████| 7789/7789 [00:00<00:00, 138540.17it/s]\n",
      "INFO:cityseer.tools.graphs:Ironing edges.\n",
      "100%|██████████| 10123/10123 [00:00<00:00, 21746.56it/s]\n",
      "INFO:cityseer.tools.graphs:Merging parallel edges within buffer of 1.\n",
      "100%|██████████| 10083/10083 [00:00<00:00, 300474.37it/s]\n",
      "INFO:cityseer.tools.io:Preparing node and edge arrays from networkX graph.\n"
     ]
    },
    {
     "name": "stdout",
     "output_type": "stream",
     "text": [
      "\tAuckland completed in: 0.2 minutes\n",
      "\n",
      "\n",
      "\n",
      "\n",
      "\n",
      "===================================================================\n",
      "Starting Bucaramanga\n",
      "-------------------------\n",
      "\n",
      "\n",
      "\n"
     ]
    },
    {
     "name": "stderr",
     "output_type": "stream",
     "text": [
      "100%|██████████| 79317/79317 [00:05<00:00, 15568.05it/s]\n",
      "INFO:cityseer.tools.graphs:Merging parallel edges within buffer of 1.\n",
      "100%|██████████| 79317/79317 [00:00<00:00, 248179.84it/s]\n",
      "INFO:cityseer.tools.graphs:Removing filler nodes.\n",
      "100%|██████████| 74716/74716 [00:03<00:00, 20776.55it/s]\n",
      "INFO:cityseer.tools.graphs:Removing dangling nodes.\n",
      "100%|██████████| 11699/11699 [00:00<00:00, 539002.41it/s]\n",
      "INFO:cityseer.tools.graphs:Removing filler nodes.\n",
      "100%|██████████| 11598/11598 [00:00<00:00, 579003.26it/s]\n",
      "INFO:cityseer.tools.util:Creating edges STR tree.\n",
      "100%|██████████| 16004/16004 [00:00<00:00, 1189706.87it/s]\n",
      "INFO:cityseer.tools.graphs:Splitting opposing edges.\n",
      "100%|██████████| 11348/11348 [00:00<00:00, 18337.01it/s]\n",
      "INFO:cityseer.tools.graphs:Squashing opposing nodes\n",
      "INFO:cityseer.tools.graphs:Merging parallel edges within buffer of 25.\n",
      "100%|██████████| 16455/16455 [00:00<00:00, 117387.09it/s]\n",
      "INFO:cityseer.tools.graphs:Removing filler nodes.\n",
      "100%|██████████| 11348/11348 [00:00<00:00, 824946.91it/s]\n",
      "INFO:cityseer.tools.util:Creating nodes STR tree\n",
      "100%|██████████| 11295/11295 [00:00<00:00, 222543.73it/s]\n",
      "INFO:cityseer.tools.graphs:Consolidating nodes.\n",
      "100%|██████████| 11295/11295 [00:00<00:00, 12518.41it/s]\n",
      "INFO:cityseer.tools.graphs:Merging parallel edges within buffer of 25.\n",
      "100%|██████████| 14977/14977 [00:00<00:00, 111187.78it/s]\n",
      "INFO:cityseer.tools.graphs:Removing filler nodes.\n",
      "100%|██████████| 10304/10304 [00:00<00:00, 528383.95it/s]\n",
      "INFO:cityseer.tools.graphs:Ironing edges.\n",
      "100%|██████████| 14669/14669 [00:00<00:00, 33762.33it/s]\n",
      "INFO:cityseer.tools.graphs:Merging parallel edges within buffer of 1.\n",
      "100%|██████████| 14660/14660 [00:00<00:00, 89109.37it/s]\n",
      "INFO:cityseer.tools.io:Preparing node and edge arrays from networkX graph.\n"
     ]
    },
    {
     "name": "stdout",
     "output_type": "stream",
     "text": [
      "\tBucaramanga completed in: 0.236 minutes\n",
      "\n",
      "\n",
      "\n",
      "\n",
      "\n",
      "===================================================================\n",
      "Starting Douala\n",
      "-------------------------\n",
      "\n",
      "\n",
      "\n"
     ]
    },
    {
     "name": "stderr",
     "output_type": "stream",
     "text": [
      "100%|██████████| 84819/84819 [00:05<00:00, 15652.51it/s]\n",
      "INFO:cityseer.tools.graphs:Merging parallel edges within buffer of 1.\n",
      "100%|██████████| 84819/84819 [00:00<00:00, 237259.22it/s]\n",
      "INFO:cityseer.tools.graphs:Removing filler nodes.\n",
      "100%|██████████| 76391/76391 [00:03<00:00, 21004.46it/s]\n",
      "INFO:cityseer.tools.graphs:Removing dangling nodes.\n",
      "100%|██████████| 22124/22124 [00:00<00:00, 513290.90it/s]\n",
      "INFO:cityseer.tools.graphs:Removing filler nodes.\n",
      "100%|██████████| 22089/22089 [00:00<00:00, 993032.87it/s]\n",
      "INFO:cityseer.tools.util:Creating edges STR tree.\n",
      "100%|██████████| 30379/30379 [00:00<00:00, 1182705.35it/s]\n",
      "INFO:cityseer.tools.graphs:Splitting opposing edges.\n",
      "100%|██████████| 21947/21947 [00:00<00:00, 23346.76it/s]\n",
      "INFO:cityseer.tools.graphs:Squashing opposing nodes\n",
      "INFO:cityseer.tools.graphs:Merging parallel edges within buffer of 25.\n",
      "100%|██████████| 30722/30722 [00:00<00:00, 205697.92it/s]\n",
      "INFO:cityseer.tools.graphs:Removing filler nodes.\n",
      "100%|██████████| 21947/21947 [00:00<00:00, 1150741.18it/s]\n",
      "INFO:cityseer.tools.util:Creating nodes STR tree\n",
      "100%|██████████| 21940/21940 [00:00<00:00, 224399.34it/s]\n",
      "INFO:cityseer.tools.graphs:Consolidating nodes.\n",
      "100%|██████████| 21940/21940 [00:01<00:00, 15503.53it/s]\n",
      "INFO:cityseer.tools.graphs:Merging parallel edges within buffer of 25.\n",
      "100%|██████████| 29235/29235 [00:00<00:00, 174487.12it/s]\n",
      "INFO:cityseer.tools.graphs:Removing filler nodes.\n",
      "100%|██████████| 20753/20753 [00:00<00:00, 795528.95it/s]\n",
      "INFO:cityseer.tools.graphs:Ironing edges.\n",
      "100%|██████████| 28941/28941 [00:00<00:00, 50488.55it/s]\n",
      "INFO:cityseer.tools.graphs:Merging parallel edges within buffer of 1.\n",
      "100%|██████████| 28941/28941 [00:00<00:00, 337788.54it/s]\n",
      "INFO:cityseer.tools.io:Preparing node and edge arrays from networkX graph.\n"
     ]
    },
    {
     "name": "stdout",
     "output_type": "stream",
     "text": [
      "\tDouala completed in: 0.288 minutes\n",
      "\n",
      "\n",
      "\n",
      "\n",
      "\n",
      "===================================================================\n",
      "Starting Liège\n",
      "-------------------------\n",
      "\n",
      "\n",
      "\n"
     ]
    },
    {
     "name": "stderr",
     "output_type": "stream",
     "text": [
      "100%|██████████| 79907/79907 [00:05<00:00, 15701.31it/s]\n",
      "INFO:cityseer.tools.graphs:Merging parallel edges within buffer of 1.\n",
      "100%|██████████| 79907/79907 [00:00<00:00, 207142.86it/s]\n",
      "INFO:cityseer.tools.graphs:Removing filler nodes.\n",
      "100%|██████████| 75549/75549 [00:03<00:00, 19323.60it/s]\n",
      "INFO:cityseer.tools.graphs:Removing dangling nodes.\n",
      "100%|██████████| 12210/12210 [00:00<00:00, 514021.26it/s]\n",
      "INFO:cityseer.tools.graphs:Removing filler nodes.\n",
      "100%|██████████| 12061/12061 [00:00<00:00, 595686.69it/s]\n",
      "INFO:cityseer.tools.util:Creating edges STR tree.\n",
      "100%|██████████| 16321/16321 [00:00<00:00, 1110258.94it/s]\n",
      "INFO:cityseer.tools.graphs:Splitting opposing edges.\n",
      "100%|██████████| 11977/11977 [00:00<00:00, 19339.29it/s]\n",
      "INFO:cityseer.tools.graphs:Squashing opposing nodes\n",
      "INFO:cityseer.tools.graphs:Merging parallel edges within buffer of 25.\n",
      "100%|██████████| 16657/16657 [00:00<00:00, 109014.78it/s]\n",
      "INFO:cityseer.tools.graphs:Removing filler nodes.\n",
      "100%|██████████| 11977/11977 [00:00<00:00, 595076.63it/s]\n",
      "INFO:cityseer.tools.util:Creating nodes STR tree\n",
      "100%|██████████| 11881/11881 [00:00<00:00, 215577.77it/s]\n",
      "INFO:cityseer.tools.graphs:Consolidating nodes.\n",
      "100%|██████████| 11881/11881 [00:00<00:00, 13853.63it/s]\n",
      "INFO:cityseer.tools.graphs:Merging parallel edges within buffer of 25.\n",
      "100%|██████████| 15344/15344 [00:00<00:00, 101095.03it/s]\n",
      "INFO:cityseer.tools.graphs:Removing filler nodes.\n",
      "100%|██████████| 10962/10962 [00:00<00:00, 408025.63it/s]\n",
      "INFO:cityseer.tools.graphs:Ironing edges.\n",
      "100%|██████████| 14951/14951 [00:00<00:00, 33182.91it/s]\n",
      "INFO:cityseer.tools.graphs:Merging parallel edges within buffer of 1.\n",
      "100%|██████████| 14894/14894 [00:00<00:00, 294662.69it/s]\n",
      "INFO:cityseer.tools.io:Preparing node and edge arrays from networkX graph.\n"
     ]
    },
    {
     "name": "stdout",
     "output_type": "stream",
     "text": [
      "\tLiège completed in: 0.25 minutes\n",
      "\n",
      "\n",
      "\n",
      "\n",
      "\n",
      "===================================================================\n",
      "Starting Salt Lake City\n",
      "-------------------------\n",
      "\n",
      "\n",
      "\n"
     ]
    },
    {
     "name": "stderr",
     "output_type": "stream",
     "text": [
      "100%|██████████| 50917/50917 [00:03<00:00, 14873.26it/s]\n",
      "INFO:cityseer.tools.graphs:Merging parallel edges within buffer of 1.\n",
      "100%|██████████| 50917/50917 [00:00<00:00, 197498.98it/s]\n",
      "INFO:cityseer.tools.graphs:Removing filler nodes.\n",
      "100%|██████████| 46988/46988 [00:02<00:00, 19518.39it/s]\n",
      "INFO:cityseer.tools.graphs:Removing dangling nodes.\n",
      "100%|██████████| 9539/9539 [00:00<00:00, 498877.37it/s]\n",
      "INFO:cityseer.tools.graphs:Removing filler nodes.\n",
      "100%|██████████| 9473/9473 [00:00<00:00, 715490.92it/s]\n",
      "INFO:cityseer.tools.util:Creating edges STR tree.\n",
      "100%|██████████| 13358/13358 [00:00<00:00, 1214030.61it/s]\n",
      "INFO:cityseer.tools.graphs:Splitting opposing edges.\n",
      "100%|██████████| 9431/9431 [00:00<00:00, 23919.74it/s]\n",
      "INFO:cityseer.tools.graphs:Squashing opposing nodes\n",
      "INFO:cityseer.tools.graphs:Merging parallel edges within buffer of 25.\n",
      "100%|██████████| 13453/13453 [00:00<00:00, 208025.08it/s]\n",
      "INFO:cityseer.tools.graphs:Removing filler nodes.\n",
      "100%|██████████| 9431/9431 [00:00<00:00, 754074.40it/s]\n",
      "INFO:cityseer.tools.util:Creating nodes STR tree\n",
      "100%|██████████| 9387/9387 [00:00<00:00, 117552.02it/s]\n",
      "INFO:cityseer.tools.graphs:Consolidating nodes.\n",
      "100%|██████████| 9387/9387 [00:00<00:00, 17272.91it/s]\n",
      "INFO:cityseer.tools.graphs:Merging parallel edges within buffer of 25.\n",
      "100%|██████████| 12985/12985 [00:00<00:00, 141192.15it/s]\n",
      "INFO:cityseer.tools.graphs:Removing filler nodes.\n",
      "100%|██████████| 9069/9069 [00:00<00:00, 552791.60it/s]\n",
      "INFO:cityseer.tools.graphs:Ironing edges.\n",
      "100%|██████████| 12801/12801 [00:00<00:00, 40015.51it/s]\n",
      "INFO:cityseer.tools.graphs:Merging parallel edges within buffer of 1.\n",
      "100%|██████████| 12797/12797 [00:00<00:00, 303702.22it/s]\n",
      "INFO:cityseer.tools.io:Preparing node and edge arrays from networkX graph.\n"
     ]
    },
    {
     "name": "stdout",
     "output_type": "stream",
     "text": [
      "\tSalt Lake City completed in: 0.158 minutes\n",
      "\n",
      "\n",
      "\n",
      "\n",
      "\n",
      "===================================================================\n",
      "Starting Wuhan\n",
      "-------------------------\n",
      "\n",
      "\n",
      "\n"
     ]
    },
    {
     "name": "stderr",
     "output_type": "stream",
     "text": [
      "100%|██████████| 92667/92667 [00:05<00:00, 15955.65it/s]\n",
      "INFO:cityseer.tools.graphs:Merging parallel edges within buffer of 1.\n",
      "100%|██████████| 92667/92667 [00:00<00:00, 255404.18it/s]\n",
      "INFO:cityseer.tools.graphs:Removing filler nodes.\n",
      "100%|██████████| 82891/82891 [00:04<00:00, 20387.45it/s]\n",
      "INFO:cityseer.tools.graphs:Removing dangling nodes.\n",
      "100%|██████████| 19549/19549 [00:00<00:00, 648459.40it/s]\n",
      "INFO:cityseer.tools.graphs:Removing filler nodes.\n",
      "100%|██████████| 19433/19433 [00:00<00:00, 806953.08it/s]\n",
      "INFO:cityseer.tools.util:Creating edges STR tree.\n",
      "100%|██████████| 29120/29120 [00:00<00:00, 1223976.15it/s]\n",
      "INFO:cityseer.tools.graphs:Splitting opposing edges.\n",
      "100%|██████████| 19369/19369 [00:01<00:00, 10544.77it/s]\n",
      "INFO:cityseer.tools.graphs:Squashing opposing nodes\n",
      "INFO:cityseer.tools.graphs:Merging parallel edges within buffer of 25.\n",
      "100%|██████████| 31499/31499 [00:00<00:00, 72791.23it/s] \n",
      "INFO:cityseer.tools.graphs:Removing filler nodes.\n",
      "100%|██████████| 19369/19369 [00:00<00:00, 845988.96it/s]\n",
      "INFO:cityseer.tools.util:Creating nodes STR tree\n",
      "100%|██████████| 19302/19302 [00:00<00:00, 220126.80it/s]\n",
      "INFO:cityseer.tools.graphs:Consolidating nodes.\n",
      "100%|██████████| 19302/19302 [00:02<00:00, 9159.77it/s] \n",
      "INFO:cityseer.tools.graphs:Merging parallel edges within buffer of 25.\n",
      "100%|██████████| 27281/27281 [00:00<00:00, 43434.17it/s]\n",
      "INFO:cityseer.tools.graphs:Removing filler nodes.\n",
      "100%|██████████| 16965/16965 [00:00<00:00, 571601.36it/s]\n",
      "INFO:cityseer.tools.graphs:Ironing edges.\n",
      "100%|██████████| 26076/26076 [00:00<00:00, 29965.49it/s]\n",
      "INFO:cityseer.tools.graphs:Merging parallel edges within buffer of 1.\n",
      "100%|██████████| 26073/26073 [00:00<00:00, 323718.95it/s]\n",
      "INFO:cityseer.tools.io:Preparing node and edge arrays from networkX graph.\n"
     ]
    },
    {
     "name": "stdout",
     "output_type": "stream",
     "text": [
      "\tWuhan completed in: 0.347 minutes\n",
      "\n",
      "\n",
      "\n",
      "\n",
      "\n",
      "~ ~ ~ ~ ~ ~ ~ ~ ~ ~ ~ ~ ~ ~ ~ ~ ~ ~ ~ ~ ~ ~ ~ ~ ~ ~ ~ ~ ~ ~ ~ ~ ~ ~ ~ \n",
      " ~ ~ ~ ~ ~ ~ ~ ~ ~ ~ ~ ~ ~ ~ ~ ~ ~ ~ ~ ~ ~ ~ ~ ~ ~ ~ ~ ~ ~ ~ ~ ~ ~ ~ ~\n",
      "~ ~ ~ ~ ~ ~ ~ ~ ~ ~ ~ ~ ~ ~ ~ ~ ~ ~ ~ ~ ~ ~ ~ ~ ~ ~ ~ ~ ~ ~ ~ ~ ~ ~ ~ \n",
      " ~ ~ ~ ~ ~ ~ ~ ~ ~ ~ ~ ~ ~ ~ ~ ~ ~ ~ ~ ~ ~ ~ ~ ~ ~ ~ ~ ~ ~ ~ ~ ~ ~ ~ ~\n",
      "Total runtime: 1.823 minutes\n"
     ]
    }
   ],
   "source": [
    "global_start = time.time()\n",
    "\n",
    "for city, fua in utils.city_fua.items():\n",
    "    print(\"===================================================================\")\n",
    "    print(f\"Starting {city}\")\n",
    "    print(\"-------------------------\")\n",
    "    print(\"\\n\\n\")\n",
    "\n",
    "    fua_start = time.time()\n",
    "    simplified = run_cityseer(city)\n",
    "    output_fua = output_base / pathlib.Path(f\"{fua}\", \"cityseer\", f\"{fua}.parquet\")\n",
    "    simplified.to_parquet(output_fua)\n",
    "    fua_end = time.time()\n",
    "    fua_duration = round((fua_end - fua_start) / 60.0, 3)\n",
    "\n",
    "    print(f\"\\t{city} completed in: {fua_duration} minutes\")\n",
    "    print(\"\\n\\n\\n\\n\")\n",
    "\n",
    "print(\"~ ~ ~ ~ ~ ~ ~ ~ ~ ~ ~ ~ ~ ~ ~ ~ ~ ~ ~ ~ ~ ~ ~ ~ ~ ~ ~ ~ ~ ~ ~ ~ ~ ~ ~ \")\n",
    "print(\" ~ ~ ~ ~ ~ ~ ~ ~ ~ ~ ~ ~ ~ ~ ~ ~ ~ ~ ~ ~ ~ ~ ~ ~ ~ ~ ~ ~ ~ ~ ~ ~ ~ ~ ~\")\n",
    "print(\"~ ~ ~ ~ ~ ~ ~ ~ ~ ~ ~ ~ ~ ~ ~ ~ ~ ~ ~ ~ ~ ~ ~ ~ ~ ~ ~ ~ ~ ~ ~ ~ ~ ~ ~ \")\n",
    "print(\" ~ ~ ~ ~ ~ ~ ~ ~ ~ ~ ~ ~ ~ ~ ~ ~ ~ ~ ~ ~ ~ ~ ~ ~ ~ ~ ~ ~ ~ ~ ~ ~ ~ ~ ~\")\n",
    "\n",
    "global_end = time.time()\n",
    "global_duration = round((global_end - global_start) / 60.0, 3)\n",
    "\n",
    "print(f\"Total runtime: {global_duration} minutes\")"
   ]
  },
  {
   "cell_type": "code",
   "execution_count": null,
   "id": "107c1e00",
   "metadata": {},
   "outputs": [],
   "source": []
  }
 ],
 "metadata": {
  "gist_info": {
   "create_date": "2024-01-22T01:48:06Z",
   "gist_id": "582dc1f207054a861eda93e975713b4b",
   "gist_url": "https://gist.github.com/jGaboardi/582dc1f207054a861eda93e975713b4b"
  },
  "kernelspec": {
   "display_name": "default",
   "language": "python",
   "name": "python3"
  },
  "language_info": {
   "codemirror_mode": {
    "name": "ipython",
    "version": 3
   },
   "file_extension": ".py",
   "mimetype": "text/x-python",
   "name": "python",
   "nbconvert_exporter": "python",
   "pygments_lexer": "ipython3",
   "version": "3.12.7"
  }
 },
 "nbformat": 4,
 "nbformat_minor": 5
}
