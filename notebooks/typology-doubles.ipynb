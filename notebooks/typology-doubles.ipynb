{
 "cells": [
  {
   "cell_type": "markdown",
   "metadata": {},
   "source": [
    "# Typology for doubles\n",
    "\n",
    "1. Identify 2-artifact clusters (pairs of contiguous artifacts); make sure that the union has no interior\n",
    "2. For each cluster, classify the inside edge as C or nonC (`drop_interline`: bool)\n",
    "3. Visualize and test if it works"
   ]
  },
  {
   "cell_type": "markdown",
   "metadata": {},
   "source": [
    "- number of nodes\n",
    "- number of continuity groups\n",
    "- filter non-planarity artifacts\n",
    "- CES counts\n",
    "- prime detection\n",
    "- crosses detection\n",
    "- touches detecion"
   ]
  },
  {
   "cell_type": "code",
   "execution_count": null,
   "metadata": {},
   "outputs": [],
   "source": [
    "import geopandas as gpd\n",
    "import matplotlib.pyplot as plt\n",
    "import momepy\n",
    "import numpy as np\n",
    "import pandas as pd\n",
    "import shapely\n",
    "from libpysal import graph\n",
    "from scipy import sparse\n",
    "import folium\n",
    "import folium.plugins as plugins\n",
    "import shapely\n",
    "\n",
    "from core import algorithms, utils\n",
    "from core.geometry import voronoi_skeleton"
   ]
  },
  {
   "cell_type": "markdown",
   "metadata": {},
   "source": [
    "Specify case metadata"
   ]
  },
  {
   "cell_type": "code",
   "execution_count": null,
   "metadata": {},
   "outputs": [],
   "source": [
    "case = \"Liège\""
   ]
  },
  {
   "cell_type": "markdown",
   "metadata": {},
   "source": [
    "Read road data"
   ]
  },
  {
   "cell_type": "code",
   "execution_count": null,
   "metadata": {},
   "outputs": [],
   "source": [
    "roads = utils.read_parquet_roads(case)"
   ]
  },
  {
   "cell_type": "markdown",
   "metadata": {},
   "source": [
    "Remove duplicated roads"
   ]
  },
  {
   "cell_type": "code",
   "execution_count": null,
   "metadata": {},
   "outputs": [],
   "source": [
    "roads = momepy.remove_false_nodes(roads)\n",
    "roads = roads[~roads.geometry.duplicated()].reset_index()\n",
    "roads = momepy.remove_false_nodes(roads)"
   ]
  },
  {
   "cell_type": "markdown",
   "metadata": {},
   "source": [
    "Assign COINS-based information to roads"
   ]
  },
  {
   "cell_type": "code",
   "execution_count": null,
   "metadata": {},
   "outputs": [],
   "source": [
    "# %%time\n",
    "roads, coins = algorithms.common.continuity(roads)"
   ]
  },
  {
   "cell_type": "markdown",
   "metadata": {},
   "source": [
    "Read artifacts"
   ]
  },
  {
   "cell_type": "code",
   "execution_count": null,
   "metadata": {},
   "outputs": [],
   "source": [
    "artifacts = momepy.FaceArtifacts(roads).face_artifacts.set_crs(roads.crs)\n",
    "artifacts[\"id\"] = artifacts.index"
   ]
  },
  {
   "cell_type": "markdown",
   "metadata": {},
   "source": [
    "Remove edges fully within the artifact (dangles)."
   ]
  },
  {
   "cell_type": "code",
   "execution_count": null,
   "metadata": {},
   "outputs": [],
   "source": [
    "a_idx, _ = roads.sindex.query(artifacts.geometry, predicate=\"contains\")\n",
    "artifacts = artifacts.drop(artifacts.index[a_idx])"
   ]
  },
  {
   "cell_type": "markdown",
   "metadata": {},
   "source": [
    "Get nodes from the network."
   ]
  },
  {
   "cell_type": "code",
   "execution_count": null,
   "metadata": {},
   "outputs": [],
   "source": [
    "nodes = momepy.nx_to_gdf(momepy.node_degree(momepy.gdf_to_nx(roads)), lines=False)"
   ]
  },
  {
   "cell_type": "markdown",
   "metadata": {},
   "source": [
    "Link nodes to artifacts"
   ]
  },
  {
   "cell_type": "code",
   "execution_count": null,
   "metadata": {},
   "outputs": [],
   "source": [
    "node_idx, artifact_idx = artifacts.sindex.query(\n",
    "    nodes.buffer(0.1), predicate=\"intersects\"\n",
    ")\n",
    "intersects = sparse.coo_array(\n",
    "    ([True] * len(node_idx), (node_idx, artifact_idx)),\n",
    "    shape=(len(nodes), len(artifacts)),\n",
    "    dtype=np.bool_,\n",
    ")"
   ]
  },
  {
   "cell_type": "markdown",
   "metadata": {},
   "source": [
    "Compute number of nodes per artifact"
   ]
  },
  {
   "cell_type": "code",
   "execution_count": null,
   "metadata": {},
   "outputs": [],
   "source": [
    "artifacts[\"node_count\"] = intersects.sum(axis=0)"
   ]
  },
  {
   "cell_type": "markdown",
   "metadata": {},
   "source": [
    "Apply additional filters to remove artifacts that are not suitable for simplification. These may be artifacts that:\n",
    "- are too large in size\n",
    "- are part of a larger intersection that may need different methods of simplification"
   ]
  },
  {
   "cell_type": "code",
   "execution_count": null,
   "metadata": {},
   "outputs": [],
   "source": [
    "area_threshold = 1250  # this is hard to determine but it can be done iteratively using different thresholds\n",
    "circular_compactness_threshold = 0.15  # same as above\n",
    "\n",
    "rook = graph.Graph.build_contiguity(artifacts, rook=True)"
   ]
  },
  {
   "cell_type": "markdown",
   "metadata": {},
   "source": [
    "**keeping only size 2 clusters!**"
   ]
  },
  {
   "cell_type": "code",
   "execution_count": null,
   "metadata": {},
   "outputs": [],
   "source": [
    "artifacts['comp'] = rook.component_labels\n",
    "counts = artifacts['comp'].value_counts()\n",
    "artifacts = artifacts.loc[artifacts['comp'].isin(counts[counts==2].index)]"
   ]
  },
  {
   "cell_type": "markdown",
   "metadata": {},
   "source": [
    "Compute number of stroke groups per artifact."
   ]
  },
  {
   "cell_type": "code",
   "execution_count": null,
   "metadata": {},
   "outputs": [],
   "source": [
    "def _get_stroke_info(artifacts, roads):\n",
    "    strokes = []\n",
    "    c_ = []\n",
    "    e_ = []\n",
    "    s_ = []\n",
    "    for geom in artifacts.geometry:\n",
    "        singles = 0\n",
    "        ends = 0\n",
    "        edges = roads.iloc[roads.sindex.query(geom, predicate=\"covers\")]\n",
    "        if (  # roundabout special case\n",
    "            edges.coins_group.nunique() == 1\n",
    "            and edges.shape[0] == edges.coins_count.iloc[0]\n",
    "        ):\n",
    "            singles = 1\n",
    "            mains = 0\n",
    "        else:\n",
    "            all_ends = edges[edges.coins_end]\n",
    "            mains = edges[\n",
    "                ~edges.coins_group.isin(all_ends.coins_group)\n",
    "            ].coins_group.nunique()\n",
    "\n",
    "            visited = []\n",
    "            for coins_count, group in zip(\n",
    "                all_ends.coins_count, all_ends.coins_group, strict=True\n",
    "            ):\n",
    "                if (group not in visited) and (\n",
    "                    coins_count == (edges.coins_group == group).sum()\n",
    "                ):\n",
    "                    singles += 1\n",
    "                    visited.append(group)\n",
    "                elif group not in visited:\n",
    "                    ends += 1\n",
    "                    # do not add to visited as they may be disjoint within the artifact\n",
    "        strokes.append(edges.coins_group.nunique())\n",
    "        c_.append(mains)\n",
    "        e_.append(ends)\n",
    "        s_.append(singles)\n",
    "    return strokes, c_, e_, s_\n",
    "\n",
    "\n",
    "strokes, c_, e_, s_ = _get_stroke_info(artifacts, roads)\n",
    "artifacts[\"stroke_count\"] = strokes\n",
    "artifacts[\"C\"] = c_\n",
    "artifacts[\"E\"] = e_\n",
    "artifacts[\"S\"] = s_"
   ]
  },
  {
   "cell_type": "markdown",
   "metadata": {},
   "source": [
    "Filer artifacts caused by non-planar intersections."
   ]
  },
  {
   "cell_type": "code",
   "execution_count": null,
   "metadata": {},
   "outputs": [],
   "source": [
    "artifacts[\"non_planar\"] = artifacts[\"stroke_count\"] > artifacts[\"node_count\"]\n",
    "a_idx, r_idx = roads.sindex.query(artifacts.geometry.boundary, predicate=\"overlaps\")\n",
    "artifacts.iloc[np.unique(a_idx), -1] = True"
   ]
  },
  {
   "cell_type": "markdown",
   "metadata": {},
   "source": [
    "**Remove (for now) the clusters that contain at least one non-planar component** (we will deal with them later, ...?)"
   ]
  },
  {
   "cell_type": "code",
   "execution_count": null,
   "metadata": {},
   "outputs": [],
   "source": [
    "# non_planar_cluster: number of non-planar artifacts per cluster\n",
    "artifacts[\"non_planar_cluster\"] = artifacts.apply(lambda x: sum(artifacts.loc[artifacts[\"comp\"]==x.comp][\"non_planar\"]), axis = 1)\n",
    "# dealing with the non-planar later!\n",
    "artifacts = artifacts[artifacts.non_planar_cluster == 0]"
   ]
  },
  {
   "cell_type": "markdown",
   "metadata": {},
   "source": [
    "Count intersititial nodes (primes)."
   ]
  },
  {
   "cell_type": "code",
   "execution_count": null,
   "metadata": {},
   "outputs": [],
   "source": [
    "artifacts[\"interstitial_nodes\"] = artifacts.node_count - artifacts[[\"C\", \"E\", \"S\"]].sum(\n",
    "    axis=1\n",
    ")"
   ]
  },
  {
   "cell_type": "markdown",
   "metadata": {},
   "source": [
    "Define the type label."
   ]
  },
  {
   "cell_type": "code",
   "execution_count": null,
   "metadata": {},
   "outputs": [],
   "source": [
    "ces_type = []\n",
    "for x in artifacts[[\"node_count\", \"C\", \"E\", \"S\"]].itertuples():\n",
    "    ces_type.append(f\"{x.node_count}{'C' * x.C}{'E' * x.E}{'S' * x.S}\")\n",
    "artifacts[\"ces_type\"] = ces_type"
   ]
  },
  {
   "cell_type": "markdown",
   "metadata": {},
   "source": [
    "**Classify interlines**"
   ]
  },
  {
   "cell_type": "code",
   "execution_count": null,
   "metadata": {},
   "outputs": [],
   "source": [
    "def classify_interline(mycluster, artifacts, roads):\n",
    "\n",
    "    # get the cluster geometry\n",
    "    cluster_geom = artifacts[artifacts.comp == mycluster].union_all()\n",
    "\n",
    "    # find the road segment that is contained within the cluster geometry\n",
    "    road_contained = roads.sindex.query(cluster_geom, predicate=\"contains\")\n",
    "    \n",
    "    # make sure we have uniquely identified the road segment\n",
    "    assert len(road_contained)==1 \n",
    "\n",
    "    # return the ID of the road segment (to potentially drop later) and coins_end True/False    \n",
    "    return road_contained[0], roads.loc[road_contained][\"coins_end\"].values[0]\n",
    "\n",
    "interlines = artifacts.comp.apply(lambda x: classify_interline(x, artifacts, roads))\n",
    "artifacts[\"inter_road\"] = [v[0] for v in interlines]\n",
    "artifacts[\"inter_coins_end\"] = [v[1] for v in interlines]\n",
    "artifacts[\"drop_interline\"] = artifacts[\"inter_coins_end\"]"
   ]
  },
  {
   "cell_type": "code",
   "execution_count": null,
   "metadata": {},
   "outputs": [],
   "source": [
    "# if one of the 2 artifacts is of type 0C0EnS, then no matter whether inter_coins_end is True or False! it will always be S\n",
    "comps_with_s = list(artifacts[(artifacts.C == 0) & (artifacts.E == 0)].comp)\n",
    "artifacts.loc[artifacts[\"comp\"].isin(comps_with_s), \"drop_interline\"] = True"
   ]
  },
  {
   "cell_type": "markdown",
   "metadata": {},
   "source": [
    "Visual check to see whether classification of interlines worked"
   ]
  },
  {
   "cell_type": "code",
   "execution_count": null,
   "metadata": {},
   "outputs": [],
   "source": [
    "m = roads.explore(\n",
    "    \"coins_len\",\n",
    "    k=20,\n",
    "    scheme=\"quantiles\",\n",
    "    tiles=\"cartodb positron\",\n",
    "    prefer_canvas=True,\n",
    "    name=\"Roads\",\n",
    "    highlight_kwds={\"color\": \"red\"},\n",
    "    style_kwds=dict(weight=5),\n",
    "    max_zoom=52,\n",
    "    opacity=0.5,\n",
    ")\n",
    "artifacts.explore(m=m, name=\"Artifacts\", column=\"drop_interline\")\n",
    "nodes.explore(m=m, name=\"Nodes\", color=\"blue\", marker_size=250)\n",
    "folium.LayerControl().add_to(m)\n",
    "plugins.MousePosition().add_to(m)\n",
    "\n",
    "m"
   ]
  }
 ],
 "metadata": {
  "kernelspec": {
   "display_name": "simplification",
   "language": "python",
   "name": "python3"
  },
  "language_info": {
   "codemirror_mode": {
    "name": "ipython",
    "version": 3
   },
   "file_extension": ".py",
   "mimetype": "text/x-python",
   "name": "python",
   "nbconvert_exporter": "python",
   "pygments_lexer": "ipython3",
   "version": "3.11.9"
  }
 },
 "nbformat": 4,
 "nbformat_minor": 2
}
