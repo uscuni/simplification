{
 "cells": [
  {
   "cell_type": "markdown",
   "metadata": {},
   "source": [
    "# Workflow for n-artifact clusters\n",
    "\n",
    "1. **additional artifacts**: \n",
    "\n",
    "(a) completely surrounded by artifacts --> artifacts themselves\n",
    "\n",
    "(b) contiguous to an artifact (or artifact cluster?) and with an artifact index NEAR the artifact index for that city\n",
    "\n",
    "2. Identify n-artifact clusters (clusters of contiguous artifacts, n>2); make sure that the union has no interior\n",
    "3. For each cluster, drop all the interior lines and skeletonize\n",
    "4. Visualize to see if it works"
   ]
  },
  {
   "cell_type": "markdown",
   "metadata": {},
   "source": [
    "- number of nodes\n",
    "- number of continuity groups\n",
    "- filter non-planarity artifacts\n",
    "- CES counts\n",
    "- prime detection\n",
    "- crosses detection\n",
    "- touches detecion"
   ]
  },
  {
   "cell_type": "code",
   "execution_count": 1,
   "metadata": {},
   "outputs": [],
   "source": [
    "import geopandas as gpd\n",
    "import matplotlib.pyplot as plt\n",
    "import momepy\n",
    "import numpy as np\n",
    "import pandas as pd\n",
    "import shapely\n",
    "from libpysal import graph\n",
    "from scipy import sparse\n",
    "import folium\n",
    "import folium.plugins as plugins\n",
    "import shapely\n",
    "\n",
    "from core import algorithms, utils\n",
    "from core.geometry import voronoi_skeleton"
   ]
  },
  {
   "cell_type": "markdown",
   "metadata": {},
   "source": [
    "Specify case metadata"
   ]
  },
  {
   "cell_type": "code",
   "execution_count": 2,
   "metadata": {},
   "outputs": [],
   "source": [
    "case = \"Liège\""
   ]
  },
  {
   "cell_type": "markdown",
   "metadata": {},
   "source": [
    "Read road data"
   ]
  },
  {
   "cell_type": "code",
   "execution_count": 3,
   "metadata": {},
   "outputs": [],
   "source": [
    "roads = utils.read_parquet_roads(case)"
   ]
  },
  {
   "cell_type": "markdown",
   "metadata": {},
   "source": [
    "Remove duplicated roads"
   ]
  },
  {
   "cell_type": "code",
   "execution_count": 4,
   "metadata": {},
   "outputs": [],
   "source": [
    "roads = momepy.remove_false_nodes(roads)\n",
    "roads = roads[~roads.geometry.duplicated()].reset_index()\n",
    "roads = momepy.remove_false_nodes(roads)"
   ]
  },
  {
   "cell_type": "markdown",
   "metadata": {},
   "source": [
    "Assign COINS-based information to roads"
   ]
  },
  {
   "cell_type": "code",
   "execution_count": 5,
   "metadata": {},
   "outputs": [],
   "source": [
    "# %%time\n",
    "roads, coins = algorithms.common.continuity(roads)"
   ]
  },
  {
   "cell_type": "markdown",
   "metadata": {},
   "source": [
    "Read **polygons**"
   ]
  },
  {
   "cell_type": "code",
   "execution_count": 6,
   "metadata": {},
   "outputs": [],
   "source": [
    "fas = momepy.FaceArtifacts(roads)\n",
    "polygons = fas.polygons.set_crs(roads.crs)"
   ]
  },
  {
   "cell_type": "markdown",
   "metadata": {},
   "source": [
    "**Iteratively identify polygons that are fully enclosed by artifacts, or that touch artifacts and have a FAI in +1% of threshold, as artifacts**  "
   ]
  },
  {
   "cell_type": "code",
   "execution_count": 7,
   "metadata": {},
   "outputs": [],
   "source": [
    "# rook neighbors\n",
    "rook = graph.Graph.build_contiguity(polygons, rook=True)\n",
    "polygons['neighbors'] = rook.neighbors\n",
    "prop = 1.01\n",
    "\n",
    "# polygons are not artifacts,\n",
    "polygons[\"is_artifact\"] = False\n",
    "# unless the fai is below the threshold,\n",
    "polygons.loc[polygons.face_artifact_index < fas.threshold, \"is_artifact\"] = True\n",
    "\n",
    "# OR (iteratively)\n",
    "\n",
    "while True:\n",
    "\n",
    "    artifact_count_before = sum(polygons.is_artifact)\n",
    "\n",
    "    # polygons that are enclosed by artifacts\n",
    "    polygons[\"enclosed\"] = polygons.apply(\n",
    "        lambda x: len(x.neighbors)>0 and all(polygons.loc[list(x.neighbors), \"is_artifact\"]), \n",
    "        axis = 1\n",
    "    )\n",
    "    # setting is_artifact to True\n",
    "    polygons.loc[polygons.enclosed, \"is_artifact\"] = True\n",
    "\n",
    "    # polygons that are touching artifacts and within x% of fai\n",
    "    polygons[\"touching\"] = polygons.apply(\n",
    "        lambda x: len(x.neighbors)>0 and any(polygons.loc[list(x.neighbors), \"is_artifact\"]), \n",
    "        axis = 1\n",
    "    )\n",
    "\n",
    "    # setting is_artifact to True\n",
    "    polygons.loc[\n",
    "        (polygons.touching == True) & (polygons.face_artifact_index < fas.threshold * prop),\n",
    "        \"is_artifact\"\n",
    "    ] = True\n",
    "\n",
    "    artifact_count_after = sum(polygons.is_artifact)\n",
    "    if artifact_count_after == artifact_count_before:\n",
    "        break"
   ]
  },
  {
   "cell_type": "code",
   "execution_count": 8,
   "metadata": {},
   "outputs": [
    {
     "name": "stdout",
     "output_type": "stream",
     "text": [
      "3662\n"
     ]
    }
   ],
   "source": [
    "print(artifact_count_after)"
   ]
  },
  {
   "cell_type": "code",
   "execution_count": null,
   "metadata": {},
   "outputs": [],
   "source": [
    "# m = roads.explore(\n",
    "#     \"coins_len\",\n",
    "#     k=20,\n",
    "#     scheme=\"quantiles\",\n",
    "#     tiles=\"cartodb positron\",\n",
    "#     prefer_canvas=True,\n",
    "#     name=\"Roads\",\n",
    "#     highlight_kwds={\"color\": \"red\"},\n",
    "#     style_kwds=dict(weight=5),\n",
    "#     max_zoom=52,\n",
    "#     opacity=0.5,\n",
    "# )\n",
    "# polygons[polygons.is_artifact].explore(m=m, name = \"All artifacts\", color = \"red\")\n",
    "# polygons[polygons.face_artifact_index < fas.threshold].explore(m=m, name = \"Initial artifacts\", color = \"green\")\n",
    "# #nodes.explore(m=m, name=\"Nodes\", color=\"blue\", marker_size=250)\n",
    "# folium.LayerControl().add_to(m)\n",
    "# plugins.MousePosition().add_to(m)\n",
    "\n",
    "# m"
   ]
  },
  {
   "cell_type": "markdown",
   "metadata": {},
   "source": [
    "**Get artifacts gdf**"
   ]
  },
  {
   "cell_type": "code",
   "execution_count": 9,
   "metadata": {},
   "outputs": [
    {
     "data": {
      "text/html": [
       "<div>\n",
       "<style scoped>\n",
       "    .dataframe tbody tr th:only-of-type {\n",
       "        vertical-align: middle;\n",
       "    }\n",
       "\n",
       "    .dataframe tbody tr th {\n",
       "        vertical-align: top;\n",
       "    }\n",
       "\n",
       "    .dataframe thead th {\n",
       "        text-align: right;\n",
       "    }\n",
       "</style>\n",
       "<table border=\"1\" class=\"dataframe\">\n",
       "  <thead>\n",
       "    <tr style=\"text-align: right;\">\n",
       "      <th></th>\n",
       "      <th>geometry</th>\n",
       "      <th>id</th>\n",
       "    </tr>\n",
       "  </thead>\n",
       "  <tbody>\n",
       "    <tr>\n",
       "      <th>0</th>\n",
       "      <td>POLYGON ((687053.642 5615820.989, 687059.393 5...</td>\n",
       "      <td>0</td>\n",
       "    </tr>\n",
       "    <tr>\n",
       "      <th>2</th>\n",
       "      <td>POLYGON ((687053.642 5615820.989, 687051.723 5...</td>\n",
       "      <td>2</td>\n",
       "    </tr>\n",
       "    <tr>\n",
       "      <th>4</th>\n",
       "      <td>POLYGON ((677400.757 5613704.998, 677429.096 5...</td>\n",
       "      <td>4</td>\n",
       "    </tr>\n",
       "    <tr>\n",
       "      <th>7</th>\n",
       "      <td>POLYGON ((682353.554 5612410.841, 682350.603 5...</td>\n",
       "      <td>7</td>\n",
       "    </tr>\n",
       "    <tr>\n",
       "      <th>10</th>\n",
       "      <td>POLYGON ((685360.558 5609766.62, 685359.515 56...</td>\n",
       "      <td>10</td>\n",
       "    </tr>\n",
       "  </tbody>\n",
       "</table>\n",
       "</div>"
      ],
      "text/plain": [
       "                                             geometry  id\n",
       "0   POLYGON ((687053.642 5615820.989, 687059.393 5...   0\n",
       "2   POLYGON ((687053.642 5615820.989, 687051.723 5...   2\n",
       "4   POLYGON ((677400.757 5613704.998, 677429.096 5...   4\n",
       "7   POLYGON ((682353.554 5612410.841, 682350.603 5...   7\n",
       "10  POLYGON ((685360.558 5609766.62, 685359.515 56...  10"
      ]
     },
     "execution_count": 9,
     "metadata": {},
     "output_type": "execute_result"
    }
   ],
   "source": [
    "artifacts = polygons[polygons.is_artifact][[\"geometry\"]].copy()\n",
    "artifacts[\"id\"] = artifacts.index\n",
    "artifacts.head()"
   ]
  },
  {
   "cell_type": "markdown",
   "metadata": {},
   "source": [
    "Remove edges fully within the artifact (dangles)."
   ]
  },
  {
   "cell_type": "code",
   "execution_count": 10,
   "metadata": {},
   "outputs": [],
   "source": [
    "a_idx, _ = roads.sindex.query(artifacts.geometry, predicate=\"contains\")\n",
    "artifacts = artifacts.drop(artifacts.index[a_idx])"
   ]
  },
  {
   "cell_type": "markdown",
   "metadata": {},
   "source": [
    "Get nodes from the network."
   ]
  },
  {
   "cell_type": "code",
   "execution_count": 11,
   "metadata": {},
   "outputs": [],
   "source": [
    "nodes = momepy.nx_to_gdf(momepy.node_degree(momepy.gdf_to_nx(roads)), lines=False)"
   ]
  },
  {
   "cell_type": "markdown",
   "metadata": {},
   "source": [
    "Link nodes to artifacts"
   ]
  },
  {
   "cell_type": "code",
   "execution_count": 12,
   "metadata": {},
   "outputs": [],
   "source": [
    "node_idx, artifact_idx = artifacts.sindex.query(\n",
    "    nodes.buffer(0.1), predicate=\"intersects\"\n",
    ")\n",
    "intersects = sparse.coo_array(\n",
    "    ([True] * len(node_idx), (node_idx, artifact_idx)),\n",
    "    shape=(len(nodes), len(artifacts)),\n",
    "    dtype=np.bool_,\n",
    ")"
   ]
  },
  {
   "cell_type": "markdown",
   "metadata": {},
   "source": [
    "Compute number of nodes per artifact"
   ]
  },
  {
   "cell_type": "code",
   "execution_count": 13,
   "metadata": {},
   "outputs": [],
   "source": [
    "artifacts[\"node_count\"] = intersects.sum(axis=0)"
   ]
  },
  {
   "cell_type": "markdown",
   "metadata": {},
   "source": [
    "Apply additional filters to remove artifacts that are not suitable for simplification. These may be artifacts that:\n",
    "- are too large in size\n",
    "- are part of a larger intersection that may need different methods of simplification"
   ]
  },
  {
   "cell_type": "code",
   "execution_count": 14,
   "metadata": {},
   "outputs": [],
   "source": [
    "area_threshold = 1250  # this is hard to determine but it can be done iteratively using different thresholds\n",
    "circular_compactness_threshold = 0.15  # same as above\n",
    "\n",
    "rook = graph.Graph.build_contiguity(artifacts, rook=True)"
   ]
  },
  {
   "cell_type": "markdown",
   "metadata": {},
   "source": [
    "**keeping only size n>2 clusters!**"
   ]
  },
  {
   "cell_type": "code",
   "execution_count": 15,
   "metadata": {},
   "outputs": [],
   "source": [
    "artifacts['comp'] = rook.component_labels\n",
    "counts = artifacts['comp'].value_counts()\n",
    "artifacts = artifacts.loc[artifacts['comp'].isin(counts[counts>2].index)].copy()"
   ]
  },
  {
   "cell_type": "markdown",
   "metadata": {},
   "source": [
    "Compute number of stroke groups per artifact."
   ]
  },
  {
   "cell_type": "code",
   "execution_count": 17,
   "metadata": {},
   "outputs": [],
   "source": [
    "def _get_stroke_info(artifacts, roads):\n",
    "    strokes = []\n",
    "    c_ = []\n",
    "    e_ = []\n",
    "    s_ = []\n",
    "    for geom in artifacts.geometry:\n",
    "        singles = 0\n",
    "        ends = 0\n",
    "        edges = roads.iloc[roads.sindex.query(geom, predicate=\"covers\")]\n",
    "        if (  # roundabout special case\n",
    "            edges.coins_group.nunique() == 1\n",
    "            and edges.shape[0] == edges.coins_count.iloc[0]\n",
    "        ):\n",
    "            singles = 1\n",
    "            mains = 0\n",
    "        else:\n",
    "            all_ends = edges[edges.coins_end]\n",
    "            mains = edges[\n",
    "                ~edges.coins_group.isin(all_ends.coins_group)\n",
    "            ].coins_group.nunique()\n",
    "\n",
    "            visited = []\n",
    "            for coins_count, group in zip(\n",
    "                all_ends.coins_count, all_ends.coins_group, strict=True\n",
    "            ):\n",
    "                if (group not in visited) and (\n",
    "                    coins_count == (edges.coins_group == group).sum()\n",
    "                ):\n",
    "                    singles += 1\n",
    "                    visited.append(group)\n",
    "                elif group not in visited:\n",
    "                    ends += 1\n",
    "                    # do not add to visited as they may be disjoint within the artifact\n",
    "        strokes.append(edges.coins_group.nunique())\n",
    "        c_.append(mains)\n",
    "        e_.append(ends)\n",
    "        s_.append(singles)\n",
    "    return strokes, c_, e_, s_\n",
    "\n",
    "\n",
    "strokes, c_, e_, s_ = _get_stroke_info(artifacts, roads)\n",
    "artifacts[\"stroke_count\"] = strokes\n",
    "artifacts[\"C\"] = c_\n",
    "artifacts[\"E\"] = e_\n",
    "artifacts[\"S\"] = s_"
   ]
  },
  {
   "cell_type": "markdown",
   "metadata": {},
   "source": [
    "Filer artifacts caused by non-planar intersections."
   ]
  },
  {
   "cell_type": "code",
   "execution_count": 18,
   "metadata": {},
   "outputs": [],
   "source": [
    "artifacts[\"non_planar\"] = artifacts[\"stroke_count\"] > artifacts[\"node_count\"]\n",
    "a_idx, r_idx = roads.sindex.query(artifacts.geometry.boundary, predicate=\"overlaps\")\n",
    "artifacts.iloc[np.unique(a_idx), -1] = True"
   ]
  },
  {
   "cell_type": "markdown",
   "metadata": {},
   "source": [
    "**Remove (for now) the clusters that contain at least one non-planar component** (we will deal with them later, ...?)"
   ]
  },
  {
   "cell_type": "code",
   "execution_count": 19,
   "metadata": {},
   "outputs": [],
   "source": [
    "# non_planar_cluster: number of non-planar artifacts per cluster\n",
    "artifacts[\"non_planar_cluster\"] = artifacts.apply(lambda x: sum(artifacts.loc[artifacts[\"comp\"]==x.comp][\"non_planar\"]), axis = 1)\n",
    "# dealing with the non-planar later!\n",
    "artifacts = artifacts[artifacts.non_planar_cluster == 0].copy()"
   ]
  },
  {
   "cell_type": "markdown",
   "metadata": {},
   "source": [
    "Count intersititial nodes (primes)."
   ]
  },
  {
   "cell_type": "code",
   "execution_count": 20,
   "metadata": {},
   "outputs": [],
   "source": [
    "artifacts[\"interstitial_nodes\"] = artifacts.node_count - artifacts[[\"C\", \"E\", \"S\"]].sum(\n",
    "    axis=1\n",
    ")"
   ]
  },
  {
   "cell_type": "markdown",
   "metadata": {},
   "source": [
    "Define the type label."
   ]
  },
  {
   "cell_type": "code",
   "execution_count": 21,
   "metadata": {},
   "outputs": [],
   "source": [
    "ces_type = []\n",
    "for x in artifacts[[\"node_count\", \"C\", \"E\", \"S\"]].itertuples():\n",
    "    ces_type.append(f\"{x.node_count}{'C' * x.C}{'E' * x.E}{'S' * x.S}\")\n",
    "artifacts[\"ces_type\"] = ces_type"
   ]
  },
  {
   "cell_type": "code",
   "execution_count": 54,
   "metadata": {},
   "outputs": [
    {
     "data": {
      "text/html": [
       "<div>\n",
       "<style scoped>\n",
       "    .dataframe tbody tr th:only-of-type {\n",
       "        vertical-align: middle;\n",
       "    }\n",
       "\n",
       "    .dataframe tbody tr th {\n",
       "        vertical-align: top;\n",
       "    }\n",
       "\n",
       "    .dataframe thead th {\n",
       "        text-align: right;\n",
       "    }\n",
       "</style>\n",
       "<table border=\"1\" class=\"dataframe\">\n",
       "  <thead>\n",
       "    <tr style=\"text-align: right;\">\n",
       "      <th></th>\n",
       "      <th>geometry</th>\n",
       "      <th>id</th>\n",
       "      <th>node_count</th>\n",
       "      <th>comp</th>\n",
       "      <th>stroke_count</th>\n",
       "      <th>C</th>\n",
       "      <th>E</th>\n",
       "      <th>S</th>\n",
       "      <th>non_planar</th>\n",
       "      <th>non_planar_cluster</th>\n",
       "      <th>interstitial_nodes</th>\n",
       "      <th>ces_type</th>\n",
       "    </tr>\n",
       "  </thead>\n",
       "  <tbody>\n",
       "    <tr>\n",
       "      <th>2</th>\n",
       "      <td>POLYGON ((687053.642 5615820.989, 687051.723 5...</td>\n",
       "      <td>2</td>\n",
       "      <td>8</td>\n",
       "      <td>0</td>\n",
       "      <td>4</td>\n",
       "      <td>1</td>\n",
       "      <td>2</td>\n",
       "      <td>2</td>\n",
       "      <td>False</td>\n",
       "      <td>0</td>\n",
       "      <td>3</td>\n",
       "      <td>8CEESS</td>\n",
       "    </tr>\n",
       "    <tr>\n",
       "      <th>55</th>\n",
       "      <td>POLYGON ((677900.684 5610100.028, 677900.006 5...</td>\n",
       "      <td>55</td>\n",
       "      <td>4</td>\n",
       "      <td>11</td>\n",
       "      <td>4</td>\n",
       "      <td>2</td>\n",
       "      <td>0</td>\n",
       "      <td>2</td>\n",
       "      <td>False</td>\n",
       "      <td>0</td>\n",
       "      <td>0</td>\n",
       "      <td>4CCSS</td>\n",
       "    </tr>\n",
       "    <tr>\n",
       "      <th>56</th>\n",
       "      <td>POLYGON ((677901.299 5610083.598, 677900.684 5...</td>\n",
       "      <td>56</td>\n",
       "      <td>4</td>\n",
       "      <td>11</td>\n",
       "      <td>4</td>\n",
       "      <td>2</td>\n",
       "      <td>0</td>\n",
       "      <td>2</td>\n",
       "      <td>False</td>\n",
       "      <td>0</td>\n",
       "      <td>0</td>\n",
       "      <td>4CCSS</td>\n",
       "    </tr>\n",
       "    <tr>\n",
       "      <th>63</th>\n",
       "      <td>POLYGON ((679348.863 5609237.495, 679264.455 5...</td>\n",
       "      <td>63</td>\n",
       "      <td>4</td>\n",
       "      <td>13</td>\n",
       "      <td>3</td>\n",
       "      <td>1</td>\n",
       "      <td>1</td>\n",
       "      <td>1</td>\n",
       "      <td>False</td>\n",
       "      <td>0</td>\n",
       "      <td>1</td>\n",
       "      <td>4CES</td>\n",
       "    </tr>\n",
       "    <tr>\n",
       "      <th>64</th>\n",
       "      <td>POLYGON ((679264.455 5609252.639, 679348.863 5...</td>\n",
       "      <td>64</td>\n",
       "      <td>4</td>\n",
       "      <td>13</td>\n",
       "      <td>3</td>\n",
       "      <td>1</td>\n",
       "      <td>0</td>\n",
       "      <td>2</td>\n",
       "      <td>False</td>\n",
       "      <td>0</td>\n",
       "      <td>1</td>\n",
       "      <td>4CSS</td>\n",
       "    </tr>\n",
       "    <tr>\n",
       "      <th>65</th>\n",
       "      <td>POLYGON ((679344.914 5609222.712, 679348.863 5...</td>\n",
       "      <td>65</td>\n",
       "      <td>5</td>\n",
       "      <td>13</td>\n",
       "      <td>2</td>\n",
       "      <td>1</td>\n",
       "      <td>1</td>\n",
       "      <td>0</td>\n",
       "      <td>False</td>\n",
       "      <td>0</td>\n",
       "      <td>3</td>\n",
       "      <td>5CE</td>\n",
       "    </tr>\n",
       "    <tr>\n",
       "      <th>70</th>\n",
       "      <td>POLYGON ((682110.539 5613520.188, 682128.966 5...</td>\n",
       "      <td>70</td>\n",
       "      <td>4</td>\n",
       "      <td>15</td>\n",
       "      <td>4</td>\n",
       "      <td>0</td>\n",
       "      <td>4</td>\n",
       "      <td>0</td>\n",
       "      <td>False</td>\n",
       "      <td>0</td>\n",
       "      <td>0</td>\n",
       "      <td>4EEEE</td>\n",
       "    </tr>\n",
       "    <tr>\n",
       "      <th>97</th>\n",
       "      <td>POLYGON ((673785.405 5617205.128, 673813.319 5...</td>\n",
       "      <td>97</td>\n",
       "      <td>6</td>\n",
       "      <td>18</td>\n",
       "      <td>4</td>\n",
       "      <td>2</td>\n",
       "      <td>0</td>\n",
       "      <td>2</td>\n",
       "      <td>False</td>\n",
       "      <td>0</td>\n",
       "      <td>2</td>\n",
       "      <td>6CCSS</td>\n",
       "    </tr>\n",
       "    <tr>\n",
       "      <th>108</th>\n",
       "      <td>POLYGON ((680804.862 5615845.162, 680819.447 5...</td>\n",
       "      <td>108</td>\n",
       "      <td>5</td>\n",
       "      <td>20</td>\n",
       "      <td>3</td>\n",
       "      <td>1</td>\n",
       "      <td>1</td>\n",
       "      <td>1</td>\n",
       "      <td>False</td>\n",
       "      <td>0</td>\n",
       "      <td>2</td>\n",
       "      <td>5CES</td>\n",
       "    </tr>\n",
       "    <tr>\n",
       "      <th>117</th>\n",
       "      <td>POLYGON ((685037.929 5618924.548, 685026.517 5...</td>\n",
       "      <td>117</td>\n",
       "      <td>3</td>\n",
       "      <td>21</td>\n",
       "      <td>2</td>\n",
       "      <td>0</td>\n",
       "      <td>1</td>\n",
       "      <td>1</td>\n",
       "      <td>False</td>\n",
       "      <td>0</td>\n",
       "      <td>1</td>\n",
       "      <td>3ES</td>\n",
       "    </tr>\n",
       "    <tr>\n",
       "      <th>139</th>\n",
       "      <td>POLYGON ((671819.437 5612549.034, 671832.82 56...</td>\n",
       "      <td>139</td>\n",
       "      <td>14</td>\n",
       "      <td>24</td>\n",
       "      <td>6</td>\n",
       "      <td>2</td>\n",
       "      <td>4</td>\n",
       "      <td>2</td>\n",
       "      <td>False</td>\n",
       "      <td>0</td>\n",
       "      <td>6</td>\n",
       "      <td>14CCEEEESS</td>\n",
       "    </tr>\n",
       "    <tr>\n",
       "      <th>140</th>\n",
       "      <td>POLYGON ((682106.033 5614327.293, 682086.322 5...</td>\n",
       "      <td>140</td>\n",
       "      <td>5</td>\n",
       "      <td>25</td>\n",
       "      <td>5</td>\n",
       "      <td>1</td>\n",
       "      <td>3</td>\n",
       "      <td>1</td>\n",
       "      <td>False</td>\n",
       "      <td>0</td>\n",
       "      <td>0</td>\n",
       "      <td>5CEEES</td>\n",
       "    </tr>\n",
       "    <tr>\n",
       "      <th>141</th>\n",
       "      <td>POLYGON ((682086.322 5614320.463, 682106.033 5...</td>\n",
       "      <td>141</td>\n",
       "      <td>5</td>\n",
       "      <td>25</td>\n",
       "      <td>2</td>\n",
       "      <td>1</td>\n",
       "      <td>0</td>\n",
       "      <td>1</td>\n",
       "      <td>False</td>\n",
       "      <td>0</td>\n",
       "      <td>3</td>\n",
       "      <td>5CS</td>\n",
       "    </tr>\n",
       "    <tr>\n",
       "      <th>142</th>\n",
       "      <td>POLYGON ((682106.033 5614327.293, 682105.228 5...</td>\n",
       "      <td>142</td>\n",
       "      <td>4</td>\n",
       "      <td>25</td>\n",
       "      <td>4</td>\n",
       "      <td>1</td>\n",
       "      <td>2</td>\n",
       "      <td>1</td>\n",
       "      <td>False</td>\n",
       "      <td>0</td>\n",
       "      <td>0</td>\n",
       "      <td>4CEES</td>\n",
       "    </tr>\n",
       "    <tr>\n",
       "      <th>145</th>\n",
       "      <td>POLYGON ((673909.231 5617047.281, 673894.479 5...</td>\n",
       "      <td>145</td>\n",
       "      <td>4</td>\n",
       "      <td>18</td>\n",
       "      <td>4</td>\n",
       "      <td>2</td>\n",
       "      <td>0</td>\n",
       "      <td>2</td>\n",
       "      <td>False</td>\n",
       "      <td>0</td>\n",
       "      <td>0</td>\n",
       "      <td>4CCSS</td>\n",
       "    </tr>\n",
       "    <tr>\n",
       "      <th>147</th>\n",
       "      <td>POLYGON ((673923.3 5617054.838, 673909.231 561...</td>\n",
       "      <td>147</td>\n",
       "      <td>4</td>\n",
       "      <td>18</td>\n",
       "      <td>4</td>\n",
       "      <td>2</td>\n",
       "      <td>0</td>\n",
       "      <td>2</td>\n",
       "      <td>False</td>\n",
       "      <td>0</td>\n",
       "      <td>0</td>\n",
       "      <td>4CCSS</td>\n",
       "    </tr>\n",
       "    <tr>\n",
       "      <th>161</th>\n",
       "      <td>POLYGON ((678500.036 5613432.137, 678502.527 5...</td>\n",
       "      <td>161</td>\n",
       "      <td>4</td>\n",
       "      <td>28</td>\n",
       "      <td>3</td>\n",
       "      <td>1</td>\n",
       "      <td>1</td>\n",
       "      <td>1</td>\n",
       "      <td>False</td>\n",
       "      <td>0</td>\n",
       "      <td>1</td>\n",
       "      <td>4CES</td>\n",
       "    </tr>\n",
       "    <tr>\n",
       "      <th>164</th>\n",
       "      <td>POLYGON ((686682.309 5617935.519, 686695.074 5...</td>\n",
       "      <td>164</td>\n",
       "      <td>5</td>\n",
       "      <td>30</td>\n",
       "      <td>5</td>\n",
       "      <td>1</td>\n",
       "      <td>4</td>\n",
       "      <td>0</td>\n",
       "      <td>False</td>\n",
       "      <td>0</td>\n",
       "      <td>0</td>\n",
       "      <td>5CEEEE</td>\n",
       "    </tr>\n",
       "    <tr>\n",
       "      <th>195</th>\n",
       "      <td>POLYGON ((678089.794 5629832.387, 678120.476 5...</td>\n",
       "      <td>195</td>\n",
       "      <td>4</td>\n",
       "      <td>34</td>\n",
       "      <td>3</td>\n",
       "      <td>1</td>\n",
       "      <td>0</td>\n",
       "      <td>2</td>\n",
       "      <td>False</td>\n",
       "      <td>0</td>\n",
       "      <td>1</td>\n",
       "      <td>4CSS</td>\n",
       "    </tr>\n",
       "    <tr>\n",
       "      <th>196</th>\n",
       "      <td>POLYGON ((678120.476 5629842.92, 678089.794 56...</td>\n",
       "      <td>196</td>\n",
       "      <td>2</td>\n",
       "      <td>34</td>\n",
       "      <td>2</td>\n",
       "      <td>1</td>\n",
       "      <td>0</td>\n",
       "      <td>1</td>\n",
       "      <td>False</td>\n",
       "      <td>0</td>\n",
       "      <td>0</td>\n",
       "      <td>2CS</td>\n",
       "    </tr>\n",
       "  </tbody>\n",
       "</table>\n",
       "</div>"
      ],
      "text/plain": [
       "                                              geometry   id  node_count  comp  \\\n",
       "2    POLYGON ((687053.642 5615820.989, 687051.723 5...    2           8     0   \n",
       "55   POLYGON ((677900.684 5610100.028, 677900.006 5...   55           4    11   \n",
       "56   POLYGON ((677901.299 5610083.598, 677900.684 5...   56           4    11   \n",
       "63   POLYGON ((679348.863 5609237.495, 679264.455 5...   63           4    13   \n",
       "64   POLYGON ((679264.455 5609252.639, 679348.863 5...   64           4    13   \n",
       "65   POLYGON ((679344.914 5609222.712, 679348.863 5...   65           5    13   \n",
       "70   POLYGON ((682110.539 5613520.188, 682128.966 5...   70           4    15   \n",
       "97   POLYGON ((673785.405 5617205.128, 673813.319 5...   97           6    18   \n",
       "108  POLYGON ((680804.862 5615845.162, 680819.447 5...  108           5    20   \n",
       "117  POLYGON ((685037.929 5618924.548, 685026.517 5...  117           3    21   \n",
       "139  POLYGON ((671819.437 5612549.034, 671832.82 56...  139          14    24   \n",
       "140  POLYGON ((682106.033 5614327.293, 682086.322 5...  140           5    25   \n",
       "141  POLYGON ((682086.322 5614320.463, 682106.033 5...  141           5    25   \n",
       "142  POLYGON ((682106.033 5614327.293, 682105.228 5...  142           4    25   \n",
       "145  POLYGON ((673909.231 5617047.281, 673894.479 5...  145           4    18   \n",
       "147  POLYGON ((673923.3 5617054.838, 673909.231 561...  147           4    18   \n",
       "161  POLYGON ((678500.036 5613432.137, 678502.527 5...  161           4    28   \n",
       "164  POLYGON ((686682.309 5617935.519, 686695.074 5...  164           5    30   \n",
       "195  POLYGON ((678089.794 5629832.387, 678120.476 5...  195           4    34   \n",
       "196  POLYGON ((678120.476 5629842.92, 678089.794 56...  196           2    34   \n",
       "\n",
       "     stroke_count  C  E  S  non_planar  non_planar_cluster  \\\n",
       "2               4  1  2  2       False                   0   \n",
       "55              4  2  0  2       False                   0   \n",
       "56              4  2  0  2       False                   0   \n",
       "63              3  1  1  1       False                   0   \n",
       "64              3  1  0  2       False                   0   \n",
       "65              2  1  1  0       False                   0   \n",
       "70              4  0  4  0       False                   0   \n",
       "97              4  2  0  2       False                   0   \n",
       "108             3  1  1  1       False                   0   \n",
       "117             2  0  1  1       False                   0   \n",
       "139             6  2  4  2       False                   0   \n",
       "140             5  1  3  1       False                   0   \n",
       "141             2  1  0  1       False                   0   \n",
       "142             4  1  2  1       False                   0   \n",
       "145             4  2  0  2       False                   0   \n",
       "147             4  2  0  2       False                   0   \n",
       "161             3  1  1  1       False                   0   \n",
       "164             5  1  4  0       False                   0   \n",
       "195             3  1  0  2       False                   0   \n",
       "196             2  1  0  1       False                   0   \n",
       "\n",
       "     interstitial_nodes    ces_type  \n",
       "2                     3      8CEESS  \n",
       "55                    0       4CCSS  \n",
       "56                    0       4CCSS  \n",
       "63                    1        4CES  \n",
       "64                    1        4CSS  \n",
       "65                    3         5CE  \n",
       "70                    0       4EEEE  \n",
       "97                    2       6CCSS  \n",
       "108                   2        5CES  \n",
       "117                   1         3ES  \n",
       "139                   6  14CCEEEESS  \n",
       "140                   0      5CEEES  \n",
       "141                   3         5CS  \n",
       "142                   0       4CEES  \n",
       "145                   0       4CCSS  \n",
       "147                   0       4CCSS  \n",
       "161                   1        4CES  \n",
       "164                   0      5CEEEE  \n",
       "195                   1        4CSS  \n",
       "196                   0         2CS  "
      ]
     },
     "execution_count": 54,
     "metadata": {},
     "output_type": "execute_result"
    }
   ],
   "source": [
    "artifacts.head(20)"
   ]
  },
  {
   "cell_type": "markdown",
   "metadata": {},
   "source": [
    "**Skeletonization attempts**"
   ]
  },
  {
   "cell_type": "code",
   "execution_count": 57,
   "metadata": {},
   "outputs": [
    {
     "data": {
      "text/plain": [
       "<Axes: >"
      ]
     },
     "execution_count": 57,
     "metadata": {},
     "output_type": "execute_result"
    },
    {
     "data": {
      "image/png": "[encoded data removed]",
      "text/plain": [
       "<Figure size 640x480 with 1 Axes>"
      ]
     },
     "metadata": {},
     "output_type": "display_data"
    }
   ],
   "source": [
    "mycomp = 18\n",
    "artifacts[artifacts.comp == mycomp].plot()"
   ]
  },
  {
   "cell_type": "code",
   "execution_count": 59,
   "metadata": {},
   "outputs": [
    {
     "data": {
      "text/html": [
       "<div>\n",
       "<style scoped>\n",
       "    .dataframe tbody tr th:only-of-type {\n",
       "        vertical-align: middle;\n",
       "    }\n",
       "\n",
       "    .dataframe tbody tr th {\n",
       "        vertical-align: top;\n",
       "    }\n",
       "\n",
       "    .dataframe thead th {\n",
       "        text-align: right;\n",
       "    }\n",
       "</style>\n",
       "<table border=\"1\" class=\"dataframe\">\n",
       "  <thead>\n",
       "    <tr style=\"text-align: right;\">\n",
       "      <th></th>\n",
       "      <th>x</th>\n",
       "      <th>y</th>\n",
       "      <th>degree</th>\n",
       "      <th>nodeID</th>\n",
       "      <th>geometry</th>\n",
       "    </tr>\n",
       "  </thead>\n",
       "  <tbody>\n",
       "    <tr>\n",
       "      <th>0</th>\n",
       "      <td>687053.642439</td>\n",
       "      <td>5.615821e+06</td>\n",
       "      <td>3</td>\n",
       "      <td>0</td>\n",
       "      <td>POINT (687053.642 5615820.989)</td>\n",
       "    </tr>\n",
       "    <tr>\n",
       "      <th>1</th>\n",
       "      <td>687059.393388</td>\n",
       "      <td>5.615804e+06</td>\n",
       "      <td>3</td>\n",
       "      <td>1</td>\n",
       "      <td>POINT (687059.393 5615803.607)</td>\n",
       "    </tr>\n",
       "    <tr>\n",
       "      <th>2</th>\n",
       "      <td>687051.723154</td>\n",
       "      <td>5.615826e+06</td>\n",
       "      <td>3</td>\n",
       "      <td>2</td>\n",
       "      <td>POINT (687051.723 5615826.386)</td>\n",
       "    </tr>\n",
       "    <tr>\n",
       "      <th>3</th>\n",
       "      <td>677429.096116</td>\n",
       "      <td>5.613705e+06</td>\n",
       "      <td>3</td>\n",
       "      <td>3</td>\n",
       "      <td>POINT (677429.096 5613705.29)</td>\n",
       "    </tr>\n",
       "    <tr>\n",
       "      <th>4</th>\n",
       "      <td>677400.756812</td>\n",
       "      <td>5.613705e+06</td>\n",
       "      <td>3</td>\n",
       "      <td>4</td>\n",
       "      <td>POINT (677400.757 5613704.998)</td>\n",
       "    </tr>\n",
       "  </tbody>\n",
       "</table>\n",
       "</div>"
      ],
      "text/plain": [
       "               x             y  degree  nodeID                        geometry\n",
       "0  687053.642439  5.615821e+06       3       0  POINT (687053.642 5615820.989)\n",
       "1  687059.393388  5.615804e+06       3       1  POINT (687059.393 5615803.607)\n",
       "2  687051.723154  5.615826e+06       3       2  POINT (687051.723 5615826.386)\n",
       "3  677429.096116  5.613705e+06       3       3   POINT (677429.096 5613705.29)\n",
       "4  677400.756812  5.613705e+06       3       4  POINT (677400.757 5613704.998)"
      ]
     },
     "execution_count": 59,
     "metadata": {},
     "output_type": "execute_result"
    }
   ],
   "source": [
    "nodes.head()"
   ]
  },
  {
   "cell_type": "markdown",
   "metadata": {},
   "source": [
    "find nodes that \n",
    "\n",
    "* have degree n \n",
    "* on the boundary of cluster_geom\n",
    "* intersect n-2 orange\n",
    "\n",
    "if remove before skel:\n",
    "* linemerged boundary minus nodes-to-keep plus tiny buffer gives sequences of road segments to merge\n",
    "* create queen contiguity graph on roads segments minus tiny buffers, from there component label that assigns to original segments pre-bufferlip\n",
    "* dissolve\n",
    "* pass as input for skel\n",
    "\n",
    "if remove after skel:\n",
    "* remove lines from skelet that intersect these nodes, then remove dangles"
   ]
  },
  {
   "cell_type": "code",
   "execution_count": 58,
   "metadata": {},
   "outputs": [
    {
     "data": {
      "image/png": "[encoded data removed]",
      "text/plain": [
       "<Figure size 640x480 with 1 Axes>"
      ]
     },
     "metadata": {},
     "output_type": "display_data"
    }
   ],
   "source": [
    "cluster_geom = artifacts[artifacts.comp == mycomp].union_all()\n",
    "edges_outside = roads.iloc[roads.sindex.query(cluster_geom.boundary, predicate=\"covers\")]\n",
    "edges_within = roads.iloc[roads.sindex.query(cluster_geom, predicate = \"contains\")]\n",
    "fig, ax = plt.subplots(1,1)\n",
    "edges_outside.plot(ax=ax, color = \"green\")\n",
    "edges_within.plot(ax=ax, color = \"orange\", alpha=.4)\n",
    "skel, _ = voronoi_skeleton(\n",
    "    edges_outside.geometry,\n",
    "    cluster_geom\n",
    ")\n",
    "gpd.GeoSeries(skel).plot(ax=ax, color = \"red\")\n",
    "ax.set_axis_off()"
   ]
  },
  {
   "cell_type": "code",
   "execution_count": 48,
   "metadata": {},
   "outputs": [],
   "source": []
  },
  {
   "cell_type": "code",
   "execution_count": null,
   "metadata": {},
   "outputs": [],
   "source": [
    "# def classify_interline(mycluster, artifacts, roads):\n",
    "\n",
    "#     # get the cluster geometry\n",
    "#     cluster_geom = artifacts[artifacts.comp == mycluster].union_all()\n",
    "\n",
    "#     # find the road segment that is contained within the cluster geometry\n",
    "#     road_contained = roads.sindex.query(cluster_geom, predicate=\"contains\")\n",
    "    \n",
    "#     # make sure we have uniquely identified the road segment\n",
    "#     assert len(road_contained)==1 \n",
    "\n",
    "#     # return the ID of the road segment (to potentially drop later) and coins_end True/False    \n",
    "#     return road_contained[0], roads.loc[road_contained][\"coins_end\"].values[0]\n",
    "\n",
    "# interlines = artifacts.comp.apply(lambda x: classify_interline(x, artifacts, roads))\n",
    "# artifacts[\"inter_road\"] = [v[0] for v in interlines]\n",
    "# artifacts[\"inter_coins_end\"] = [v[1] for v in interlines]\n",
    "# artifacts[\"drop_interline\"] = artifacts[\"inter_coins_end\"]"
   ]
  },
  {
   "cell_type": "code",
   "execution_count": null,
   "metadata": {},
   "outputs": [],
   "source": [
    "# # if one of the 2 artifacts is of type 0C0EnS, then no matter whether inter_coins_end is True or False! it will always be S\n",
    "# comps_with_s = list(artifacts[(artifacts.C == 0) & (artifacts.E == 0)].comp)\n",
    "# artifacts.loc[artifacts[\"comp\"].isin(comps_with_s), \"drop_interline\"] = True"
   ]
  }
 ],
 "metadata": {
  "kernelspec": {
   "display_name": "simplification",
   "language": "python",
   "name": "python3"
  },
  "language_info": {
   "codemirror_mode": {
    "name": "ipython",
    "version": 3
   },
   "file_extension": ".py",
   "mimetype": "text/x-python",
   "name": "python",
   "nbconvert_exporter": "python",
   "pygments_lexer": "ipython3",
   "version": "3.11.9"
  }
 },
 "nbformat": 4,
 "nbformat_minor": 2
}
