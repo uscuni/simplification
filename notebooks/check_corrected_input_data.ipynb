{
 "cells": [
  {
   "cell_type": "markdown",
   "id": "57d0ba47-4d99-493d-ae34-d5146ed77e01",
   "metadata": {},
   "source": [
    "# Check the correct manual road network data\n",
    "## (purged service roads)"
   ]
  },
  {
   "cell_type": "code",
   "execution_count": null,
   "id": "c785905e-e1de-4940-9a40-d50a1769062a",
   "metadata": {},
   "outputs": [],
   "source": [
    "%config InlineBackend.figure_format = \"retina\"\n",
    "%load_ext watermark\n",
    "%watermark"
   ]
  },
  {
   "cell_type": "code",
   "execution_count": null,
   "id": "b4891b2f-c26f-450e-8afb-ce147455d649",
   "metadata": {},
   "outputs": [],
   "source": [
    "import pathlib\n",
    "\n",
    "import matplotlib.pyplot\n",
    "\n",
    "import core  # noqa: F401\n",
    "from core import utils"
   ]
  },
  {
   "cell_type": "code",
   "execution_count": null,
   "id": "a124677d-de91-4164-9f9b-fa07afe1904d",
   "metadata": {},
   "outputs": [],
   "source": [
    "%watermark -w\n",
    "%watermark -iv"
   ]
  },
  {
   "cell_type": "code",
   "execution_count": null,
   "id": "5ec07872-0a18-400b-98cf-2c2a05c59727",
   "metadata": {},
   "outputs": [],
   "source": [
    "utils.fua_city"
   ]
  },
  {
   "cell_type": "code",
   "execution_count": null,
   "id": "404136d3-2375-442f-8d8b-b97148502f8a",
   "metadata": {},
   "outputs": [],
   "source": [
    "for fua, city in utils.fua_city.items():\n",
    "    print(\n",
    "        \"================================\\n\"\n",
    "        f\"* {city} *\"\n",
    "        \"\\n--------------\"\n",
    "    )\n",
    "    if city == \"Wuhan\":\n",
    "        continue\n",
    "    o = utils.read_original(city)\n",
    "    m = utils.read_manual(city, o.crs)\n",
    "\n",
    "    print(\n",
    "        \"Records\\n\"\n",
    "        f\"  Orig: {o.shape[0]:,}\\n\"\n",
    "        f\"  Manu: {m.shape[0]:,}\\n\"\n",
    "    )\n",
    "\n",
    "    b = o.plot(figsize=(20,20), ec=\"k\", lw=.5, alpha=.5, zorder=1)\n",
    "    m.plot(ax=b, ec=\"b\", lw=.2, alpha=1, zorder=2)\n",
    "\n",
    "    # large plot\n",
    "    matplotlib.pyplot.savefig(f\"{city}_orig_vs_manu.png\", dpi=400)"
   ]
  }
 ],
 "metadata": {
  "kernelspec": {
   "display_name": "Python 3 (ipykernel)",
   "language": "python",
   "name": "python3"
  },
  "language_info": {
   "codemirror_mode": {
    "name": "ipython",
    "version": 3
   },
   "file_extension": ".py",
   "mimetype": "text/x-python",
   "name": "python",
   "nbconvert_exporter": "python",
   "pygments_lexer": "ipython3",
   "version": "3.11.9"
  }
 },
 "nbformat": 4,
 "nbformat_minor": 5
}
