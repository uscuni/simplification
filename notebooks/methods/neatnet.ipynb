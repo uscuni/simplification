{
 "cells": [
  {
   "cell_type": "markdown",
   "metadata": {},
   "source": [
    "# Running `neatnet`"
   ]
  },
  {
   "cell_type": "code",
   "execution_count": 1,
   "metadata": {},
   "outputs": [],
   "source": [
    "%load_ext watermark\n",
    "%load_ext memory_profiler"
   ]
  },
  {
   "cell_type": "code",
   "execution_count": 2,
   "metadata": {},
   "outputs": [],
   "source": [
    "import os\n",
    "import time\n",
    "import warnings\n",
    "\n",
    "import neatnet\n",
    "\n",
    "from core import utils\n",
    "\n",
    "warnings.filterwarnings(\"ignore\")"
   ]
  },
  {
   "cell_type": "code",
   "execution_count": 3,
   "metadata": {},
   "outputs": [
    {
     "name": "stdout",
     "output_type": "stream",
     "text": [
      "neatnet: 0.0.1.post3.dev11+g68544a4\n",
      "core   : 0.1.dev208+gcbb258b.d20250325\n",
      "\n"
     ]
    }
   ],
   "source": [
    "%watermark -iv"
   ]
  },
  {
   "cell_type": "code",
   "execution_count": 4,
   "metadata": {},
   "outputs": [
    {
     "name": "stdout",
     "output_type": "stream",
     "text": [
      "Simplifying Aleppo\n",
      "Aleppo simplified in 137.1s \n",
      "\n",
      "Simplifying Auckland\n",
      "Auckland simplified in 41.4s \n",
      "\n",
      "Simplifying Bucaramanga\n",
      "Bucaramanga simplified in 55.5s \n",
      "\n",
      "Simplifying Douala\n",
      "Douala simplified in 76.2s \n",
      "\n",
      "Simplifying Liège\n",
      "Liège simplified in 57.5s \n",
      "\n",
      "Simplifying Salt Lake City\n",
      "Salt Lake City simplified in 45.0s \n",
      "\n",
      "Simplifying Wuhan\n",
      "Wuhan simplified in 368.5s \n",
      "\n"
     ]
    }
   ],
   "source": [
    "for fua in utils.fua_city:\n",
    "    city = utils.fua_city[fua]\n",
    "    print(f\"Simplifying {city}\")\n",
    "\n",
    "    # read in original data\n",
    "    gdf = utils.read_original(fua)\n",
    "\n",
    "    # simplify with neatnet\n",
    "    t1 = time.time()\n",
    "    simplified = neatnet.simplify_network(gdf)\n",
    "    t2 = time.time()\n",
    "    print(f\"{city} simplified in {round(t2 - t1, 1)}s \\n\")\n",
    "\n",
    "    # save to target folder\n",
    "    target_folder = f\"../../data/{fua}/neatnet/\"\n",
    "    os.makedirs(target_folder, exist_ok=True)\n",
    "    simplified.to_parquet(target_folder + f\"{fua}.parquet\")"
   ]
  },
  {
   "cell_type": "code",
   "execution_count": 5,
   "metadata": {},
   "outputs": [
    {
     "name": "stdout",
     "output_type": "stream",
     "text": [
      "Simplifying Aleppo\n",
      "peak memory: 7702.08 MiB, increment: 3157.28 MiB\n",
      "Aleppo simplified \n",
      "\n",
      "Simplifying Auckland\n",
      "peak memory: 4557.84 MiB, increment: 3.80 MiB\n",
      "Auckland simplified \n",
      "\n",
      "Simplifying Bucaramanga\n",
      "peak memory: 4675.68 MiB, increment: 151.97 MiB\n",
      "Bucaramanga simplified \n",
      "\n",
      "Simplifying Douala\n",
      "peak memory: 6390.72 MiB, increment: 1867.03 MiB\n",
      "Douala simplified \n",
      "\n",
      "Simplifying Liège\n",
      "peak memory: 4677.37 MiB, increment: 141.54 MiB\n",
      "Liège simplified \n",
      "\n",
      "Simplifying Salt Lake City\n",
      "peak memory: 4773.16 MiB, increment: 246.97 MiB\n",
      "Salt Lake City simplified \n",
      "\n",
      "Simplifying Wuhan\n",
      "peak memory: 9305.89 MiB, increment: 4793.41 MiB\n",
      "Wuhan simplified \n",
      "\n"
     ]
    }
   ],
   "source": [
    "for fua in utils.fua_city:\n",
    "    city = utils.fua_city[fua]\n",
    "    print(f\"Simplifying {city}\")\n",
    "\n",
    "    # read in original data\n",
    "    gdf = utils.read_original(fua)\n",
    "\n",
    "    # simplify with neatnet\n",
    "    %memit simplified = neatnet.simplify_network(gdf)\n",
    "    print(f\"{city} simplified \\n\")"
   ]
  },
  {
   "cell_type": "code",
   "execution_count": 3,
   "metadata": {},
   "outputs": [
    {
     "data": {
      "text/plain": [
       "{1133: 'Aleppo',\n",
       " 869: 'Auckland',\n",
       " 4617: 'Bucaramanga',\n",
       " 809: 'Douala',\n",
       " 1656: 'Liège',\n",
       " 4881: 'Salt Lake City',\n",
       " 8989: 'Wuhan'}"
      ]
     },
     "execution_count": 3,
     "metadata": {},
     "output_type": "execute_result"
    }
   ],
   "source": [
    "utils.fua_city"
   ]
  },
  {
   "cell_type": "code",
   "execution_count": null,
   "metadata": {},
   "outputs": [],
   "source": []
  }
 ],
 "metadata": {
  "kernelspec": {
   "display_name": "Python 3 (ipykernel)",
   "language": "python",
   "name": "python3"
  },
  "language_info": {
   "codemirror_mode": {
    "name": "ipython",
    "version": 3
   },
   "file_extension": ".py",
   "mimetype": "text/x-python",
   "name": "python",
   "nbconvert_exporter": "python",
   "pygments_lexer": "ipython3",
   "version": "3.12.8"
  }
 },
 "nbformat": 4,
 "nbformat_minor": 4
}
