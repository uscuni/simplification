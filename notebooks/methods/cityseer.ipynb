{
 "cells": [
  {
   "cell_type": "markdown",
   "id": "07bfd607-b784-4fa9-a706-60084383e81a",
   "metadata": {},
   "source": [
    "# FUA simplification with [`cityseer`](https://github.com/benchmark-urbanism/cityseer-api)\n",
    "\n",
    "* **Simons, G.** (2023). *The cityseer Python package for pedestrian-scale network-based urban analysis*. Environment and Planning B: Urban Analytics and City Science, 50(5), 1328-1344. https://doi.org/10.1177/23998083221133827"
   ]
  },
  {
   "cell_type": "code",
   "execution_count": 1,
   "id": "571e1dd3-ce27-4c26-a199-30da6e77ebb8",
   "metadata": {
    "execution": {
     "iopub.execute_input": "2024-11-04T00:40:24.044394Z",
     "iopub.status.busy": "2024-11-04T00:40:24.044166Z",
     "iopub.status.idle": "2024-11-04T00:40:24.069855Z",
     "shell.execute_reply": "2024-11-04T00:40:24.069560Z",
     "shell.execute_reply.started": "2024-11-04T00:40:24.044372Z"
    }
   },
   "outputs": [
    {
     "name": "stdout",
     "output_type": "stream",
     "text": [
      "Last updated: 2024-11-03T19:40:24.059720-05:00\n",
      "\n",
      "Python implementation: CPython\n",
      "Python version       : 3.11.10\n",
      "IPython version      : 8.28.0\n",
      "\n",
      "Compiler    : Clang 17.0.6 \n",
      "OS          : Darwin\n",
      "Release     : 24.1.0\n",
      "Machine     : arm64\n",
      "Processor   : arm\n",
      "CPU cores   : 8\n",
      "Architecture: 64bit\n",
      "\n"
     ]
    }
   ],
   "source": [
    "%load_ext watermark\n",
    "%watermark"
   ]
  },
  {
   "cell_type": "code",
   "execution_count": 2,
   "id": "f4ec78c3-cc55-4c1d-aef0-ed33b44b98b5",
   "metadata": {
    "execution": {
     "iopub.execute_input": "2024-11-04T00:40:24.070775Z",
     "iopub.status.busy": "2024-11-04T00:40:24.070610Z",
     "iopub.status.idle": "2024-11-04T00:40:25.157390Z",
     "shell.execute_reply": "2024-11-04T00:40:25.157170Z",
     "shell.execute_reply.started": "2024-11-04T00:40:24.070761Z"
    }
   },
   "outputs": [
    {
     "name": "stdout",
     "output_type": "stream",
     "text": [
      "Watermark: 2.5.0\n",
      "\n",
      "core     : 0.1.dev124+g2144fe2\n",
      "geopandas: 1.0.1\n",
      "cityseer : 4.15.2\n",
      "\n"
     ]
    }
   ],
   "source": [
    "import pathlib\n",
    "import time\n",
    "\n",
    "import cityseer\n",
    "import geopandas\n",
    "\n",
    "from core import utils\n",
    "\n",
    "%watermark -w\n",
    "%watermark -iv"
   ]
  },
  {
   "cell_type": "code",
   "execution_count": 3,
   "id": "60f4743b-c752-42e5-9474-1b06310681cd",
   "metadata": {
    "execution": {
     "iopub.execute_input": "2024-11-04T00:40:25.157940Z",
     "iopub.status.busy": "2024-11-04T00:40:25.157784Z",
     "iopub.status.idle": "2024-11-04T00:40:25.160236Z",
     "shell.execute_reply": "2024-11-04T00:40:25.160020Z",
     "shell.execute_reply.started": "2024-11-04T00:40:25.157933Z"
    }
   },
   "outputs": [],
   "source": [
    "def run_cityseer(city: str) -> geopandas.GeoDataFrame:\n",
    "    \"\"\"Run the ``cityseer`` workflow as laid out in\n",
    "    [https://benchmark-urbanism.github.io/cityseer-examples/examples/graph_cleaning.html#manual-cleaning]\n",
    "    with ***all default arguments***.\n",
    "\n",
    "    Parameters\n",
    "    ----------\n",
    "    city : str\n",
    "        City anme. See ``utils.city_fua.keys()``.\n",
    "\n",
    "    Returns\n",
    "    -------\n",
    "    geopandas.GeoDataFrame\n",
    "        Resultant simplified network edges – only geometry column.\n",
    "        Will be written to ``.parquet``.\n",
    "    \"\"\"\n",
    "    edges = utils.read_original(city)\n",
    "    graph = cityseer.tools.io.nx_from_generic_geopandas(edges)\n",
    "    graph = cityseer.tools.graphs.nx_remove_dangling_nodes(graph)\n",
    "    graph = cityseer.tools.graphs.nx_split_opposing_geoms(graph)\n",
    "    graph = cityseer.tools.graphs.nx_consolidate_nodes(graph)\n",
    "    graph = cityseer.tools.graphs.nx_remove_filler_nodes(graph)\n",
    "    graph = cityseer.tools.graphs.nx_iron_edges(graph)\n",
    "    return cityseer.tools.io.geopandas_from_nx(graph, crs=edges.crs).rename_geometry(\n",
    "        \"geometry\"\n",
    "    )[[\"geometry\"]]"
   ]
  },
  {
   "cell_type": "code",
   "execution_count": 4,
   "id": "203634c6-8dd0-4e63-baaa-f0a0ac02e81c",
   "metadata": {
    "execution": {
     "iopub.execute_input": "2024-11-04T00:40:25.160530Z",
     "iopub.status.busy": "2024-11-04T00:40:25.160465Z",
     "iopub.status.idle": "2024-11-04T00:40:25.161966Z",
     "shell.execute_reply": "2024-11-04T00:40:25.161776Z",
     "shell.execute_reply.started": "2024-11-04T00:40:25.160523Z"
    }
   },
   "outputs": [],
   "source": [
    "output_base = pathlib.Path(\"..\", \"..\", \"data\")"
   ]
  },
  {
   "cell_type": "code",
   "execution_count": 5,
   "id": "9111a595-fb15-4ffd-8a79-88375b2f9c3e",
   "metadata": {
    "execution": {
     "iopub.execute_input": "2024-11-04T00:40:25.162439Z",
     "iopub.status.busy": "2024-11-04T00:40:25.162290Z",
     "iopub.status.idle": "2024-11-04T00:43:45.113733Z",
     "shell.execute_reply": "2024-11-04T00:43:45.113465Z",
     "shell.execute_reply.started": "2024-11-04T00:40:25.162431Z"
    }
   },
   "outputs": [
    {
     "name": "stdout",
     "output_type": "stream",
     "text": [
      "===================================================================\n",
      "Starting Aleppo\n",
      "-------------------------\n",
      "\n",
      "\n",
      "\n"
     ]
    },
    {
     "name": "stderr",
     "output_type": "stream",
     "text": [
      "100%|████████████████████████████████████████████████████████████████████████████████████████████████████████████████████████████████████████| 78908/78908 [00:03<00:00, 23699.61it/s]\n",
      "INFO:cityseer.tools.graphs:Merging parallel edges within buffer of 1.\n",
      "100%|███████████████████████████████████████████████████████████████████████████████████████████████████████████████████████████████████████| 78908/78908 [00:00<00:00, 357442.79it/s]\n",
      "INFO:cityseer.tools.graphs:Removing dangling nodes.\n",
      "100%|██████████████████████████████████████████████████████████████████████████████████████████████████████████████████████████████████████| 64285/64285 [00:00<00:00, 1392598.96it/s]\n",
      "INFO:cityseer.tools.util:Creating edges STR tree.\n",
      "100%|██████████████████████████████████████████████████████████████████████████████████████████████████████████████████████████████████████| 78572/78572 [00:00<00:00, 1974363.63it/s]\n",
      "INFO:cityseer.tools.graphs:Splitting opposing edges.\n",
      "100%|████████████████████████████████████████████████████████████████████████████████████████████████████████████████████████████████████████| 64110/64110 [00:06<00:00, 10536.80it/s]\n",
      "INFO:cityseer.tools.graphs:Squashing opposing nodes\n",
      "INFO:cityseer.tools.graphs:Merging parallel edges within buffer of 25.\n",
      "100%|███████████████████████████████████████████████████████████████████████████████████████████████████████████████████████████████████████| 80070/80070 [00:00<00:00, 220088.52it/s]\n",
      "INFO:cityseer.tools.util:Creating nodes STR tree\n",
      "100%|███████████████████████████████████████████████████████████████████████████████████████████████████████████████████████████████████████| 64110/64110 [00:00<00:00, 323018.21it/s]\n",
      "INFO:cityseer.tools.graphs:Consolidating nodes.\n",
      "100%|████████████████████████████████████████████████████████████████████████████████████████████████████████████████████████████████████████| 64110/64110 [00:03<00:00, 16915.56it/s]\n",
      "INFO:cityseer.tools.graphs:Merging parallel edges within buffer of 25.\n",
      "100%|███████████████████████████████████████████████████████████████████████████████████████████████████████████████████████████████████████| 66658/66658 [00:00<00:00, 511373.81it/s]\n",
      "INFO:cityseer.tools.graphs:Removing filler nodes.\n",
      "100%|████████████████████████████████████████████████████████████████████████████████████████████████████████████████████████████████████████| 52260/52260 [00:01<00:00, 32556.59it/s]\n",
      "INFO:cityseer.tools.graphs:Ironing edges.\n",
      "100%|████████████████████████████████████████████████████████████████████████████████████████████████████████████████████████████████████████| 41207/41207 [00:01<00:00, 23245.19it/s]\n",
      "INFO:cityseer.tools.graphs:Merging parallel edges within buffer of 1.\n",
      "100%|███████████████████████████████████████████████████████████████████████████████████████████████████████████████████████████████████████| 41207/41207 [00:00<00:00, 482425.39it/s]\n",
      "INFO:cityseer.tools.io:Preparing node and edge arrays from networkX graph.\n"
     ]
    },
    {
     "name": "stdout",
     "output_type": "stream",
     "text": [
      "\tAleppo completed in: 0.381 minutes\n",
      "\n",
      "\n",
      "\n",
      "\n",
      "\n",
      "===================================================================\n",
      "Starting Auckland\n",
      "-------------------------\n",
      "\n",
      "\n",
      "\n"
     ]
    },
    {
     "name": "stderr",
     "output_type": "stream",
     "text": [
      "100%|████████████████████████████████████████████████████████████████████████████████████████████████████████████████████████████████████████| 60364/60364 [00:02<00:00, 22273.85it/s]\n",
      "INFO:cityseer.tools.graphs:Merging parallel edges within buffer of 1.\n",
      "100%|███████████████████████████████████████████████████████████████████████████████████████████████████████████████████████████████████████| 60364/60364 [00:00<00:00, 233504.51it/s]\n",
      "INFO:cityseer.tools.graphs:Removing dangling nodes.\n",
      "100%|██████████████████████████████████████████████████████████████████████████████████████████████████████████████████████████████████████| 57031/57031 [00:00<00:00, 1340048.47it/s]\n",
      "INFO:cityseer.tools.util:Creating edges STR tree.\n",
      "100%|██████████████████████████████████████████████████████████████████████████████████████████████████████████████████████████████████████| 59664/59664 [00:00<00:00, 1535938.68it/s]\n",
      "INFO:cityseer.tools.graphs:Splitting opposing edges.\n",
      "100%|█████████████████████████████████████████████████████████████████████████████████████████████████████████████████████████████████████████| 56348/56348 [00:13<00:00, 4172.35it/s]\n",
      "INFO:cityseer.tools.graphs:Squashing opposing nodes\n",
      "INFO:cityseer.tools.graphs:Merging parallel edges within buffer of 25.\n",
      "100%|███████████████████████████████████████████████████████████████████████████████████████████████████████████████████████████████████████| 67027/67027 [00:00<00:00, 421116.70it/s]\n",
      "INFO:cityseer.tools.util:Creating nodes STR tree\n",
      "100%|███████████████████████████████████████████████████████████████████████████████████████████████████████████████████████████████████████| 56348/56348 [00:00<00:00, 325769.16it/s]\n",
      "INFO:cityseer.tools.graphs:Consolidating nodes.\n",
      "100%|████████████████████████████████████████████████████████████████████████████████████████████████████████████████████████████████████████| 56348/56348 [00:04<00:00, 11464.24it/s]\n",
      "INFO:cityseer.tools.graphs:Merging parallel edges within buffer of 25.\n",
      "100%|███████████████████████████████████████████████████████████████████████████████████████████████████████████████████████████████████████| 32485/32485 [00:00<00:00, 404374.50it/s]\n",
      "INFO:cityseer.tools.graphs:Removing filler nodes.\n",
      "100%|████████████████████████████████████████████████████████████████████████████████████████████████████████████████████████████████████████| 29373/29373 [00:01<00:00, 23235.85it/s]\n",
      "INFO:cityseer.tools.graphs:Ironing edges.\n",
      "100%|████████████████████████████████████████████████████████████████████████████████████████████████████████████████████████████████████████| 11143/11143 [00:00<00:00, 19602.05it/s]\n",
      "INFO:cityseer.tools.graphs:Merging parallel edges within buffer of 1.\n",
      "100%|████████████████████████████████████████████████████████████████████████████████████████████████████████████████████████████████████████| 11143/11143 [00:00<00:00, 18466.01it/s]\n",
      "INFO:cityseer.tools.io:Preparing node and edge arrays from networkX graph.\n"
     ]
    },
    {
     "name": "stdout",
     "output_type": "stream",
     "text": [
      "\tAuckland completed in: 0.518 minutes\n",
      "\n",
      "\n",
      "\n",
      "\n",
      "\n",
      "===================================================================\n",
      "Starting Bucaramanga\n",
      "-------------------------\n",
      "\n",
      "\n",
      "\n"
     ]
    },
    {
     "name": "stderr",
     "output_type": "stream",
     "text": [
      "100%|████████████████████████████████████████████████████████████████████████████████████████████████████████████████████████████████████████| 79317/79317 [00:03<00:00, 21980.33it/s]\n",
      "INFO:cityseer.tools.graphs:Merging parallel edges within buffer of 1.\n",
      "100%|███████████████████████████████████████████████████████████████████████████████████████████████████████████████████████████████████████| 79317/79317 [00:00<00:00, 305876.28it/s]\n",
      "INFO:cityseer.tools.graphs:Removing dangling nodes.\n",
      "100%|██████████████████████████████████████████████████████████████████████████████████████████████████████████████████████████████████████| 73658/73658 [00:00<00:00, 1413103.74it/s]\n",
      "INFO:cityseer.tools.util:Creating edges STR tree.\n",
      "100%|██████████████████████████████████████████████████████████████████████████████████████████████████████████████████████████████████████| 77798/77798 [00:00<00:00, 1716337.99it/s]\n",
      "INFO:cityseer.tools.graphs:Splitting opposing edges.\n",
      "100%|█████████████████████████████████████████████████████████████████████████████████████████████████████████████████████████████████████████| 73144/73144 [00:09<00:00, 7411.17it/s]\n",
      "INFO:cityseer.tools.graphs:Squashing opposing nodes\n",
      "INFO:cityseer.tools.graphs:Merging parallel edges within buffer of 25.\n",
      "100%|███████████████████████████████████████████████████████████████████████████████████████████████████████████████████████████████████████| 80782/80782 [00:00<00:00, 496691.06it/s]\n",
      "INFO:cityseer.tools.util:Creating nodes STR tree\n",
      "100%|███████████████████████████████████████████████████████████████████████████████████████████████████████████████████████████████████████| 73144/73144 [00:00<00:00, 322763.68it/s]\n",
      "INFO:cityseer.tools.graphs:Consolidating nodes.\n",
      "100%|████████████████████████████████████████████████████████████████████████████████████████████████████████████████████████████████████████| 73144/73144 [00:05<00:00, 13942.68it/s]\n",
      "INFO:cityseer.tools.graphs:Merging parallel edges within buffer of 25.\n",
      "100%|███████████████████████████████████████████████████████████████████████████████████████████████████████████████████████████████████████| 50353/50353 [00:00<00:00, 469921.30it/s]\n",
      "INFO:cityseer.tools.graphs:Removing filler nodes.\n",
      "100%|████████████████████████████████████████████████████████████████████████████████████████████████████████████████████████████████████████| 45536/45536 [00:01<00:00, 24889.57it/s]\n",
      "INFO:cityseer.tools.graphs:Ironing edges.\n",
      "100%|████████████████████████████████████████████████████████████████████████████████████████████████████████████████████████████████████████| 15730/15730 [00:00<00:00, 18954.77it/s]\n",
      "INFO:cityseer.tools.graphs:Merging parallel edges within buffer of 1.\n",
      "100%|███████████████████████████████████████████████████████████████████████████████████████████████████████████████████████████████████████| 15730/15730 [00:00<00:00, 406742.01it/s]\n",
      "INFO:cityseer.tools.io:Preparing node and edge arrays from networkX graph.\n"
     ]
    },
    {
     "name": "stdout",
     "output_type": "stream",
     "text": [
      "\tBucaramanga completed in: 0.465 minutes\n",
      "\n",
      "\n",
      "\n",
      "\n",
      "\n",
      "===================================================================\n",
      "Starting Douala\n",
      "-------------------------\n",
      "\n",
      "\n",
      "\n"
     ]
    },
    {
     "name": "stderr",
     "output_type": "stream",
     "text": [
      "100%|████████████████████████████████████████████████████████████████████████████████████████████████████████████████████████████████████████| 84819/84819 [00:03<00:00, 22527.09it/s]\n",
      "INFO:cityseer.tools.graphs:Merging parallel edges within buffer of 1.\n",
      "100%|███████████████████████████████████████████████████████████████████████████████████████████████████████████████████████████████████████| 84819/84819 [00:00<00:00, 311875.75it/s]\n",
      "INFO:cityseer.tools.graphs:Removing dangling nodes.\n",
      "100%|██████████████████████████████████████████████████████████████████████████████████████████████████████████████████████████████████████| 76116/76116 [00:00<00:00, 1251101.75it/s]\n",
      "INFO:cityseer.tools.util:Creating edges STR tree.\n",
      "100%|██████████████████████████████████████████████████████████████████████████████████████████████████████████████████████████████████████| 84112/84112 [00:00<00:00, 1671774.83it/s]\n",
      "INFO:cityseer.tools.graphs:Splitting opposing edges.\n",
      "100%|████████████████████████████████████████████████████████████████████████████████████████████████████████████████████████████████████████| 75670/75670 [00:06<00:00, 10841.98it/s]\n",
      "INFO:cityseer.tools.graphs:Squashing opposing nodes\n",
      "INFO:cityseer.tools.graphs:Merging parallel edges within buffer of 25.\n",
      "100%|███████████████████████████████████████████████████████████████████████████████████████████████████████████████████████████████████████| 85788/85788 [00:00<00:00, 487747.32it/s]\n",
      "INFO:cityseer.tools.util:Creating nodes STR tree\n",
      "100%|███████████████████████████████████████████████████████████████████████████████████████████████████████████████████████████████████████| 75670/75670 [00:00<00:00, 320052.22it/s]\n",
      "INFO:cityseer.tools.graphs:Consolidating nodes.\n",
      "100%|████████████████████████████████████████████████████████████████████████████████████████████████████████████████████████████████████████| 75670/75670 [00:04<00:00, 15638.30it/s]\n",
      "INFO:cityseer.tools.graphs:Merging parallel edges within buffer of 25.\n",
      "100%|███████████████████████████████████████████████████████████████████████████████████████████████████████████████████████████████████████| 63368/63368 [00:00<00:00, 454613.28it/s]\n",
      "INFO:cityseer.tools.graphs:Removing filler nodes.\n",
      "100%|████████████████████████████████████████████████████████████████████████████████████████████████████████████████████████████████████████| 54912/54912 [00:02<00:00, 25346.58it/s]\n",
      "INFO:cityseer.tools.graphs:Ironing edges.\n",
      "100%|████████████████████████████████████████████████████████████████████████████████████████████████████████████████████████████████████████| 29610/29610 [00:01<00:00, 21388.45it/s]\n",
      "INFO:cityseer.tools.graphs:Merging parallel edges within buffer of 1.\n",
      "100%|███████████████████████████████████████████████████████████████████████████████████████████████████████████████████████████████████████| 29610/29610 [00:00<00:00, 436654.74it/s]\n",
      "INFO:cityseer.tools.io:Preparing node and edge arrays from networkX graph.\n"
     ]
    },
    {
     "name": "stdout",
     "output_type": "stream",
     "text": [
      "\tDouala completed in: 0.438 minutes\n",
      "\n",
      "\n",
      "\n",
      "\n",
      "\n",
      "===================================================================\n",
      "Starting Liège\n",
      "-------------------------\n",
      "\n",
      "\n",
      "\n"
     ]
    },
    {
     "name": "stderr",
     "output_type": "stream",
     "text": [
      "100%|████████████████████████████████████████████████████████████████████████████████████████████████████████████████████████████████████████| 79907/79907 [00:03<00:00, 22173.68it/s]\n",
      "INFO:cityseer.tools.graphs:Merging parallel edges within buffer of 1.\n",
      "100%|███████████████████████████████████████████████████████████████████████████████████████████████████████████████████████████████████████| 79907/79907 [00:00<00:00, 446957.55it/s]\n",
      "INFO:cityseer.tools.graphs:Removing dangling nodes.\n",
      "100%|██████████████████████████████████████████████████████████████████████████████████████████████████████████████████████████████████████| 75549/75549 [00:00<00:00, 1305879.07it/s]\n",
      "INFO:cityseer.tools.util:Creating edges STR tree.\n",
      "100%|██████████████████████████████████████████████████████████████████████████████████████████████████████████████████████████████████████| 79117/79117 [00:00<00:00, 1443658.34it/s]\n",
      "INFO:cityseer.tools.graphs:Splitting opposing edges.\n",
      "100%|█████████████████████████████████████████████████████████████████████████████████████████████████████████████████████████████████████████| 74773/74773 [00:11<00:00, 6350.68it/s]\n",
      "INFO:cityseer.tools.graphs:Squashing opposing nodes\n",
      "INFO:cityseer.tools.graphs:Merging parallel edges within buffer of 25.\n",
      "100%|███████████████████████████████████████████████████████████████████████████████████████████████████████████████████████████████████████| 84777/84777 [00:00<00:00, 421413.77it/s]\n",
      "INFO:cityseer.tools.util:Creating nodes STR tree\n",
      "100%|███████████████████████████████████████████████████████████████████████████████████████████████████████████████████████████████████████| 74773/74773 [00:00<00:00, 146100.11it/s]\n",
      "INFO:cityseer.tools.graphs:Consolidating nodes.\n",
      "100%|████████████████████████████████████████████████████████████████████████████████████████████████████████████████████████████████████████| 74773/74773 [00:05<00:00, 13761.17it/s]\n",
      "INFO:cityseer.tools.graphs:Merging parallel edges within buffer of 25.\n",
      "100%|███████████████████████████████████████████████████████████████████████████████████████████████████████████████████████████████████████| 52978/52978 [00:00<00:00, 113227.17it/s]\n",
      "INFO:cityseer.tools.graphs:Removing filler nodes.\n",
      "100%|████████████████████████████████████████████████████████████████████████████████████████████████████████████████████████████████████████| 48312/48312 [00:02<00:00, 22701.02it/s]\n",
      "INFO:cityseer.tools.graphs:Ironing edges.\n",
      "100%|████████████████████████████████████████████████████████████████████████████████████████████████████████████████████████████████████████| 16346/16346 [00:00<00:00, 19046.89it/s]\n",
      "INFO:cityseer.tools.graphs:Merging parallel edges within buffer of 1.\n",
      "100%|███████████████████████████████████████████████████████████████████████████████████████████████████████████████████████████████████████| 16346/16346 [00:00<00:00, 384017.01it/s]\n",
      "INFO:cityseer.tools.io:Preparing node and edge arrays from networkX graph.\n"
     ]
    },
    {
     "name": "stdout",
     "output_type": "stream",
     "text": [
      "\tLiège completed in: 0.539 minutes\n",
      "\n",
      "\n",
      "\n",
      "\n",
      "\n",
      "===================================================================\n",
      "Starting Salt Lake City\n",
      "-------------------------\n",
      "\n",
      "\n",
      "\n"
     ]
    },
    {
     "name": "stderr",
     "output_type": "stream",
     "text": [
      "100%|████████████████████████████████████████████████████████████████████████████████████████████████████████████████████████████████████████| 50917/50917 [00:03<00:00, 16781.67it/s]\n",
      "INFO:cityseer.tools.graphs:Merging parallel edges within buffer of 1.\n",
      "100%|███████████████████████████████████████████████████████████████████████████████████████████████████████████████████████████████████████| 50917/50917 [00:00<00:00, 238843.97it/s]\n",
      "INFO:cityseer.tools.graphs:Removing dangling nodes.\n",
      "100%|██████████████████████████████████████████████████████████████████████████████████████████████████████████████████████████████████████| 46988/46988 [00:00<00:00, 1223997.49it/s]\n",
      "INFO:cityseer.tools.util:Creating edges STR tree.\n",
      "100%|██████████████████████████████████████████████████████████████████████████████████████████████████████████████████████████████████████| 50591/50591 [00:00<00:00, 1499307.80it/s]\n",
      "INFO:cityseer.tools.graphs:Splitting opposing edges.\n",
      "100%|█████████████████████████████████████████████████████████████████████████████████████████████████████████████████████████████████████████| 46664/46664 [00:05<00:00, 8316.18it/s]\n",
      "INFO:cityseer.tools.graphs:Squashing opposing nodes\n",
      "INFO:cityseer.tools.graphs:Merging parallel edges within buffer of 25.\n",
      "100%|███████████████████████████████████████████████████████████████████████████████████████████████████████████████████████████████████████| 53288/53288 [00:00<00:00, 440943.00it/s]\n",
      "INFO:cityseer.tools.util:Creating nodes STR tree\n",
      "100%|███████████████████████████████████████████████████████████████████████████████████████████████████████████████████████████████████████| 46664/46664 [00:00<00:00, 322436.26it/s]\n",
      "INFO:cityseer.tools.graphs:Consolidating nodes.\n",
      "100%|████████████████████████████████████████████████████████████████████████████████████████████████████████████████████████████████████████| 46664/46664 [00:03<00:00, 14510.59it/s]\n",
      "INFO:cityseer.tools.graphs:Merging parallel edges within buffer of 25.\n",
      "100%|███████████████████████████████████████████████████████████████████████████████████████████████████████████████████████████████████████| 37321/37321 [00:00<00:00, 433340.59it/s]\n",
      "INFO:cityseer.tools.graphs:Removing filler nodes.\n",
      "100%|████████████████████████████████████████████████████████████████████████████████████████████████████████████████████████████████████████| 33212/33212 [00:01<00:00, 22978.76it/s]\n",
      "INFO:cityseer.tools.graphs:Ironing edges.\n",
      "100%|████████████████████████████████████████████████████████████████████████████████████████████████████████████████████████████████████████| 13634/13634 [00:00<00:00, 20191.03it/s]\n",
      "INFO:cityseer.tools.graphs:Merging parallel edges within buffer of 1.\n",
      "100%|███████████████████████████████████████████████████████████████████████████████████████████████████████████████████████████████████████| 13634/13634 [00:00<00:00, 434286.74it/s]\n",
      "INFO:cityseer.tools.io:Preparing node and edge arrays from networkX graph.\n"
     ]
    },
    {
     "name": "stdout",
     "output_type": "stream",
     "text": [
      "\tSalt Lake City completed in: 0.321 minutes\n",
      "\n",
      "\n",
      "\n",
      "\n",
      "\n",
      "===================================================================\n",
      "Starting Wuhan\n",
      "-------------------------\n",
      "\n",
      "\n",
      "\n"
     ]
    },
    {
     "name": "stderr",
     "output_type": "stream",
     "text": [
      "100%|████████████████████████████████████████████████████████████████████████████████████████████████████████████████████████████████████████| 92667/92667 [00:04<00:00, 22245.42it/s]\n",
      "INFO:cityseer.tools.graphs:Merging parallel edges within buffer of 1.\n",
      "100%|███████████████████████████████████████████████████████████████████████████████████████████████████████████████████████████████████████| 92667/92667 [00:00<00:00, 320214.84it/s]\n",
      "INFO:cityseer.tools.graphs:Removing dangling nodes.\n",
      "100%|██████████████████████████████████████████████████████████████████████████████████████████████████████████████████████████████████████| 82891/82891 [00:00<00:00, 1510951.99it/s]\n",
      "INFO:cityseer.tools.util:Creating edges STR tree.\n",
      "100%|██████████████████████████████████████████████████████████████████████████████████████████████████████████████████████████████████████| 92321/92321 [00:00<00:00, 1774816.38it/s]\n",
      "INFO:cityseer.tools.graphs:Splitting opposing edges.\n",
      "100%|█████████████████████████████████████████████████████████████████████████████████████████████████████████████████████████████████████████| 82570/82570 [00:13<00:00, 6277.14it/s]\n",
      "INFO:cityseer.tools.graphs:Squashing opposing nodes\n",
      "INFO:cityseer.tools.graphs:Merging parallel edges within buffer of 25.\n",
      "100%|█████████████████████████████████████████████████████████████████████████████████████████████████████████████████████████████████████| 101176/101176 [00:00<00:00, 178426.09it/s]\n",
      "INFO:cityseer.tools.util:Creating nodes STR tree\n",
      "100%|███████████████████████████████████████████████████████████████████████████████████████████████████████████████████████████████████████| 82570/82570 [00:00<00:00, 323744.45it/s]\n",
      "INFO:cityseer.tools.graphs:Consolidating nodes.\n",
      "100%|████████████████████████████████████████████████████████████████████████████████████████████████████████████████████████████████████████| 82570/82570 [00:06<00:00, 12184.56it/s]\n",
      "INFO:cityseer.tools.graphs:Merging parallel edges within buffer of 25.\n",
      "100%|███████████████████████████████████████████████████████████████████████████████████████████████████████████████████████████████████████| 74931/74931 [00:00<00:00, 453149.13it/s]\n",
      "INFO:cityseer.tools.graphs:Removing filler nodes.\n",
      "100%|████████████████████████████████████████████████████████████████████████████████████████████████████████████████████████████████████████| 62467/62467 [00:02<00:00, 24898.80it/s]\n",
      "INFO:cityseer.tools.graphs:Ironing edges.\n",
      "100%|████████████████████████████████████████████████████████████████████████████████████████████████████████████████████████████████████████| 34020/34020 [00:01<00:00, 21996.27it/s]\n",
      "INFO:cityseer.tools.graphs:Merging parallel edges within buffer of 1.\n",
      "100%|███████████████████████████████████████████████████████████████████████████████████████████████████████████████████████████████████████| 34020/34020 [00:00<00:00, 348886.94it/s]\n",
      "INFO:cityseer.tools.io:Preparing node and edge arrays from networkX graph.\n"
     ]
    },
    {
     "name": "stdout",
     "output_type": "stream",
     "text": [
      "\tWuhan completed in: 0.67 minutes\n",
      "\n",
      "\n",
      "\n",
      "\n",
      "\n",
      "~ ~ ~ ~ ~ ~ ~ ~ ~ ~ ~ ~ ~ ~ ~ ~ ~ ~ ~ ~ ~ ~ ~ ~ ~ ~ ~ ~ ~ ~ ~ ~ ~ ~ ~ \n",
      " ~ ~ ~ ~ ~ ~ ~ ~ ~ ~ ~ ~ ~ ~ ~ ~ ~ ~ ~ ~ ~ ~ ~ ~ ~ ~ ~ ~ ~ ~ ~ ~ ~ ~ ~\n",
      "~ ~ ~ ~ ~ ~ ~ ~ ~ ~ ~ ~ ~ ~ ~ ~ ~ ~ ~ ~ ~ ~ ~ ~ ~ ~ ~ ~ ~ ~ ~ ~ ~ ~ ~ \n",
      " ~ ~ ~ ~ ~ ~ ~ ~ ~ ~ ~ ~ ~ ~ ~ ~ ~ ~ ~ ~ ~ ~ ~ ~ ~ ~ ~ ~ ~ ~ ~ ~ ~ ~ ~\n",
      "Total runtime: 3.332 minutes\n"
     ]
    }
   ],
   "source": [
    "global_start = time.time()\n",
    "\n",
    "for city, fua in utils.city_fua.items():\n",
    "    print(\"===================================================================\")\n",
    "    print(f\"Starting {city}\")\n",
    "    print(\"-------------------------\")\n",
    "    print(\"\\n\\n\")\n",
    "\n",
    "    fua_start = time.time()\n",
    "    simplified = run_cityseer(city)\n",
    "    output_fua = output_base / pathlib.Path(f\"{fua}\", \"cityseer\", f\"{fua}.parquet\")\n",
    "    simplified.to_parquet(output_fua)\n",
    "    fua_end = time.time()\n",
    "    fua_duration = round((fua_end - fua_start) / 60.0, 3)\n",
    "\n",
    "    print(f\"\\t{city} completed in: {fua_duration} minutes\")\n",
    "    print(\"\\n\\n\\n\\n\")\n",
    "\n",
    "print(\"~ ~ ~ ~ ~ ~ ~ ~ ~ ~ ~ ~ ~ ~ ~ ~ ~ ~ ~ ~ ~ ~ ~ ~ ~ ~ ~ ~ ~ ~ ~ ~ ~ ~ ~ \")\n",
    "print(\" ~ ~ ~ ~ ~ ~ ~ ~ ~ ~ ~ ~ ~ ~ ~ ~ ~ ~ ~ ~ ~ ~ ~ ~ ~ ~ ~ ~ ~ ~ ~ ~ ~ ~ ~\")\n",
    "print(\"~ ~ ~ ~ ~ ~ ~ ~ ~ ~ ~ ~ ~ ~ ~ ~ ~ ~ ~ ~ ~ ~ ~ ~ ~ ~ ~ ~ ~ ~ ~ ~ ~ ~ ~ \")\n",
    "print(\" ~ ~ ~ ~ ~ ~ ~ ~ ~ ~ ~ ~ ~ ~ ~ ~ ~ ~ ~ ~ ~ ~ ~ ~ ~ ~ ~ ~ ~ ~ ~ ~ ~ ~ ~\")\n",
    "\n",
    "global_end = time.time()\n",
    "global_duration = round((global_end - global_start) / 60.0, 3)\n",
    "\n",
    "print(f\"Total runtime: {global_duration} minutes\")"
   ]
  }
 ],
 "metadata": {
  "gist_info": {
   "create_date": "2024-01-22T01:48:06Z",
   "gist_id": "582dc1f207054a861eda93e975713b4b",
   "gist_url": "https://gist.github.com/jGaboardi/582dc1f207054a861eda93e975713b4b"
  },
  "kernelspec": {
   "display_name": "Python 3 (ipykernel)",
   "language": "python",
   "name": "python3"
  },
  "language_info": {
   "codemirror_mode": {
    "name": "ipython",
    "version": 3
   },
   "file_extension": ".py",
   "mimetype": "text/x-python",
   "name": "python",
   "nbconvert_exporter": "python",
   "pygments_lexer": "ipython3",
   "version": "3.11.10"
  }
 },
 "nbformat": 4,
 "nbformat_minor": 5
}
