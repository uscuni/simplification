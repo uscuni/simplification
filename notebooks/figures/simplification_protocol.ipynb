{
 "cells": [
  {
   "cell_type": "markdown",
   "metadata": {},
   "source": [
    "# Simplification Protocol"
   ]
  },
  {
   "cell_type": "code",
   "execution_count": 1,
   "metadata": {
    "execution": {
     "iopub.execute_input": "2024-07-21T23:20:29.896809Z",
     "iopub.status.busy": "2024-07-21T23:20:29.896661Z",
     "iopub.status.idle": "2024-07-21T23:20:29.918724Z",
     "shell.execute_reply": "2024-07-21T23:20:29.918471Z",
     "shell.execute_reply.started": "2024-07-21T23:20:29.896793Z"
    }
   },
   "outputs": [
    {
     "name": "stdout",
     "output_type": "stream",
     "text": [
      "Last updated: 2025-03-25T14:46:53.470848+01:00\n",
      "\n",
      "Python implementation: CPython\n",
      "Python version       : 3.12.8\n",
      "IPython version      : 8.30.0\n",
      "\n",
      "Compiler    : Clang 18.1.8 \n",
      "OS          : Darwin\n",
      "Release     : 24.3.0\n",
      "Machine     : arm64\n",
      "Processor   : arm\n",
      "CPU cores   : 8\n",
      "Architecture: 64bit\n",
      "\n"
     ]
    }
   ],
   "source": [
    "%load_ext watermark\n",
    "%watermark"
   ]
  },
  {
   "cell_type": "code",
   "execution_count": 2,
   "metadata": {
    "execution": {
     "iopub.execute_input": "2024-07-21T23:20:29.919446Z",
     "iopub.status.busy": "2024-07-21T23:20:29.919125Z",
     "iopub.status.idle": "2024-07-21T23:20:31.624699Z",
     "shell.execute_reply": "2024-07-21T23:20:31.624482Z",
     "shell.execute_reply.started": "2024-07-21T23:20:29.919400Z"
    }
   },
   "outputs": [
    {
     "name": "stdout",
     "output_type": "stream",
     "text": [
      "Watermark: 2.5.0\n",
      "\n",
      "matplotlib: 3.9.3\n",
      "core      : 0.1.dev207+ge229d93.d20250325\n",
      "\n"
     ]
    }
   ],
   "source": [
    "import matplotlib.pyplot as plt\n",
    "\n",
    "import core  # noqa: F401\n",
    "from core import protocol\n",
    "\n",
    "%watermark -w\n",
    "%watermark -iv"
   ]
  },
  {
   "cell_type": "markdown",
   "metadata": {},
   "source": [
    "--------------------------\n",
    "\n",
    "## Examine protocol cases"
   ]
  },
  {
   "cell_type": "code",
   "execution_count": 3,
   "metadata": {
    "execution": {
     "iopub.execute_input": "2024-07-21T23:20:31.625316Z",
     "iopub.status.busy": "2024-07-21T23:20:31.625152Z",
     "iopub.status.idle": "2024-07-21T23:20:31.628675Z",
     "shell.execute_reply": "2024-07-21T23:20:31.628486Z",
     "shell.execute_reply.started": "2024-07-21T23:20:31.625306Z"
    }
   },
   "outputs": [
    {
     "data": {
      "text/plain": [
       "{'01': {'types': ['original', 'manual'],\n",
       "  'city': 'Douala',\n",
       "  'coordinates': (9.8198052, 4.0024864),\n",
       "  'buffer': 200,\n",
       "  'title': 'Case {} - Parallel Roads - {}'},\n",
       " '02': {'types': ['original', 'manual'],\n",
       "  'city': 'Douala',\n",
       "  'coordinates': (9.8213187, 4.0098569),\n",
       "  'buffer': 100,\n",
       "  'title': 'Case {} - Roundabout - {}'},\n",
       " '03': {'types': ['original', 'manual'],\n",
       "  'city': 'Aleppo',\n",
       "  'coordinates': (37.0683693, 36.3143588),\n",
       "  'buffer': 100,\n",
       "  'title': 'Case {} - Diverging Roads - {}'},\n",
       " '04': {'types': ['original', 'manual'],\n",
       "  'city': 'Auckland',\n",
       "  'coordinates': (174.7512042, -36.8897222),\n",
       "  'buffer': 100,\n",
       "  'title': 'Case {} - T-Junction - {}'},\n",
       " '05': {'types': ['original', 'manual'],\n",
       "  'city': 'Aleppo',\n",
       "  'coordinates': (37.0659947, 36.3105479),\n",
       "  'buffer': 100,\n",
       "  'title': 'Case {} - Simple Intersection - {}'},\n",
       " '06': {'types': ['original', 'manual'],\n",
       "  'city': 'Douala',\n",
       "  'coordinates': (9.7410638, 4.0968701),\n",
       "  'buffer': 100,\n",
       "  'title': 'Case {} - Cross-shaped Intersection - {}'},\n",
       " '07': {'types': ['original', 'manual'],\n",
       "  'city': 'Aleppo',\n",
       "  'coordinates': (37.1427047, 36.2365752),\n",
       "  'buffer': 100,\n",
       "  'title': 'Case {} - Intersection - {}'},\n",
       " '08': {'types': ['original', 'manual'],\n",
       "  'city': 'Aleppo',\n",
       "  'coordinates': (37.1398569, 36.2401153),\n",
       "  'buffer': 200,\n",
       "  'title': 'Case {} - Side Roads - {}'},\n",
       " '09': {'types': ['original', 'manual'],\n",
       "  'city': 'Aleppo',\n",
       "  'coordinates': (36.9760168, 36.127391),\n",
       "  'buffer': 200,\n",
       "  'title': 'Case {} - Cul-de-sac - {}'},\n",
       " '10': {'types': ['original', 'manual'],\n",
       "  'city': 'Aleppo',\n",
       "  'coordinates': (37.1680681, 36.1939477),\n",
       "  'buffer': 200,\n",
       "  'title': 'Case {} - Ovalabout - {}'},\n",
       " '11': {'types': ['original', 'manual'],\n",
       "  'city': 'Aleppo',\n",
       "  'coordinates': (37.222222, 36.194167),\n",
       "  'buffer': 500,\n",
       "  'title': 'Case {} - Cloverleaf Interchange - {}'},\n",
       " '12': {'types': ['original', 'manual'],\n",
       "  'city': 'Auckland',\n",
       "  'coordinates': (174.84, -36.9186111),\n",
       "  'buffer': 300,\n",
       "  'title': 'Case {} - Multi-level Carriageway - {}'},\n",
       " '13': {'types': ['original', 'manual'],\n",
       "  'city': 'Liège',\n",
       "  'coordinates': (5.6155107, 50.6764454),\n",
       "  'buffer': 100,\n",
       "  'title': 'Case {} - Special Case Roundabouts - {}'},\n",
       " '14': {'types': ['original', 'manual'],\n",
       "  'city': 'Bucaramanga',\n",
       "  'coordinates': (-73.1613889, 7.0644444),\n",
       "  'buffer': 100,\n",
       "  'title': 'Case {} - Parallel Roads Connected with a Linking Road - {}'},\n",
       " '15': {'types': ['original', 'manual'],\n",
       "  'city': 'Bucaramanga',\n",
       "  'coordinates': (-73.1275, 7.1252778),\n",
       "  'buffer': 100,\n",
       "  'title': 'Case {} - Outliers - {}'},\n",
       " '16': {'types': ['original', 'manual'],\n",
       "  'city': 'Douala',\n",
       "  'coordinates': (9.6611711, 4.0880919),\n",
       "  'buffer': 200,\n",
       "  'title': 'Case {} - Parallel Roads Leading to Different Levels - {}'},\n",
       " '17': {'types': ['original', 'manual'],\n",
       "  'city': 'Aleppo',\n",
       "  'coordinates': (37.1797839, 36.2086177),\n",
       "  'buffer': 100,\n",
       "  'title': 'Case {} - Roundabout with Roads on Different Levels - {}'},\n",
       " '18': {'types': ['original', 'manual'],\n",
       "  'city': 'Aleppo',\n",
       "  'coordinates': (36.9912088, 36.0967749),\n",
       "  'buffer': 500,\n",
       "  'title': 'Case {} - Partial Cloverleaf Interchange - {}'},\n",
       " '19': {'types': ['original', 'manual'],\n",
       "  'city': 'Auckland',\n",
       "  'coordinates': (174.7616667, -36.7991667),\n",
       "  'buffer': 300,\n",
       "  'title': 'Case {} - Complicated Freeway Intersection - {}'}}"
      ]
     },
     "execution_count": 3,
     "metadata": {},
     "output_type": "execute_result"
    }
   ],
   "source": [
    "protocol.protocol_cases"
   ]
  },
  {
   "cell_type": "markdown",
   "metadata": {},
   "source": [
    "-----------\n",
    "\n",
    "## Iterate over each protocol case-type - generate data, plot, & save\n",
    "* case `[1-19]`\n",
    "* type `[\"original\", \"manual\"]`"
   ]
  },
  {
   "cell_type": "code",
   "execution_count": 5,
   "metadata": {
    "execution": {
     "iopub.execute_input": "2024-07-21T23:20:31.629118Z",
     "iopub.status.busy": "2024-07-21T23:20:31.629046Z",
     "iopub.status.idle": "2024-07-21T23:21:43.127074Z",
     "shell.execute_reply": "2024-07-21T23:21:43.126797Z",
     "shell.execute_reply.started": "2024-07-21T23:20:31.629112Z"
    }
   },
   "outputs": [],
   "source": [
    "for _case, _info in protocol.protocol_cases.items():\n",
    "    for _type in _info[\"types\"]:\n",
    "        protocol.process_case(\n",
    "            _case,\n",
    "            _type,\n",
    "            _info[\"city\"],\n",
    "            _info[\"coordinates\"],\n",
    "            _info[\"buffer\"],\n",
    "        )\n",
    "        plt.close()"
   ]
  }
 ],
 "metadata": {
  "kernelspec": {
   "display_name": "tests",
   "language": "python",
   "name": "python3"
  },
  "language_info": {
   "codemirror_mode": {
    "name": "ipython",
    "version": 3
   },
   "file_extension": ".py",
   "mimetype": "text/x-python",
   "name": "python",
   "nbconvert_exporter": "python",
   "pygments_lexer": "ipython3",
   "version": "3.12.8"
  }
 },
 "nbformat": 4,
 "nbformat_minor": 4
}
