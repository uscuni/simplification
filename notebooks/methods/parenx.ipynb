{
 "cells": [
  {
   "cell_type": "markdown",
   "metadata": {},
   "source": [
    "## Testing out parenx skeletonization and voronoi approaches\n",
    "\n",
    "Resources:\n",
    "* https://github.com/nptscot/networkmerge\n",
    "* https://github.com/nptscot/networkmerge\n",
    "* https://github.com/anisotropi4/parenx/tree/main"
   ]
  },
  {
   "cell_type": "code",
   "execution_count": 2,
   "metadata": {},
   "outputs": [],
   "source": [
    "import glob\n",
    "import os\n",
    "import re\n",
    "import shutil\n",
    "\n",
    "import geopandas as gpd\n",
    "\n",
    "from core import utils"
   ]
  },
  {
   "cell_type": "code",
   "execution_count": 3,
   "metadata": {},
   "outputs": [],
   "source": [
    "fuas = list(utils.fua_city.keys())"
   ]
  },
  {
   "cell_type": "code",
   "execution_count": null,
   "metadata": {},
   "outputs": [],
   "source": [
    "# parquet is not a recognized format for parenx - convert to gpkg first\n",
    "for fua in fuas:\n",
    "    subfolder = f\"../../data/{fua}/temp-parenx/\"\n",
    "    os.makedirs(f\"../../data/{fua}/temp-parenx/\", exist_ok=True)\n",
    "    roads = gpd.read_parquet(f\"../../data/{fua}/original/{fua}.parquet\").reset_index(\n",
    "        drop=True\n",
    "    )\n",
    "    roads.to_file(subfolder + \"roads_osm.gpkg\", layer=\"roads\", engine=\"pyogrio\")"
   ]
  },
  {
   "cell_type": "markdown",
   "metadata": {},
   "source": [
    "**Now, run the bash script `parenx-run.sh` from command line**\n",
    "\n",
    "(this implies having activated a `conda` environent in which `parenx` is installed)\n",
    "\n",
    "`bash notebooks/methods/parenx-run.sh`\n",
    "\n",
    "this will add to each subfolder in `temp-parenx` 2 files: voronoi.gpkg and skeletonize.gpkg. gitignoring them for now because the outputs are too large."
   ]
  },
  {
   "cell_type": "markdown",
   "metadata": {},
   "source": [
    "```bash\n",
    "Last login: Sun Dec  1 12:19:51 on ttys014\n",
    "anvy@mac622265  ~ % cd /Users/anvy/Library/CloudStorage/OneDrive-ITU/projects/simplification\n",
    "anvy@mac622265  simplification % conda activate simplification\n",
    "(simplification) anvy@mac622265  simplification % bash notebooks/methods/parenx-run.sh\n",
    "Simplification for ./data/869/temp-parenx started\n",
    "start\t\t0:00:00.000336\n",
    "read geojson\t0:00:00.918972\n",
    "process\t\t0:00:01.475191\n",
    "write simple\t0:04:02.346021\n",
    "write primal\t0:04:02.622587\n",
    "stop\t\t0:04:03.053205\n",
    "start\t\t0:00:00.000161\n",
    "read geojson\t0:00:01.046571\n",
    "process\t\t0:00:01.581595\n",
    "dewhisker\t0:02:16.698107\n",
    "write simple\t0:17:31.049953\n",
    "write primal\t0:17:31.646008\n",
    "stop\t\t0:17:31.725630\n",
    "Simplification for ./data/8989/temp-parenx started\n",
    "start\t\t0:00:00.000625\n",
    "read geojson\t0:00:01.830190\n",
    "process\t\t0:00:02.686399\n",
    "write simple\t2:56:22.620136\n",
    "write primal\t2:56:24.372666\n",
    "stop\t\t2:56:25.852823\n",
    "start\t\t0:00:00.000149\n",
    "read geojson\t0:00:01.595519\n",
    "process\t\t0:00:02.359671\n",
    "dewhisker\t0:22:23.474801\n",
    "write simple\t2:30:53.991138\n",
    "write primal\t2:30:55.799845\n",
    "stop\t\t2:30:56.056108\n",
    "Simplification for ./data/1656/temp-parenx started\n",
    "start\t\t0:00:00.000497\n",
    "read geojson\t0:00:01.910386\n",
    "process\t\t0:00:02.695223\n",
    "write simple\t0:12:31.371171\n",
    "write primal\t0:12:31.995311\n",
    "stop\t\t0:12:32.556674\n",
    "start\t\t0:00:00.000225\n",
    "read geojson\t0:00:01.505799\n",
    "process\t\t0:00:02.204637\n",
    "dewhisker\t0:04:34.519544\n",
    "write simple\t0:37:07.637350\n",
    "write primal\t0:37:08.207694\n",
    "stop\t\t0:37:08.538319\n",
    "Simplification for ./data/4881/temp-parenx started\n",
    "start\t\t0:00:00.000481\n",
    "read geojson\t0:00:00.970832\n",
    "process\t\t0:00:01.407188\n",
    "write simple\t0:06:24.631430\n",
    "write primal\t0:06:25.051560\n",
    "stop\t\t0:06:25.581967\n",
    "start\t\t0:00:00.000190\n",
    "read geojson\t0:00:00.836642\n",
    "process\t\t0:00:01.283132\n",
    "dewhisker\t0:04:54.067353\n",
    "write simple\t0:40:18.274922\n",
    "write primal\t0:40:18.973528\n",
    "stop\t\t0:40:19.078338\n",
    "Simplification for ./data/809/temp-parenx started\n",
    "start\t\t0:00:00.000628\n",
    "read geojson\t0:00:01.645937\n",
    "/Users/anvy/anaconda3/envs/simplification/lib/python3.11/site-packages/pyogrio/geopandas.py:523: UserWarning: GeoSeries.notna() previously returned False for both missing (None) and empty geometries. Now, it only returns False for missing values. Since the calling GeoSeries contains empty geometries, the result has changed compared to previous versions of GeoPandas.\n",
    "Given a GeoSeries 's', you can use '~s.is_empty & s.notna()' to get back the old behaviour.\n",
    "\n",
    "To further ignore this warning, you can do: \n",
    "import warnings; warnings.filterwarnings('ignore', 'GeoSeries.notna', UserWarning)\n",
    "  has_z_arr = geometry[geometry.notna() & (~geometry.is_empty)].has_z\n",
    "/Users/anvy/anaconda3/envs/simplification/lib/python3.11/site-packages/pyogrio/raw.py:709: RuntimeWarning: Layer 'input' has been declared with non-Z geometry type LineString, but it does contain geometries with Z. Setting the Z=2 hint into gpkg_geometry_columns\n",
    "  ogr_write(\n",
    "process\t\t0:00:02.383023\n",
    "write simple\t0:06:36.363997\n",
    "write primal\t0:06:36.890368\n",
    "stop\t\t0:06:38.061981\n",
    "start\t\t0:00:00.000197\n",
    "read geojson\t0:00:01.462391\n",
    "/Users/anvy/anaconda3/envs/simplification/lib/python3.11/site-packages/pyogrio/geopandas.py:523: UserWarning: GeoSeries.notna() previously returned False for both missing (None) and empty geometries. Now, it only returns False for missing values. Since the calling GeoSeries contains empty geometries, the result has changed compared to previous versions of GeoPandas.\n",
    "Given a GeoSeries 's', you can use '~s.is_empty & s.notna()' to get back the old behaviour.\n",
    "\n",
    "To further ignore this warning, you can do: \n",
    "import warnings; warnings.filterwarnings('ignore', 'GeoSeries.notna', UserWarning)\n",
    "  has_z_arr = geometry[geometry.notna() & (~geometry.is_empty)].has_z\n",
    "/Users/anvy/anaconda3/envs/simplification/lib/python3.11/site-packages/pyogrio/raw.py:709: RuntimeWarning: Layer 'input' has been declared with non-Z geometry type LineString, but it does contain geometries with Z. Setting the Z=2 hint into gpkg_geometry_columns\n",
    "  ogr_write(\n",
    "process\t\t0:00:02.267041\n",
    "dewhisker\t0:05:49.679755\n",
    "write simple\t0:51:16.541609\n",
    "write primal\t0:51:17.745536\n",
    "stop\t\t0:51:17.931114\n",
    "Simplification for ./data/1133/temp-parenx started\n",
    "start\t\t0:00:00.000613\n",
    "read geojson\t0:00:01.560002\n",
    "process\t\t0:00:02.275621\n",
    "write simple\t0:16:43.989057\n",
    "write primal\t0:16:44.888332\n",
    "stop\t\t0:16:46.350155\n",
    "start\t\t0:00:00.000198\n",
    "read geojson\t0:00:01.249237\n",
    "process\t\t0:00:01.910138\n",
    "dewhisker\t0:10:14.528398\n",
    "write simple\t1:18:32.373940\n",
    "write primal\t1:18:34.121413\n",
    "stop\t\t1:18:34.416316\n",
    "Simplification for ./data/4617/temp-parenx started\n",
    "start\t\t0:00:00.000461\n",
    "read geojson\t0:00:01.483120\n",
    "process\t\t0:00:02.152510\n",
    "write simple\t0:31:30.022070\n",
    "write primal\t0:31:30.992823\n",
    "stop\t\t0:31:31.649961\n",
    "start\t\t0:00:00.000303\n",
    "read geojson\t0:00:01.479936\n",
    "process\t\t0:00:02.135223\n",
    "dewhisker\t0:10:55.153675\n",
    "write simple\t1:50:06.980065\n",
    "write primal\t1:50:07.784702\n",
    "stop\t\t1:50:07.878618\n",
    "Done.\n",
    "```"
   ]
  },
  {
   "cell_type": "markdown",
   "metadata": {},
   "source": [
    "**reduce output file size by removing duplicated data**,  and copy to corresponding `data/{fua_id]}/parenx/` folders (in parquet format)"
   ]
  },
  {
   "cell_type": "code",
   "execution_count": 4,
   "metadata": {},
   "outputs": [
    {
     "name": "stderr",
     "output_type": "stream",
     "text": [
      "/Users/anvy/anaconda3/envs/simplification/lib/python3.11/site-packages/pyogrio/raw.py:196: RuntimeWarning: driver GPKG does not support open option DRIVER\n",
      "  return ogr_read(\n",
      "/Users/anvy/anaconda3/envs/simplification/lib/python3.11/site-packages/pyogrio/raw.py:196: RuntimeWarning: driver GPKG does not support open option DRIVER\n",
      "  return ogr_read(\n",
      "/Users/anvy/anaconda3/envs/simplification/lib/python3.11/site-packages/pyogrio/raw.py:196: RuntimeWarning: driver GPKG does not support open option DRIVER\n",
      "  return ogr_read(\n"
     ]
    },
    {
     "name": "stdout",
     "output_type": "stream",
     "text": [
      "Done for 869\n"
     ]
    },
    {
     "name": "stderr",
     "output_type": "stream",
     "text": [
      "/Users/anvy/anaconda3/envs/simplification/lib/python3.11/site-packages/pyogrio/raw.py:196: RuntimeWarning: driver GPKG does not support open option DRIVER\n",
      "  return ogr_read(\n",
      "/Users/anvy/anaconda3/envs/simplification/lib/python3.11/site-packages/pyogrio/raw.py:196: RuntimeWarning: driver GPKG does not support open option DRIVER\n",
      "  return ogr_read(\n"
     ]
    },
    {
     "name": "stdout",
     "output_type": "stream",
     "text": [
      "Done for 8989\n"
     ]
    },
    {
     "name": "stderr",
     "output_type": "stream",
     "text": [
      "/Users/anvy/anaconda3/envs/simplification/lib/python3.11/site-packages/pyogrio/raw.py:196: RuntimeWarning: driver GPKG does not support open option DRIVER\n",
      "  return ogr_read(\n",
      "/Users/anvy/anaconda3/envs/simplification/lib/python3.11/site-packages/pyogrio/raw.py:196: RuntimeWarning: driver GPKG does not support open option DRIVER\n",
      "  return ogr_read(\n"
     ]
    },
    {
     "name": "stdout",
     "output_type": "stream",
     "text": [
      "Done for 1656\n"
     ]
    },
    {
     "name": "stderr",
     "output_type": "stream",
     "text": [
      "/Users/anvy/anaconda3/envs/simplification/lib/python3.11/site-packages/pyogrio/raw.py:196: RuntimeWarning: driver GPKG does not support open option DRIVER\n",
      "  return ogr_read(\n",
      "/Users/anvy/anaconda3/envs/simplification/lib/python3.11/site-packages/pyogrio/raw.py:196: RuntimeWarning: driver GPKG does not support open option DRIVER\n",
      "  return ogr_read(\n"
     ]
    },
    {
     "name": "stdout",
     "output_type": "stream",
     "text": [
      "Done for 4881\n"
     ]
    },
    {
     "name": "stderr",
     "output_type": "stream",
     "text": [
      "/Users/anvy/anaconda3/envs/simplification/lib/python3.11/site-packages/pyogrio/raw.py:196: RuntimeWarning: driver GPKG does not support open option DRIVER\n",
      "  return ogr_read(\n"
     ]
    },
    {
     "name": "stdout",
     "output_type": "stream",
     "text": [
      "Done for 809\n"
     ]
    },
    {
     "name": "stderr",
     "output_type": "stream",
     "text": [
      "/Users/anvy/anaconda3/envs/simplification/lib/python3.11/site-packages/pyogrio/raw.py:196: RuntimeWarning: driver GPKG does not support open option DRIVER\n",
      "  return ogr_read(\n",
      "/Users/anvy/anaconda3/envs/simplification/lib/python3.11/site-packages/pyogrio/raw.py:196: RuntimeWarning: driver GPKG does not support open option DRIVER\n",
      "  return ogr_read(\n",
      "/Users/anvy/anaconda3/envs/simplification/lib/python3.11/site-packages/pyogrio/raw.py:196: RuntimeWarning: driver GPKG does not support open option DRIVER\n",
      "  return ogr_read(\n"
     ]
    },
    {
     "name": "stdout",
     "output_type": "stream",
     "text": [
      "Done for 1133\n",
      "Done for 4617\n"
     ]
    },
    {
     "name": "stderr",
     "output_type": "stream",
     "text": [
      "/Users/anvy/anaconda3/envs/simplification/lib/python3.11/site-packages/pyogrio/raw.py:196: RuntimeWarning: driver GPKG does not support open option DRIVER\n",
      "  return ogr_read(\n"
     ]
    }
   ],
   "source": [
    "for subfolder in glob.glob(\"../../data/*/temp-parenx/\"):\n",
    "    fua = int(re.findall(r\"\\d+\", subfolder)[0])\n",
    "\n",
    "    # SKELETONIZE\n",
    "    os.makedirs(f\"../../data/{fua}/parenx-skeletonize/\", exist_ok=True)\n",
    "    ske = gpd.read_file(\n",
    "        filename=subfolder + \"/skeletonize.gpkg\", driver=\"fiona\", layer=\"line\"\n",
    "    )\n",
    "    ske.to_parquet(f\"../../data/{fua}/parenx-skeletonize/{fua}.parquet\")\n",
    "\n",
    "    # VORONOI\n",
    "    os.makedirs(f\"../../data/{fua}/parenx-voronoi/\", exist_ok=True)\n",
    "    vor = gpd.read_file(\n",
    "        filename=subfolder + \"/voronoi.gpkg\", driver=\"fiona\", layer=\"line\"\n",
    "    )\n",
    "    vor.to_parquet(f\"../../data/{fua}/parenx-voronoi/{fua}.parquet\")\n",
    "\n",
    "    print(f\"Done for {fua}\")"
   ]
  },
  {
   "cell_type": "markdown",
   "metadata": {},
   "source": [
    "**Remove parenx results**"
   ]
  },
  {
   "cell_type": "code",
   "execution_count": 5,
   "metadata": {},
   "outputs": [],
   "source": [
    "# for fua in fuas:\n",
    "#     shutil.rmtree(f\"../../data/{fua}/temp-parenx/\")"
   ]
  },
  {
   "cell_type": "markdown",
   "metadata": {},
   "source": [
    "### Initial observations & thoughts:\n",
    "* computation time: skeletonization around 10min for all 5 usecases; voronoi between 1h and 14h (salt lake city, maybe because it has the largest area, or maybe because my laptop went to sleep...)\n",
    "*  it works well for some places (esp intersections, even the more complicated ones)\n",
    "* major issue 1: sometimes network topology is not kept (linestrings that don't connect are merged)\n",
    "* major issue 2: it creates wobbly lines"
   ]
  }
 ],
 "metadata": {
  "kernelspec": {
   "display_name": "simplification",
   "language": "python",
   "name": "python3"
  },
  "language_info": {
   "codemirror_mode": {
    "name": "ipython",
    "version": 3
   },
   "file_extension": ".py",
   "mimetype": "text/x-python",
   "name": "python",
   "nbconvert_exporter": "python",
   "pygments_lexer": "ipython3",
   "version": "3.11.9"
  }
 },
 "nbformat": 4,
 "nbformat_minor": 4
}
