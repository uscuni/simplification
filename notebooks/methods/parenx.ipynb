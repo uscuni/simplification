{
 "cells": [
  {
   "cell_type": "markdown",
   "metadata": {},
   "source": [
    "## Testing out parenx skeletonization and voronoi approaches\n",
    "\n",
    "Resources:\n",
    "* https://github.com/nptscot/networkmerge\n",
    "* https://github.com/nptscot/networkmerge\n",
    "* https://github.com/anisotropi4/parenx/tree/main"
   ]
  },
  {
   "cell_type": "code",
   "execution_count": null,
   "metadata": {},
   "outputs": [],
   "source": [
    "import glob\n",
    "import os\n",
    "import re\n",
    "import shutil\n",
    "\n",
    "import geopandas as gpd\n",
    "\n",
    "from core import utils"
   ]
  },
  {
   "cell_type": "code",
   "execution_count": 8,
   "metadata": {},
   "outputs": [],
   "source": [
    "# parquet is not a recognized format for parenx - convert to gpkg first\n",
    "\n",
    "fuas = list(utils.fua_city.keys())\n",
    "\n",
    "for fua in fuas:\n",
    "    subfolder = f\"../../data/{fua}/temp-parenx/\"\n",
    "    os.makedirs(f\"../../data/{fua}/temp-parenx/\", exist_ok=True)\n",
    "    roads = gpd.read_parquet(f\"../../data/{fua}/original/{fua}.parquet\").reset_index(\n",
    "        drop=True\n",
    "    )\n",
    "    roads.to_file(subfolder + \"roads_osm.gpkg\", layer=\"roads\", engine=\"pyogrio\")"
   ]
  },
  {
   "cell_type": "markdown",
   "metadata": {},
   "source": [
    "**Now, run the bash script `parenx-run.sh` from command line**\n",
    "\n",
    "(this implies having activated a `conda` environent in which `parenx` is installed)\n",
    "\n",
    "`bash notebooks/methods/parenx-run.sh`\n",
    "\n",
    "this will add to each subfolder in `temp-parenx` 2 files: voronoi.gpkg and skeletonize.gpkg. gitignoring them for now because the outputs are too large."
   ]
  },
  {
   "cell_type": "markdown",
   "metadata": {},
   "source": [
    "**reduce output file size by removing duplicated data**,  and copy to corresponding `data/{fua_id]}/parenx/` folders (in parquet format)"
   ]
  },
  {
   "cell_type": "code",
   "execution_count": null,
   "metadata": {},
   "outputs": [
    {
     "name": "stdout",
     "output_type": "stream",
     "text": [
      "Done for 869\n",
      "Done for 8989\n",
      "Done for 1656\n",
      "Done for 4881\n",
      "Done for 809\n",
      "Done for 1133\n",
      "Done for 4617\n"
     ]
    }
   ],
   "source": [
    "for subfolder in glob.glob(\"../../data/*/temp-parenx/\"):\n",
    "    fua = int(re.findall(r\"\\d+\", subfolder)[0])\n",
    "\n",
    "    # SKELETONIZE\n",
    "    os.makedirs(f\"../../data/{fua}/parenx-skeletonize/\", exist_ok=True)\n",
    "    ske = gpd.read_file(\n",
    "        filename=subfolder + \"/skeletonize.gpkg\", driver=\"fiona\", layer=\"line\"\n",
    "    )\n",
    "    ske.to_parquet(f\"../../data/{fua}/parenx-skeletonize/{fua}.parquet\")\n",
    "\n",
    "    # VORONOI\n",
    "    os.makedirs(f\"../../data/{fua}/parenx-voronoi/\", exist_ok=True)\n",
    "    vor = gpd.read_file(\n",
    "        filename=subfolder + \"/voronoi.gpkg\", driver=\"fiona\", layer=\"line\"\n",
    "    )\n",
    "    vor.to_parquet(f\"../../data/{fua}/parenx-voronoi/{fua}.parquet\")\n",
    "\n",
    "    print(f\"Done for {fua}\")"
   ]
  },
  {
   "cell_type": "markdown",
   "metadata": {},
   "source": [
    "**Remove parenx results**"
   ]
  },
  {
   "cell_type": "code",
   "execution_count": null,
   "metadata": {},
   "outputs": [],
   "source": [
    "for fua in fuas:\n",
    "    shutil.rmtree(f\"../../data/{fua}/temp-parenx/\")"
   ]
  },
  {
   "cell_type": "markdown",
   "metadata": {},
   "source": [
    "### Initial observations & thoughts:\n",
    "* computation time: skeletonization around 10min for all 5 usecases; voronoi between 1h and 14h (salt lake city, maybe because it has the largest area, or maybe because my laptop went to sleep...)\n",
    "*  it works well for some places (esp intersections, even the more complicated ones)\n",
    "* major issue 1: sometimes network topology is not kept (linestrings that don't connect are merged)\n",
    "* major issue 2: it creates wobbly lines"
   ]
  }
 ],
 "metadata": {
  "kernelspec": {
   "display_name": "simplification",
   "language": "python",
   "name": "python3"
  },
  "language_info": {
   "codemirror_mode": {
    "name": "ipython",
    "version": 3
   },
   "file_extension": ".py",
   "mimetype": "text/x-python",
   "name": "python",
   "nbconvert_exporter": "python",
   "pygments_lexer": "ipython3",
   "version": "3.11.9"
  }
 },
 "nbformat": 4,
 "nbformat_minor": 4
}
