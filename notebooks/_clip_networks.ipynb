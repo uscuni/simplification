{
 "cells": [
  {
   "cell_type": "markdown",
   "metadata": {},
   "source": [
    "# Clip networks\n",
    "\n",
    "This notebook clips original networks from their FUA extent to roughly 100-110k geometries around a point in the city centre of the FUA.\n",
    "\n",
    "Smaller cases were not clipped."
   ]
  },
  {
   "cell_type": "code",
   "execution_count": 1,
   "metadata": {},
   "outputs": [],
   "source": [
    "import geopandas as gpd\n",
    "import graphblas_algorithms as ga\n",
    "import momepy as mm\n",
    "import networkx as nx\n",
    "import shapely"
   ]
  },
  {
   "cell_type": "markdown",
   "metadata": {},
   "source": [
    "## Salt Lake City"
   ]
  },
  {
   "cell_type": "code",
   "execution_count": 2,
   "metadata": {},
   "outputs": [],
   "source": [
    "slc = gpd.read_parquet(\"../data/4881/original/4881.parquet\").query(\n",
    "    \"highway != 'service'\"\n",
    ")\n",
    "G = mm.gdf_to_nx(slc)\n",
    "G_blas = ga.Graph.from_networkx(G)\n",
    "pts = mm.nx_to_gdf(G, points=True, lines=False)\n",
    "centre = shapely.Point(424955, 4512261)\n",
    "ix = pts.sindex.nearest(centre, return_distance=False)[-1]"
   ]
  },
  {
   "cell_type": "markdown",
   "metadata": {},
   "source": [
    "Picking 200 in SLC gives about 110k geometries, comparable to other places."
   ]
  },
  {
   "cell_type": "code",
   "execution_count": 5,
   "metadata": {},
   "outputs": [],
   "source": [
    "clipped = nx.ego_graph(G_blas, tuple(pts.iloc[ix[0]].geometry.coords)[0], radius=200)\n",
    "clipped_nx = clipped.to_networkx()\n",
    "clipped_nx_w_attrs = G.subgraph(clipped_nx.nodes)\n",
    "clipped_gdf = mm.nx_to_gdf(clipped_nx_w_attrs, points=False, lines=True)"
   ]
  },
  {
   "cell_type": "code",
   "execution_count": null,
   "metadata": {},
   "outputs": [],
   "source": [
    "fbase = (\n",
    "    \"/Users/martin/Library/CloudStorage/GoogleDrive-fleischma@natur.cuni.cz/\"\n",
    "    \"Shared drives/US CUNI/Data/2024_simplification\"\n",
    ")"
   ]
  },
  {
   "cell_type": "code",
   "execution_count": 8,
   "metadata": {},
   "outputs": [],
   "source": [
    "clipped_gdf.drop(columns=\"mm_len\").to_parquet(\"../data/4881/original/4881.parquet\")\n",
    "# clipped_gdf.drop(columns=\"mm_len\").to_file(f\"{fbase}/4881.gpkg\", engine=\"pyogrio\")"
   ]
  },
  {
   "cell_type": "markdown",
   "metadata": {},
   "source": [
    "## Auckland"
   ]
  },
  {
   "cell_type": "code",
   "execution_count": 9,
   "metadata": {},
   "outputs": [],
   "source": [
    "auckland = gpd.read_parquet(\"../data/869/original/869.parquet\").query(\n",
    "    \"highway != 'service'\"\n",
    ")\n",
    "G = mm.gdf_to_nx(auckland)\n",
    "G_blas = ga.Graph.from_networkx(G)\n",
    "pts = mm.nx_to_gdf(G, points=True, lines=False)\n",
    "centre = shapely.Point(301096, -4081788)\n",
    "ix = pts.sindex.nearest(centre, return_distance=False)[-1]"
   ]
  },
  {
   "cell_type": "markdown",
   "metadata": {},
   "source": [
    "Picking 300 in Auckland gives about 110k geometries, comparable to other places."
   ]
  },
  {
   "cell_type": "code",
   "execution_count": 10,
   "metadata": {},
   "outputs": [],
   "source": [
    "clipped = nx.ego_graph(G_blas, tuple(pts.iloc[ix[0]].geometry.coords)[0], radius=300)\n",
    "clipped_nx = clipped.to_networkx()\n",
    "clipped_nx_w_attrs = G.subgraph(clipped_nx.nodes)\n",
    "clipped_gdf = mm.nx_to_gdf(clipped_nx_w_attrs, points=False, lines=True)"
   ]
  },
  {
   "cell_type": "code",
   "execution_count": 11,
   "metadata": {},
   "outputs": [],
   "source": [
    "clipped_gdf.drop(columns=\"mm_len\").to_parquet(\"../data/869/original/869.parquet\")\n",
    "# clipped_gdf.drop(columns=\"mm_len\").to_file(\n",
    "#     f\"{fbase}/869.gpkg\",\n",
    "#     engine=\"pyogrio\",\n",
    "#     layer=\"roads\",\n",
    "# )"
   ]
  },
  {
   "cell_type": "markdown",
   "metadata": {},
   "source": [
    "## Liege"
   ]
  },
  {
   "cell_type": "code",
   "execution_count": 12,
   "metadata": {},
   "outputs": [],
   "source": [
    "liege = gpd.read_parquet(\"../data/1656/original/1656.parquet\").query(\n",
    "    \"highway != 'service'\"\n",
    ")\n",
    "G = mm.gdf_to_nx(liege)\n",
    "G_blas = ga.Graph.from_networkx(G)\n",
    "pts = mm.nx_to_gdf(G, points=True, lines=False)\n",
    "centre = shapely.Point(681905, 5613417)\n",
    "ix = pts.sindex.nearest(centre, return_distance=False)[-1]"
   ]
  },
  {
   "cell_type": "markdown",
   "metadata": {},
   "source": [
    "Picking 300 in Liege gives about 105k geometries, comparable to other places."
   ]
  },
  {
   "cell_type": "code",
   "execution_count": 13,
   "metadata": {},
   "outputs": [],
   "source": [
    "clipped = nx.ego_graph(G_blas, tuple(pts.iloc[ix[0]].geometry.coords)[0], radius=300)\n",
    "clipped_nx = clipped.to_networkx()\n",
    "clipped_nx_w_attrs = G.subgraph(clipped_nx.nodes)\n",
    "clipped_gdf = mm.nx_to_gdf(clipped_nx_w_attrs, points=False, lines=True)"
   ]
  },
  {
   "cell_type": "code",
   "execution_count": 14,
   "metadata": {},
   "outputs": [],
   "source": [
    "clipped_gdf.drop(columns=\"mm_len\").to_parquet(\"../data/1656/original/1656.parquet\")\n",
    "# clipped_gdf.drop(columns=\"mm_len\").to_file(\n",
    "#     f\"{fbase}/1656.gpkg\",\n",
    "#     engine=\"pyogrio\",\n",
    "#     layer=\"roads\",\n",
    "# )"
   ]
  },
  {
   "cell_type": "markdown",
   "metadata": {},
   "source": [
    "## Wuhan"
   ]
  },
  {
   "cell_type": "code",
   "execution_count": 15,
   "metadata": {},
   "outputs": [],
   "source": [
    "slc = gpd.read_parquet(\"../data/8989/original/8989.parquet\").query(\n",
    "    \"highway != 'service'\"\n",
    ")\n",
    "G = mm.gdf_to_nx(slc)\n",
    "G_blas = ga.Graph.from_networkx(G)\n",
    "pts = mm.nx_to_gdf(G, points=True, lines=False)\n",
    "centre = shapely.Point(239560, 3385637)\n",
    "ix = pts.sindex.nearest(centre, return_distance=False)[-1]"
   ]
  },
  {
   "cell_type": "markdown",
   "metadata": {},
   "source": [
    "Picking 230 gives about 110k geometries, comparable to other places."
   ]
  },
  {
   "cell_type": "code",
   "execution_count": 16,
   "metadata": {},
   "outputs": [],
   "source": [
    "clipped = nx.ego_graph(G_blas, tuple(pts.iloc[ix[0]].geometry.coords)[0], radius=230)\n",
    "clipped_nx = clipped.to_networkx()\n",
    "clipped_nx_w_attrs = G.subgraph(clipped_nx.nodes)\n",
    "clipped_gdf = mm.nx_to_gdf(clipped_nx_w_attrs, points=False, lines=True)"
   ]
  },
  {
   "cell_type": "code",
   "execution_count": 14,
   "metadata": {},
   "outputs": [],
   "source": [
    "fbase = (\n",
    "    \"/Users/martin/Library/CloudStorage/GoogleDrive-fleischma@natur.cuni.cz/\"\n",
    "    \"Shared drives/US CUNI/Data/2024_simplification\"\n",
    ")"
   ]
  },
  {
   "cell_type": "code",
   "execution_count": 17,
   "metadata": {},
   "outputs": [],
   "source": [
    "clipped_gdf.drop(columns=\"mm_len\").to_parquet(\"../data/8989/original/8989.parquet\")\n",
    "# clipped_gdf.drop(columns=\"mm_len\").to_file(f\"{fbase}/8989.gpkg\", engine=\"pyogrio\")"
   ]
  },
  {
   "cell_type": "markdown",
   "metadata": {},
   "source": [
    "## Aleppo"
   ]
  },
  {
   "cell_type": "code",
   "execution_count": 18,
   "metadata": {},
   "outputs": [],
   "source": [
    "slc = gpd.read_parquet(\"../data/1133/original/1133.parquet\").query(\n",
    "    \"highway != 'service'\"\n",
    ")"
   ]
  },
  {
   "cell_type": "code",
   "execution_count": 19,
   "metadata": {},
   "outputs": [],
   "source": [
    "slc.to_parquet(\"../data/1133/original/1133.parquet\")"
   ]
  },
  {
   "cell_type": "markdown",
   "metadata": {},
   "source": [
    "## Bucaramanga"
   ]
  },
  {
   "cell_type": "code",
   "execution_count": 20,
   "metadata": {},
   "outputs": [],
   "source": [
    "slc = gpd.read_parquet(\"../data/4617/original/4617.parquet\").query(\n",
    "    \"highway != 'service'\"\n",
    ")"
   ]
  },
  {
   "cell_type": "code",
   "execution_count": 21,
   "metadata": {},
   "outputs": [],
   "source": [
    "slc.to_parquet(\"../data/4617/original/4617.parquet\")"
   ]
  },
  {
   "cell_type": "markdown",
   "metadata": {},
   "source": [
    "## Douala"
   ]
  },
  {
   "cell_type": "code",
   "execution_count": 22,
   "metadata": {},
   "outputs": [],
   "source": [
    "slc = gpd.read_parquet(\"../data/809/original/809.parquet\").query(\n",
    "    \"highway != 'service'\"\n",
    ")"
   ]
  },
  {
   "cell_type": "code",
   "execution_count": 23,
   "metadata": {},
   "outputs": [],
   "source": [
    "slc.to_parquet(\"../data/809/original/809.parquet\")"
   ]
  },
  {
   "cell_type": "code",
   "execution_count": null,
   "metadata": {},
   "outputs": [],
   "source": []
  }
 ],
 "metadata": {
  "kernelspec": {
   "display_name": "Python 3 (ipykernel)",
   "language": "python",
   "name": "python3"
  },
  "language_info": {
   "codemirror_mode": {
    "name": "ipython",
    "version": 3
   },
   "file_extension": ".py",
   "mimetype": "text/x-python",
   "name": "python",
   "nbconvert_exporter": "python",
   "pygments_lexer": "ipython3",
   "version": "3.11.9"
  }
 },
 "nbformat": 4,
 "nbformat_minor": 4
}
