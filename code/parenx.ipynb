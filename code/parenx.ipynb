{
 "cells": [
  {
   "cell_type": "markdown",
   "metadata": {},
   "source": [
    "## Testing out parenx skeletonization and voronoi approaches\n",
    "\n",
    "Resources:\n",
    "* https://github.com/nptscot/networkmerge\n",
    "* https://github.com/nptscot/networkmerge\n",
    "* https://github.com/anisotropi4/parenx/tree/main"
   ]
  },
  {
   "cell_type": "code",
   "execution_count": null,
   "metadata": {},
   "outputs": [],
   "source": [
    "import parenx\n",
    "import glob\n",
    "import os\n",
    "import geopandas as gpd"
   ]
  },
  {
   "cell_type": "code",
   "execution_count": 11,
   "metadata": {},
   "outputs": [
    {
     "name": "stdout",
     "output_type": "stream",
     "text": [
      "869\n",
      "1656\n",
      "4881\n",
      "809\n",
      "1133\n",
      "4617\n"
     ]
    }
   ],
   "source": [
    "# parquet is not a recognized format - convert to gpkg first\n",
    "os.makedirs(\"../temp-parenx/\", exist_ok=True)\n",
    "folders = os.listdir(\"../data/\")\n",
    "folders.remove(\"sample.parquet\")\n",
    "for folder in folders:\n",
    "    os.makedirs(f\"../temp-parenx/{folder}/\", exist_ok=True)\n",
    "    if not folder.endswith(\"parquet\"):\n",
    "        roads = gpd.read_parquet(f\"../data/{folder}/roads_osm.parquet\").reset_index(drop=True)\n",
    "        roads.to_file(\n",
    "            f\"../temp-parenx/{folder}/roads_osm.gpkg\", \n",
    "            layer=\"roads\", \n",
    "            engine=\"pyogrio\"\n",
    "        )"
   ]
  },
  {
   "cell_type": "markdown",
   "metadata": {},
   "source": [
    "**Now, run the bash script `parenx-run.sh` from command line; will add to each subfolder in `temp-parenx` 2 files: voronoi.gpkg and skeletonization.gpkg**"
   ]
  },
  {
   "cell_type": "code",
   "execution_count": null,
   "metadata": {},
   "outputs": [],
   "source": []
  }
 ],
 "metadata": {
  "kernelspec": {
   "display_name": "Python 3",
   "language": "python",
   "name": "python3"
  },
  "language_info": {
   "codemirror_mode": {
    "name": "ipython",
    "version": 3
   },
   "file_extension": ".py",
   "mimetype": "text/x-python",
   "name": "python",
   "nbconvert_exporter": "python",
   "pygments_lexer": "ipython3",
   "version": "3.12.2"
  }
 },
 "nbformat": 4,
 "nbformat_minor": 2
}
