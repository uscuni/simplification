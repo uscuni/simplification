{
 "cells": [
  {
   "cell_type": "markdown",
   "metadata": {},
   "source": [
    "# Finding use cases for different cities\n",
    "\n",
    "1. Liège\n",
    "2. Douala\n",
    "3. ..."
   ]
  },
  {
   "cell_type": "code",
   "execution_count": 1,
   "metadata": {
    "execution": {
     "iopub.execute_input": "2024-04-20T20:22:22.204146Z",
     "iopub.status.busy": "2024-04-20T20:22:22.203999Z",
     "iopub.status.idle": "2024-04-20T20:22:22.231616Z",
     "shell.execute_reply": "2024-04-20T20:22:22.231327Z",
     "shell.execute_reply.started": "2024-04-20T20:22:22.204128Z"
    }
   },
   "outputs": [
    {
     "name": "stdout",
     "output_type": "stream",
     "text": [
      "Last updated: 2024-04-20T16:22:22.222681-04:00\n",
      "\n",
      "Python implementation: CPython\n",
      "Python version       : 3.11.8\n",
      "IPython version      : 8.22.2\n",
      "\n",
      "Compiler    : Clang 16.0.6 \n",
      "OS          : Darwin\n",
      "Release     : 23.4.0\n",
      "Machine     : arm64\n",
      "Processor   : arm\n",
      "CPU cores   : 8\n",
      "Architecture: 64bit\n",
      "\n"
     ]
    }
   ],
   "source": [
    "%load_ext watermark\n",
    "%watermark"
   ]
  },
  {
   "cell_type": "code",
   "execution_count": 2,
   "metadata": {
    "execution": {
     "iopub.execute_input": "2024-04-20T20:22:22.232495Z",
     "iopub.status.busy": "2024-04-20T20:22:22.232362Z",
     "iopub.status.idle": "2024-04-20T20:22:23.059954Z",
     "shell.execute_reply": "2024-04-20T20:22:23.059768Z",
     "shell.execute_reply.started": "2024-04-20T20:22:22.232482Z"
    }
   },
   "outputs": [
    {
     "name": "stdout",
     "output_type": "stream",
     "text": [
      "Watermark: 2.4.3\n",
      "\n",
      "json: 2.0.9\n",
      "\n"
     ]
    }
   ],
   "source": [
    "# import libraries\n",
    "import json\n",
    "import pathlib\n",
    "\n",
    "from core import utils\n",
    "\n",
    "%watermark -w\n",
    "%watermark -iv"
   ]
  },
  {
   "cell_type": "code",
   "execution_count": 3,
   "metadata": {
    "execution": {
     "iopub.execute_input": "2024-04-20T20:22:23.060515Z",
     "iopub.status.busy": "2024-04-20T20:22:23.060335Z",
     "iopub.status.idle": "2024-04-20T20:22:23.062941Z",
     "shell.execute_reply": "2024-04-20T20:22:23.062782Z",
     "shell.execute_reply.started": "2024-04-20T20:22:23.060508Z"
    }
   },
   "outputs": [
    {
     "data": {
      "text/plain": [
       "{'Aleppo': 1133,\n",
       " 'Auckland': 869,\n",
       " 'Bucaramanga': 4617,\n",
       " 'Douala': 809,\n",
       " 'Liège': 1656,\n",
       " 'Salt Lake City': 4881,\n",
       " 'Wuhan': 8989}"
      ]
     },
     "execution_count": 3,
     "metadata": {},
     "output_type": "execute_result"
    }
   ],
   "source": [
    "utils.city_fua"
   ]
  },
  {
   "cell_type": "markdown",
   "metadata": {},
   "source": [
    "## 1. Liège"
   ]
  },
  {
   "cell_type": "code",
   "execution_count": 4,
   "metadata": {
    "execution": {
     "iopub.execute_input": "2024-04-20T20:22:23.063281Z",
     "iopub.status.busy": "2024-04-20T20:22:23.063212Z",
     "iopub.status.idle": "2024-04-20T20:22:23.064638Z",
     "shell.execute_reply": "2024-04-20T20:22:23.064463Z",
     "shell.execute_reply.started": "2024-04-20T20:22:23.063274Z"
    }
   },
   "outputs": [],
   "source": [
    "# read in data for example city: Liege\n",
    "city = \"Liège\"\n",
    "fua = utils.city_fua[city]"
   ]
  },
  {
   "cell_type": "code",
   "execution_count": 5,
   "metadata": {
    "execution": {
     "iopub.execute_input": "2024-04-20T20:22:23.065047Z",
     "iopub.status.busy": "2024-04-20T20:22:23.064972Z",
     "iopub.status.idle": "2024-04-20T20:22:23.068361Z",
     "shell.execute_reply": "2024-04-20T20:22:23.068183Z",
     "shell.execute_reply.started": "2024-04-20T20:22:23.065040Z"
    }
   },
   "outputs": [],
   "source": [
    "# create use cases dict for Liège\n",
    "points = {}\n",
    "\n",
    "_context = \"roundabout\"\n",
    "points[_context] = {}\n",
    "points[_context][\"coords\"] = (5.587873, 50.641955)\n",
    "points[_context][\"address\"] = \"Place du Congrès\"\n",
    "points[_context][\"comments\"] = \"...\"\n",
    "\n",
    "_context = \"highway\"\n",
    "points[_context] = {}\n",
    "points[_context][\"coords\"] = (5.560604, 50.632068)\n",
    "points[_context][\"address\"] = \"A602 / Rue de Puisatiers\"\n",
    "points[_context][\"comments\"] = \"...\"\n",
    "\n",
    "_context = \"parkinglot\"\n",
    "points[_context] = {}\n",
    "points[_context][\"coords\"] = (5.592738, 50.616253)\n",
    "points[_context][\"address\"] = \"Carrefour Quai des Vennes\"\n",
    "points[_context][\"comments\"] = \"...\"\n",
    "\n",
    "_context = \"intersection\"\n",
    "points[_context] = {}\n",
    "points[_context][\"coords\"] = (5.511301, 50.618373)\n",
    "points[_context][\"address\"] = \"Pont de Seraing\"\n",
    "points[_context][\"comments\"] = \"...\"\n",
    "\n",
    "_context = \"parallel_edges_1\"\n",
    "points[_context] = {}\n",
    "points[_context][\"coords\"] = (5.5708487, 50.6236314)\n",
    "points[_context][\"address\"] = \"LIEGE Place des Franchises\"\n",
    "points[_context][\"comments\"] = \"small, textbook case\"\n",
    "\n",
    "_context = \"parallel_edges_2\"\n",
    "points[_context] = {}\n",
    "points[_context][\"coords\"] = (5.6192988, 50.6928202)\n",
    "points[_context][\"address\"] = \"WBCC, Rue d'Abhooz 82, 4040 Herstal, Belgium\"\n",
    "points[_context][\"comments\"] = \"parking lot of parallel edges\"\n",
    "\n",
    "_context = \"parallel_edges_3\"\n",
    "points[_context] = {}\n",
    "points[_context][\"coords\"] = (5.6202498, 50.6790271)\n",
    "points[_context][\"address\"] = \"Rue du Coq Mosan 7, 4040 Herstal, Belgium\"\n",
    "points[_context][\"comments\"] = \"collapsed neighborhood - parallel edges\"\n",
    "\n",
    "fpath_base = pathlib.Path(\"..\", \"usecases\", str(utils.city_fua[city]))\n",
    "with open(fpath_base / \"points.json\", \"w\") as outfile:\n",
    "    outfile.write(json.dumps(points, indent=6))"
   ]
  },
  {
   "cell_type": "markdown",
   "metadata": {},
   "source": [
    "## 2. Douala"
   ]
  },
  {
   "cell_type": "code",
   "execution_count": null,
   "metadata": {},
   "outputs": [],
   "source": []
  }
 ],
 "metadata": {
  "kernelspec": {
   "display_name": "Python 3 (ipykernel)",
   "language": "python",
   "name": "python3"
  },
  "language_info": {
   "codemirror_mode": {
    "name": "ipython",
    "version": 3
   },
   "file_extension": ".py",
   "mimetype": "text/x-python",
   "name": "python",
   "nbconvert_exporter": "python",
   "pygments_lexer": "ipython3",
   "version": "3.11.10"
  }
 },
 "nbformat": 4,
 "nbformat_minor": 4
}
