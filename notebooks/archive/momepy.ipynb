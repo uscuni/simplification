{
 "cells": [
  {
   "cell_type": "markdown",
   "metadata": {},
   "source": [
    "# Momepy"
   ]
  },
  {
   "cell_type": "code",
   "execution_count": 1,
   "metadata": {
    "execution": {
     "iopub.execute_input": "2024-04-19T01:06:33.912231Z",
     "iopub.status.busy": "2024-04-19T01:06:33.912051Z",
     "iopub.status.idle": "2024-04-19T01:06:33.935118Z",
     "shell.execute_reply": "2024-04-19T01:06:33.934802Z",
     "shell.execute_reply.started": "2024-04-19T01:06:33.912211Z"
    }
   },
   "outputs": [
    {
     "name": "stdout",
     "output_type": "stream",
     "text": [
      "Last updated: 2024-04-18T21:06:33.928712-04:00\n",
      "\n",
      "Python implementation: CPython\n",
      "Python version       : 3.11.8\n",
      "IPython version      : 8.22.2\n",
      "\n",
      "Compiler    : Clang 16.0.6 \n",
      "OS          : Darwin\n",
      "Release     : 23.4.0\n",
      "Machine     : arm64\n",
      "Processor   : arm\n",
      "CPU cores   : 8\n",
      "Architecture: 64bit\n",
      "\n"
     ]
    }
   ],
   "source": [
    "%load_ext watermark\n",
    "%watermark"
   ]
  },
  {
   "cell_type": "code",
   "execution_count": 2,
   "metadata": {
    "execution": {
     "iopub.execute_input": "2024-04-19T01:06:33.935702Z",
     "iopub.status.busy": "2024-04-19T01:06:33.935603Z",
     "iopub.status.idle": "2024-04-19T01:06:34.709524Z",
     "shell.execute_reply": "2024-04-19T01:06:34.709259Z",
     "shell.execute_reply.started": "2024-04-19T01:06:33.935689Z"
    }
   },
   "outputs": [
    {
     "name": "stdout",
     "output_type": "stream",
     "text": [
      "Watermark: 2.4.3\n",
      "\n",
      "networkx : 3.3\n",
      "momepy   : 0.7.1.dev29+g593fc8e\n",
      "geopandas: 0.14.3\n",
      "\n"
     ]
    }
   ],
   "source": [
    "import momepy as mm  # requires main\n",
    "import networkx as nx\n",
    "\n",
    "from core import utils\n",
    "\n",
    "%watermark -w\n",
    "%watermark -iv"
   ]
  },
  {
   "cell_type": "code",
   "execution_count": 3,
   "metadata": {
    "execution": {
     "iopub.execute_input": "2024-04-19T01:06:34.710174Z",
     "iopub.status.busy": "2024-04-19T01:06:34.710031Z",
     "iopub.status.idle": "2024-04-19T01:06:34.712902Z",
     "shell.execute_reply": "2024-04-19T01:06:34.712679Z",
     "shell.execute_reply.started": "2024-04-19T01:06:34.710166Z"
    }
   },
   "outputs": [
    {
     "data": {
      "text/plain": [
       "869"
      ]
     },
     "execution_count": 3,
     "metadata": {},
     "output_type": "execute_result"
    }
   ],
   "source": [
    "city = \"Auckland\"\n",
    "utils.city_fua[city]"
   ]
  },
  {
   "cell_type": "code",
   "execution_count": 4,
   "metadata": {
    "execution": {
     "iopub.execute_input": "2024-04-19T01:06:34.713400Z",
     "iopub.status.busy": "2024-04-19T01:06:34.713332Z",
     "iopub.status.idle": "2024-04-19T01:06:34.807960Z",
     "shell.execute_reply": "2024-04-19T01:06:34.807625Z",
     "shell.execute_reply.started": "2024-04-19T01:06:34.713393Z"
    }
   },
   "outputs": [],
   "source": [
    "auckland = utils.read_original(utils.city_fua[city])"
   ]
  },
  {
   "cell_type": "markdown",
   "metadata": {},
   "source": [
    "Simplification using `roundabout_simplification` method to tackle roundabouts."
   ]
  },
  {
   "cell_type": "code",
   "execution_count": 5,
   "metadata": {
    "execution": {
     "iopub.execute_input": "2024-04-19T01:06:34.808361Z",
     "iopub.status.busy": "2024-04-19T01:06:34.808295Z",
     "iopub.status.idle": "2024-04-19T01:06:35.614591Z",
     "shell.execute_reply": "2024-04-19T01:06:35.614214Z",
     "shell.execute_reply.started": "2024-04-19T01:06:34.808354Z"
    }
   },
   "outputs": [
    {
     "name": "stderr",
     "output_type": "stream",
     "text": [
      "/Users/jgaboardi/miniforge3/envs/py311_uscuni_simplification/lib/python3.11/site-packages/momepy/preprocessing.py:765: FutureWarning: Setting an item of incompatible dtype is deprecated and will raise an error in a future version of pandas. Value '24.20261626845682' has dtype incompatible with int64, please explicitly cast to a compatible dtype first.\n",
      "  rab_adj.loc[g.Index, \"hdist\"] = hdist\n"
     ]
    }
   ],
   "source": [
    "simple = mm.roundabout_simplification(auckland)"
   ]
  },
  {
   "cell_type": "markdown",
   "metadata": {},
   "source": [
    "The function has quite a few parameters and fairly smart logic of determining the _main road_ using COINS algorithm."
   ]
  },
  {
   "cell_type": "code",
   "execution_count": 6,
   "metadata": {
    "execution": {
     "iopub.execute_input": "2024-04-19T01:06:35.615880Z",
     "iopub.status.busy": "2024-04-19T01:06:35.615804Z",
     "iopub.status.idle": "2024-04-19T01:06:35.630484Z",
     "shell.execute_reply": "2024-04-19T01:06:35.630237Z",
     "shell.execute_reply.started": "2024-04-19T01:06:35.615872Z"
    }
   },
   "outputs": [
    {
     "data": {
      "text/plain": [
       "\u001b[0;31mSignature:\u001b[0m\n",
       "\u001b[0mmm\u001b[0m\u001b[0;34m.\u001b[0m\u001b[0mroundabout_simplification\u001b[0m\u001b[0;34m(\u001b[0m\u001b[0;34m\u001b[0m\n",
       "\u001b[0;34m\u001b[0m    \u001b[0medges\u001b[0m\u001b[0;34m,\u001b[0m\u001b[0;34m\u001b[0m\n",
       "\u001b[0;34m\u001b[0m    \u001b[0mpolys\u001b[0m\u001b[0;34m=\u001b[0m\u001b[0;32mNone\u001b[0m\u001b[0;34m,\u001b[0m\u001b[0;34m\u001b[0m\n",
       "\u001b[0;34m\u001b[0m    \u001b[0marea_col\u001b[0m\u001b[0;34m=\u001b[0m\u001b[0;34m'area'\u001b[0m\u001b[0;34m,\u001b[0m\u001b[0;34m\u001b[0m\n",
       "\u001b[0;34m\u001b[0m    \u001b[0mcircom_threshold\u001b[0m\u001b[0;34m=\u001b[0m\u001b[0;36m0.7\u001b[0m\u001b[0;34m,\u001b[0m\u001b[0;34m\u001b[0m\n",
       "\u001b[0;34m\u001b[0m    \u001b[0marea_threshold\u001b[0m\u001b[0;34m=\u001b[0m\u001b[0;36m0.85\u001b[0m\u001b[0;34m,\u001b[0m\u001b[0;34m\u001b[0m\n",
       "\u001b[0;34m\u001b[0m    \u001b[0minclude_adjacent\u001b[0m\u001b[0;34m=\u001b[0m\u001b[0;32mTrue\u001b[0m\u001b[0;34m,\u001b[0m\u001b[0;34m\u001b[0m\n",
       "\u001b[0;34m\u001b[0m    \u001b[0mdiameter_factor\u001b[0m\u001b[0;34m=\u001b[0m\u001b[0;36m1.5\u001b[0m\u001b[0;34m,\u001b[0m\u001b[0;34m\u001b[0m\n",
       "\u001b[0;34m\u001b[0m    \u001b[0mcenter_type\u001b[0m\u001b[0;34m=\u001b[0m\u001b[0;34m'centroid'\u001b[0m\u001b[0;34m,\u001b[0m\u001b[0;34m\u001b[0m\n",
       "\u001b[0;34m\u001b[0m    \u001b[0mangle_threshold\u001b[0m\u001b[0;34m=\u001b[0m\u001b[0;36m0\u001b[0m\u001b[0;34m,\u001b[0m\u001b[0;34m\u001b[0m\n",
       "\u001b[0;34m\u001b[0m\u001b[0;34m)\u001b[0m\u001b[0;34m\u001b[0m\u001b[0;34m\u001b[0m\u001b[0m\n",
       "\u001b[0;31mDocstring:\u001b[0m\n",
       "Selects the roundabouts from ``polys`` to create a center point to merge all\n",
       "incoming edges. If None is passed, the function will perform shapely polygonization.\n",
       "\n",
       "All ``edges`` attributes are preserved and roundabouts are deleted.\n",
       "Note that some attributes, like length, may no longer reflect the reality of newly\n",
       "constructed geometry.\n",
       "\n",
       "If ``include_adjacent`` is True, adjacent polygons to the actual roundabout are\n",
       "also selected for simplification if two conditions are met:\n",
       "    - the area of adjacent polygons is less than the actual roundabout\n",
       "    - adjacent polygons do not extend beyond a factor of the diameter of the actual\n",
       "    roundabout.\n",
       "    This uses hausdorff_distance algorithm.\n",
       "\n",
       "Parameters\n",
       "----------\n",
       "edges : GeoDataFrame\n",
       "    GeoDataFrame containing LineString geometry of urban network\n",
       "polys : GeoDataFrame\n",
       "    GeoDataFrame containing Polygon geometry derived from polygonyzing\n",
       "    ``edges`` GeoDataFrame.\n",
       "area_col : string\n",
       "    Column name containing area values if ``polys`` GeoDataFrame contains such\n",
       "    information. Otherwise, it will\n",
       "circom_threshold : float (default 0.7)\n",
       "    Circular compactness threshold to select roundabouts from ``polys``\n",
       "    GeoDataFrame.\n",
       "    Polygons with a higher or equal threshold value will be considered for\n",
       "    simplification.\n",
       "area_threshold : float (default 0.85)\n",
       "    Percentile threshold value from the area of ``polys`` to leave as input\n",
       "    geometry.\n",
       "    Polygons with a higher or equal threshold will be considered as urban blocks\n",
       "    not considered\n",
       "    for simplification.\n",
       "include_adjacent : boolean (default True)\n",
       "    Adjacent polygons to be considered also as part of the simplification.\n",
       "diameter_factor : float (default 1.5)\n",
       "    The factor to be applied to the diameter of each roundabout that determines\n",
       "    how far an adjacent polygon can stretch until it is no longer considered part\n",
       "    of the overall roundabout group. Only applyies when include_adjacent = True.\n",
       "center_type : string (default 'centroid')\n",
       "    Method to use for converging the incoming LineStrings.\n",
       "    Current list of options available : 'centroid', 'mean'.\n",
       "    - 'centroid': selects the centroid of the actual roundabout (ignoring adjacent\n",
       "    geometries)\n",
       "    - 'mean': calculates the mean coordinates from the points of polygons (including\n",
       "     adjacent geometries)\n",
       "angle_threshold : int, float (default 0)\n",
       "    The angle threshold for the COINS algorithm. Only used when multiple incoming\n",
       "    LineStrings\n",
       "    arrive at the same Point to the roundabout or to the adjacent polygons if set\n",
       "    as True.\n",
       "    eg. when two 'edges' touch the roundabout at the same point, COINS algorithm\n",
       "    will evaluate which of those\n",
       "    incoming lines should be extended according to their deflection angle.\n",
       "    Segments will only be considered a part of the same street if the deflection\n",
       "    angle\n",
       "    is above the threshold.\n",
       "\n",
       "Returns\n",
       "-------\n",
       "GeoDataFrame\n",
       "    GeoDataFrame with an updated geometry and an additional\n",
       "    column labeling modified edges.\n",
       "\u001b[0;31mFile:\u001b[0m      ~/miniforge3/envs/py311_uscuni_simplification/lib/python3.11/site-packages/momepy/preprocessing.py\n",
       "\u001b[0;31mType:\u001b[0m      function"
      ]
     },
     "metadata": {},
     "output_type": "display_data"
    }
   ],
   "source": [
    "mm.roundabout_simplification?"
   ]
  },
  {
   "cell_type": "markdown",
   "metadata": {},
   "source": [
    "The other option is to use `consolidate_intersections` which works more based on graph properties."
   ]
  },
  {
   "cell_type": "code",
   "execution_count": 7,
   "metadata": {
    "execution": {
     "iopub.execute_input": "2024-04-19T01:06:35.630955Z",
     "iopub.status.busy": "2024-04-19T01:06:35.630888Z",
     "iopub.status.idle": "2024-04-19T01:06:37.790120Z",
     "shell.execute_reply": "2024-04-19T01:06:37.789732Z",
     "shell.execute_reply.started": "2024-04-19T01:06:35.630948Z"
    }
   },
   "outputs": [],
   "source": [
    "graph = mm.gdf_to_nx(auckland, length=\"length\", integer_labels=True)"
   ]
  },
  {
   "cell_type": "markdown",
   "metadata": {},
   "source": [
    "We need to add additional edge attributes _from_ and _to_ at the moment. Seems redundant, will need to refactor."
   ]
  },
  {
   "cell_type": "code",
   "execution_count": 8,
   "metadata": {
    "execution": {
     "iopub.execute_input": "2024-04-19T01:06:37.790596Z",
     "iopub.status.busy": "2024-04-19T01:06:37.790521Z",
     "iopub.status.idle": "2024-04-19T01:06:37.858015Z",
     "shell.execute_reply": "2024-04-19T01:06:37.857702Z",
     "shell.execute_reply.started": "2024-04-19T01:06:37.790587Z"
    }
   },
   "outputs": [],
   "source": [
    "nx.set_edge_attributes(\n",
    "    graph, {edge: {\"from\": edge[0], \"to\": edge[1]} for edge in graph.edges}\n",
    ")"
   ]
  },
  {
   "cell_type": "code",
   "execution_count": 9,
   "metadata": {
    "execution": {
     "iopub.execute_input": "2024-04-19T01:06:37.858564Z",
     "iopub.status.busy": "2024-04-19T01:06:37.858482Z",
     "iopub.status.idle": "2024-04-19T01:06:45.110676Z",
     "shell.execute_reply": "2024-04-19T01:06:45.110323Z",
     "shell.execute_reply.started": "2024-04-19T01:06:37.858556Z"
    }
   },
   "outputs": [],
   "source": [
    "simple_graph = mm.consolidate_intersections(graph)"
   ]
  },
  {
   "cell_type": "markdown",
   "metadata": {},
   "source": [
    "It does not have a ton of relevant options but shall work better in preserving planarity I think."
   ]
  }
 ],
 "metadata": {
  "kernelspec": {
   "display_name": "Python 3 (ipykernel)",
   "language": "python",
   "name": "python3"
  },
  "language_info": {
   "codemirror_mode": {
    "name": "ipython",
    "version": 3
   },
   "file_extension": ".py",
   "mimetype": "text/x-python",
   "name": "python",
   "nbconvert_exporter": "python",
   "pygments_lexer": "ipython3",
   "version": "3.11.10"
  }
 },
 "nbformat": 4,
 "nbformat_minor": 4
}
