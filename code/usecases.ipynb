{
 "cells": [
  {
   "cell_type": "markdown",
   "metadata": {},
   "source": [
    "Finding use cases for different cities"
   ]
  },
  {
   "cell_type": "code",
   "execution_count": 11,
   "metadata": {},
   "outputs": [],
   "source": [
    "# import libraries\n",
    "import json\n",
    "\n",
    "import geopandas as gpd\n",
    "import momepy\n",
    "import osmnx as ox"
   ]
  },
  {
   "cell_type": "code",
   "execution_count": null,
   "metadata": {},
   "outputs": [],
   "source": [
    "# dict of cityname : fua ID\n",
    "citydict = {\n",
    "    \"Douala\": 809,\n",
    "    \"Auckland\": 869,\n",
    "    \"Liège\": 1656,\n",
    "    \"Aleppo\": 1133,\n",
    "    \"Bucaramanga\": 4617,\n",
    "    \"Salt Lake City\": 4881,\n",
    "}"
   ]
  },
  {
   "cell_type": "code",
   "execution_count": 3,
   "metadata": {},
   "outputs": [],
   "source": [
    "# read in data for example city: Liege\n",
    "cityname = \"Liège\"\n",
    "fua = citydict[cityname]\n",
    "gdf = gpd.read_parquet(f\"../data/{fua}/roads_osm.parquet\")\n",
    "gdf = gdf[[\"highway\", \"geometry\"]]\n",
    "gdf = gdf.reset_index(drop=True)\n",
    "G = momepy.gdf_to_nx(gdf_network=gdf, approach=\"primal\", directed=True, osmnx_like=True)\n",
    "\n",
    "# simplify\n",
    "G_simp = ox.simplify_graph(G)\n",
    "\n",
    "# get nodes and edges\n",
    "nodes, edges = ox.graph_to_gdfs(G=G_simp, nodes=True, edges=True)\n",
    "\n",
    "# saving edges to gpkg, to explore in qgis\n",
    "# edges.to_file(f\"../data/{fua}/edges.gpkg\", index = False)"
   ]
  },
  {
   "cell_type": "code",
   "execution_count": 18,
   "metadata": {},
   "outputs": [],
   "source": [
    "# create use cases dict for Liège\n",
    "points = {}\n",
    "\n",
    "i = 0\n",
    "points[i] = {}\n",
    "points[i][\"coords\"] = (5.587873, 50.641955)\n",
    "points[i][\"class\"] = \"roundabout\"\n",
    "points[i][\"address\"] = \"Place du Congrès\"\n",
    "points[i][\"comments\"] = \"...\"\n",
    "\n",
    "i = 1\n",
    "points[i] = {}\n",
    "points[i] = {}\n",
    "points[i][\"coords\"] = (5.560604, 50.632068)\n",
    "points[i][\"class\"] = \"highway\"\n",
    "points[i][\"address\"] = \"A602 / Rue de Puisatiers\"\n",
    "points[i][\"comments\"] = \"...\"\n",
    "\n",
    "i = 2\n",
    "points[i] = {}\n",
    "points[i][\"coords\"] = (5.592738, 50.616253)\n",
    "points[i][\"class\"] = \"parkinglot\"\n",
    "points[i][\"address\"] = \"Carrefour Quai des Vennes\"\n",
    "points[i][\"comments\"] = \"...\"\n",
    "\n",
    "i = 3\n",
    "points[i] = {}\n",
    "points[i][\"coords\"] = (5.511301, 50.618373)\n",
    "points[i][\"class\"] = \"intersection\"\n",
    "points[i][\"address\"] = \"Pont de Seraing\"\n",
    "points[i][\"comments\"] = \"...\""
   ]
  },
  {
   "cell_type": "code",
   "execution_count": 19,
   "metadata": {},
   "outputs": [],
   "source": [
    "with open(f\"../usecases/{fua}/points.json\", \"w\") as outfile:\n",
    "    outfile.write(json.dumps(points, indent=6))"
   ]
  }
 ],
 "metadata": {
  "kernelspec": {
   "display_name": "simp-env",
   "language": "python",
   "name": "python3"
  },
  "language_info": {
   "codemirror_mode": {
    "name": "ipython",
    "version": 3
   },
   "file_extension": ".py",
   "mimetype": "text/x-python",
   "name": "python",
   "nbconvert_exporter": "python",
   "pygments_lexer": "ipython3",
   "version": "3.10.12"
  }
 },
 "nbformat": 4,
 "nbformat_minor": 4
}
