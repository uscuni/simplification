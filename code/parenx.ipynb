{
 "cells": [
  {
   "cell_type": "markdown",
   "metadata": {},
   "source": [
    "## Testing out parenx skeletonization and voronoi approaches\n",
    "\n",
    "Resources:\n",
    "* https://github.com/nptscot/networkmerge\n",
    "* https://github.com/nptscot/networkmerge\n",
    "* https://github.com/anisotropi4/parenx/tree/main"
   ]
  },
  {
   "cell_type": "code",
   "execution_count": 1,
   "metadata": {},
   "outputs": [],
   "source": [
    "import parenx\n",
    "import glob\n",
    "import os\n",
    "import geopandas as gpd"
   ]
  },
  {
   "cell_type": "code",
   "execution_count": 2,
   "metadata": {},
   "outputs": [],
   "source": [
    "# parquet is not a recognized format - convert to gpkg first\n",
    "os.makedirs(\"../temp-parenx/\", exist_ok=True)\n",
    "folders = os.listdir(\"../data/\")\n",
    "folders.remove(\"sample.parquet\")\n",
    "for folder in folders:\n",
    "    os.makedirs(f\"../temp-parenx/{folder}/\", exist_ok=True)\n",
    "    if not folder.endswith(\"parquet\"):\n",
    "        roads = gpd.read_parquet(f\"../data/{folder}/roads_osm.parquet\").reset_index(drop=True)\n",
    "        roads.to_file(\n",
    "            f\"../temp-parenx/{folder}/roads_osm.gpkg\", \n",
    "            layer=\"roads\", \n",
    "            engine=\"pyogrio\"\n",
    "        )"
   ]
  },
  {
   "cell_type": "markdown",
   "metadata": {},
   "source": [
    "**Now, run the bash script `parenx-run.sh` from command line**\n",
    "\n",
    "`bash code/parenx-run.sh`\n",
    "\n",
    "this will add to each subfolder in `temp-parenx` 2 files: voronoi.gpkg and skeletonization.gpkg. gitignoring them for now because the outputs are too large.\n",
    "\n",
    "### Initial observations & thoughts:\n",
    "* computation time: skeletonization around 10min for all 5 usecases; voronoi between 1h and 14h (salt lake city, maybe because it has the largest area, or maybe because my laptop went to sleep...)\n",
    "*  it works well for some places (esp intersections, even the more complicated ones)\n",
    "* major issue 1: sometimes network topology is not kept (linestrings that don't connect are merged)\n",
    "* major issue 2: it creates wobbly lines\n",
    "\n",
    "## Next step:\n",
    "\n",
    "make automatic plots of complicated cases, comparing manual and parenx simplifications"
   ]
  },
  {
   "cell_type": "markdown",
   "metadata": {},
   "source": []
  }
 ],
 "metadata": {
  "kernelspec": {
   "display_name": "Python 3",
   "language": "python",
   "name": "python3"
  },
  "language_info": {
   "codemirror_mode": {
    "name": "ipython",
    "version": 3
   },
   "file_extension": ".py",
   "mimetype": "text/x-python",
   "name": "python",
   "nbconvert_exporter": "python",
   "pygments_lexer": "ipython3",
   "version": "3.12.2"
  }
 },
 "nbformat": 4,
 "nbformat_minor": 2
}
