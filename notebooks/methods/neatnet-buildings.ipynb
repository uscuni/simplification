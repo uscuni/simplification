{
 "cells": [
  {
   "cell_type": "markdown",
   "metadata": {},
   "source": [
    "# Running `neatnet` \n",
    "\n",
    "...with exclusion mask for polygons that contain buildings"
   ]
  },
  {
   "cell_type": "code",
   "execution_count": 1,
   "metadata": {},
   "outputs": [],
   "source": [
    "%load_ext watermark\n",
    "%load_ext memory_profiler"
   ]
  },
  {
   "cell_type": "code",
   "execution_count": 2,
   "metadata": {},
   "outputs": [],
   "source": [
    "import os\n",
    "import time\n",
    "import warnings\n",
    "\n",
    "import geopandas as gpd\n",
    "import neatnet\n",
    "\n",
    "from core import utils\n",
    "\n",
    "warnings.filterwarnings(\"ignore\")"
   ]
  },
  {
   "cell_type": "code",
   "execution_count": 3,
   "metadata": {},
   "outputs": [
    {
     "name": "stdout",
     "output_type": "stream",
     "text": [
      "neatnet  : 0.0.1.post3.dev23+g5664fe4\n",
      "core     : 0.1.dev208+gcab4807.d20250225\n",
      "geopandas: 1.0.1\n",
      "\n"
     ]
    }
   ],
   "source": [
    "%watermark -iv"
   ]
  },
  {
   "cell_type": "code",
   "execution_count": 11,
   "metadata": {},
   "outputs": [
    {
     "name": "stdout",
     "output_type": "stream",
     "text": [
      "Simplifying Aleppo with OSM buildings as exclusion mask\n",
      "Aleppo simplified in 345.8s \n",
      "\n",
      "Simplifying Auckland with OSM buildings as exclusion mask\n",
      "Auckland simplified in 107.8s \n",
      "\n",
      "Simplifying Bucaramanga with OSM buildings as exclusion mask\n",
      "Bucaramanga simplified in 139.9s \n",
      "\n",
      "Simplifying Douala with OSM buildings as exclusion mask\n",
      "Douala simplified in 247.0s \n",
      "\n",
      "Simplifying Liège with OSM buildings as exclusion mask\n",
      "Liège simplified in 173.4s \n",
      "\n",
      "Simplifying Salt Lake City with OSM buildings as exclusion mask\n",
      "Salt Lake City simplified in 130.7s \n",
      "\n",
      "Simplifying Wuhan with OSM buildings as exclusion mask\n",
      "Wuhan simplified in 850.5s \n",
      "\n"
     ]
    }
   ],
   "source": [
    "for fua in utils.fua_city:\n",
    "    city = utils.fua_city[fua]\n",
    "    print(f\"Simplifying {city} with OSM buildings as exclusion mask\")\n",
    "\n",
    "    # read in original data\n",
    "    gdf = utils.read_original(fua)\n",
    "\n",
    "    # read in building data\n",
    "    buildings = gpd.read_parquet(f\"../../data/{fua}/buildings/buildings.parquet\")\n",
    "    buildings = buildings.to_crs(gdf.crs)\n",
    "\n",
    "    # simplify with neatnet\n",
    "    t1 = time.time()\n",
    "    simplified = neatnet.simplify_network(\n",
    "        gdf, exclusion_mask=gpd.GeoSeries(buildings.geometry)\n",
    "    )\n",
    "    t2 = time.time()\n",
    "    print(f\"{city} simplified in {round(t2 - t1, 1)}s \\n\")\n",
    "\n",
    "    # save to target folder\n",
    "    target_folder = f\"../../data/{fua}/neatnet-buildings/\"\n",
    "    os.makedirs(target_folder, exist_ok=True)\n",
    "    simplified.to_parquet(target_folder + f\"{fua}.parquet\")"
   ]
  }
 ],
 "metadata": {
  "kernelspec": {
   "display_name": "tests",
   "language": "python",
   "name": "python3"
  },
  "language_info": {
   "codemirror_mode": {
    "name": "ipython",
    "version": 3
   },
   "file_extension": ".py",
   "mimetype": "text/x-python",
   "name": "python",
   "nbconvert_exporter": "python",
   "pygments_lexer": "ipython3",
   "version": "3.12.8"
  }
 },
 "nbformat": 4,
 "nbformat_minor": 4
}
