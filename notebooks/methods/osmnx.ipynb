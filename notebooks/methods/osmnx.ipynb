{
 "cells": [
  {
   "cell_type": "markdown",
   "metadata": {},
   "source": [
    "### \"Simplification\" attemps with OSMnx\n",
    "\n",
    "For test (continents) cities [FUA ID]:\n",
    "* (Africa) Douala [809]\n",
    "* (Oceania) Auckland [869]\n",
    "* (Asia) Aleppo [1133] -- Wuhan [8989]\n",
    "* (Europe) Liège [1656]\n",
    "* (South America) Bucaramanga [4617]\n",
    "* (North America) Salt Lake City [4881]"
   ]
  },
  {
   "cell_type": "code",
   "execution_count": 1,
   "metadata": {
    "execution": {
     "iopub.execute_input": "2024-04-20T20:37:26.294921Z",
     "iopub.status.busy": "2024-04-20T20:37:26.294855Z",
     "iopub.status.idle": "2024-04-20T20:37:26.310297Z",
     "shell.execute_reply": "2024-04-20T20:37:26.309913Z",
     "shell.execute_reply.started": "2024-04-20T20:37:26.294913Z"
    }
   },
   "outputs": [
    {
     "name": "stdout",
     "output_type": "stream",
     "text": [
      "Last updated: 2024-12-05T11:50:41.774192+01:00\n",
      "\n",
      "Python implementation: CPython\n",
      "Python version       : 3.12.7\n",
      "IPython version      : 8.30.0\n",
      "\n",
      "Compiler    : Clang 17.0.6 \n",
      "OS          : Darwin\n",
      "Release     : 24.1.0\n",
      "Machine     : arm64\n",
      "Processor   : arm\n",
      "CPU cores   : 8\n",
      "Architecture: 64bit\n",
      "\n"
     ]
    }
   ],
   "source": [
    "%load_ext watermark\n",
    "%watermark"
   ]
  },
  {
   "cell_type": "code",
   "execution_count": 2,
   "metadata": {
    "execution": {
     "iopub.execute_input": "2024-04-20T20:37:26.311090Z",
     "iopub.status.busy": "2024-04-20T20:37:26.310963Z",
     "iopub.status.idle": "2024-04-20T20:37:27.909742Z",
     "shell.execute_reply": "2024-04-20T20:37:27.909508Z",
     "shell.execute_reply.started": "2024-04-20T20:37:26.311077Z"
    }
   },
   "outputs": [
    {
     "name": "stdout",
     "output_type": "stream",
     "text": [
      "Watermark: 2.5.0\n",
      "\n",
      "core     : 0.1.dev170+gc3e76d8.d20241205\n",
      "momepy   : 0.9.1\n",
      "geopandas: 1.0.1\n",
      "osmnx    : 2.0.0\n",
      "networkx : 3.4.2\n",
      "\n"
     ]
    }
   ],
   "source": [
    "import os\n",
    "\n",
    "import geopandas as gpd\n",
    "import momepy\n",
    "import networkx as nx\n",
    "import osmnx as ox\n",
    "\n",
    "from core import utils, viz\n",
    "\n",
    "%watermark -w\n",
    "%watermark -iv"
   ]
  },
  {
   "cell_type": "markdown",
   "metadata": {},
   "source": [
    "**Read in meta data**"
   ]
  },
  {
   "cell_type": "code",
   "execution_count": 3,
   "metadata": {
    "execution": {
     "iopub.execute_input": "2024-04-20T20:37:27.910324Z",
     "iopub.status.busy": "2024-04-20T20:37:27.910100Z",
     "iopub.status.idle": "2024-04-20T20:37:27.963059Z",
     "shell.execute_reply": "2024-04-20T20:37:27.962759Z",
     "shell.execute_reply.started": "2024-04-20T20:37:27.910315Z"
    }
   },
   "outputs": [
    {
     "data": {
      "text/html": [
       "<div>\n",
       "<style scoped>\n",
       "    .dataframe tbody tr th:only-of-type {\n",
       "        vertical-align: middle;\n",
       "    }\n",
       "\n",
       "    .dataframe tbody tr th {\n",
       "        vertical-align: top;\n",
       "    }\n",
       "\n",
       "    .dataframe thead th {\n",
       "        text-align: right;\n",
       "    }\n",
       "</style>\n",
       "<table border=\"1\" class=\"dataframe\">\n",
       "  <thead>\n",
       "    <tr style=\"text-align: right;\">\n",
       "      <th></th>\n",
       "      <th>eFUA_ID</th>\n",
       "      <th>UC_num</th>\n",
       "      <th>UC_IDs</th>\n",
       "      <th>eFUA_name</th>\n",
       "      <th>Commuting</th>\n",
       "      <th>Cntry_ISO</th>\n",
       "      <th>Cntry_name</th>\n",
       "      <th>FUA_area</th>\n",
       "      <th>UC_area</th>\n",
       "      <th>FUA_p_2015</th>\n",
       "      <th>UC_p_2015</th>\n",
       "      <th>Com_p_2015</th>\n",
       "      <th>geometry</th>\n",
       "      <th>continent</th>\n",
       "      <th>iso_a3</th>\n",
       "    </tr>\n",
       "  </thead>\n",
       "  <tbody>\n",
       "    <tr>\n",
       "      <th>305</th>\n",
       "      <td>9129.0</td>\n",
       "      <td>1.0</td>\n",
       "      <td>8078</td>\n",
       "      <td>Gonda</td>\n",
       "      <td>1.0</td>\n",
       "      <td>IND</td>\n",
       "      <td>India</td>\n",
       "      <td>66.0</td>\n",
       "      <td>29.0</td>\n",
       "      <td>1.074100e+06</td>\n",
       "      <td>1.066419e+06</td>\n",
       "      <td>7680.678101</td>\n",
       "      <td>POLYGON ((81.98398 27.19657, 81.99471 27.19657...</td>\n",
       "      <td>Asia</td>\n",
       "      <td>IND</td>\n",
       "    </tr>\n",
       "    <tr>\n",
       "      <th>91</th>\n",
       "      <td>7578.0</td>\n",
       "      <td>6.0</td>\n",
       "      <td>10577;10581;10583;10596;10605;10607</td>\n",
       "      <td>Chongqing</td>\n",
       "      <td>1.0</td>\n",
       "      <td>CHN</td>\n",
       "      <td>China</td>\n",
       "      <td>2267.0</td>\n",
       "      <td>618.0</td>\n",
       "      <td>6.036834e+06</td>\n",
       "      <td>5.157726e+06</td>\n",
       "      <td>879107.861057</td>\n",
       "      <td>POLYGON ((106.23972 29.52328, 106.19622 29.523...</td>\n",
       "      <td>Asia</td>\n",
       "      <td>CHN</td>\n",
       "    </tr>\n",
       "  </tbody>\n",
       "</table>\n",
       "</div>"
      ],
      "text/plain": [
       "     eFUA_ID  UC_num                               UC_IDs  eFUA_name  \\\n",
       "305   9129.0     1.0                                 8078      Gonda   \n",
       "91    7578.0     6.0  10577;10581;10583;10596;10605;10607  Chongqing   \n",
       "\n",
       "     Commuting Cntry_ISO Cntry_name  FUA_area  UC_area    FUA_p_2015  \\\n",
       "305        1.0       IND      India      66.0     29.0  1.074100e+06   \n",
       "91         1.0       CHN      China    2267.0    618.0  6.036834e+06   \n",
       "\n",
       "        UC_p_2015     Com_p_2015  \\\n",
       "305  1.066419e+06    7680.678101   \n",
       "91   5.157726e+06  879107.861057   \n",
       "\n",
       "                                              geometry continent iso_a3  \n",
       "305  POLYGON ((81.98398 27.19657, 81.99471 27.19657...      Asia    IND  \n",
       "91   POLYGON ((106.23972 29.52328, 106.19622 29.523...      Asia    CHN  "
      ]
     },
     "execution_count": 3,
     "metadata": {},
     "output_type": "execute_result"
    }
   ],
   "source": [
    "# read in sample metadata\n",
    "sample = utils.read_sample_data()\n",
    "sample.head(2)"
   ]
  },
  {
   "cell_type": "markdown",
   "metadata": {},
   "source": [
    "**Read in data for example city**"
   ]
  },
  {
   "cell_type": "code",
   "execution_count": 4,
   "metadata": {
    "execution": {
     "iopub.execute_input": "2024-04-20T20:37:27.967169Z",
     "iopub.status.busy": "2024-04-20T20:37:27.967102Z",
     "iopub.status.idle": "2024-04-20T20:37:30.275911Z",
     "shell.execute_reply": "2024-04-20T20:37:30.275672Z",
     "shell.execute_reply.started": "2024-04-20T20:37:27.967161Z"
    }
   },
   "outputs": [
    {
     "name": "stdout",
     "output_type": "stream",
     "text": [
      "Momepy-NetworkX Primal Graph: Aleppo\n",
      "\t* MultiDiGraph with 64445 nodes and 78908 edges\n",
      "Momepy-NetworkX Primal Graph (simplified): Aleppo\n",
      "\t* MultiDiGraph with 35480 nodes and 49943 edges\n",
      "Consolidated graph with tolerance 10m\n",
      "\t* MultiDiGraph with 29333 nodes and 43609 edges\n",
      "OSMnx simplification done for Aleppo\n",
      "Momepy-NetworkX Primal Graph: Auckland\n",
      "\t* MultiDiGraph with 57031 nodes and 60364 edges\n",
      "Momepy-NetworkX Primal Graph (simplified): Auckland\n",
      "\t* MultiDiGraph with 20436 nodes and 23765 edges\n",
      "Consolidated graph with tolerance 10m\n",
      "\t* MultiDiGraph with 12911 nodes and 15869 edges\n",
      "OSMnx simplification done for Auckland\n",
      "Momepy-NetworkX Primal Graph: Bucaramanga\n",
      "\t* MultiDiGraph with 74716 nodes and 79317 edges\n",
      "Momepy-NetworkX Primal Graph (simplified): Bucaramanga\n",
      "\t* MultiDiGraph with 27983 nodes and 32584 edges\n",
      "Consolidated graph with tolerance 10m\n",
      "\t* MultiDiGraph with 19761 nodes and 24157 edges\n",
      "OSMnx simplification done for Bucaramanga\n",
      "Momepy-NetworkX Primal Graph: Douala\n",
      "\t* MultiDiGraph with 76391 nodes and 84819 edges\n",
      "Momepy-NetworkX Primal Graph (simplified): Douala\n",
      "\t* MultiDiGraph with 36283 nodes and 44711 edges\n",
      "Consolidated graph with tolerance 10m\n",
      "\t* MultiDiGraph with 29630 nodes and 37979 edges\n",
      "OSMnx simplification done for Douala\n",
      "Momepy-NetworkX Primal Graph: Liège\n",
      "\t* MultiDiGraph with 75549 nodes and 79907 edges\n",
      "Momepy-NetworkX Primal Graph (simplified): Liège\n",
      "\t* MultiDiGraph with 24922 nodes and 29272 edges\n",
      "Consolidated graph with tolerance 10m\n",
      "\t* MultiDiGraph with 17933 nodes and 21885 edges\n",
      "OSMnx simplification done for Liège\n",
      "Momepy-NetworkX Primal Graph: Salt Lake City\n",
      "\t* MultiDiGraph with 46988 nodes and 50917 edges\n",
      "Momepy-NetworkX Primal Graph (simplified): Salt Lake City\n",
      "\t* MultiDiGraph with 17786 nodes and 21713 edges\n",
      "Consolidated graph with tolerance 10m\n",
      "\t* MultiDiGraph with 13941 nodes and 17751 edges\n",
      "OSMnx simplification done for Salt Lake City\n",
      "Momepy-NetworkX Primal Graph: Wuhan\n",
      "\t* MultiDiGraph with 82891 nodes and 92667 edges\n",
      "Momepy-NetworkX Primal Graph (simplified): Wuhan\n",
      "\t* MultiDiGraph with 26375 nodes and 36146 edges\n",
      "Consolidated graph with tolerance 10m\n",
      "\t* MultiDiGraph with 21072 nodes and 30419 edges\n",
      "OSMnx simplification done for Wuhan\n"
     ]
    }
   ],
   "source": [
    "# loop through FUAs\n",
    "\n",
    "for fua in utils.fua_city:\n",
    "    city = utils.fua_city[fua]\n",
    "\n",
    "    # read in original data\n",
    "    gdf = utils.read_original(fua)\n",
    "\n",
    "    # convert to networkX graph\n",
    "    G = momepy.gdf_to_nx(\n",
    "        gdf_network=gdf,\n",
    "        approach=\"primal\",\n",
    "        directed=True,\n",
    "        integer_labels=True,\n",
    "        length=\"length\",\n",
    "    )\n",
    "    print(utils.graph_size(f\"Momepy-NetworkX Primal Graph: {city}\", G))\n",
    "\n",
    "    # simplify in OSMnx (ie removing interstitial nodes)\n",
    "    G_simp = ox.simplify_graph(G)\n",
    "    print(\n",
    "        utils.graph_size(f\"Momepy-NetworkX Primal Graph (simplified): {city}\", G_simp)\n",
    "    )\n",
    "\n",
    "    # consolidate with default value 10m\n",
    "    tol = 10\n",
    "    G_cons = ox.consolidate_intersections(\n",
    "        G=G_simp,\n",
    "        tolerance=tol,\n",
    "        rebuild_graph=True,\n",
    "        dead_ends=True,\n",
    "        reconnect_edges=True,\n",
    "    )\n",
    "    print(utils.graph_size(f\"Consolidated graph with tolerance {tol}m\", G_cons))\n",
    "\n",
    "    # convert into digraph (drop multiedges, choosing by lenght)\n",
    "    G_cons_di = ox.convert.to_digraph(G_cons, weight=\"length\")\n",
    "\n",
    "    # make gdf of edge geoms (can't use ox.gdf method on non-multi digraph)\n",
    "    geoms = list(nx.get_edge_attributes(G_cons_di, \"geometry\").values())\n",
    "    edges_cons = gpd.GeoDataFrame(geometry=geoms, crs=G_cons_di.graph[\"crs\"])\n",
    "\n",
    "    # save result to subfolder\n",
    "    os.makedirs(f\"../../data/{fua}/osmnx/\", exist_ok=True)\n",
    "    edges_cons.to_parquet(f\"../../data/{fua}/osmnx/{fua}.parquet\")\n",
    "\n",
    "    print(f\"OSMnx simplification done for {city}\")"
   ]
  },
  {
   "cell_type": "code",
   "execution_count": null,
   "metadata": {},
   "outputs": [],
   "source": []
  }
 ],
 "metadata": {
  "kernelspec": {
   "display_name": "default",
   "language": "python",
   "name": "python3"
  },
  "language_info": {
   "codemirror_mode": {
    "name": "ipython",
    "version": 3
   },
   "file_extension": ".py",
   "mimetype": "text/x-python",
   "name": "python",
   "nbconvert_exporter": "python",
   "pygments_lexer": "ipython3",
   "version": "3.12.7"
  }
 },
 "nbformat": 4,
 "nbformat_minor": 4
}
