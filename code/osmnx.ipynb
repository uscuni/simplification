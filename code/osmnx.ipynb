{
 "cells": [
  {
   "cell_type": "markdown",
   "metadata": {},
   "source": [
    "### \"Simplification\" attemps with OSMnx\n",
    "\n",
    "For test (continents) cities [FUA ID]:\n",
    "* (Africa) Douala [809]\n",
    "* (Asia) Aleppo [1133]\n",
    "* (South America) Bucaramanga [4617]\n",
    "* (North America) Salt Lake City [4881]\n",
    "* (Europe) Amsterdam [1427] (or Liège? - if we want a smaller city)\n",
    "* (Oceania) Auckland [869]\n"
   ]
  },
  {
   "cell_type": "code",
   "execution_count": 1,
   "metadata": {},
   "outputs": [],
   "source": [
    "# import libraries\n",
    "import geopandas as gpd\n",
    "import pandas as pd\n",
    "import osmnx as ox\n",
    "import networkx as nx"
   ]
  },
  {
   "cell_type": "code",
   "execution_count": 5,
   "metadata": {},
   "outputs": [
    {
     "data": {
      "text/html": [
       "<div>\n",
       "<style scoped>\n",
       "    .dataframe tbody tr th:only-of-type {\n",
       "        vertical-align: middle;\n",
       "    }\n",
       "\n",
       "    .dataframe tbody tr th {\n",
       "        vertical-align: top;\n",
       "    }\n",
       "\n",
       "    .dataframe thead th {\n",
       "        text-align: right;\n",
       "    }\n",
       "</style>\n",
       "<table border=\"1\" class=\"dataframe\">\n",
       "  <thead>\n",
       "    <tr style=\"text-align: right;\">\n",
       "      <th></th>\n",
       "      <th>eFUA_ID</th>\n",
       "      <th>UC_num</th>\n",
       "      <th>UC_IDs</th>\n",
       "      <th>eFUA_name</th>\n",
       "      <th>Commuting</th>\n",
       "      <th>Cntry_ISO</th>\n",
       "      <th>Cntry_name</th>\n",
       "      <th>FUA_area</th>\n",
       "      <th>UC_area</th>\n",
       "      <th>FUA_p_2015</th>\n",
       "      <th>UC_p_2015</th>\n",
       "      <th>Com_p_2015</th>\n",
       "      <th>geometry</th>\n",
       "      <th>continent</th>\n",
       "      <th>iso_a3</th>\n",
       "    </tr>\n",
       "  </thead>\n",
       "  <tbody>\n",
       "    <tr>\n",
       "      <th>305</th>\n",
       "      <td>9129.0</td>\n",
       "      <td>1.0</td>\n",
       "      <td>8078</td>\n",
       "      <td>Gonda</td>\n",
       "      <td>1.0</td>\n",
       "      <td>IND</td>\n",
       "      <td>India</td>\n",
       "      <td>66.0</td>\n",
       "      <td>29.0</td>\n",
       "      <td>1.074100e+06</td>\n",
       "      <td>1.066419e+06</td>\n",
       "      <td>7680.678101</td>\n",
       "      <td>POLYGON ((81.98398 27.19657, 81.99471 27.19657...</td>\n",
       "      <td>Asia</td>\n",
       "      <td>IND</td>\n",
       "    </tr>\n",
       "    <tr>\n",
       "      <th>91</th>\n",
       "      <td>7578.0</td>\n",
       "      <td>6.0</td>\n",
       "      <td>10577;10581;10583;10596;10605;10607</td>\n",
       "      <td>Chongqing</td>\n",
       "      <td>1.0</td>\n",
       "      <td>CHN</td>\n",
       "      <td>China</td>\n",
       "      <td>2267.0</td>\n",
       "      <td>618.0</td>\n",
       "      <td>6.036834e+06</td>\n",
       "      <td>5.157726e+06</td>\n",
       "      <td>879107.861057</td>\n",
       "      <td>POLYGON ((106.23972 29.52328, 106.19622 29.523...</td>\n",
       "      <td>Asia</td>\n",
       "      <td>CHN</td>\n",
       "    </tr>\n",
       "  </tbody>\n",
       "</table>\n",
       "</div>"
      ],
      "text/plain": [
       "     eFUA_ID  UC_num                               UC_IDs  eFUA_name  \\\n",
       "305   9129.0     1.0                                 8078      Gonda   \n",
       "91    7578.0     6.0  10577;10581;10583;10596;10605;10607  Chongqing   \n",
       "\n",
       "     Commuting Cntry_ISO Cntry_name  FUA_area  UC_area    FUA_p_2015  \\\n",
       "305        1.0       IND      India      66.0     29.0  1.074100e+06   \n",
       "91         1.0       CHN      China    2267.0    618.0  6.036834e+06   \n",
       "\n",
       "        UC_p_2015     Com_p_2015  \\\n",
       "305  1.066419e+06    7680.678101   \n",
       "91   5.157726e+06  879107.861057   \n",
       "\n",
       "                                              geometry continent iso_a3  \n",
       "305  POLYGON ((81.98398 27.19657, 81.99471 27.19657...      Asia    IND  \n",
       "91   POLYGON ((106.23972 29.52328, 106.19622 29.523...      Asia    CHN  "
      ]
     },
     "execution_count": 5,
     "metadata": {},
     "output_type": "execute_result"
    }
   ],
   "source": [
    "# read in sample metadata\n",
    "sample = gpd.read_parquet(\"../data/sample.parquet\")\n",
    "sample.head(2)"
   ]
  },
  {
   "cell_type": "code",
   "execution_count": 7,
   "metadata": {},
   "outputs": [],
   "source": [
    "# dict of fua ID : cityname\n",
    "citydict = {\n",
    "    809: \"Douala\",\n",
    "    1133: \"Aleppo\",\n",
    "    4617: \"Bucaramanga\",\n",
    "    4881: \"Salt Lake City\",\n",
    "    1427: \"Amsterdam\",\n",
    "    869: \"Auckland\"\n",
    "}"
   ]
  },
  {
   "cell_type": "code",
   "execution_count": 9,
   "metadata": {},
   "outputs": [
    {
     "data": {
      "text/html": [
       "<div>\n",
       "<style scoped>\n",
       "    .dataframe tbody tr th:only-of-type {\n",
       "        vertical-align: middle;\n",
       "    }\n",
       "\n",
       "    .dataframe tbody tr th {\n",
       "        vertical-align: top;\n",
       "    }\n",
       "\n",
       "    .dataframe thead th {\n",
       "        text-align: right;\n",
       "    }\n",
       "</style>\n",
       "<table border=\"1\" class=\"dataframe\">\n",
       "  <thead>\n",
       "    <tr style=\"text-align: right;\">\n",
       "      <th></th>\n",
       "      <th>u</th>\n",
       "      <th>v</th>\n",
       "      <th>key</th>\n",
       "      <th>highway</th>\n",
       "      <th>geometry</th>\n",
       "    </tr>\n",
       "    <tr>\n",
       "      <th>__null_dask_index__</th>\n",
       "      <th></th>\n",
       "      <th></th>\n",
       "      <th></th>\n",
       "      <th></th>\n",
       "      <th></th>\n",
       "    </tr>\n",
       "  </thead>\n",
       "  <tbody>\n",
       "    <tr>\n",
       "      <th>0</th>\n",
       "      <td>6316199</td>\n",
       "      <td>451946447</td>\n",
       "      <td>0</td>\n",
       "      <td>unclassified</td>\n",
       "      <td>LINESTRING (628552.981 5803890.045, 628561.488...</td>\n",
       "    </tr>\n",
       "    <tr>\n",
       "      <th>1</th>\n",
       "      <td>6316199</td>\n",
       "      <td>46388769</td>\n",
       "      <td>0</td>\n",
       "      <td>residential</td>\n",
       "      <td>LINESTRING (628561.488 5803889.299, 628579.347...</td>\n",
       "    </tr>\n",
       "    <tr>\n",
       "      <th>2</th>\n",
       "      <td>6316199</td>\n",
       "      <td>5825714203</td>\n",
       "      <td>0</td>\n",
       "      <td>residential</td>\n",
       "      <td>LINESTRING (628560.362 5803877.895, 628561.488...</td>\n",
       "    </tr>\n",
       "    <tr>\n",
       "      <th>3</th>\n",
       "      <td>451946447</td>\n",
       "      <td>451946445</td>\n",
       "      <td>0</td>\n",
       "      <td>unclassified</td>\n",
       "      <td>LINESTRING (628528.888 5803891.842, 628552.981...</td>\n",
       "    </tr>\n",
       "    <tr>\n",
       "      <th>4</th>\n",
       "      <td>46388769</td>\n",
       "      <td>46389218</td>\n",
       "      <td>0</td>\n",
       "      <td>residential</td>\n",
       "      <td>LINESTRING (628579.347 5804087.372, 628583.286...</td>\n",
       "    </tr>\n",
       "  </tbody>\n",
       "</table>\n",
       "</div>"
      ],
      "text/plain": [
       "                             u           v  key       highway  \\\n",
       "__null_dask_index__                                             \n",
       "0                      6316199   451946447    0  unclassified   \n",
       "1                      6316199    46388769    0   residential   \n",
       "2                      6316199  5825714203    0   residential   \n",
       "3                    451946447   451946445    0  unclassified   \n",
       "4                     46388769    46389218    0   residential   \n",
       "\n",
       "                                                              geometry  \n",
       "__null_dask_index__                                                     \n",
       "0                    LINESTRING (628552.981 5803890.045, 628561.488...  \n",
       "1                    LINESTRING (628561.488 5803889.299, 628579.347...  \n",
       "2                    LINESTRING (628560.362 5803877.895, 628561.488...  \n",
       "3                    LINESTRING (628528.888 5803891.842, 628552.981...  \n",
       "4                    LINESTRING (628579.347 5804087.372, 628583.286...  "
      ]
     },
     "execution_count": 9,
     "metadata": {},
     "output_type": "execute_result"
    }
   ],
   "source": [
    "# read in data for example city: Amsterdam\n",
    "fua = 1427\n",
    "gdf = gpd.read_parquet(f\"../data/{fua}/roads_osm.parquet\")\n",
    "gdf.head()"
   ]
  },
  {
   "cell_type": "markdown",
   "metadata": {},
   "source": [
    "We would need to convert it back into a MultiDiGraph in order to apply functions from the osmnx.simplification module. Therefore... let's download directly through OSMnx for now:"
   ]
  },
  {
   "cell_type": "code",
   "execution_count": 12,
   "metadata": {},
   "outputs": [],
   "source": [
    "G = ox.graph_from_place(\n",
    "    \"Amsterdam\",\n",
    "    network_type = \"all\", # no private!\n",
    "    simplify = True, # simplified!\n",
    "    retain_all = False # only return the largest connected network component\n",
    "    )"
   ]
  },
  {
   "cell_type": "code",
   "execution_count": 13,
   "metadata": {},
   "outputs": [],
   "source": [
    "nodes, edges = ox.graph_to_gdfs(\n",
    "    G, \n",
    "    nodes = True, \n",
    "    edges = True\n",
    ")"
   ]
  },
  {
   "cell_type": "markdown",
   "metadata": {},
   "source": [
    "TODO: find bananas with momepy here"
   ]
  },
  {
   "cell_type": "code",
   "execution_count": 14,
   "metadata": {},
   "outputs": [
    {
     "data": {
      "text/plain": [
       "networkx.classes.multidigraph.MultiDiGraph"
      ]
     },
     "execution_count": 14,
     "metadata": {},
     "output_type": "execute_result"
    }
   ],
   "source": [
    "ox.consolidate_intersections"
   ]
  },
  {
   "cell_type": "markdown",
   "metadata": {},
   "source": [
    "TODO:\n",
    "* identify multiedges, drop\n",
    "* consolidate intersections\n",
    "* simplify again (possible?)\n",
    "* repeat\n",
    "* try using edge bearings"
   ]
  },
  {
   "cell_type": "markdown",
   "metadata": {},
   "source": []
  }
 ],
 "metadata": {
  "kernelspec": {
   "display_name": "cycreg",
   "language": "python",
   "name": "python3"
  },
  "language_info": {
   "codemirror_mode": {
    "name": "ipython",
    "version": 3
   },
   "file_extension": ".py",
   "mimetype": "text/x-python",
   "name": "python",
   "nbconvert_exporter": "python",
   "pygments_lexer": "ipython3",
   "version": "3.10.12"
  }
 },
 "nbformat": 4,
 "nbformat_minor": 2
}
