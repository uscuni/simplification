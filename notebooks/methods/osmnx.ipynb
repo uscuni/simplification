{
 "cells": [
  {
   "cell_type": "markdown",
   "metadata": {},
   "source": [
    "### \"Simplification\" attemps with OSMnx\n",
    "\n",
    "For test (continents) cities [FUA ID]:\n",
    "* (Africa) Douala [809]\n",
    "* (Oceania) Auckland [869]\n",
    "* (Asia) Aleppo [1133] -- Wuhan [8989]\n",
    "* (Europe) Liège [1656]\n",
    "* (South America) Bucaramanga [4617]\n",
    "* (North America) Salt Lake City [4881]"
   ]
  },
  {
   "cell_type": "code",
   "execution_count": 1,
   "metadata": {
    "execution": {
     "iopub.execute_input": "2024-04-20T20:37:26.294921Z",
     "iopub.status.busy": "2024-04-20T20:37:26.294855Z",
     "iopub.status.idle": "2024-04-20T20:37:26.310297Z",
     "shell.execute_reply": "2024-04-20T20:37:26.309913Z",
     "shell.execute_reply.started": "2024-04-20T20:37:26.294913Z"
    }
   },
   "outputs": [
    {
     "name": "stdout",
     "output_type": "stream",
     "text": [
      "Last updated: 2024-04-20T16:37:26.304753-04:00\n",
      "\n",
      "Python implementation: CPython\n",
      "Python version       : 3.11.8\n",
      "IPython version      : 8.22.2\n",
      "\n",
      "Compiler    : Clang 16.0.6 \n",
      "OS          : Darwin\n",
      "Release     : 23.4.0\n",
      "Machine     : arm64\n",
      "Processor   : arm\n",
      "CPU cores   : 8\n",
      "Architecture: 64bit\n",
      "\n"
     ]
    }
   ],
   "source": [
    "%load_ext watermark\n",
    "%watermark"
   ]
  },
  {
   "cell_type": "code",
   "execution_count": 2,
   "metadata": {
    "execution": {
     "iopub.execute_input": "2024-04-20T20:37:26.311090Z",
     "iopub.status.busy": "2024-04-20T20:37:26.310963Z",
     "iopub.status.idle": "2024-04-20T20:37:27.909742Z",
     "shell.execute_reply": "2024-04-20T20:37:27.909508Z",
     "shell.execute_reply.started": "2024-04-20T20:37:26.311077Z"
    }
   },
   "outputs": [
    {
     "name": "stdout",
     "output_type": "stream",
     "text": [
      "Watermark: 2.4.3\n",
      "\n",
      "osmnx : 1.9.2\n",
      "momepy: 0.7.1.dev29+g593fc8e\n",
      "\n"
     ]
    }
   ],
   "source": [
    "import momepy\n",
    "import osmnx as ox\n",
    "\n",
    "from core import utils, viz\n",
    "\n",
    "%watermark -w\n",
    "%watermark -iv"
   ]
  },
  {
   "cell_type": "markdown",
   "metadata": {},
   "source": [
    "**Read in meta data**"
   ]
  },
  {
   "cell_type": "code",
   "execution_count": 3,
   "metadata": {
    "execution": {
     "iopub.execute_input": "2024-04-20T20:37:27.910324Z",
     "iopub.status.busy": "2024-04-20T20:37:27.910100Z",
     "iopub.status.idle": "2024-04-20T20:37:27.963059Z",
     "shell.execute_reply": "2024-04-20T20:37:27.962759Z",
     "shell.execute_reply.started": "2024-04-20T20:37:27.910315Z"
    }
   },
   "outputs": [
    {
     "data": {
      "text/html": [
       "<div>\n",
       "<style scoped>\n",
       "    .dataframe tbody tr th:only-of-type {\n",
       "        vertical-align: middle;\n",
       "    }\n",
       "\n",
       "    .dataframe tbody tr th {\n",
       "        vertical-align: top;\n",
       "    }\n",
       "\n",
       "    .dataframe thead th {\n",
       "        text-align: right;\n",
       "    }\n",
       "</style>\n",
       "<table border=\"1\" class=\"dataframe\">\n",
       "  <thead>\n",
       "    <tr style=\"text-align: right;\">\n",
       "      <th></th>\n",
       "      <th>eFUA_ID</th>\n",
       "      <th>UC_num</th>\n",
       "      <th>UC_IDs</th>\n",
       "      <th>eFUA_name</th>\n",
       "      <th>Commuting</th>\n",
       "      <th>Cntry_ISO</th>\n",
       "      <th>Cntry_name</th>\n",
       "      <th>FUA_area</th>\n",
       "      <th>UC_area</th>\n",
       "      <th>FUA_p_2015</th>\n",
       "      <th>UC_p_2015</th>\n",
       "      <th>Com_p_2015</th>\n",
       "      <th>geometry</th>\n",
       "      <th>continent</th>\n",
       "      <th>iso_a3</th>\n",
       "    </tr>\n",
       "  </thead>\n",
       "  <tbody>\n",
       "    <tr>\n",
       "      <th>305</th>\n",
       "      <td>9129.0</td>\n",
       "      <td>1.0</td>\n",
       "      <td>8078</td>\n",
       "      <td>Gonda</td>\n",
       "      <td>1.0</td>\n",
       "      <td>IND</td>\n",
       "      <td>India</td>\n",
       "      <td>66.0</td>\n",
       "      <td>29.0</td>\n",
       "      <td>1.074100e+06</td>\n",
       "      <td>1.066419e+06</td>\n",
       "      <td>7680.678101</td>\n",
       "      <td>POLYGON ((81.98398 27.19657, 81.99471 27.19657...</td>\n",
       "      <td>Asia</td>\n",
       "      <td>IND</td>\n",
       "    </tr>\n",
       "    <tr>\n",
       "      <th>91</th>\n",
       "      <td>7578.0</td>\n",
       "      <td>6.0</td>\n",
       "      <td>10577;10581;10583;10596;10605;10607</td>\n",
       "      <td>Chongqing</td>\n",
       "      <td>1.0</td>\n",
       "      <td>CHN</td>\n",
       "      <td>China</td>\n",
       "      <td>2267.0</td>\n",
       "      <td>618.0</td>\n",
       "      <td>6.036834e+06</td>\n",
       "      <td>5.157726e+06</td>\n",
       "      <td>879107.861057</td>\n",
       "      <td>POLYGON ((106.23972 29.52328, 106.19622 29.523...</td>\n",
       "      <td>Asia</td>\n",
       "      <td>CHN</td>\n",
       "    </tr>\n",
       "  </tbody>\n",
       "</table>\n",
       "</div>"
      ],
      "text/plain": [
       "     eFUA_ID  UC_num                               UC_IDs  eFUA_name  \\\n",
       "305   9129.0     1.0                                 8078      Gonda   \n",
       "91    7578.0     6.0  10577;10581;10583;10596;10605;10607  Chongqing   \n",
       "\n",
       "     Commuting Cntry_ISO Cntry_name  FUA_area  UC_area    FUA_p_2015  \\\n",
       "305        1.0       IND      India      66.0     29.0  1.074100e+06   \n",
       "91         1.0       CHN      China    2267.0    618.0  6.036834e+06   \n",
       "\n",
       "        UC_p_2015     Com_p_2015  \\\n",
       "305  1.066419e+06    7680.678101   \n",
       "91   5.157726e+06  879107.861057   \n",
       "\n",
       "                                              geometry continent iso_a3  \n",
       "305  POLYGON ((81.98398 27.19657, 81.99471 27.19657...      Asia    IND  \n",
       "91   POLYGON ((106.23972 29.52328, 106.19622 29.523...      Asia    CHN  "
      ]
     },
     "execution_count": 3,
     "metadata": {},
     "output_type": "execute_result"
    }
   ],
   "source": [
    "# read in sample metadata\n",
    "sample = utils.read_sample_data()\n",
    "sample.head(2)"
   ]
  },
  {
   "cell_type": "code",
   "execution_count": 4,
   "metadata": {
    "execution": {
     "iopub.execute_input": "2024-04-20T20:37:27.963608Z",
     "iopub.status.busy": "2024-04-20T20:37:27.963520Z",
     "iopub.status.idle": "2024-04-20T20:37:27.966741Z",
     "shell.execute_reply": "2024-04-20T20:37:27.966526Z",
     "shell.execute_reply.started": "2024-04-20T20:37:27.963600Z"
    }
   },
   "outputs": [
    {
     "data": {
      "text/plain": [
       "{'Aleppo': 1133,\n",
       " 'Auckland': 869,\n",
       " 'Bucaramanga': 4617,\n",
       " 'Douala': 809,\n",
       " 'Liège': 1656,\n",
       " 'Salt Lake City': 4881,\n",
       " 'Wuhan': 8989}"
      ]
     },
     "execution_count": 4,
     "metadata": {},
     "output_type": "execute_result"
    }
   ],
   "source": [
    "utils.city_fua"
   ]
  },
  {
   "cell_type": "markdown",
   "metadata": {},
   "source": [
    "**Read in data for example city**"
   ]
  },
  {
   "cell_type": "code",
   "execution_count": 5,
   "metadata": {
    "execution": {
     "iopub.execute_input": "2024-04-20T20:37:27.967169Z",
     "iopub.status.busy": "2024-04-20T20:37:27.967102Z",
     "iopub.status.idle": "2024-04-20T20:37:30.275911Z",
     "shell.execute_reply": "2024-04-20T20:37:30.275672Z",
     "shell.execute_reply.started": "2024-04-20T20:37:27.967161Z"
    }
   },
   "outputs": [
    {
     "name": "stdout",
     "output_type": "stream",
     "text": [
      "Momepy-NetworkX Primal Graph: Liège\n",
      "\t* MultiDiGraph with 98777 nodes and 105174 edges\n"
     ]
    }
   ],
   "source": [
    "# read in data for example city: Liege\n",
    "city = \"Liège\"\n",
    "gdf = utils.read_original(utils.city_fua[city])\n",
    "G = momepy.gdf_to_nx(\n",
    "    gdf_network=gdf, approach=\"primal\", directed=True, integer_labels=True\n",
    ")\n",
    "print(utils.graph_size(f\"Momepy-NetworkX Primal Graph: {city}\", G))"
   ]
  },
  {
   "cell_type": "markdown",
   "metadata": {},
   "source": [
    "**Simplify graph (in OSMNnx terms, i.e. remove interstitial nodes)**"
   ]
  },
  {
   "cell_type": "code",
   "execution_count": 6,
   "metadata": {
    "execution": {
     "iopub.execute_input": "2024-04-20T20:37:30.277160Z",
     "iopub.status.busy": "2024-04-20T20:37:30.277085Z",
     "iopub.status.idle": "2024-04-20T20:37:32.434054Z",
     "shell.execute_reply": "2024-04-20T20:37:32.433803Z",
     "shell.execute_reply.started": "2024-04-20T20:37:30.277152Z"
    }
   },
   "outputs": [
    {
     "name": "stdout",
     "output_type": "stream",
     "text": [
      "Momepy-NetworkX Primal Graph (simplified): Liège\n",
      "\t* MultiDiGraph with 38034 nodes and 44421 edges\n"
     ]
    }
   ],
   "source": [
    "G_simp = ox.simplify_graph(G)\n",
    "print(utils.graph_size(f\"Momepy-NetworkX Primal Graph (simplified): {city}\", G_simp))"
   ]
  },
  {
   "cell_type": "code",
   "execution_count": 7,
   "metadata": {
    "execution": {
     "iopub.execute_input": "2024-04-20T20:37:32.434455Z",
     "iopub.status.busy": "2024-04-20T20:37:32.434382Z",
     "iopub.status.idle": "2024-04-20T20:37:32.438029Z",
     "shell.execute_reply": "2024-04-20T20:37:32.437833Z",
     "shell.execute_reply.started": "2024-04-20T20:37:32.434447Z"
    }
   },
   "outputs": [
    {
     "data": {
      "text/plain": [
       "<Projected CRS: {\"$schema\": \"https://proj.org/schemas/v0.7/projjso ...>\n",
       "Name: unknown\n",
       "Axis Info [cartesian]:\n",
       "- E[east]: Easting (metre)\n",
       "- N[north]: Northing (metre)\n",
       "Area of Use:\n",
       "- undefined\n",
       "Coordinate Operation:\n",
       "- name: UTM zone 31N\n",
       "- method: Transverse Mercator\n",
       "Datum: World Geodetic System 1984\n",
       "- Ellipsoid: WGS 84\n",
       "- Prime Meridian: Greenwich"
      ]
     },
     "execution_count": 7,
     "metadata": {},
     "output_type": "execute_result"
    }
   ],
   "source": [
    "# check crs, needs to be a projected one\n",
    "G_simp.graph[\"crs\"]"
   ]
  },
  {
   "cell_type": "markdown",
   "metadata": {},
   "source": [
    "**Consolidate nodes (test different thresholds)**"
   ]
  },
  {
   "cell_type": "code",
   "execution_count": 8,
   "metadata": {
    "execution": {
     "iopub.execute_input": "2024-04-20T20:37:32.438410Z",
     "iopub.status.busy": "2024-04-20T20:37:32.438348Z",
     "iopub.status.idle": "2024-04-20T20:39:42.442867Z",
     "shell.execute_reply": "2024-04-20T20:39:42.442641Z",
     "shell.execute_reply.started": "2024-04-20T20:37:32.438403Z"
    }
   },
   "outputs": [
    {
     "name": "stdout",
     "output_type": "stream",
     "text": [
      "Consolidating with tolerance 1m\n",
      "\t* MultiDiGraph with 37899 nodes and 44285 edges\n",
      "Consolidating with tolerance 2m\n",
      "\t* MultiDiGraph with 37286 nodes and 43670 edges\n",
      "Consolidating with tolerance 3m\n",
      "\t* MultiDiGraph with 36165 nodes and 42538 edges\n",
      "Consolidating with tolerance 4m\n",
      "\t* MultiDiGraph with 34769 nodes and 41125 edges\n",
      "Consolidating with tolerance 5m\n",
      "\t* MultiDiGraph with 33210 nodes and 39527 edges\n",
      "Consolidating with tolerance 6m\n",
      "\t* MultiDiGraph with 31579 nodes and 37824 edges\n",
      "Consolidating with tolerance 7m\n",
      "\t* MultiDiGraph with 30058 nodes and 36205 edges\n",
      "Consolidating with tolerance 8m\n",
      "\t* MultiDiGraph with 28322 nodes and 34353 edges\n",
      "Consolidating with tolerance 9m\n",
      "\t* MultiDiGraph with 26561 nodes and 32437 edges\n",
      "Consolidating with tolerance 10m\n",
      "\t* MultiDiGraph with 25158 nodes and 30847 edges\n",
      "Consolidating with tolerance 11m\n",
      "\t* MultiDiGraph with 23902 nodes and 29445 edges\n",
      "Consolidating with tolerance 12m\n",
      "\t* MultiDiGraph with 22771 nodes and 28187 edges\n",
      "Consolidating with tolerance 13m\n",
      "\t* MultiDiGraph with 21675 nodes and 26968 edges\n",
      "Consolidating with tolerance 14m\n",
      "\t* MultiDiGraph with 20711 nodes and 25894 edges\n",
      "Consolidating with tolerance 15m\n",
      "\t* MultiDiGraph with 19732 nodes and 24825 edges\n",
      "Consolidating with tolerance 16m\n",
      "\t* MultiDiGraph with 18815 nodes and 23757 edges\n",
      "Consolidating with tolerance 17m\n",
      "\t* MultiDiGraph with 17916 nodes and 22727 edges\n",
      "Consolidating with tolerance 18m\n",
      "\t* MultiDiGraph with 16995 nodes and 21704 edges\n",
      "Consolidating with tolerance 19m\n",
      "\t* MultiDiGraph with 16158 nodes and 20739 edges\n",
      "Consolidating with tolerance 20m\n",
      "\t* MultiDiGraph with 15384 nodes and 19849 edges\n"
     ]
    }
   ],
   "source": [
    "cons_dict = {}\n",
    "for tol in range(1, 21):\n",
    "    # consolidate graph\n",
    "    G_cons = ox.consolidate_intersections(\n",
    "        G=G_simp,\n",
    "        tolerance=tol,\n",
    "        rebuild_graph=True,\n",
    "        dead_ends=True,\n",
    "        reconnect_edges=True,\n",
    "    )\n",
    "    # derive consolidated edges\n",
    "    edges_cons = ox.graph_to_gdfs(G=G_cons, nodes=False, edges=True)\n",
    "    # save in cons_dict\n",
    "    cons_dict[tol] = {}\n",
    "    cons_dict[tol][\"graph\"] = G_cons\n",
    "    cons_dict[tol][\"edges\"] = edges_cons\n",
    "    print(utils.graph_size(f\"Consolidating with tolerance {tol}m\", G_cons))"
   ]
  },
  {
   "cell_type": "code",
   "execution_count": 9,
   "metadata": {
    "execution": {
     "iopub.execute_input": "2024-04-20T20:39:42.443318Z",
     "iopub.status.busy": "2024-04-20T20:39:42.443251Z",
     "iopub.status.idle": "2024-04-20T20:39:44.798432Z",
     "shell.execute_reply": "2024-04-20T20:39:44.798161Z",
     "shell.execute_reply.started": "2024-04-20T20:39:42.443311Z"
    }
   },
   "outputs": [],
   "source": [
    "for tol in cons_dict:\n",
    "    cons_dict[tol][\"nodes\"] = ox.graph_to_gdfs(\n",
    "        G=cons_dict[tol][\"graph\"], nodes=True, edges=False\n",
    "    )"
   ]
  },
  {
   "cell_type": "markdown",
   "metadata": {},
   "source": [
    "**Find examples** (see nb `usecases.ipynb`)\n",
    "\n",
    "**Check what happens for examples / use cases for different consolidation thresholds**\n",
    "\n",
    "Make plots and videos for each use case, for gradually increasing simplification threshold"
   ]
  },
  {
   "cell_type": "code",
   "execution_count": 10,
   "metadata": {
    "execution": {
     "iopub.execute_input": "2024-04-20T20:39:44.798879Z",
     "iopub.status.busy": "2024-04-20T20:39:44.798808Z",
     "iopub.status.idle": "2024-04-20T20:39:44.801725Z",
     "shell.execute_reply": "2024-04-20T20:39:44.801532Z",
     "shell.execute_reply.started": "2024-04-20T20:39:44.798873Z"
    }
   },
   "outputs": [
    {
     "data": {
      "text/plain": [
       "PosixPath('../usecases/1656')"
      ]
     },
     "execution_count": 10,
     "metadata": {},
     "output_type": "execute_result"
    }
   ],
   "source": [
    "points, fpath_base = utils.load_usecases(city)\n",
    "fpath_base"
   ]
  },
  {
   "cell_type": "code",
   "execution_count": 11,
   "metadata": {
    "execution": {
     "iopub.execute_input": "2024-04-20T20:39:44.802109Z",
     "iopub.status.busy": "2024-04-20T20:39:44.802054Z",
     "iopub.status.idle": "2024-04-20T20:39:44.803958Z",
     "shell.execute_reply": "2024-04-20T20:39:44.803763Z",
     "shell.execute_reply.started": "2024-04-20T20:39:44.802103Z"
    }
   },
   "outputs": [
    {
     "data": {
      "text/plain": [
       "PosixPath('../usecases/1656/osmnx')"
      ]
     },
     "execution_count": 11,
     "metadata": {},
     "output_type": "execute_result"
    }
   ],
   "source": [
    "package = \"osmnx\"\n",
    "fpath_pack = fpath_base / package\n",
    "fpath_pack"
   ]
  },
  {
   "cell_type": "code",
   "execution_count": 12,
   "metadata": {
    "execution": {
     "iopub.execute_input": "2024-04-20T20:39:44.804353Z",
     "iopub.status.busy": "2024-04-20T20:39:44.804273Z",
     "iopub.status.idle": "2024-04-20T20:39:44.806109Z",
     "shell.execute_reply": "2024-04-20T20:39:44.805931Z",
     "shell.execute_reply.started": "2024-04-20T20:39:44.804346Z"
    }
   },
   "outputs": [
    {
     "data": {
      "text/plain": [
       "['roundabout', 'highway', 'parkinglot', 'intersection']"
      ]
     },
     "execution_count": 12,
     "metadata": {},
     "output_type": "execute_result"
    }
   ],
   "source": [
    "contexts = [\"roundabout\", \"highway\", \"parkinglot\", \"intersection\"]\n",
    "contexts"
   ]
  },
  {
   "cell_type": "code",
   "execution_count": 13,
   "metadata": {
    "execution": {
     "iopub.execute_input": "2024-04-20T20:39:44.806466Z",
     "iopub.status.busy": "2024-04-20T20:39:44.806413Z",
     "iopub.status.idle": "2024-04-20T20:41:08.372171Z",
     "shell.execute_reply": "2024-04-20T20:41:08.371923Z",
     "shell.execute_reply.started": "2024-04-20T20:39:44.806461Z"
    }
   },
   "outputs": [],
   "source": [
    "for context in contexts:\n",
    "    # isolate central AOI\n",
    "    point = points[context][\"coords\"]\n",
    "    center = viz.context.location(point, gdf.crs)\n",
    "\n",
    "    # make subfolder for plot saving\n",
    "    fpath_context = viz.context.path(context, fpath_pack)\n",
    "\n",
    "    # make plot for each tolerance threshold\n",
    "    for tol in cons_dict:\n",
    "        nodes = cons_dict[tol][\"nodes\"]\n",
    "        edges = cons_dict[tol][\"edges\"]\n",
    "\n",
    "        fmt_title = f\"Tolerance {tol}m\"\n",
    "        fmt_fname = f\"{tol:03d}\"\n",
    "        utils.viz_class_param_plot(\n",
    "            nodes, edges, center, fmt_title, fmt_fname, fpath_context, gdf.crs\n",
    "        )\n",
    "    # Make Video\n",
    "    viz.context.video(fpath_context)"
   ]
  }
 ],
 "metadata": {
  "kernelspec": {
   "display_name": "Python 3 (ipykernel)",
   "language": "python",
   "name": "python3"
  },
  "language_info": {
   "codemirror_mode": {
    "name": "ipython",
    "version": 3
   },
   "file_extension": ".py",
   "mimetype": "text/x-python",
   "name": "python",
   "nbconvert_exporter": "python",
   "pygments_lexer": "ipython3",
   "version": "3.11.10"
  }
 },
 "nbformat": 4,
 "nbformat_minor": 4
}
