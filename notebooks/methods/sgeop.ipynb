{
 "cells": [
  {
   "cell_type": "markdown",
   "metadata": {},
   "source": [
    "# Running `sgeop`\n",
    "\n",
    "Draft - testing with all parameters set to default values"
   ]
  },
  {
   "cell_type": "code",
   "execution_count": 1,
   "metadata": {},
   "outputs": [
    {
     "name": "stdout",
     "output_type": "stream",
     "text": [
      "Last updated: 2024-10-22T19:16:17.920916+02:00\n",
      "\n",
      "Python implementation: CPython\n",
      "Python version       : 3.11.9\n",
      "IPython version      : 8.26.0\n",
      "\n",
      "Compiler    : Clang 16.0.6 \n",
      "OS          : Darwin\n",
      "Release     : 23.6.0\n",
      "Machine     : x86_64\n",
      "Processor   : i386\n",
      "CPU cores   : 12\n",
      "Architecture: 64bit\n",
      "\n"
     ]
    }
   ],
   "source": [
    "%load_ext watermark\n",
    "%watermark"
   ]
  },
  {
   "cell_type": "code",
   "execution_count": 2,
   "metadata": {},
   "outputs": [],
   "source": [
    "import os\n",
    "import time\n",
    "\n",
    "import sgeop\n",
    "\n",
    "from core import utils"
   ]
  },
  {
   "cell_type": "code",
   "execution_count": 3,
   "metadata": {},
   "outputs": [
    {
     "data": {
      "text/plain": [
       "{1133: 'Aleppo',\n",
       " 869: 'Auckland',\n",
       " 4617: 'Bucaramanga',\n",
       " 809: 'Douala',\n",
       " 1656: 'Liège',\n",
       " 4881: 'Salt Lake City',\n",
       " 8989: 'Wuhan'}"
      ]
     },
     "execution_count": 3,
     "metadata": {},
     "output_type": "execute_result"
    }
   ],
   "source": [
    "utils.fua_city"
   ]
  },
  {
   "cell_type": "code",
   "execution_count": 4,
   "metadata": {},
   "outputs": [
    {
     "name": "stdout",
     "output_type": "stream",
     "text": [
      "Simplifying Aleppo\n"
     ]
    },
    {
     "name": "stderr",
     "output_type": "stream",
     "text": [
      "/Users/anvy/anaconda3/envs/simplification/lib/python3.11/site-packages/sgeop/simplify.py:200: UserWarning: Could not create a connection as it would lead outside of the artifact.\n",
      "  nx_gx_cluster(\n",
      "/Users/anvy/anaconda3/envs/simplification/lib/python3.11/site-packages/sgeop/geometry.py:256: UserWarning: Could not create a connection as it would lead outside of the artifact.\n",
      "  additions, splits = snap_to_targets(\n"
     ]
    },
    {
     "name": "stdout",
     "output_type": "stream",
     "text": [
      "Aleppo simplified in 321s \n",
      "\n",
      "Simplifying Auckland\n"
     ]
    },
    {
     "name": "stderr",
     "output_type": "stream",
     "text": [
      "/Users/anvy/anaconda3/envs/simplification/lib/python3.11/site-packages/sgeop/geometry.py:256: UserWarning: Could not create a connection as it would lead outside of the artifact.\n",
      "  additions, splits = snap_to_targets(\n",
      "/Users/anvy/anaconda3/envs/simplification/lib/python3.11/site-packages/sgeop/simplify.py:200: UserWarning: Could not create a connection as it would lead outside of the artifact.\n",
      "  nx_gx_cluster(\n",
      "/Users/anvy/anaconda3/envs/simplification/lib/python3.11/site-packages/sgeop/simplify.py:200: UserWarning: Could not create a connection as it would lead outside of the artifact.\n",
      "  nx_gx_cluster(\n"
     ]
    },
    {
     "name": "stdout",
     "output_type": "stream",
     "text": [
      "Auckland simplified in 110s \n",
      "\n",
      "Simplifying Bucaramanga\n",
      "Bucaramanga simplified in 165s \n",
      "\n",
      "Simplifying Douala\n"
     ]
    },
    {
     "name": "stderr",
     "output_type": "stream",
     "text": [
      "/Users/anvy/anaconda3/envs/simplification/lib/python3.11/site-packages/sgeop/simplify.py:200: UserWarning: Could not create a connection as it would lead outside of the artifact.\n",
      "  nx_gx_cluster(\n"
     ]
    },
    {
     "name": "stdout",
     "output_type": "stream",
     "text": [
      "Douala simplified in 203s \n",
      "\n",
      "Simplifying Liège\n"
     ]
    },
    {
     "name": "stderr",
     "output_type": "stream",
     "text": [
      "/Users/anvy/anaconda3/envs/simplification/lib/python3.11/site-packages/sgeop/geometry.py:256: UserWarning: Could not create a connection as it would lead outside of the artifact.\n",
      "  additions, splits = snap_to_targets(\n",
      "/Users/anvy/anaconda3/envs/simplification/lib/python3.11/site-packages/sgeop/simplify.py:200: UserWarning: Could not create a connection as it would lead outside of the artifact.\n",
      "  nx_gx_cluster(\n"
     ]
    },
    {
     "name": "stdout",
     "output_type": "stream",
     "text": [
      "Liège simplified in 163s \n",
      "\n",
      "Simplifying Salt Lake City\n",
      "Salt Lake City simplified in 134s \n",
      "\n",
      "Simplifying Wuhan\n"
     ]
    },
    {
     "name": "stderr",
     "output_type": "stream",
     "text": [
      "/Users/anvy/anaconda3/envs/simplification/lib/python3.11/site-packages/sgeop/simplify.py:553: UserWarning: An error occured at location POINT (241535.6672244263 3382804.6131901448). The artifact has not been simplified. The original message:\n",
      "can only convert an array of size 1 to a Python scalar\n",
      "  roads = simplify_singletons(\n",
      "/Users/anvy/anaconda3/envs/simplification/lib/python3.11/site-packages/sgeop/simplify.py:200: UserWarning: Could not create a connection as it would lead outside of the artifact.\n",
      "  nx_gx_cluster(\n",
      "/Users/anvy/anaconda3/envs/simplification/lib/python3.11/site-packages/sgeop/simplify.py:200: UserWarning: Could not create a connection as it would lead outside of the artifact.\n",
      "  nx_gx_cluster(\n",
      "/Users/anvy/anaconda3/envs/simplification/lib/python3.11/site-packages/sgeop/simplify.py:200: UserWarning: Could not create a connection as it would lead outside of the artifact.\n",
      "  nx_gx_cluster(\n"
     ]
    },
    {
     "name": "stdout",
     "output_type": "stream",
     "text": [
      "Wuhan simplified in 1643s \n",
      "\n"
     ]
    }
   ],
   "source": [
    "for fua in utils.fua_city:\n",
    "    city = utils.fua_city[fua]\n",
    "    print(f\"Simplifying {city}\")\n",
    "\n",
    "    # read in original data\n",
    "    gdf = utils.read_original(fua)\n",
    "\n",
    "    # simplify with sgeop\n",
    "    t1 = time.time()\n",
    "    simplified = sgeop.simplify_network(gdf)\n",
    "    t2 = time.time()\n",
    "    print(f\"{city} simplified in {round(t2-t1)}s \\n\")\n",
    "\n",
    "    # save to target folder\n",
    "    target_folder = f\"../../data/{fua}/sgeop/\"\n",
    "    os.makedirs(target_folder, exist_ok=True)\n",
    "    simplified.to_parquet(target_folder + f\"{fua}.parquet\")"
   ]
  },
  {
   "cell_type": "markdown",
   "metadata": {},
   "source": []
  }
 ],
 "metadata": {
  "kernelspec": {
   "display_name": "simplification",
   "language": "python",
   "name": "python3"
  },
  "language_info": {
   "codemirror_mode": {
    "name": "ipython",
    "version": 3
   },
   "file_extension": ".py",
   "mimetype": "text/x-python",
   "name": "python",
   "nbconvert_exporter": "python",
   "pygments_lexer": "ipython3",
   "version": "3.11.9"
  }
 },
 "nbformat": 4,
 "nbformat_minor": 2
}
