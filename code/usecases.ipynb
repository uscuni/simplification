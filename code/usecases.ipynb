{
 "cells": [
  {
   "cell_type": "markdown",
   "metadata": {},
   "source": [
    "# Finding use cases for different cities\n",
    "\n",
    "1. Liège\n",
    "2. Douala\n",
    "3. ..."
   ]
  },
  {
   "cell_type": "code",
   "execution_count": 2,
   "metadata": {
    "execution": {
     "iopub.execute_input": "2024-04-17T01:24:30.260557Z",
     "iopub.status.busy": "2024-04-17T01:24:30.260097Z",
     "iopub.status.idle": "2024-04-17T01:24:30.298209Z",
     "shell.execute_reply": "2024-04-17T01:24:30.297644Z",
     "shell.execute_reply.started": "2024-04-17T01:24:30.260526Z"
    }
   },
   "outputs": [
    {
     "name": "stdout",
     "output_type": "stream",
     "text": [
      "Last updated: 2024-04-16T21:24:30.280744-04:00\n",
      "\n",
      "Python implementation: CPython\n",
      "Python version       : 3.11.8\n",
      "IPython version      : 8.22.2\n",
      "\n",
      "Compiler    : Clang 16.0.6 \n",
      "OS          : Darwin\n",
      "Release     : 23.4.0\n",
      "Machine     : arm64\n",
      "Processor   : arm\n",
      "CPU cores   : 8\n",
      "Architecture: 64bit\n",
      "\n"
     ]
    }
   ],
   "source": [
    "%load_ext watermark\n",
    "%watermark"
   ]
  },
  {
   "cell_type": "code",
   "execution_count": 7,
   "metadata": {
    "execution": {
     "iopub.execute_input": "2024-04-17T01:24:44.971822Z",
     "iopub.status.busy": "2024-04-17T01:24:44.971336Z",
     "iopub.status.idle": "2024-04-17T01:24:44.980549Z",
     "shell.execute_reply": "2024-04-17T01:24:44.979801Z",
     "shell.execute_reply.started": "2024-04-17T01:24:44.971795Z"
    }
   },
   "outputs": [
    {
     "name": "stdout",
     "output_type": "stream",
     "text": [
      "Watermark: 2.4.3\n",
      "\n",
      "json: 2.0.9\n",
      "\n"
     ]
    }
   ],
   "source": [
    "# import libraries\n",
    "import json\n",
    "import pathlib\n",
    "\n",
    "import utils\n",
    "\n",
    "%watermark -w\n",
    "%watermark -iv"
   ]
  },
  {
   "cell_type": "code",
   "execution_count": 8,
   "metadata": {
    "execution": {
     "iopub.execute_input": "2024-04-17T01:24:46.450717Z",
     "iopub.status.busy": "2024-04-17T01:24:46.450240Z",
     "iopub.status.idle": "2024-04-17T01:24:46.456412Z",
     "shell.execute_reply": "2024-04-17T01:24:46.455953Z",
     "shell.execute_reply.started": "2024-04-17T01:24:46.450686Z"
    }
   },
   "outputs": [
    {
     "data": {
      "text/plain": [
       "{'Aleppo': 1133,\n",
       " 'Auckland': 869,\n",
       " 'Bucaramanga': 4617,\n",
       " 'Douala': 809,\n",
       " 'Liège': 1656,\n",
       " 'Salt Lake City': 4881,\n",
       " 'Wuhan': 8989}"
      ]
     },
     "execution_count": 8,
     "metadata": {},
     "output_type": "execute_result"
    }
   ],
   "source": [
    "utils.city_fua"
   ]
  },
  {
   "cell_type": "markdown",
   "metadata": {},
   "source": [
    "## 1. Liège"
   ]
  },
  {
   "cell_type": "code",
   "execution_count": 9,
   "metadata": {
    "execution": {
     "iopub.execute_input": "2024-04-17T01:24:48.272825Z",
     "iopub.status.busy": "2024-04-17T01:24:48.272000Z",
     "iopub.status.idle": "2024-04-17T01:24:48.278316Z",
     "shell.execute_reply": "2024-04-17T01:24:48.277208Z",
     "shell.execute_reply.started": "2024-04-17T01:24:48.272790Z"
    }
   },
   "outputs": [],
   "source": [
    "# read in data for example city: Liege\n",
    "city = \"Liège\"\n",
    "fua = utils.city_fua[city]"
   ]
  },
  {
   "cell_type": "code",
   "execution_count": 11,
   "metadata": {
    "execution": {
     "iopub.execute_input": "2024-04-17T01:27:31.873368Z",
     "iopub.status.busy": "2024-04-17T01:27:31.872285Z",
     "iopub.status.idle": "2024-04-17T01:27:31.881116Z",
     "shell.execute_reply": "2024-04-17T01:27:31.880440Z",
     "shell.execute_reply.started": "2024-04-17T01:27:31.873335Z"
    }
   },
   "outputs": [],
   "source": [
    "# create use cases dict for Liège\n",
    "points = {}\n",
    "\n",
    "_class = \"roundabout\"\n",
    "points[_class] = {}\n",
    "points[_class][\"coords\"] = (5.587873, 50.641955)\n",
    "points[_class][\"address\"] = \"Place du Congrès\"\n",
    "points[_class][\"comments\"] = \"...\"\n",
    "\n",
    "_class = \"highway\"\n",
    "points[_class] = {}\n",
    "points[_class][\"coords\"] = (5.560604, 50.632068)\n",
    "points[_class][\"address\"] = \"A602 / Rue de Puisatiers\"\n",
    "points[_class][\"comments\"] = \"...\"\n",
    "\n",
    "_class = \"parkinglot\"\n",
    "points[_class] = {}\n",
    "points[_class][\"coords\"] = (5.592738, 50.616253)\n",
    "points[_class][\"address\"] = \"Carrefour Quai des Vennes\"\n",
    "points[_class][\"comments\"] = \"...\"\n",
    "\n",
    "_class = \"intersection\"\n",
    "points[_class] = {}\n",
    "points[_class][\"coords\"] = (5.511301, 50.618373)\n",
    "points[_class][\"address\"] = \"Pont de Seraing\"\n",
    "points[_class][\"comments\"] = \"...\"\n",
    "\n",
    "fpath_base = pathlib.Path(\"..\", \"usecases\", str(utils.city_fua[city]))\n",
    "with open(fpath_base / \"points.json\", \"w\") as outfile:\n",
    "    outfile.write(json.dumps(points, indent=6))"
   ]
  },
  {
   "cell_type": "markdown",
   "metadata": {},
   "source": [
    "## 2. Douala"
   ]
  },
  {
   "cell_type": "code",
   "execution_count": null,
   "metadata": {},
   "outputs": [],
   "source": []
  }
 ],
 "metadata": {
  "kernelspec": {
   "display_name": "Python 3 (ipykernel)",
   "language": "python",
   "name": "python3"
  },
  "language_info": {
   "codemirror_mode": {
    "name": "ipython",
    "version": 3
   },
   "file_extension": ".py",
   "mimetype": "text/x-python",
   "name": "python",
   "nbconvert_exporter": "python",
   "pygments_lexer": "ipython3",
   "version": "3.11.8"
  }
 },
 "nbformat": 4,
 "nbformat_minor": 4
}
