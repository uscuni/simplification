{
 "cells": [
  {
   "cell_type": "markdown",
   "metadata": {},
   "source": [
    "- number of nodes\n",
    "- number of continuity groups\n",
    "- filter non-planarity artifacts\n",
    "- CES counts\n",
    "- prime detection\n",
    "- crosses detection\n",
    "- touches detecion"
   ]
  },
  {
   "cell_type": "code",
   "execution_count": 1,
   "metadata": {},
   "outputs": [],
   "source": [
    "import geopandas as gpd\n",
    "import matplotlib.pyplot as plt\n",
    "import momepy\n",
    "import numpy as np\n",
    "import pandas as pd\n",
    "import shapely\n",
    "from libpysal import graph\n",
    "from scipy import sparse\n",
    "\n",
    "from core import algorithms, utils\n",
    "from core.geometry import voronoi_skeleton"
   ]
  },
  {
   "cell_type": "markdown",
   "metadata": {},
   "source": [
    "Specify case metadata"
   ]
  },
  {
   "cell_type": "code",
   "execution_count": 2,
   "metadata": {},
   "outputs": [],
   "source": [
    "case = \"Liège\""
   ]
  },
  {
   "cell_type": "markdown",
   "metadata": {},
   "source": [
    "Read road data"
   ]
  },
  {
   "cell_type": "code",
   "execution_count": 3,
   "metadata": {},
   "outputs": [],
   "source": [
    "roads = utils.read_parquet_roads(case)"
   ]
  },
  {
   "cell_type": "markdown",
   "metadata": {},
   "source": [
    "Remove duplicated roads"
   ]
  },
  {
   "cell_type": "code",
   "execution_count": 4,
   "metadata": {},
   "outputs": [],
   "source": [
    "roads = momepy.remove_false_nodes(roads)\n",
    "roads = roads[~roads.geometry.duplicated()].reset_index()\n",
    "roads = momepy.remove_false_nodes(roads)"
   ]
  },
  {
   "cell_type": "markdown",
   "metadata": {},
   "source": [
    "Assign COINS-based information to roads"
   ]
  },
  {
   "cell_type": "code",
   "execution_count": 5,
   "metadata": {},
   "outputs": [],
   "source": [
    "# %%time\n",
    "roads, coins = algorithms.common.continuity(roads)"
   ]
  },
  {
   "cell_type": "markdown",
   "metadata": {},
   "source": [
    "Read artifacts"
   ]
  },
  {
   "cell_type": "code",
   "execution_count": 6,
   "metadata": {},
   "outputs": [],
   "source": [
    "artifacts = momepy.FaceArtifacts(roads).face_artifacts.set_crs(roads.crs)\n",
    "artifacts[\"id\"] = artifacts.index"
   ]
  },
  {
   "cell_type": "markdown",
   "metadata": {},
   "source": [
    "Remove edges fully within the artifact (dangles)."
   ]
  },
  {
   "cell_type": "code",
   "execution_count": 7,
   "metadata": {},
   "outputs": [],
   "source": [
    "a_idx, _ = roads.sindex.query(artifacts.geometry, predicate=\"contains\")\n",
    "artifacts = artifacts.drop(artifacts.index[a_idx])"
   ]
  },
  {
   "cell_type": "markdown",
   "metadata": {},
   "source": [
    "Get nodes from the network."
   ]
  },
  {
   "cell_type": "code",
   "execution_count": 8,
   "metadata": {},
   "outputs": [],
   "source": [
    "nodes = momepy.nx_to_gdf(momepy.node_degree(momepy.gdf_to_nx(roads)), lines=False)"
   ]
  },
  {
   "cell_type": "markdown",
   "metadata": {},
   "source": [
    "Link nodes to artifacts"
   ]
  },
  {
   "cell_type": "code",
   "execution_count": 9,
   "metadata": {},
   "outputs": [],
   "source": [
    "node_idx, artifact_idx = artifacts.sindex.query(\n",
    "    nodes.buffer(0.1), predicate=\"intersects\"\n",
    ")\n",
    "intersects = sparse.coo_array(\n",
    "    ([True] * len(node_idx), (node_idx, artifact_idx)),\n",
    "    shape=(len(nodes), len(artifacts)),\n",
    "    dtype=np.bool_,\n",
    ")"
   ]
  },
  {
   "cell_type": "markdown",
   "metadata": {},
   "source": [
    "Compute number of nodes per artifact"
   ]
  },
  {
   "cell_type": "code",
   "execution_count": 10,
   "metadata": {},
   "outputs": [],
   "source": [
    "artifacts[\"node_count\"] = intersects.sum(axis=0)"
   ]
  },
  {
   "cell_type": "markdown",
   "metadata": {},
   "source": [
    "Apply additional filters to remove artifacts that are not suitable for simplification. These may be artifacts that:\n",
    "- are too large in size\n",
    "- are part of a larger intersection that may need different methods of simplification"
   ]
  },
  {
   "cell_type": "code",
   "execution_count": 11,
   "metadata": {},
   "outputs": [],
   "source": [
    "area_threshold = 1250  # this is hard to determine but it can be done iteratively using different thresholds\n",
    "circular_compactness_threshold = 0.15  # same as above\n",
    "\n",
    "rook = graph.Graph.build_contiguity(artifacts, rook=True)\n",
    "\n",
    "# keep only those artifacts which occur as isolates, i.e. are not part of a larger intersection\n",
    "artifacts = artifacts.loc[artifacts.index.intersection(rook.isolates)]"
   ]
  },
  {
   "cell_type": "markdown",
   "metadata": {},
   "source": [
    "Compute number of stroke groups per artifact."
   ]
  },
  {
   "cell_type": "code",
   "execution_count": 12,
   "metadata": {},
   "outputs": [],
   "source": [
    "def _get_stroke_info(artifacts, roads):\n",
    "    strokes = []\n",
    "    c_ = []\n",
    "    e_ = []\n",
    "    s_ = []\n",
    "    for geom in artifacts.geometry:\n",
    "        singles = 0\n",
    "        ends = 0\n",
    "        edges = roads.iloc[roads.sindex.query(geom, predicate=\"covers\")]\n",
    "        if (  # roundabout special case\n",
    "            edges.coins_group.nunique() == 1\n",
    "            and edges.shape[0] == edges.coins_count.iloc[0]\n",
    "        ):\n",
    "            singles = 1\n",
    "            mains = 0\n",
    "        else:\n",
    "            all_ends = edges[edges.coins_end]\n",
    "            mains = edges[\n",
    "                ~edges.coins_group.isin(all_ends.coins_group)\n",
    "            ].coins_group.nunique()\n",
    "\n",
    "            visited = []\n",
    "            for coins_count, group in zip(\n",
    "                all_ends.coins_count, all_ends.coins_group, strict=True\n",
    "            ):\n",
    "                if (group not in visited) and (\n",
    "                    coins_count == (edges.coins_group == group).sum()\n",
    "                ):\n",
    "                    singles += 1\n",
    "                    visited.append(group)\n",
    "                elif group not in visited:\n",
    "                    ends += 1\n",
    "                    # do not add to visited as they may be disjoint within the artifact\n",
    "        strokes.append(edges.coins_group.nunique())\n",
    "        c_.append(mains)\n",
    "        e_.append(ends)\n",
    "        s_.append(singles)\n",
    "    return strokes, c_, e_, s_\n",
    "\n",
    "\n",
    "strokes, c_, e_, s_ = _get_stroke_info(artifacts, roads)\n",
    "artifacts[\"stroke_count\"] = strokes\n",
    "artifacts[\"C\"] = c_\n",
    "artifacts[\"E\"] = e_\n",
    "artifacts[\"S\"] = s_"
   ]
  },
  {
   "cell_type": "markdown",
   "metadata": {},
   "source": [
    "Filer artifacts caused by non-planar intersections."
   ]
  },
  {
   "cell_type": "code",
   "execution_count": 13,
   "metadata": {},
   "outputs": [],
   "source": [
    "artifacts[\"non_planar\"] = artifacts[\"stroke_count\"] > artifacts[\"node_count\"]\n",
    "a_idx, r_idx = roads.sindex.query(artifacts.geometry.boundary, predicate=\"overlaps\")\n",
    "artifacts.iloc[np.unique(a_idx), -1] = True"
   ]
  },
  {
   "cell_type": "markdown",
   "metadata": {},
   "source": [
    "Count intersititial nodes (primes)."
   ]
  },
  {
   "cell_type": "code",
   "execution_count": 14,
   "metadata": {},
   "outputs": [],
   "source": [
    "artifacts[\"interstitial_nodes\"] = artifacts.node_count - artifacts[[\"C\", \"E\", \"S\"]].sum(\n",
    "    axis=1\n",
    ")"
   ]
  },
  {
   "cell_type": "markdown",
   "metadata": {},
   "source": [
    "Define the type label."
   ]
  },
  {
   "cell_type": "code",
   "execution_count": 15,
   "metadata": {},
   "outputs": [],
   "source": [
    "ces_type = []\n",
    "for x in artifacts[[\"node_count\", \"C\", \"E\", \"S\"]].itertuples():\n",
    "    ces_type.append(f\"{x.node_count}{'C' * x.C}{'E' * x.E}{'S' * x.S}\")\n",
    "artifacts[\"ces_type\"] = ces_type"
   ]
  },
  {
   "cell_type": "markdown",
   "metadata": {},
   "source": [
    "Count the frequency of types."
   ]
  },
  {
   "cell_type": "code",
   "execution_count": 16,
   "metadata": {},
   "outputs": [
    {
     "data": {
      "text/plain": [
       "ces_type\n",
       "3CES     19.3\n",
       "2CS      16.5\n",
       "1E       13.1\n",
       "1S        5.0\n",
       "3CEE      3.8\n",
       "         ... \n",
       "5EEE      0.1\n",
       "4CCEE     0.1\n",
       "7S        0.1\n",
       "4ES       0.1\n",
       "8CS       0.1\n",
       "Name: count, Length: 63, dtype: float64"
      ]
     },
     "execution_count": 16,
     "metadata": {},
     "output_type": "execute_result"
    }
   ],
   "source": [
    "(artifacts.ces_type.value_counts() / len(artifacts) * 100).round(1)"
   ]
  },
  {
   "cell_type": "markdown",
   "metadata": {},
   "source": [
    "Filter one type."
   ]
  },
  {
   "cell_type": "code",
   "execution_count": 17,
   "metadata": {},
   "outputs": [
    {
     "data": {
      "text/html": [
       "<div>\n",
       "<style scoped>\n",
       "    .dataframe tbody tr th:only-of-type {\n",
       "        vertical-align: middle;\n",
       "    }\n",
       "\n",
       "    .dataframe tbody tr th {\n",
       "        vertical-align: top;\n",
       "    }\n",
       "\n",
       "    .dataframe thead th {\n",
       "        text-align: right;\n",
       "    }\n",
       "</style>\n",
       "<table border=\"1\" class=\"dataframe\">\n",
       "  <thead>\n",
       "    <tr style=\"text-align: right;\">\n",
       "      <th></th>\n",
       "      <th>geometry</th>\n",
       "      <th>face_artifact_index</th>\n",
       "      <th>id</th>\n",
       "      <th>node_count</th>\n",
       "      <th>stroke_count</th>\n",
       "      <th>C</th>\n",
       "      <th>E</th>\n",
       "      <th>S</th>\n",
       "      <th>non_planar</th>\n",
       "      <th>interstitial_nodes</th>\n",
       "      <th>ces_type</th>\n",
       "    </tr>\n",
       "  </thead>\n",
       "  <tbody>\n",
       "    <tr>\n",
       "      <th>1737</th>\n",
       "      <td>POLYGON ((681763.761 5606905.298, 681764.734 5...</td>\n",
       "      <td>2.843663</td>\n",
       "      <td>1737</td>\n",
       "      <td>3</td>\n",
       "      <td>2</td>\n",
       "      <td>2</td>\n",
       "      <td>0</td>\n",
       "      <td>0</td>\n",
       "      <td>False</td>\n",
       "      <td>1</td>\n",
       "      <td>3CC</td>\n",
       "    </tr>\n",
       "  </tbody>\n",
       "</table>\n",
       "</div>"
      ],
      "text/plain": [
       "                                               geometry  face_artifact_index  \\\n",
       "1737  POLYGON ((681763.761 5606905.298, 681764.734 5...             2.843663   \n",
       "\n",
       "        id  node_count  stroke_count  C  E  S  non_planar  interstitial_nodes  \\\n",
       "1737  1737           3             2  2  0  0       False                   1   \n",
       "\n",
       "     ces_type  \n",
       "1737      3CC  "
      ]
     },
     "execution_count": 17,
     "metadata": {},
     "output_type": "execute_result"
    }
   ],
   "source": [
    "artifacts[artifacts.ces_type == \"3CC\"]"
   ]
  },
  {
   "cell_type": "markdown",
   "metadata": {},
   "source": [
    "Explore typology."
   ]
  },
  {
   "cell_type": "code",
   "execution_count": 18,
   "metadata": {},
   "outputs": [],
   "source": [
    "# m = roads.explore(\n",
    "#     \"coins_len\",\n",
    "#     k=20,\n",
    "#     scheme=\"quantiles\",\n",
    "#     tiles=\"cartodb positron\",\n",
    "#     prefer_canvas=True,\n",
    "#     name=\"Roads\",\n",
    "#     highlight_kwds={\"color\": \"red\"},\n",
    "#     style_kwds=dict(weight=5),\n",
    "#     max_zoom=52,\n",
    "#     opacity=0.5,\n",
    "# )\n",
    "# artifacts[artifacts.ces_type == \"3CC\"].explore(m=m, name=\"Artifacts\", color=\"red\")\n",
    "# nodes.explore(m=m, name=\"Nodes\", color=\"blue\", marker_size=250)\n",
    "# folium.LayerControl().add_to(m)\n",
    "# plugins.MousePosition().add_to(m)\n",
    "\n",
    "# m"
   ]
  },
  {
   "cell_type": "markdown",
   "metadata": {},
   "source": [
    "TODO - 3CC plananrity checks"
   ]
  },
  {
   "cell_type": "code",
   "execution_count": null,
   "metadata": {},
   "outputs": [],
   "source": []
  },
  {
   "cell_type": "markdown",
   "metadata": {},
   "source": [
    "Define placeholders for generic functions fixing the issues."
   ]
  },
  {
   "cell_type": "code",
   "execution_count": 19,
   "metadata": {},
   "outputs": [],
   "source": [
    "def n1_g1_identical(edges, *, to_drop):\n",
    "    \"\"\"If there is only 1 continuity group {C, E, S} and only 1 node\n",
    "\n",
    "    - drop the edge\n",
    "\n",
    "    TODO: Maybe generate dead-end to centroid; check elongation and conditionally apply\n",
    "    dead end solution (possibly hausdorff point approximation by cutting linestring in\n",
    "    2; convex hull thingy)\n",
    "\n",
    "    Parameters\n",
    "    ----------\n",
    "    edges : GeoDataFrame\n",
    "        geometries forming the artifact\n",
    "    to_drop : list\n",
    "        list collecting geometries to be dropped\n",
    "    \"\"\"\n",
    "    to_drop.append(edges.index[0])\n",
    "\n",
    "\n",
    "def nx_gx_identical(edges, *, geom, to_drop, to_add, nodes):\n",
    "    \"\"\"If there are  1+ identical continuity groups, and more than 1 node (n>=2)\n",
    "\n",
    "    - drop all of them and link the entry points to the centroid\n",
    "\n",
    "    TODO: ensure all is within the artifact; proportionally to area and perimeter create\n",
    "    some elongation rule and skeletonize (when there are 2 or 3 nodes we can always do\n",
    "    it)\n",
    "\n",
    "    Parameters\n",
    "    ----------\n",
    "    edges : GeoDataFrame\n",
    "        geometries forming the artifact\n",
    "    geom : shapely.Polygon\n",
    "        polygonal representation of the artifact\n",
    "    to_drop : list\n",
    "        list collecting geometries to be dropped\n",
    "    to_add : list\n",
    "        list collecting geometries to be added\n",
    "    nodes : GeoSeries\n",
    "        nodes forming the artifact\n",
    "    \"\"\"\n",
    "    centroid = geom.centroid\n",
    "    relevant_nodes = nodes.iloc[nodes.sindex.query(geom, predicate=\"intersects\")]\n",
    "\n",
    "    to_drop.extend(edges.index.to_list())\n",
    "    to_add.extend(shapely.shortest_line(relevant_nodes, centroid).to_list())\n",
    "\n",
    "\n",
    "def nx_gx(edges, *, artifact, to_drop, to_add, split_points, nodes, distance=2):\n",
    "    \"\"\"\n",
    "    Drop all but highest hierarchy. If there are unconnected nodes after drop, connect\n",
    "    to nearest remaining edge or nearest intersection if there are more remaining edges.\n",
    "    If there three or more of the highest hierarchy, use roundabout solution.\n",
    "\n",
    "    If, after dropping, we end up with more than one connected components based on\n",
    "    remaining edges, create a connection either as a shortest line between the two or\n",
    "    using skeleton if that is not inside or there are 3 or more components.\n",
    "\n",
    "    Connection point should ideally be an existing nearest node with degree 4 or above.\n",
    "    \"\"\"\n",
    "\n",
    "    # filter ends\n",
    "    all_ends = edges[edges.coins_end]\n",
    "\n",
    "    # determine if we have C present or not. Based on that, ensure that we correctly pick-up\n",
    "    # the highest hierarchy and drop all lower\n",
    "    if artifact.C > 0:\n",
    "        # define mask for E and S strokes\n",
    "        es_mask = edges.coins_group.isin(all_ends.coins_group)\n",
    "        # filter Cs\n",
    "        highest_hierarchy = edges[~es_mask]\n",
    "    else:\n",
    "        singles = set()\n",
    "        visited = []\n",
    "        for coins_count, group in zip(\n",
    "            all_ends.coins_count, all_ends.coins_group, strict=True\n",
    "        ):\n",
    "            if (group not in visited) and (\n",
    "                coins_count == (edges.coins_group == group).sum()\n",
    "            ):\n",
    "                singles.add(group)\n",
    "                visited.append(group)\n",
    "        # filter ends\n",
    "        all_ends = edges[edges.coins_group.isin(singles)]\n",
    "        # define mask for E and S strokes\n",
    "        es_mask = edges.coins_group.isin(all_ends.coins_group)\n",
    "        # filter Cs\n",
    "        highest_hierarchy = edges[~es_mask]\n",
    "\n",
    "    # get nodes forming the artifact\n",
    "    relevant_nodes = nodes.iloc[\n",
    "        nodes.sindex.query(artifact.geometry, predicate=\"dwithin\", distance=1e-6)\n",
    "    ]\n",
    "    # filter nodes that lie on Cs (possibly primes)\n",
    "    nodes_on_cont = relevant_nodes.index[\n",
    "        relevant_nodes.sindex.query(\n",
    "            highest_hierarchy.geometry.union_all(), predicate=\"dwithin\", distance=1e-6\n",
    "        )\n",
    "    ]\n",
    "    # get nodes that are not on Cs\n",
    "    remaining_nodes = relevant_nodes.drop(nodes_on_cont)\n",
    "\n",
    "    # get all remaining geometries and determine if they are all connected or new\n",
    "    # connections need to happen\n",
    "    remaining_geoms = pd.concat([remaining_nodes.geometry, highest_hierarchy.geometry])\n",
    "    heads_ix, tails_ix = remaining_geoms.sindex.query(\n",
    "        remaining_geoms, predicate=\"intersects\"\n",
    "    )\n",
    "    n_comps = graph.Graph.from_arrays(heads_ix, tails_ix, 1).n_components\n",
    "\n",
    "    # add list of existing edges to be removed from the network\n",
    "    to_drop.extend(edges[es_mask].index.tolist())\n",
    "\n",
    "    # more than one component in the remaining geometries\n",
    "    # (either highest_hierarchy or remaining nodes)\n",
    "    if n_comps > 1:\n",
    "        print(\"CONDITION n_comps > 1 True\")\n",
    "\n",
    "        # get nodes that are relevant snapping targets (degree 4+)\n",
    "        relevant_targets = relevant_nodes.loc[nodes_on_cont].query(\"degree > 3\")\n",
    "\n",
    "        cont_comp_labels = graph.Graph.build_contiguity(\n",
    "            highest_hierarchy, rook=False\n",
    "        ).component_labels\n",
    "        conts_groups = highest_hierarchy.dissolve(cont_comp_labels)\n",
    "\n",
    "        # BRANCH 1 - multiple Cs\n",
    "        if len(highest_hierarchy) > 1:\n",
    "            print(\"CONDITION len(highest_hierarchy) > 1 True\")\n",
    "\n",
    "            # Get nodes on Cs\n",
    "            bd_points = highest_hierarchy.boundary.explode()\n",
    "            # Identify nodes on primes\n",
    "            primes = bd_points[bd_points.duplicated()]\n",
    "\n",
    "            # For CCSS we need a special case solution if the lenght of S is significantly\n",
    "            # shorter than the lenght of C. In that case, Voronoi does not create shortest\n",
    "            # connections but a line that is parallel to Cs.\n",
    "            if (\n",
    "                highest_hierarchy.coins_group.nunique() == 2\n",
    "                and artifact.S == 2\n",
    "                and (highest_hierarchy.length.sum() > all_ends.length.sum())\n",
    "            ):\n",
    "                print(\"CONDITION for CCSS special case True\")\n",
    "\n",
    "                # this also appends to split_points\n",
    "                new_connections = algorithms.simplify.ccss_special_case(\n",
    "                    primes,\n",
    "                    conts_groups,\n",
    "                    highest_hierarchy,\n",
    "                    relevant_nodes,\n",
    "                    split_points,\n",
    "                )\n",
    "\n",
    "            else:\n",
    "                print(\"CONDITION for CCSS special case False\")\n",
    "\n",
    "                # Get new connections via skeleton\n",
    "                new_connections, splitters = voronoi_skeleton(\n",
    "                    edges.geometry,  # use all edges as an input\n",
    "                    poly=artifact.geometry,\n",
    "                    snap_to=relevant_targets.geometry,  # snap to nodes\n",
    "                    distance=distance,\n",
    "                    # buffer = highest_hierarchy.length.sum() * 1.2\n",
    "                )\n",
    "                split_points.extend(splitters)\n",
    "\n",
    "                # The skeleton returns connections to all the nodes. We need to keep only\n",
    "                # some, if there are multiple connections to a single C. We don't touch\n",
    "                # the other.\n",
    "\n",
    "                (\n",
    "                    new_connections,\n",
    "                    connections_intersecting_c,\n",
    "                    connections_intersecting_primes,\n",
    "                ) = algorithms.simplify.filter_connections(\n",
    "                    primes, conts_groups, new_connections\n",
    "                )\n",
    "\n",
    "                # mutliple Cs that are not intersecting. Avoid forks on the ends of Voronoi. If\n",
    "                # one goes to relevant node, keep it. If not, remove both and replace with\n",
    "                # a new shortest connection\n",
    "                if (\n",
    "                    len(connections_intersecting_c) > 1\n",
    "                    and len(connections_intersecting_primes) == 0\n",
    "                ):\n",
    "                    # this also appends to split_points\n",
    "                    new_connections = algorithms.simplify.avoid_forks(\n",
    "                        highest_hierarchy,\n",
    "                        new_connections,\n",
    "                        relevant_targets,\n",
    "                        artifact,\n",
    "                        split_points,\n",
    "                    )\n",
    "\n",
    "                # check for disconnected Cs and reconnect\n",
    "                new_connections = algorithms.simplify.reconnect(\n",
    "                    conts_groups, new_connections, artifact, split_points\n",
    "                )\n",
    "\n",
    "                # the drop above could've introduced a dangling edges. Remove those.\n",
    "                new_connections = algorithms.simplify.remove_dangles(\n",
    "                    new_connections, artifact\n",
    "                )\n",
    "\n",
    "        # BRANCH 2 - relevant node targets exist\n",
    "        elif relevant_targets.shape[0] > 0:\n",
    "            print(\"CONDITION relevant_targets.shape[0] > 0 True\")\n",
    "\n",
    "            # SUB BRANCH - only one remaining node\n",
    "            if remaining_nodes.shape[0] < 2:\n",
    "                print(\"CONDITION remaining_nodes.shape[0] < 2 True\")\n",
    "\n",
    "                # this also appends to split_points\n",
    "                new_connections = algorithms.simplify.one_remaining(\n",
    "                    relevant_targets,\n",
    "                    remaining_nodes,\n",
    "                    artifact,\n",
    "                    edges,\n",
    "                    es_mask,\n",
    "                    distance,\n",
    "                    split_points,\n",
    "                )\n",
    "\n",
    "            # SUB BRANCH - more than one remaining node\n",
    "            else:\n",
    "                print(\"CONDITION remaining_nodes.shape[0] < 2 False\")\n",
    "\n",
    "                # this also appends to split_points\n",
    "                new_connections = algorithms.simplify.multiple_remaining(\n",
    "                    edges,\n",
    "                    es_mask,\n",
    "                    artifact,\n",
    "                    distance,\n",
    "                    highest_hierarchy,\n",
    "                    split_points,\n",
    "                    relevant_targets.geometry,\n",
    "                )\n",
    "\n",
    "        # BRANCH 3 - no target nodes - snapping to C\n",
    "        else:\n",
    "            print(\"CONDITION relevant_targets.shape[0] > 0 False, snapping to C\")\n",
    "\n",
    "            # SUB BRANCH - only one remaining node\n",
    "            if remaining_nodes.shape[0] < 2:\n",
    "                print(\"CONDITION remaining_nodes.shape[0] < 2 True\")\n",
    "\n",
    "                # this also appends to split_points\n",
    "                new_connections = algorithms.simplify.one_remaining_c(\n",
    "                    remaining_nodes,\n",
    "                    highest_hierarchy,\n",
    "                    artifact,\n",
    "                    edges,\n",
    "                    es_mask,\n",
    "                    distance,\n",
    "                    split_points,\n",
    "                )\n",
    "\n",
    "            # SUB BRANCH - more than one remaining node\n",
    "            else:\n",
    "                print(\"CONDITION remaining_nodes.shape[0] < 2 False\")\n",
    "\n",
    "                # this also appends to split_points\n",
    "                new_connections = algorithms.simplify.multiple_remaining(\n",
    "                    edges,\n",
    "                    es_mask,\n",
    "                    artifact,\n",
    "                    distance,\n",
    "                    highest_hierarchy,\n",
    "                    split_points,\n",
    "                    highest_hierarchy.dissolve(\"coins_group\").geometry,\n",
    "                )\n",
    "\n",
    "            new_connections = algorithms.simplify.reconnect(\n",
    "                conts_groups, new_connections, artifact, split_points\n",
    "            )\n",
    "\n",
    "        # add new connections to a list of features to be added to the network\n",
    "        to_add.extend(list(new_connections))\n",
    "\n",
    "    # there may be loops or half-loops we are dropping. If they are protruding enough\n",
    "    # we want to replace them by a deadend representing their space\n",
    "    elif artifact.C == 1 and (artifact.E + artifact.S) == 1:\n",
    "        print(\"CONDITION is_loop True\")\n",
    "\n",
    "        dangles = algorithms.simplify.loop(\n",
    "            edges, es_mask, highest_hierarchy, artifact, distance, split_points\n",
    "        )\n",
    "        if len(dangles) > 0:\n",
    "            to_add.extend(dangles)"
   ]
  },
  {
   "cell_type": "markdown",
   "metadata": {},
   "source": [
    "## To-do:\n",
    "\n",
    "- Post-processing step snapping nearby nodes together. In case of clusters, do that iteratively.\n"
   ]
  },
  {
   "cell_type": "markdown",
   "metadata": {},
   "source": [
    "## WIP\n",
    "\n",
    "Section below is dev code which will likely significantly change."
   ]
  },
  {
   "cell_type": "markdown",
   "metadata": {},
   "source": [
    "`highest_hierarchy == \"C\"`"
   ]
  },
  {
   "cell_type": "code",
   "execution_count": 20,
   "metadata": {},
   "outputs": [],
   "source": [
    "data_sample = artifacts[(artifacts.C > 0) & ((artifacts.E + artifacts.S) > 0)].sample(\n",
    "    50\n",
    ")\n",
    "data_sample = artifacts.loc[[2818]]"
   ]
  },
  {
   "cell_type": "markdown",
   "metadata": {},
   "source": [
    "Below is a draft of the `nx_gx` function."
   ]
  },
  {
   "cell_type": "code",
   "execution_count": 21,
   "metadata": {},
   "outputs": [
    {
     "name": "stdout",
     "output_type": "stream",
     "text": [
      "2818\n",
      "CONDITION n_comps > 1 True\n",
      "CONDITION len(highest_hierarchy) > 1 True\n",
      "CONDITION for CCSS special case True\n"
     ]
    }
   ],
   "source": [
    "distance = 2\n",
    "# collect changes\n",
    "to_drop = []\n",
    "to_add = []\n",
    "split_points = []\n",
    "\n",
    "for artifact in data_sample.itertuples():\n",
    "    print(artifact.Index)\n",
    "\n",
    "    # get edges relevant for an artifact\n",
    "    edges = roads.iloc[roads.sindex.query(artifact.geometry, predicate=\"covers\")]\n",
    "\n",
    "    nx_gx(\n",
    "        edges,\n",
    "        artifact=artifact,\n",
    "        to_drop=to_drop,\n",
    "        to_add=to_add,\n",
    "        split_points=split_points,\n",
    "        nodes=nodes,\n",
    "        distance=distance,\n",
    "    )\n",
    "\n",
    "\n",
    "cleaned_roads = roads.geometry.drop(to_drop)\n",
    "# split lines on new nodes\n",
    "cleaned_roads = algorithms.simplify.split(split_points, cleaned_roads, roads)\n",
    "\n",
    "# create new roads with fixed geometry. Note that to_add and to_drop lists shall be\n",
    "# global and this step should happen only once, not for every artifact\n",
    "new_roads = pd.concat(\n",
    "    [\n",
    "        cleaned_roads,\n",
    "        gpd.GeoSeries(to_add, crs=roads.crs).line_merge().simplify(distance),\n",
    "    ],\n",
    "    ignore_index=True,\n",
    ")\n",
    "new_roads = momepy.remove_false_nodes(new_roads[~new_roads.is_empty])"
   ]
  },
  {
   "cell_type": "code",
   "execution_count": 22,
   "metadata": {},
   "outputs": [],
   "source": [
    "artifact = artifacts.loc[2818]"
   ]
  },
  {
   "cell_type": "code",
   "execution_count": 23,
   "metadata": {},
   "outputs": [
    {
     "data": {
      "image/png": "[encoded data removed]",
      "text/plain": [
       "<Figure size 1600x800 with 3 Axes>"
      ]
     },
     "metadata": {},
     "output_type": "display_data"
    }
   ],
   "source": [
    "# for artifact in data_sample.itertuples():\n",
    "#     print(artifact.Index)\n",
    "# plot the results for visual verification\n",
    "fig, axs = plt.subplots(1, 3, figsize=(16, 8))\n",
    "geom = artifact.geometry\n",
    "# geom.plot(hatch=\"//\", ax=axs[0], color=\"none\")\n",
    "roads.clip(geom.buffer(50)).plot(\"coins_group\", ax=axs[0], categorical=True)\n",
    "# geom.plot(hatch=\"//\", ax=axs[1], color=\"none\")\n",
    "roads.clip(geom.buffer(50)).plot(\"coins_end\", ax=axs[1], categorical=True, legend=True)\n",
    "new_roads.clip(geom.buffer(50)).plot(ax=axs[2], zorder=2, cmap=\"tab20\")\n",
    "roads.clip(geom.buffer(50)).plot(\n",
    "    color=\"red\",\n",
    "    ax=axs[2],\n",
    "    # categorical=True,\n",
    "    # legend=True,\n",
    "    linewidth=0.1,\n",
    ")\n",
    "plt.show()"
   ]
  }
 ],
 "metadata": {
  "kernelspec": {
   "display_name": "simplification",
   "language": "python",
   "name": "python3"
  },
  "language_info": {
   "codemirror_mode": {
    "name": "ipython",
    "version": 3
   },
   "file_extension": ".py",
   "mimetype": "text/x-python",
   "name": "python",
   "nbconvert_exporter": "python",
   "pygments_lexer": "ipython3",
   "version": "3.11.9"
  }
 },
 "nbformat": 4,
 "nbformat_minor": 2
}
