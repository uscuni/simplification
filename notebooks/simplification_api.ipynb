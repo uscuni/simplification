{
 "cells": [
  {
   "cell_type": "markdown",
   "metadata": {},
   "source": [
    "# Simplification API\n",
    "\n",
    "Ideal API of the simplification, all wrapped to a single function."
   ]
  },
  {
   "cell_type": "code",
   "execution_count": 1,
   "metadata": {},
   "outputs": [],
   "source": [
    "import logging\n",
    "import warnings\n",
    "\n",
    "import folium\n",
    "\n",
    "from core import algorithms, utils\n"
   ]
  },
  {
   "cell_type": "markdown",
   "metadata": {},
   "source": [
    "Filter out the RuntimeWarning showing on Apple Silicon."
   ]
  },
  {
   "cell_type": "code",
   "execution_count": 2,
   "metadata": {},
   "outputs": [],
   "source": [
    "warnings.filterwarnings(\n",
    "    \"ignore\",\n",
    "    category=RuntimeWarning,\n",
    "    message=\"invalid value encountered in intersection\",\n",
    ")"
   ]
  },
  {
   "cell_type": "markdown",
   "metadata": {},
   "source": [
    "Set logging level to debug to see the debugging messages."
   ]
  },
  {
   "cell_type": "code",
   "execution_count": 3,
   "metadata": {},
   "outputs": [],
   "source": [
    "# # Get the logger for core.algorithms.simplify\n",
    "# logger = logging.getLogger('core.algorithms.simplify')\n",
    "# logger.setLevel(logging.DEBUG)\n",
    "\n",
    "# # Set the logging format\n",
    "# formatter = logging.Formatter('%(asctime)s - %(name)s - %(levelname)s - %(message)s')\n",
    "\n",
    "# # Create a handler for the logger\n",
    "# handler = logging.StreamHandler()\n",
    "# handler.setLevel(logging.DEBUG)\n",
    "# handler.setFormatter(formatter)\n",
    "\n",
    "# # Add the handler to the logger\n",
    "# logger.addHandler(handler)"
   ]
  },
  {
   "cell_type": "markdown",
   "metadata": {},
   "source": [
    "Specify case metadata"
   ]
  },
  {
   "cell_type": "code",
   "execution_count": 4,
   "metadata": {},
   "outputs": [],
   "source": [
    "case = \"Liège\""
   ]
  },
  {
   "cell_type": "markdown",
   "metadata": {},
   "source": [
    "Read road data"
   ]
  },
  {
   "cell_type": "code",
   "execution_count": 5,
   "metadata": {},
   "outputs": [],
   "source": [
    "roads = utils.read_no_degree_2(case)"
   ]
  },
  {
   "cell_type": "markdown",
   "metadata": {},
   "source": [
    "Simplify network"
   ]
  },
  {
   "cell_type": "code",
   "execution_count": 6,
   "metadata": {},
   "outputs": [
    {
     "name": "stderr",
     "output_type": "stream",
     "text": [
      "/Users/martin/Git/simplification/core/algorithms/simplify.py:92: FutureWarning: The behavior of array concatenation with empty entries is deprecated. In a future version, this will no longer exclude empty items when determining the result dtype. To retain the old behavior, exclude the empty entries before the concat operation.\n",
      "  targets = pd.concat([primes.geometry, relevant_targets.geometry])\n",
      "/Users/martin/Git/simplification/core/algorithms/simplify.py:92: FutureWarning: The behavior of array concatenation with empty entries is deprecated. In a future version, this will no longer exclude empty items when determining the result dtype. To retain the old behavior, exclude the empty entries before the concat operation.\n",
      "  targets = pd.concat([primes.geometry, relevant_targets.geometry])\n",
      "/Users/martin/Git/simplification/core/algorithms/simplify.py:92: FutureWarning: The behavior of array concatenation with empty entries is deprecated. In a future version, this will no longer exclude empty items when determining the result dtype. To retain the old behavior, exclude the empty entries before the concat operation.\n",
      "  targets = pd.concat([primes.geometry, relevant_targets.geometry])\n",
      "/Users/martin/Git/simplification/core/algorithms/simplify.py:1390: UserWarning: No threshold found. Either your dataset it too small or the distribution of the face artifact index does not follow the expected shape.\n",
      "  fas = momepy.FaceArtifacts(roads)\n"
     ]
    }
   ],
   "source": [
    "new_roads = algorithms.simplify.simplify_network(roads)"
   ]
  },
  {
   "cell_type": "markdown",
   "metadata": {},
   "source": [
    "Visualise"
   ]
  },
  {
   "cell_type": "code",
   "execution_count": null,
   "metadata": {},
   "outputs": [],
   "source": [
    "m = roads.explore(max_zoom=52, tiles=\"cartodb positron\", color=\"black\", prefer_canvas=True)\n",
    "m = new_roads.explore(m=m)\n",
    "folium.LayerControl().add_to(m)\n",
    "m"
   ]
  }
 ],
 "metadata": {
  "kernelspec": {
   "display_name": "simplification",
   "language": "python",
   "name": "python3"
  },
  "language_info": {
   "codemirror_mode": {
    "name": "ipython",
    "version": 3
   },
   "file_extension": ".py",
   "mimetype": "text/x-python",
   "name": "python",
   "nbconvert_exporter": "python",
   "pygments_lexer": "ipython3",
   "version": "3.11.9"
  }
 },
 "nbformat": 4,
 "nbformat_minor": 2
}
