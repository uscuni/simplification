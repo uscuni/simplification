{
 "cells": [
  {
   "cell_type": "markdown",
   "id": "07bfd607-b784-4fa9-a706-60084383e81a",
   "metadata": {},
   "source": [
    "# Exploring simplification with [`cityseer`](https://github.com/benchmark-urbanism/cityseer-api)\n",
    "\n",
    "* **Simons, G.** (2023). *The cityseer Python package for pedestrian-scale network-based urban analysis*. Environment and Planning B: Urban Analytics and City Science, 50(5), 1328-1344. https://doi.org/10.1177/23998083221133827\n",
    "* Relevant demos in `cityseer`\n",
    "  * [`graph_cleaning.ipynb`](https://github.com/benchmark-urbanism/cityseer-examples/blob/main/notebooks/graph_cleaning.ipynb)\n",
    "  * [`graph_corrections.ipynb`](https://github.com/benchmark-urbanism/cityseer-examples/blob/main/notebooks/graph_corrections.ipynb) \n",
    "\n",
    "-----------------\n",
    "\n",
    "1. Setup\n",
    "2. Prep work\n",
    "3. Examinging simplification routine\n",
    "4. Initial vs. Final\n",
    "5. ...\n",
    "6. Other stuff\n",
    "7. ...\n",
    "\n",
    "-----------------\n",
    "\n",
    "## 1. Setup"
   ]
  },
  {
   "cell_type": "code",
   "execution_count": 1,
   "id": "571e1dd3-ce27-4c26-a199-30da6e77ebb8",
   "metadata": {
    "execution": {
     "iopub.execute_input": "2024-03-10T21:37:04.803862Z",
     "iopub.status.busy": "2024-03-10T21:37:04.803360Z",
     "iopub.status.idle": "2024-03-10T21:37:04.839016Z",
     "shell.execute_reply": "2024-03-10T21:37:04.838370Z",
     "shell.execute_reply.started": "2024-03-10T21:37:04.803834Z"
    }
   },
   "outputs": [
    {
     "name": "stdout",
     "output_type": "stream",
     "text": [
      "Last updated: 2024-03-10T17:37:04.825229-04:00\n",
      "\n",
      "Python implementation: CPython\n",
      "Python version       : 3.12.2\n",
      "IPython version      : 8.22.2\n",
      "\n",
      "Compiler    : Clang 16.0.6 \n",
      "OS          : Darwin\n",
      "Release     : 23.4.0\n",
      "Machine     : x86_64\n",
      "Processor   : i386\n",
      "CPU cores   : 8\n",
      "Architecture: 64bit\n",
      "\n"
     ]
    }
   ],
   "source": [
    "%load_ext watermark\n",
    "%watermark"
   ]
  },
  {
   "cell_type": "code",
   "execution_count": 2,
   "id": "f4ec78c3-cc55-4c1d-aef0-ed33b44b98b5",
   "metadata": {
    "execution": {
     "iopub.execute_input": "2024-03-10T21:37:04.840455Z",
     "iopub.status.busy": "2024-03-10T21:37:04.839933Z",
     "iopub.status.idle": "2024-03-10T21:37:10.098516Z",
     "shell.execute_reply": "2024-03-10T21:37:10.097846Z",
     "shell.execute_reply.started": "2024-03-10T21:37:04.840425Z"
    }
   },
   "outputs": [
    {
     "name": "stdout",
     "output_type": "stream",
     "text": [
      "Watermark: 2.4.3\n",
      "\n",
      "cityseer : 4.11.1\n",
      "networkx : 3.2.1\n",
      "geopandas: 0.14.3\n",
      "momepy   : 0.7.1.dev22+g9f98387\n",
      "\n"
     ]
    }
   ],
   "source": [
    "import pathlib\n",
    "\n",
    "import cityseer\n",
    "import geopandas\n",
    "import momepy\n",
    "import networkx\n",
    "\n",
    "from cityseer.tools import graphs, plot, io\n",
    "\n",
    "%watermark -w\n",
    "%watermark -iv"
   ]
  },
  {
   "cell_type": "code",
   "execution_count": 3,
   "id": "aa854a9f-fb77-4d07-8c5b-464a4efb1bef",
   "metadata": {
    "execution": {
     "iopub.execute_input": "2024-03-10T21:37:10.100637Z",
     "iopub.status.busy": "2024-03-10T21:37:10.100006Z",
     "iopub.status.idle": "2024-03-10T21:37:10.104115Z",
     "shell.execute_reply": "2024-03-10T21:37:10.103168Z",
     "shell.execute_reply.started": "2024-03-10T21:37:10.100604Z"
    }
   },
   "outputs": [],
   "source": [
    "ddir = pathlib.Path(\"..\", \"data\")\n",
    "parq = \"parquet\"\n",
    "samp_parq = ddir / f\"sample.{parq}\""
   ]
  },
  {
   "cell_type": "code",
   "execution_count": 4,
   "id": "38239f07-54cd-4e75-b679-ddcb4cba8192",
   "metadata": {
    "execution": {
     "iopub.execute_input": "2024-03-10T21:37:10.106128Z",
     "iopub.status.busy": "2024-03-10T21:37:10.105689Z",
     "iopub.status.idle": "2024-03-10T21:37:10.311639Z",
     "shell.execute_reply": "2024-03-10T21:37:10.310961Z",
     "shell.execute_reply.started": "2024-03-10T21:37:10.106105Z"
    }
   },
   "outputs": [
    {
     "data": {
      "text/html": [
       "<div>\n",
       "<style scoped>\n",
       "    .dataframe tbody tr th:only-of-type {\n",
       "        vertical-align: middle;\n",
       "    }\n",
       "\n",
       "    .dataframe tbody tr th {\n",
       "        vertical-align: top;\n",
       "    }\n",
       "\n",
       "    .dataframe thead th {\n",
       "        text-align: right;\n",
       "    }\n",
       "</style>\n",
       "<table border=\"1\" class=\"dataframe\">\n",
       "  <thead>\n",
       "    <tr style=\"text-align: right;\">\n",
       "      <th></th>\n",
       "      <th>eFUA_ID</th>\n",
       "      <th>UC_num</th>\n",
       "      <th>UC_IDs</th>\n",
       "      <th>eFUA_name</th>\n",
       "      <th>Commuting</th>\n",
       "      <th>Cntry_ISO</th>\n",
       "      <th>Cntry_name</th>\n",
       "      <th>FUA_area</th>\n",
       "      <th>UC_area</th>\n",
       "      <th>FUA_p_2015</th>\n",
       "      <th>UC_p_2015</th>\n",
       "      <th>Com_p_2015</th>\n",
       "      <th>geometry</th>\n",
       "      <th>continent</th>\n",
       "      <th>iso_a3</th>\n",
       "    </tr>\n",
       "  </thead>\n",
       "  <tbody>\n",
       "    <tr>\n",
       "      <th>305</th>\n",
       "      <td>9129.0</td>\n",
       "      <td>1.0</td>\n",
       "      <td>8078</td>\n",
       "      <td>Gonda</td>\n",
       "      <td>1.0</td>\n",
       "      <td>IND</td>\n",
       "      <td>India</td>\n",
       "      <td>66.0</td>\n",
       "      <td>29.0</td>\n",
       "      <td>1.074100e+06</td>\n",
       "      <td>1.066419e+06</td>\n",
       "      <td>7680.678101</td>\n",
       "      <td>POLYGON ((81.98398 27.19657, 81.99471 27.19657...</td>\n",
       "      <td>Asia</td>\n",
       "      <td>IND</td>\n",
       "    </tr>\n",
       "    <tr>\n",
       "      <th>91</th>\n",
       "      <td>7578.0</td>\n",
       "      <td>6.0</td>\n",
       "      <td>10577;10581;10583;10596;10605;10607</td>\n",
       "      <td>Chongqing</td>\n",
       "      <td>1.0</td>\n",
       "      <td>CHN</td>\n",
       "      <td>China</td>\n",
       "      <td>2267.0</td>\n",
       "      <td>618.0</td>\n",
       "      <td>6.036834e+06</td>\n",
       "      <td>5.157726e+06</td>\n",
       "      <td>879107.861057</td>\n",
       "      <td>POLYGON ((106.23972 29.52328, 106.19622 29.523...</td>\n",
       "      <td>Asia</td>\n",
       "      <td>CHN</td>\n",
       "    </tr>\n",
       "  </tbody>\n",
       "</table>\n",
       "</div>"
      ],
      "text/plain": [
       "     eFUA_ID  UC_num                               UC_IDs  eFUA_name  \\\n",
       "305   9129.0     1.0                                 8078      Gonda   \n",
       "91    7578.0     6.0  10577;10581;10583;10596;10605;10607  Chongqing   \n",
       "\n",
       "     Commuting Cntry_ISO Cntry_name  FUA_area  UC_area    FUA_p_2015  \\\n",
       "305        1.0       IND      India      66.0     29.0  1.074100e+06   \n",
       "91         1.0       CHN      China    2267.0    618.0  6.036834e+06   \n",
       "\n",
       "        UC_p_2015     Com_p_2015  \\\n",
       "305  1.066419e+06    7680.678101   \n",
       "91   5.157726e+06  879107.861057   \n",
       "\n",
       "                                              geometry continent iso_a3  \n",
       "305  POLYGON ((81.98398 27.19657, 81.99471 27.19657...      Asia    IND  \n",
       "91   POLYGON ((106.23972 29.52328, 106.19622 29.523...      Asia    CHN  "
      ]
     },
     "execution_count": 4,
     "metadata": {},
     "output_type": "execute_result"
    }
   ],
   "source": [
    "sample = geopandas.read_parquet(samp_parq)\n",
    "sample.head(2)"
   ]
  },
  {
   "cell_type": "code",
   "execution_count": 5,
   "id": "afb006dd-8145-4310-ab2c-59257588612b",
   "metadata": {
    "execution": {
     "iopub.execute_input": "2024-03-10T21:37:10.313078Z",
     "iopub.status.busy": "2024-03-10T21:37:10.312697Z",
     "iopub.status.idle": "2024-03-10T21:37:10.317199Z",
     "shell.execute_reply": "2024-03-10T21:37:10.316141Z",
     "shell.execute_reply.started": "2024-03-10T21:37:10.313053Z"
    }
   },
   "outputs": [],
   "source": [
    "# dict of fua ID : cityname\n",
    "fua_city = {\n",
    "    1133: \"Aleppo\",\n",
    "    869: \"Auckland\",\n",
    "    4617: \"Bucaramanga\",\n",
    "    809: \"Douala\",\n",
    "    1656: \"Liège\",\n",
    "    4881: \"Salt Lake City\",\n",
    "}\n",
    "# dict of cityname: fua ID\n",
    "city_fua = {c: f for f, c in fua_city.items()}"
   ]
  },
  {
   "cell_type": "code",
   "execution_count": 6,
   "id": "87586716-6d67-4e04-9b01-ee7512d3050f",
   "metadata": {
    "execution": {
     "iopub.execute_input": "2024-03-10T21:37:10.320632Z",
     "iopub.status.busy": "2024-03-10T21:37:10.320351Z",
     "iopub.status.idle": "2024-03-10T21:37:10.324940Z",
     "shell.execute_reply": "2024-03-10T21:37:10.324224Z",
     "shell.execute_reply.started": "2024-03-10T21:37:10.320613Z"
    }
   },
   "outputs": [],
   "source": [
    "def read_parquet_roads(fua: int) -> geopandas.GeoDataFrame:\n",
    "    \"\"\"Read OSM roads from parquet format; return bare columns.\"\"\"\n",
    "    return (\n",
    "        geopandas\n",
    "        .read_parquet(pathlib.Path(ddir, f\"{fua}\", f\"roads_osm.{parq}\"))\n",
    "        [[\"highway\", \"geometry\"]]\n",
    "        .reset_index(drop=True)\n",
    "    )"
   ]
  },
  {
   "cell_type": "code",
   "execution_count": 7,
   "id": "c95660d6-f794-4720-b60c-4ab608f3e3cb",
   "metadata": {
    "execution": {
     "iopub.execute_input": "2024-03-10T21:37:10.326047Z",
     "iopub.status.busy": "2024-03-10T21:37:10.325842Z",
     "iopub.status.idle": "2024-03-10T21:37:10.431963Z",
     "shell.execute_reply": "2024-03-10T21:37:10.431289Z",
     "shell.execute_reply.started": "2024-03-10T21:37:10.326029Z"
    }
   },
   "outputs": [
    {
     "data": {
      "text/html": [
       "<div>\n",
       "<style scoped>\n",
       "    .dataframe tbody tr th:only-of-type {\n",
       "        vertical-align: middle;\n",
       "    }\n",
       "\n",
       "    .dataframe tbody tr th {\n",
       "        vertical-align: top;\n",
       "    }\n",
       "\n",
       "    .dataframe thead th {\n",
       "        text-align: right;\n",
       "    }\n",
       "</style>\n",
       "<table border=\"1\" class=\"dataframe\">\n",
       "  <thead>\n",
       "    <tr style=\"text-align: right;\">\n",
       "      <th></th>\n",
       "      <th>highway</th>\n",
       "      <th>geometry</th>\n",
       "    </tr>\n",
       "  </thead>\n",
       "  <tbody>\n",
       "    <tr>\n",
       "      <th>0</th>\n",
       "      <td>secondary</td>\n",
       "      <td>LINESTRING (567898.089 460085.416, 567990.584 ...</td>\n",
       "    </tr>\n",
       "    <tr>\n",
       "      <th>1</th>\n",
       "      <td>secondary</td>\n",
       "      <td>LINESTRING (568040.741 460032.632, 567990.584 ...</td>\n",
       "    </tr>\n",
       "    <tr>\n",
       "      <th>2</th>\n",
       "      <td>secondary</td>\n",
       "      <td>LINESTRING (567888.251 460090.250, 567898.089 ...</td>\n",
       "    </tr>\n",
       "    <tr>\n",
       "      <th>3</th>\n",
       "      <td>secondary</td>\n",
       "      <td>LINESTRING (568090.248 460024.822, 568040.741 ...</td>\n",
       "    </tr>\n",
       "    <tr>\n",
       "      <th>4</th>\n",
       "      <td>residential</td>\n",
       "      <td>LINESTRING (577195.321 445120.540, 577355.012 ...</td>\n",
       "    </tr>\n",
       "    <tr>\n",
       "      <th>...</th>\n",
       "      <td>...</td>\n",
       "      <td>...</td>\n",
       "    </tr>\n",
       "    <tr>\n",
       "      <th>88741</th>\n",
       "      <td>residential</td>\n",
       "      <td>LINESTRING (579972.197 441788.017, 579979.945 ...</td>\n",
       "    </tr>\n",
       "    <tr>\n",
       "      <th>88742</th>\n",
       "      <td>residential</td>\n",
       "      <td>LINESTRING (579969.509 441803.391, 579972.197 ...</td>\n",
       "    </tr>\n",
       "    <tr>\n",
       "      <th>88743</th>\n",
       "      <td>residential</td>\n",
       "      <td>LINESTRING (578848.451 446564.664, 578817.331 ...</td>\n",
       "    </tr>\n",
       "    <tr>\n",
       "      <th>88744</th>\n",
       "      <td>residential</td>\n",
       "      <td>LINESTRING (578849.949 446553.423, 578848.451 ...</td>\n",
       "    </tr>\n",
       "    <tr>\n",
       "      <th>88745</th>\n",
       "      <td>residential</td>\n",
       "      <td>LINESTRING (578848.035 446533.457, 578849.949 ...</td>\n",
       "    </tr>\n",
       "  </tbody>\n",
       "</table>\n",
       "<p>88746 rows × 2 columns</p>\n",
       "</div>"
      ],
      "text/plain": [
       "           highway                                           geometry\n",
       "0        secondary  LINESTRING (567898.089 460085.416, 567990.584 ...\n",
       "1        secondary  LINESTRING (568040.741 460032.632, 567990.584 ...\n",
       "2        secondary  LINESTRING (567888.251 460090.250, 567898.089 ...\n",
       "3        secondary  LINESTRING (568090.248 460024.822, 568040.741 ...\n",
       "4      residential  LINESTRING (577195.321 445120.540, 577355.012 ...\n",
       "...            ...                                                ...\n",
       "88741  residential  LINESTRING (579972.197 441788.017, 579979.945 ...\n",
       "88742  residential  LINESTRING (579969.509 441803.391, 579972.197 ...\n",
       "88743  residential  LINESTRING (578848.451 446564.664, 578817.331 ...\n",
       "88744  residential  LINESTRING (578849.949 446553.423, 578848.451 ...\n",
       "88745  residential  LINESTRING (578848.035 446533.457, 578849.949 ...\n",
       "\n",
       "[88746 rows x 2 columns]"
      ]
     },
     "execution_count": 7,
     "metadata": {},
     "output_type": "execute_result"
    }
   ],
   "source": [
    "#city = \"Liège\"\n",
    "city = \"Douala\"\n",
    "roads_bare = read_parquet_roads(city_fua[city])\n",
    "roads_bare"
   ]
  },
  {
   "cell_type": "markdown",
   "id": "3a108bcd-cc4c-4d61-9a4a-31315e2a59fc",
   "metadata": {},
   "source": [
    "--------------------------------\n",
    "\n",
    "## 2. Prep work\n",
    "\n",
    "### Converting to NetworkX object for ingestion into cityseer"
   ]
  },
  {
   "cell_type": "code",
   "execution_count": 8,
   "id": "3c658c84-3e1f-4462-baab-0063452b1b98",
   "metadata": {
    "execution": {
     "iopub.execute_input": "2024-03-10T21:37:10.433872Z",
     "iopub.status.busy": "2024-03-10T21:37:10.433403Z",
     "iopub.status.idle": "2024-03-10T21:37:10.439766Z",
     "shell.execute_reply": "2024-03-10T21:37:10.438165Z",
     "shell.execute_reply.started": "2024-03-10T21:37:10.433843Z"
    }
   },
   "outputs": [],
   "source": [
    "def graph_size(info: str, g: networkx.Graph) -> str:    \n",
    "    return f\"{info}\\n\\t* {g}\""
   ]
  },
  {
   "cell_type": "markdown",
   "id": "52580637-678d-4143-9b55-a12aa3f53e7e",
   "metadata": {},
   "source": [
    "#### Conversion within `momepy`"
   ]
  },
  {
   "cell_type": "code",
   "execution_count": 9,
   "id": "ff3d33d7-708c-4a65-8cb8-793fea03b91b",
   "metadata": {
    "execution": {
     "iopub.execute_input": "2024-03-10T21:37:10.444145Z",
     "iopub.status.busy": "2024-03-10T21:37:10.443692Z",
     "iopub.status.idle": "2024-03-10T21:37:14.590852Z",
     "shell.execute_reply": "2024-03-10T21:37:14.589988Z",
     "shell.execute_reply.started": "2024-03-10T21:37:10.444080Z"
    }
   },
   "outputs": [],
   "source": [
    "# G_nx_mm - \"networkx Graph process by momepy\"\n",
    "G_nx_mm = momepy.gdf_to_nx(roads_bare, integer_labels=True)"
   ]
  },
  {
   "cell_type": "markdown",
   "id": "7945b613-dcd7-40d5-834a-9f58fa19a0b9",
   "metadata": {},
   "source": [
    "#### Conversion within `cityseer`\n",
    "* [`io.nx_from_generic_geopandas()`](https://github.com/benchmark-urbanism/cityseer-api/blob/30c9e9bf9078b111a297e3aeab4034465444afee/pysrc/cityseer/tools/io.py#L1010)\n",
    "* Already performs an initial [`graph.nx_merge_parallel_edges()`](https://github.com/benchmark-urbanism/cityseer-api/blob/30c9e9bf9078b111a297e3aeab4034465444afee/pysrc/cityseer/tools/io.py#L1057)"
   ]
  },
  {
   "cell_type": "code",
   "execution_count": 10,
   "id": "353e7426-12bb-4e99-a869-74d664a6f1c6",
   "metadata": {
    "execution": {
     "iopub.execute_input": "2024-03-10T21:37:14.592378Z",
     "iopub.status.busy": "2024-03-10T21:37:14.592049Z",
     "iopub.status.idle": "2024-03-10T21:37:24.081423Z",
     "shell.execute_reply": "2024-03-10T21:37:24.080173Z",
     "shell.execute_reply.started": "2024-03-10T21:37:14.592359Z"
    }
   },
   "outputs": [
    {
     "name": "stderr",
     "output_type": "stream",
     "text": [
      "INFO:cityseer.tools.graphs:Merging parallel edges within buffer of 1.\n",
      "100%|█████████████████████████████████████████████████████████████████████████████████████████████████████████████████████████████| 88746/88746 [00:00<00:00, 140391.76it/s]\n"
     ]
    }
   ],
   "source": [
    "# G_nx_cs - \"networkx Graph process by cityseer\"\n",
    "G_nx_cs = io.nx_from_generic_geopandas(roads_bare)"
   ]
  },
  {
   "cell_type": "markdown",
   "id": "dfe6b8ae-0fe7-4317-bd13-105df4ae32d7",
   "metadata": {},
   "source": [
    "#### Same elements count? Yes."
   ]
  },
  {
   "cell_type": "code",
   "execution_count": 11,
   "id": "fe1e6282-e227-4552-825e-152a9cd37afe",
   "metadata": {
    "execution": {
     "iopub.execute_input": "2024-03-10T21:37:24.083569Z",
     "iopub.status.busy": "2024-03-10T21:37:24.082956Z",
     "iopub.status.idle": "2024-03-10T21:37:24.223780Z",
     "shell.execute_reply": "2024-03-10T21:37:24.223103Z",
     "shell.execute_reply.started": "2024-03-10T21:37:24.083533Z"
    }
   },
   "outputs": [
    {
     "name": "stdout",
     "output_type": "stream",
     "text": [
      "NetworkX Graph from Momepy: Douala\n",
      "\t* MultiGraph with 80052 nodes and 88746 edges\n",
      "NetworkX Graph from Cityseer: Douala\n",
      "\t* MultiGraph with 80052 nodes and 88746 edges\n"
     ]
    }
   ],
   "source": [
    "print(graph_size(f\"NetworkX Graph from Momepy: {city}\", G_nx_mm))\n",
    "print(graph_size(f\"NetworkX Graph from Cityseer: {city}\", G_nx_cs))"
   ]
  },
  {
   "cell_type": "markdown",
   "id": "878f5945-c67b-480f-abef-06c8891f6b4d",
   "metadata": {},
   "source": [
    "#### More efficient? Momepy."
   ]
  },
  {
   "cell_type": "code",
   "execution_count": 12,
   "id": "1d0b549a-ba82-4f6b-94be-d65de581c3f9",
   "metadata": {
    "execution": {
     "iopub.execute_input": "2024-03-10T21:37:24.225566Z",
     "iopub.status.busy": "2024-03-10T21:37:24.225107Z",
     "iopub.status.idle": "2024-03-10T21:37:50.618687Z",
     "shell.execute_reply": "2024-03-10T21:37:50.617093Z",
     "shell.execute_reply.started": "2024-03-10T21:37:24.225538Z"
    }
   },
   "outputs": [
    {
     "name": "stdout",
     "output_type": "stream",
     "text": [
      "3.12 s ± 202 ms per loop (mean ± std. dev. of 7 runs, 1 loop each)\n"
     ]
    }
   ],
   "source": [
    "%timeit momepy.gdf_to_nx(roads_bare, integer_labels=True)"
   ]
  },
  {
   "cell_type": "code",
   "execution_count": 13,
   "id": "706f985c-d4c1-4a38-a0e8-04598b35497b",
   "metadata": {
    "execution": {
     "iopub.execute_input": "2024-03-10T21:37:50.619778Z",
     "iopub.status.busy": "2024-03-10T21:37:50.619598Z",
     "iopub.status.idle": "2024-03-10T21:38:59.673773Z",
     "shell.execute_reply": "2024-03-10T21:38:59.672458Z",
     "shell.execute_reply.started": "2024-03-10T21:37:50.619762Z"
    }
   },
   "outputs": [
    {
     "name": "stderr",
     "output_type": "stream",
     "text": [
      "INFO:cityseer.tools.graphs:Merging parallel edges within buffer of 1.\n",
      "100%|█████████████████████████████████████████████████████████████████████████████████████████████████████████████████████████████| 88746/88746 [00:00<00:00, 267523.92it/s]\n",
      "INFO:cityseer.tools.graphs:Merging parallel edges within buffer of 1.\n",
      "100%|█████████████████████████████████████████████████████████████████████████████████████████████████████████████████████████████| 88746/88746 [00:00<00:00, 263633.78it/s]\n",
      "INFO:cityseer.tools.graphs:Merging parallel edges within buffer of 1.\n",
      "100%|█████████████████████████████████████████████████████████████████████████████████████████████████████████████████████████████| 88746/88746 [00:00<00:00, 271794.28it/s]\n",
      "INFO:cityseer.tools.graphs:Merging parallel edges within buffer of 1.\n",
      "100%|█████████████████████████████████████████████████████████████████████████████████████████████████████████████████████████████| 88746/88746 [00:00<00:00, 284366.65it/s]\n",
      "INFO:cityseer.tools.graphs:Merging parallel edges within buffer of 1.\n",
      "100%|█████████████████████████████████████████████████████████████████████████████████████████████████████████████████████████████| 88746/88746 [00:00<00:00, 255893.26it/s]\n",
      "INFO:cityseer.tools.graphs:Merging parallel edges within buffer of 1.\n",
      "100%|█████████████████████████████████████████████████████████████████████████████████████████████████████████████████████████████| 88746/88746 [00:00<00:00, 275421.46it/s]\n",
      "INFO:cityseer.tools.graphs:Merging parallel edges within buffer of 1.\n",
      "100%|█████████████████████████████████████████████████████████████████████████████████████████████████████████████████████████████| 88746/88746 [00:00<00:00, 292191.26it/s]\n",
      "INFO:cityseer.tools.graphs:Merging parallel edges within buffer of 1.\n",
      "100%|█████████████████████████████████████████████████████████████████████████████████████████████████████████████████████████████| 88746/88746 [00:00<00:00, 300399.00it/s]\n"
     ]
    },
    {
     "name": "stdout",
     "output_type": "stream",
     "text": [
      "8.39 s ± 298 ms per loop (mean ± std. dev. of 7 runs, 1 loop each)\n"
     ]
    }
   ],
   "source": [
    "%timeit io.nx_from_generic_geopandas(roads_bare)"
   ]
  },
  {
   "cell_type": "markdown",
   "id": "0947a877-3812-4ce6-bcb2-c55f46161de6",
   "metadata": {},
   "source": [
    "* The `momepy.gdf_to_nx()` is clearly more efficient and does not perform hardcoded simplification, like `io.nx_from_generic_geopandas()` does.\n",
    "* However, the resultant graph objects are not the same. The `momepy.gdf_to_nx()` one does not have the node keys in the format needed next for further prep work."
   ]
  },
  {
   "cell_type": "code",
   "execution_count": 14,
   "id": "384fb640-3b68-4d37-a525-d94576d9b282",
   "metadata": {
    "execution": {
     "iopub.execute_input": "2024-03-10T21:38:59.675137Z",
     "iopub.status.busy": "2024-03-10T21:38:59.674803Z",
     "iopub.status.idle": "2024-03-10T21:38:59.778630Z",
     "shell.execute_reply": "2024-03-10T21:38:59.777848Z",
     "shell.execute_reply.started": "2024-03-10T21:38:59.675118Z"
    }
   },
   "outputs": [
    {
     "data": {
      "text/plain": [
       "([0, 1, 2], [(0, 1, 0), (0, 3, 0), (1, 2, 0)])"
      ]
     },
     "execution_count": 14,
     "metadata": {},
     "output_type": "execute_result"
    }
   ],
   "source": [
    "list(G_nx_mm.nodes)[:3], list(G_nx_mm.edges)[:3]"
   ]
  },
  {
   "cell_type": "code",
   "execution_count": 15,
   "id": "97e45a9c-cb44-4ba5-9dda-9fce8bf55797",
   "metadata": {
    "execution": {
     "iopub.execute_input": "2024-03-10T21:38:59.780166Z",
     "iopub.status.busy": "2024-03-10T21:38:59.779776Z",
     "iopub.status.idle": "2024-03-10T21:38:59.933301Z",
     "shell.execute_reply": "2024-03-10T21:38:59.932241Z",
     "shell.execute_reply.started": "2024-03-10T21:38:59.780099Z"
    }
   },
   "outputs": [
    {
     "data": {
      "text/plain": [
       "(['x567898.089-y460085.416',\n",
       "  'x567990.584-y460046.632',\n",
       "  'x568040.741-y460032.632'],\n",
       " [('x567898.089-y460085.416', 'x567990.584-y460046.632', 0),\n",
       "  ('x567898.089-y460085.416', 'x567888.251-y460090.25', 0),\n",
       "  ('x567990.584-y460046.632', 'x568040.741-y460032.632', 0)])"
      ]
     },
     "execution_count": 15,
     "metadata": {},
     "output_type": "execute_result"
    }
   ],
   "source": [
    "list(G_nx_cs.nodes)[:3], list(G_nx_cs.edges)[:3]"
   ]
  },
  {
   "cell_type": "markdown",
   "id": "662a83d6-9c6b-49bc-8aaf-c99bcc060e18",
   "metadata": {},
   "source": [
    "----------------------------------\n",
    "\n",
    "### Conversion from `networkx` to `cityseer`\n",
    "* [`io.network_structure_from_nx`](https://github.com/benchmark-urbanism/cityseer-api/blob/30c9e9bf9078b111a297e3aeab4034465444afee/pysrc/cityseer/tools/io.py#L689)"
   ]
  },
  {
   "cell_type": "code",
   "execution_count": 16,
   "id": "7ce12aad-14f6-4461-8719-0f44d5c9163d",
   "metadata": {
    "execution": {
     "iopub.execute_input": "2024-03-10T21:38:59.935358Z",
     "iopub.status.busy": "2024-03-10T21:38:59.934702Z",
     "iopub.status.idle": "2024-03-10T21:39:12.755449Z",
     "shell.execute_reply": "2024-03-10T21:39:12.754459Z",
     "shell.execute_reply.started": "2024-03-10T21:38:59.935319Z"
    }
   },
   "outputs": [
    {
     "name": "stderr",
     "output_type": "stream",
     "text": [
      "INFO:cityseer.tools.io:Preparing node and edge arrays from networkX graph.\n",
      "100%|██████████████████████████████████████████████████████████████████████████████████████████████████████████████████████████████| 80052/80052 [00:00<00:00, 92412.35it/s]\n",
      "100%|███████████████████████████████████████████████████████████████████████████████████████████████████████████████████████████████| 80052/80052 [00:09<00:00, 8022.86it/s]\n"
     ]
    }
   ],
   "source": [
    "n_gdf, e_gdf, net_struct = io.network_structure_from_nx(\n",
    "    G_nx_cs, crs=roads_bare.crs.to_epsg()\n",
    ")"
   ]
  },
  {
   "cell_type": "code",
   "execution_count": 17,
   "id": "f5fa9ea2-5594-49bc-aa08-f05991ee1ce5",
   "metadata": {
    "execution": {
     "iopub.execute_input": "2024-03-10T21:39:12.757307Z",
     "iopub.status.busy": "2024-03-10T21:39:12.756801Z",
     "iopub.status.idle": "2024-03-10T21:39:12.767421Z",
     "shell.execute_reply": "2024-03-10T21:39:12.766676Z",
     "shell.execute_reply.started": "2024-03-10T21:39:12.757289Z"
    }
   },
   "outputs": [
    {
     "data": {
      "text/html": [
       "<div>\n",
       "<style scoped>\n",
       "    .dataframe tbody tr th:only-of-type {\n",
       "        vertical-align: middle;\n",
       "    }\n",
       "\n",
       "    .dataframe tbody tr th {\n",
       "        vertical-align: top;\n",
       "    }\n",
       "\n",
       "    .dataframe thead th {\n",
       "        text-align: right;\n",
       "    }\n",
       "</style>\n",
       "<table border=\"1\" class=\"dataframe\">\n",
       "  <thead>\n",
       "    <tr style=\"text-align: right;\">\n",
       "      <th></th>\n",
       "      <th>ns_node_idx</th>\n",
       "      <th>x</th>\n",
       "      <th>y</th>\n",
       "      <th>live</th>\n",
       "      <th>weight</th>\n",
       "      <th>geom</th>\n",
       "    </tr>\n",
       "  </thead>\n",
       "  <tbody>\n",
       "    <tr>\n",
       "      <th>x567898.089-y460085.416</th>\n",
       "      <td>0</td>\n",
       "      <td>567898.088760</td>\n",
       "      <td>460085.415952</td>\n",
       "      <td>True</td>\n",
       "      <td>1</td>\n",
       "      <td>POINT (567898.089 460085.416)</td>\n",
       "    </tr>\n",
       "    <tr>\n",
       "      <th>x567990.584-y460046.632</th>\n",
       "      <td>1</td>\n",
       "      <td>567990.584472</td>\n",
       "      <td>460046.632084</td>\n",
       "      <td>True</td>\n",
       "      <td>1</td>\n",
       "      <td>POINT (567990.584 460046.632)</td>\n",
       "    </tr>\n",
       "    <tr>\n",
       "      <th>x568040.741-y460032.632</th>\n",
       "      <td>2</td>\n",
       "      <td>568040.740571</td>\n",
       "      <td>460032.632152</td>\n",
       "      <td>True</td>\n",
       "      <td>1</td>\n",
       "      <td>POINT (568040.741 460032.632)</td>\n",
       "    </tr>\n",
       "    <tr>\n",
       "      <th>x567888.251-y460090.25</th>\n",
       "      <td>3</td>\n",
       "      <td>567888.251317</td>\n",
       "      <td>460090.250079</td>\n",
       "      <td>True</td>\n",
       "      <td>1</td>\n",
       "      <td>POINT (567888.251 460090.250)</td>\n",
       "    </tr>\n",
       "    <tr>\n",
       "      <th>x568090.248-y460024.822</th>\n",
       "      <td>4</td>\n",
       "      <td>568090.248138</td>\n",
       "      <td>460024.822110</td>\n",
       "      <td>True</td>\n",
       "      <td>1</td>\n",
       "      <td>POINT (568090.248 460024.822)</td>\n",
       "    </tr>\n",
       "    <tr>\n",
       "      <th>...</th>\n",
       "      <td>...</td>\n",
       "      <td>...</td>\n",
       "      <td>...</td>\n",
       "      <td>...</td>\n",
       "      <td>...</td>\n",
       "      <td>...</td>\n",
       "    </tr>\n",
       "    <tr>\n",
       "      <th>x579972.197-y441788.017</th>\n",
       "      <td>80047</td>\n",
       "      <td>579972.197475</td>\n",
       "      <td>441788.016565</td>\n",
       "      <td>True</td>\n",
       "      <td>1</td>\n",
       "      <td>POINT (579972.197 441788.017)</td>\n",
       "    </tr>\n",
       "    <tr>\n",
       "      <th>x579979.945-y441777.079</th>\n",
       "      <td>80048</td>\n",
       "      <td>579979.944806</td>\n",
       "      <td>441777.079476</td>\n",
       "      <td>True</td>\n",
       "      <td>1</td>\n",
       "      <td>POINT (579979.945 441777.079)</td>\n",
       "    </tr>\n",
       "    <tr>\n",
       "      <th>x578848.451-y446564.664</th>\n",
       "      <td>80049</td>\n",
       "      <td>578848.451451</td>\n",
       "      <td>446564.663950</td>\n",
       "      <td>True</td>\n",
       "      <td>1</td>\n",
       "      <td>POINT (578848.451 446564.664)</td>\n",
       "    </tr>\n",
       "    <tr>\n",
       "      <th>x578817.331-y446570.551</th>\n",
       "      <td>80050</td>\n",
       "      <td>578817.330514</td>\n",
       "      <td>446570.550882</td>\n",
       "      <td>True</td>\n",
       "      <td>1</td>\n",
       "      <td>POINT (578817.331 446570.551)</td>\n",
       "    </tr>\n",
       "    <tr>\n",
       "      <th>x578849.949-y446553.423</th>\n",
       "      <td>80051</td>\n",
       "      <td>578849.948789</td>\n",
       "      <td>446553.422922</td>\n",
       "      <td>True</td>\n",
       "      <td>1</td>\n",
       "      <td>POINT (578849.949 446553.423)</td>\n",
       "    </tr>\n",
       "  </tbody>\n",
       "</table>\n",
       "<p>80052 rows × 6 columns</p>\n",
       "</div>"
      ],
      "text/plain": [
       "                         ns_node_idx              x              y  live  \\\n",
       "x567898.089-y460085.416            0  567898.088760  460085.415952  True   \n",
       "x567990.584-y460046.632            1  567990.584472  460046.632084  True   \n",
       "x568040.741-y460032.632            2  568040.740571  460032.632152  True   \n",
       "x567888.251-y460090.25             3  567888.251317  460090.250079  True   \n",
       "x568090.248-y460024.822            4  568090.248138  460024.822110  True   \n",
       "...                              ...            ...            ...   ...   \n",
       "x579972.197-y441788.017        80047  579972.197475  441788.016565  True   \n",
       "x579979.945-y441777.079        80048  579979.944806  441777.079476  True   \n",
       "x578848.451-y446564.664        80049  578848.451451  446564.663950  True   \n",
       "x578817.331-y446570.551        80050  578817.330514  446570.550882  True   \n",
       "x578849.949-y446553.423        80051  578849.948789  446553.422922  True   \n",
       "\n",
       "                         weight                           geom  \n",
       "x567898.089-y460085.416       1  POINT (567898.089 460085.416)  \n",
       "x567990.584-y460046.632       1  POINT (567990.584 460046.632)  \n",
       "x568040.741-y460032.632       1  POINT (568040.741 460032.632)  \n",
       "x567888.251-y460090.25        1  POINT (567888.251 460090.250)  \n",
       "x568090.248-y460024.822       1  POINT (568090.248 460024.822)  \n",
       "...                         ...                            ...  \n",
       "x579972.197-y441788.017       1  POINT (579972.197 441788.017)  \n",
       "x579979.945-y441777.079       1  POINT (579979.945 441777.079)  \n",
       "x578848.451-y446564.664       1  POINT (578848.451 446564.664)  \n",
       "x578817.331-y446570.551       1  POINT (578817.331 446570.551)  \n",
       "x578849.949-y446553.423       1  POINT (578849.949 446553.423)  \n",
       "\n",
       "[80052 rows x 6 columns]"
      ]
     },
     "execution_count": 17,
     "metadata": {},
     "output_type": "execute_result"
    }
   ],
   "source": [
    "n_gdf"
   ]
  },
  {
   "cell_type": "code",
   "execution_count": 18,
   "id": "e843efa9-9b4f-4acb-b11a-f43ea2a37fcc",
   "metadata": {
    "execution": {
     "iopub.execute_input": "2024-03-10T21:39:12.768547Z",
     "iopub.status.busy": "2024-03-10T21:39:12.768318Z",
     "iopub.status.idle": "2024-03-10T21:39:12.780661Z",
     "shell.execute_reply": "2024-03-10T21:39:12.780111Z",
     "shell.execute_reply.started": "2024-03-10T21:39:12.768527Z"
    }
   },
   "outputs": [
    {
     "data": {
      "text/html": [
       "<div>\n",
       "<style scoped>\n",
       "    .dataframe tbody tr th:only-of-type {\n",
       "        vertical-align: middle;\n",
       "    }\n",
       "\n",
       "    .dataframe tbody tr th {\n",
       "        vertical-align: top;\n",
       "    }\n",
       "\n",
       "    .dataframe thead th {\n",
       "        text-align: right;\n",
       "    }\n",
       "</style>\n",
       "<table border=\"1\" class=\"dataframe\">\n",
       "  <thead>\n",
       "    <tr style=\"text-align: right;\">\n",
       "      <th></th>\n",
       "      <th>ns_edge_idx</th>\n",
       "      <th>start_ns_node_idx</th>\n",
       "      <th>end_ns_node_idx</th>\n",
       "      <th>edge_idx</th>\n",
       "      <th>nx_start_node_key</th>\n",
       "      <th>nx_end_node_key</th>\n",
       "      <th>length</th>\n",
       "      <th>angle_sum</th>\n",
       "      <th>imp_factor</th>\n",
       "      <th>in_bearing</th>\n",
       "      <th>out_bearing</th>\n",
       "      <th>total_bearing</th>\n",
       "      <th>geom</th>\n",
       "    </tr>\n",
       "  </thead>\n",
       "  <tbody>\n",
       "    <tr>\n",
       "      <th>x567898.089-y460085.416-x567990.584-y460046.632</th>\n",
       "      <td>0</td>\n",
       "      <td>0</td>\n",
       "      <td>1</td>\n",
       "      <td>0</td>\n",
       "      <td>x567898.089-y460085.416</td>\n",
       "      <td>x567990.584-y460046.632</td>\n",
       "      <td>100.297783</td>\n",
       "      <td>0</td>\n",
       "      <td>1</td>\n",
       "      <td>-22.748523</td>\n",
       "      <td>-22.748523</td>\n",
       "      <td>-22.748523</td>\n",
       "      <td>LINESTRING (567898.089 460085.416, 567990.584 ...</td>\n",
       "    </tr>\n",
       "    <tr>\n",
       "      <th>x567898.089-y460085.416-x567888.251-y460090.25</th>\n",
       "      <td>1</td>\n",
       "      <td>0</td>\n",
       "      <td>3</td>\n",
       "      <td>0</td>\n",
       "      <td>x567898.089-y460085.416</td>\n",
       "      <td>x567888.251-y460090.25</td>\n",
       "      <td>10.961024</td>\n",
       "      <td>0</td>\n",
       "      <td>1</td>\n",
       "      <td>153.830465</td>\n",
       "      <td>153.830465</td>\n",
       "      <td>153.830465</td>\n",
       "      <td>LINESTRING (567888.251 460090.250, 567898.089 ...</td>\n",
       "    </tr>\n",
       "    <tr>\n",
       "      <th>x567990.584-y460046.632-x567898.089-y460085.416</th>\n",
       "      <td>2</td>\n",
       "      <td>1</td>\n",
       "      <td>0</td>\n",
       "      <td>0</td>\n",
       "      <td>x567990.584-y460046.632</td>\n",
       "      <td>x567898.089-y460085.416</td>\n",
       "      <td>100.297783</td>\n",
       "      <td>0</td>\n",
       "      <td>1</td>\n",
       "      <td>157.251477</td>\n",
       "      <td>157.251477</td>\n",
       "      <td>157.251477</td>\n",
       "      <td>LINESTRING (567898.089 460085.416, 567990.584 ...</td>\n",
       "    </tr>\n",
       "    <tr>\n",
       "      <th>x567990.584-y460046.632-x568040.741-y460032.632</th>\n",
       "      <td>3</td>\n",
       "      <td>1</td>\n",
       "      <td>2</td>\n",
       "      <td>0</td>\n",
       "      <td>x567990.584-y460046.632</td>\n",
       "      <td>x568040.741-y460032.632</td>\n",
       "      <td>52.073336</td>\n",
       "      <td>0</td>\n",
       "      <td>1</td>\n",
       "      <td>-15.595864</td>\n",
       "      <td>-15.595864</td>\n",
       "      <td>-15.595864</td>\n",
       "      <td>LINESTRING (568040.741 460032.632, 567990.584 ...</td>\n",
       "    </tr>\n",
       "    <tr>\n",
       "      <th>x568040.741-y460032.632-x567990.584-y460046.632</th>\n",
       "      <td>4</td>\n",
       "      <td>2</td>\n",
       "      <td>1</td>\n",
       "      <td>0</td>\n",
       "      <td>x568040.741-y460032.632</td>\n",
       "      <td>x567990.584-y460046.632</td>\n",
       "      <td>52.073336</td>\n",
       "      <td>0</td>\n",
       "      <td>1</td>\n",
       "      <td>164.404136</td>\n",
       "      <td>164.404136</td>\n",
       "      <td>164.404136</td>\n",
       "      <td>LINESTRING (568040.741 460032.632, 567990.584 ...</td>\n",
       "    </tr>\n",
       "    <tr>\n",
       "      <th>...</th>\n",
       "      <td>...</td>\n",
       "      <td>...</td>\n",
       "      <td>...</td>\n",
       "      <td>...</td>\n",
       "      <td>...</td>\n",
       "      <td>...</td>\n",
       "      <td>...</td>\n",
       "      <td>...</td>\n",
       "      <td>...</td>\n",
       "      <td>...</td>\n",
       "      <td>...</td>\n",
       "      <td>...</td>\n",
       "      <td>...</td>\n",
       "    </tr>\n",
       "    <tr>\n",
       "      <th>x578848.451-y446564.664-x578817.331-y446570.551</th>\n",
       "      <td>177487</td>\n",
       "      <td>80049</td>\n",
       "      <td>80050</td>\n",
       "      <td>0</td>\n",
       "      <td>x578848.451-y446564.664</td>\n",
       "      <td>x578817.331-y446570.551</td>\n",
       "      <td>31.672838</td>\n",
       "      <td>0</td>\n",
       "      <td>1</td>\n",
       "      <td>169.288322</td>\n",
       "      <td>169.288322</td>\n",
       "      <td>169.288322</td>\n",
       "      <td>LINESTRING (578848.451 446564.664, 578817.331 ...</td>\n",
       "    </tr>\n",
       "    <tr>\n",
       "      <th>x578848.451-y446564.664-x578849.949-y446553.423</th>\n",
       "      <td>177488</td>\n",
       "      <td>80049</td>\n",
       "      <td>80051</td>\n",
       "      <td>0</td>\n",
       "      <td>x578848.451-y446564.664</td>\n",
       "      <td>x578849.949-y446553.423</td>\n",
       "      <td>11.340314</td>\n",
       "      <td>0</td>\n",
       "      <td>1</td>\n",
       "      <td>-82.412697</td>\n",
       "      <td>-82.412697</td>\n",
       "      <td>-82.412697</td>\n",
       "      <td>LINESTRING (578849.949 446553.423, 578848.451 ...</td>\n",
       "    </tr>\n",
       "    <tr>\n",
       "      <th>x578817.331-y446570.551-x578848.451-y446564.664</th>\n",
       "      <td>177489</td>\n",
       "      <td>80050</td>\n",
       "      <td>80049</td>\n",
       "      <td>0</td>\n",
       "      <td>x578817.331-y446570.551</td>\n",
       "      <td>x578848.451-y446564.664</td>\n",
       "      <td>31.672838</td>\n",
       "      <td>0</td>\n",
       "      <td>1</td>\n",
       "      <td>-10.711678</td>\n",
       "      <td>-10.711678</td>\n",
       "      <td>-10.711678</td>\n",
       "      <td>LINESTRING (578848.451 446564.664, 578817.331 ...</td>\n",
       "    </tr>\n",
       "    <tr>\n",
       "      <th>x578849.949-y446553.423-x578848.035-y446533.457</th>\n",
       "      <td>177490</td>\n",
       "      <td>80051</td>\n",
       "      <td>79164</td>\n",
       "      <td>0</td>\n",
       "      <td>x578849.949-y446553.423</td>\n",
       "      <td>x578848.035-y446533.457</td>\n",
       "      <td>20.057480</td>\n",
       "      <td>0</td>\n",
       "      <td>1</td>\n",
       "      <td>-95.476160</td>\n",
       "      <td>-95.476160</td>\n",
       "      <td>-95.476160</td>\n",
       "      <td>LINESTRING (578848.035 446533.457, 578849.949 ...</td>\n",
       "    </tr>\n",
       "    <tr>\n",
       "      <th>x578849.949-y446553.423-x578848.451-y446564.664</th>\n",
       "      <td>177491</td>\n",
       "      <td>80051</td>\n",
       "      <td>80049</td>\n",
       "      <td>0</td>\n",
       "      <td>x578849.949-y446553.423</td>\n",
       "      <td>x578848.451-y446564.664</td>\n",
       "      <td>11.340314</td>\n",
       "      <td>0</td>\n",
       "      <td>1</td>\n",
       "      <td>97.587303</td>\n",
       "      <td>97.587303</td>\n",
       "      <td>97.587303</td>\n",
       "      <td>LINESTRING (578849.949 446553.423, 578848.451 ...</td>\n",
       "    </tr>\n",
       "  </tbody>\n",
       "</table>\n",
       "<p>177492 rows × 13 columns</p>\n",
       "</div>"
      ],
      "text/plain": [
       "                                                 ns_edge_idx  \\\n",
       "x567898.089-y460085.416-x567990.584-y460046.632            0   \n",
       "x567898.089-y460085.416-x567888.251-y460090.25             1   \n",
       "x567990.584-y460046.632-x567898.089-y460085.416            2   \n",
       "x567990.584-y460046.632-x568040.741-y460032.632            3   \n",
       "x568040.741-y460032.632-x567990.584-y460046.632            4   \n",
       "...                                                      ...   \n",
       "x578848.451-y446564.664-x578817.331-y446570.551       177487   \n",
       "x578848.451-y446564.664-x578849.949-y446553.423       177488   \n",
       "x578817.331-y446570.551-x578848.451-y446564.664       177489   \n",
       "x578849.949-y446553.423-x578848.035-y446533.457       177490   \n",
       "x578849.949-y446553.423-x578848.451-y446564.664       177491   \n",
       "\n",
       "                                                 start_ns_node_idx  \\\n",
       "x567898.089-y460085.416-x567990.584-y460046.632                  0   \n",
       "x567898.089-y460085.416-x567888.251-y460090.25                   0   \n",
       "x567990.584-y460046.632-x567898.089-y460085.416                  1   \n",
       "x567990.584-y460046.632-x568040.741-y460032.632                  1   \n",
       "x568040.741-y460032.632-x567990.584-y460046.632                  2   \n",
       "...                                                            ...   \n",
       "x578848.451-y446564.664-x578817.331-y446570.551              80049   \n",
       "x578848.451-y446564.664-x578849.949-y446553.423              80049   \n",
       "x578817.331-y446570.551-x578848.451-y446564.664              80050   \n",
       "x578849.949-y446553.423-x578848.035-y446533.457              80051   \n",
       "x578849.949-y446553.423-x578848.451-y446564.664              80051   \n",
       "\n",
       "                                                 end_ns_node_idx  edge_idx  \\\n",
       "x567898.089-y460085.416-x567990.584-y460046.632                1         0   \n",
       "x567898.089-y460085.416-x567888.251-y460090.25                 3         0   \n",
       "x567990.584-y460046.632-x567898.089-y460085.416                0         0   \n",
       "x567990.584-y460046.632-x568040.741-y460032.632                2         0   \n",
       "x568040.741-y460032.632-x567990.584-y460046.632                1         0   \n",
       "...                                                          ...       ...   \n",
       "x578848.451-y446564.664-x578817.331-y446570.551            80050         0   \n",
       "x578848.451-y446564.664-x578849.949-y446553.423            80051         0   \n",
       "x578817.331-y446570.551-x578848.451-y446564.664            80049         0   \n",
       "x578849.949-y446553.423-x578848.035-y446533.457            79164         0   \n",
       "x578849.949-y446553.423-x578848.451-y446564.664            80049         0   \n",
       "\n",
       "                                                       nx_start_node_key  \\\n",
       "x567898.089-y460085.416-x567990.584-y460046.632  x567898.089-y460085.416   \n",
       "x567898.089-y460085.416-x567888.251-y460090.25   x567898.089-y460085.416   \n",
       "x567990.584-y460046.632-x567898.089-y460085.416  x567990.584-y460046.632   \n",
       "x567990.584-y460046.632-x568040.741-y460032.632  x567990.584-y460046.632   \n",
       "x568040.741-y460032.632-x567990.584-y460046.632  x568040.741-y460032.632   \n",
       "...                                                                  ...   \n",
       "x578848.451-y446564.664-x578817.331-y446570.551  x578848.451-y446564.664   \n",
       "x578848.451-y446564.664-x578849.949-y446553.423  x578848.451-y446564.664   \n",
       "x578817.331-y446570.551-x578848.451-y446564.664  x578817.331-y446570.551   \n",
       "x578849.949-y446553.423-x578848.035-y446533.457  x578849.949-y446553.423   \n",
       "x578849.949-y446553.423-x578848.451-y446564.664  x578849.949-y446553.423   \n",
       "\n",
       "                                                         nx_end_node_key  \\\n",
       "x567898.089-y460085.416-x567990.584-y460046.632  x567990.584-y460046.632   \n",
       "x567898.089-y460085.416-x567888.251-y460090.25    x567888.251-y460090.25   \n",
       "x567990.584-y460046.632-x567898.089-y460085.416  x567898.089-y460085.416   \n",
       "x567990.584-y460046.632-x568040.741-y460032.632  x568040.741-y460032.632   \n",
       "x568040.741-y460032.632-x567990.584-y460046.632  x567990.584-y460046.632   \n",
       "...                                                                  ...   \n",
       "x578848.451-y446564.664-x578817.331-y446570.551  x578817.331-y446570.551   \n",
       "x578848.451-y446564.664-x578849.949-y446553.423  x578849.949-y446553.423   \n",
       "x578817.331-y446570.551-x578848.451-y446564.664  x578848.451-y446564.664   \n",
       "x578849.949-y446553.423-x578848.035-y446533.457  x578848.035-y446533.457   \n",
       "x578849.949-y446553.423-x578848.451-y446564.664  x578848.451-y446564.664   \n",
       "\n",
       "                                                     length  angle_sum  \\\n",
       "x567898.089-y460085.416-x567990.584-y460046.632  100.297783          0   \n",
       "x567898.089-y460085.416-x567888.251-y460090.25    10.961024          0   \n",
       "x567990.584-y460046.632-x567898.089-y460085.416  100.297783          0   \n",
       "x567990.584-y460046.632-x568040.741-y460032.632   52.073336          0   \n",
       "x568040.741-y460032.632-x567990.584-y460046.632   52.073336          0   \n",
       "...                                                     ...        ...   \n",
       "x578848.451-y446564.664-x578817.331-y446570.551   31.672838          0   \n",
       "x578848.451-y446564.664-x578849.949-y446553.423   11.340314          0   \n",
       "x578817.331-y446570.551-x578848.451-y446564.664   31.672838          0   \n",
       "x578849.949-y446553.423-x578848.035-y446533.457   20.057480          0   \n",
       "x578849.949-y446553.423-x578848.451-y446564.664   11.340314          0   \n",
       "\n",
       "                                                 imp_factor  in_bearing  \\\n",
       "x567898.089-y460085.416-x567990.584-y460046.632           1  -22.748523   \n",
       "x567898.089-y460085.416-x567888.251-y460090.25            1  153.830465   \n",
       "x567990.584-y460046.632-x567898.089-y460085.416           1  157.251477   \n",
       "x567990.584-y460046.632-x568040.741-y460032.632           1  -15.595864   \n",
       "x568040.741-y460032.632-x567990.584-y460046.632           1  164.404136   \n",
       "...                                                     ...         ...   \n",
       "x578848.451-y446564.664-x578817.331-y446570.551           1  169.288322   \n",
       "x578848.451-y446564.664-x578849.949-y446553.423           1  -82.412697   \n",
       "x578817.331-y446570.551-x578848.451-y446564.664           1  -10.711678   \n",
       "x578849.949-y446553.423-x578848.035-y446533.457           1  -95.476160   \n",
       "x578849.949-y446553.423-x578848.451-y446564.664           1   97.587303   \n",
       "\n",
       "                                                 out_bearing  total_bearing  \\\n",
       "x567898.089-y460085.416-x567990.584-y460046.632   -22.748523     -22.748523   \n",
       "x567898.089-y460085.416-x567888.251-y460090.25    153.830465     153.830465   \n",
       "x567990.584-y460046.632-x567898.089-y460085.416   157.251477     157.251477   \n",
       "x567990.584-y460046.632-x568040.741-y460032.632   -15.595864     -15.595864   \n",
       "x568040.741-y460032.632-x567990.584-y460046.632   164.404136     164.404136   \n",
       "...                                                      ...            ...   \n",
       "x578848.451-y446564.664-x578817.331-y446570.551   169.288322     169.288322   \n",
       "x578848.451-y446564.664-x578849.949-y446553.423   -82.412697     -82.412697   \n",
       "x578817.331-y446570.551-x578848.451-y446564.664   -10.711678     -10.711678   \n",
       "x578849.949-y446553.423-x578848.035-y446533.457   -95.476160     -95.476160   \n",
       "x578849.949-y446553.423-x578848.451-y446564.664    97.587303      97.587303   \n",
       "\n",
       "                                                                                              geom  \n",
       "x567898.089-y460085.416-x567990.584-y460046.632  LINESTRING (567898.089 460085.416, 567990.584 ...  \n",
       "x567898.089-y460085.416-x567888.251-y460090.25   LINESTRING (567888.251 460090.250, 567898.089 ...  \n",
       "x567990.584-y460046.632-x567898.089-y460085.416  LINESTRING (567898.089 460085.416, 567990.584 ...  \n",
       "x567990.584-y460046.632-x568040.741-y460032.632  LINESTRING (568040.741 460032.632, 567990.584 ...  \n",
       "x568040.741-y460032.632-x567990.584-y460046.632  LINESTRING (568040.741 460032.632, 567990.584 ...  \n",
       "...                                                                                            ...  \n",
       "x578848.451-y446564.664-x578817.331-y446570.551  LINESTRING (578848.451 446564.664, 578817.331 ...  \n",
       "x578848.451-y446564.664-x578849.949-y446553.423  LINESTRING (578849.949 446553.423, 578848.451 ...  \n",
       "x578817.331-y446570.551-x578848.451-y446564.664  LINESTRING (578848.451 446564.664, 578817.331 ...  \n",
       "x578849.949-y446553.423-x578848.035-y446533.457  LINESTRING (578848.035 446533.457, 578849.949 ...  \n",
       "x578849.949-y446553.423-x578848.451-y446564.664  LINESTRING (578849.949 446553.423, 578848.451 ...  \n",
       "\n",
       "[177492 rows x 13 columns]"
      ]
     },
     "execution_count": 18,
     "metadata": {},
     "output_type": "execute_result"
    }
   ],
   "source": [
    "e_gdf"
   ]
  },
  {
   "cell_type": "code",
   "execution_count": 19,
   "id": "7c854ee4-9b21-45f0-872b-1ed9b34edf4d",
   "metadata": {
    "execution": {
     "iopub.execute_input": "2024-03-10T21:39:12.781664Z",
     "iopub.status.busy": "2024-03-10T21:39:12.781471Z",
     "iopub.status.idle": "2024-03-10T21:39:12.785773Z",
     "shell.execute_reply": "2024-03-10T21:39:12.785016Z",
     "shell.execute_reply.started": "2024-03-10T21:39:12.781648Z"
    }
   },
   "outputs": [
    {
     "data": {
      "text/plain": [
       "<NetworkStructure at 0x1569fdb60>"
      ]
     },
     "execution_count": 19,
     "metadata": {},
     "output_type": "execute_result"
    }
   ],
   "source": [
    "net_struct"
   ]
  },
  {
   "cell_type": "markdown",
   "id": "7c9ad098-032d-49ce-acac-f6857d0ed556",
   "metadata": {},
   "source": [
    "------------------------------------\n",
    "\n",
    "## 3. Examining the simplification routine\n",
    "\n",
    "### Question:\n",
    "\n",
    "Is there a single, 'simplify' routine?\n",
    "\n",
    "### Answer\n",
    "\n",
    "Sort of. but from what I can tell it's only available as a keyword argument in [`cityseer.tools.io.osm_graph_from_poly()`](https://github.com/benchmark-urbanism/cityseer-api/blob/30c9e9bf9078b111a297e3aeab4034465444afee/pysrc/cityseer/tools/io.py#L218). The procedure is basically as follows:\n",
    "\n",
    "1. `graphs.nx_simple_geoms()` – happens even if `simplify=False`\n",
    "2. `graphs.nx_remove_filler_nodes()` – happens even if `simplify=False`\n",
    "3.  `graphs.nx_remove_dangling_nodes()`\n",
    "4.  `graphs.nx_consolidate_nodes(crawl=True)`\n",
    "    1. `graphs.nx_remove_filler_nodes`\n",
    "    1. `graphs.nx_merge_parallel_edges()`\n",
    "5.   `graphs.nx_split_opposing_geoms()`\n",
    "     1.  `graphs.nx_merge_parallel_edges()`\n",
    "6.  `graphs.nx_consolidate_nodes(crawl=False)`\n",
    "     1. `graphs.nx_remove_filler_nodes()` \n",
    "7.  `graphs.nx_remove_filler_nodes()`\n",
    "8.  `graphs.nx_iron_edges()`\n",
    "     1.  `graphs.nx_merge_parallel_edges()`\n",
    "9.  `graphs.nx_split_opposing_geoms()`\n",
    "     1.  `graphs.nx_merge_parallel_edges()`\n",
    "10.  `graphs.nx_consolidate_nodes(crawl=False)`\n",
    "     1. `graphs.nx_remove_filler_nodes()` \n",
    "11.  `graphs.nx_remove_filler_nodes()`\n",
    "12.  `graphs.nx_iron_edges()`\n",
    "     1. `graphs.nx_merge_parallel_edges()`\n",
    "\n",
    "### Default params of `osm_graph_from_poly()` relating to simplification\n",
    "\n",
    "* `crawl_consolidate_dist: int = 12`\n",
    "* `parallel_consolidate_dist: int = 15`\n",
    "* `contains_buffer_dist: int = 50`\n",
    "* `iron_edges: bool = True`\n",
    "* `remove_disconnected: int = 100`\n",
    "\n",
    "### Breaking down the routine\n",
    "#### Setting params (based on `io.osm_graph_from_poly()`"
   ]
  },
  {
   "cell_type": "code",
   "execution_count": 20,
   "id": "e169151b-0819-40c0-a657-36229da61966",
   "metadata": {
    "execution": {
     "iopub.execute_input": "2024-03-10T21:39:12.786754Z",
     "iopub.status.busy": "2024-03-10T21:39:12.786563Z",
     "iopub.status.idle": "2024-03-10T21:39:12.790336Z",
     "shell.execute_reply": "2024-03-10T21:39:12.789661Z",
     "shell.execute_reply.started": "2024-03-10T21:39:12.786739Z"
    }
   },
   "outputs": [],
   "source": [
    "crawl_consolidate_dist: int = 12\n",
    "parallel_consolidate_dist: int = 15\n",
    "contains_buffer_dist: int = 50\n",
    "iron_edges: bool = True\n",
    "remove_disconnected: int = 100"
   ]
  },
  {
   "cell_type": "markdown",
   "id": "9f441c65-0c0b-4c95-a937-5c1b7beae5f7",
   "metadata": {},
   "source": [
    "#### 3.1. – `graphs.nx_simple_geoms()`\n",
    "* parameters – see [here](https://github.com/benchmark-urbanism/cityseer-api/blob/30c9e9bf9078b111a297e3aeab4034465444afee/pysrc/cityseer/tools/graphs.py#L29)\n",
    "  * none\n",
    "* called [here](https://github.com/benchmark-urbanism/cityseer-api/blob/850d451886532d9dfd204c3be609ef7136746d2c/pysrc/cityseer/tools/io.py#L356)"
   ]
  },
  {
   "cell_type": "code",
   "execution_count": 21,
   "id": "c674e9e3-e136-48b0-8dd0-4e34a2696a37",
   "metadata": {
    "execution": {
     "iopub.execute_input": "2024-03-10T21:39:12.795651Z",
     "iopub.status.busy": "2024-03-10T21:39:12.795413Z",
     "iopub.status.idle": "2024-03-10T21:39:14.868163Z",
     "shell.execute_reply": "2024-03-10T21:39:14.867239Z",
     "shell.execute_reply.started": "2024-03-10T21:39:12.795634Z"
    }
   },
   "outputs": [
    {
     "name": "stderr",
     "output_type": "stream",
     "text": [
      "INFO:cityseer.tools.graphs:Generating interpolated edge geometries.\n",
      "100%|██████████████████████████████████████████████████████████████████████████████████████████████████████████████████████████████| 88746/88746 [00:01<00:00, 82466.20it/s]\n"
     ]
    },
    {
     "name": "stdout",
     "output_type": "stream",
     "text": [
      "NetworkX-Momepy: `nx_simple_geoms`: Douala\n",
      "\t* MultiGraph with 80052 nodes and 88746 edges\n"
     ]
    }
   ],
   "source": [
    "# smp - \"simple geoms\"\n",
    "G_nx_mm_smp = graphs.nx_simple_geoms(G_nx_mm)\n",
    "nxmp = \"NetworkX-Momepy\"\n",
    "print(graph_size(f\"{nxmp}: `nx_simple_geoms`: {city}\", G_nx_mm_smp))"
   ]
  },
  {
   "cell_type": "markdown",
   "id": "18169f30-b1e1-4bff-9794-e23488c00763",
   "metadata": {},
   "source": [
    "* Seemingling unneeded step as it doesn't decrease element count. However...\n",
    "* ... must be run to perform the next step – `graphs.nx_remove_filler_nodes()`\n",
    "  * (can't pass in the Momepy generated object) "
   ]
  },
  {
   "cell_type": "code",
   "execution_count": 22,
   "id": "e9c48b3f-cfe2-40ec-b3fc-3b95e5494eb6",
   "metadata": {
    "execution": {
     "iopub.execute_input": "2024-03-10T21:39:14.869783Z",
     "iopub.status.busy": "2024-03-10T21:39:14.869347Z",
     "iopub.status.idle": "2024-03-10T21:39:16.141500Z",
     "shell.execute_reply": "2024-03-10T21:39:16.140119Z",
     "shell.execute_reply.started": "2024-03-10T21:39:14.869759Z"
    }
   },
   "outputs": [
    {
     "name": "stderr",
     "output_type": "stream",
     "text": [
      "INFO:cityseer.tools.graphs:Removing filler nodes.\n",
      "  0%|                                                                                                                                             | 0/80052 [00:00<?, ?it/s]\n"
     ]
    },
    {
     "ename": "KeyError",
     "evalue": "'Missing \"geom\" attribute for edge 4-2'",
     "output_type": "error",
     "traceback": [
      "\u001b[0;31m---------------------------------------------------------------------------\u001b[0m",
      "\u001b[0;31mKeyError\u001b[0m                                  Traceback (most recent call last)",
      "File \u001b[0;32m~/mambaforge/envs/py312_uscuni_simplification/lib/python3.12/site-packages/cityseer/tools/graphs.py:174\u001b[0m, in \u001b[0;36mnx_remove_filler_nodes\u001b[0;34m(nx_multigraph)\u001b[0m\n\u001b[1;32m    169\u001b[0m \u001b[38;5;28;01mtry\u001b[39;00m:\n\u001b[1;32m    170\u001b[0m     \u001b[38;5;66;03m# there is ordinarily a single edge from trailing to next\u001b[39;00m\n\u001b[1;32m    171\u001b[0m     \u001b[38;5;66;03m# however, there is an edge case where next is a dead-end with two edges linking back to trailing\u001b[39;00m\n\u001b[1;32m    172\u001b[0m     \u001b[38;5;66;03m# (i.e. where one of those edges is longer than the maximum length discrepancy for merging edges)\u001b[39;00m\n\u001b[1;32m    173\u001b[0m     \u001b[38;5;66;03m# in either case, use the first geom\u001b[39;00m\n\u001b[0;32m--> 174\u001b[0m     geom: geometry\u001b[38;5;241m.\u001b[39mLineString \u001b[38;5;241m=\u001b[39m \u001b[43medge_data\u001b[49m\u001b[43m[\u001b[49m\u001b[38;5;124;43m\"\u001b[39;49m\u001b[38;5;124;43mgeom\u001b[39;49m\u001b[38;5;124;43m\"\u001b[39;49m\u001b[43m]\u001b[49m\n\u001b[1;32m    175\u001b[0m \u001b[38;5;28;01mexcept\u001b[39;00m \u001b[38;5;167;01mKeyError\u001b[39;00m \u001b[38;5;28;01mas\u001b[39;00m err:\n",
      "\u001b[0;31mKeyError\u001b[0m: 'geom'",
      "\nThe above exception was the direct cause of the following exception:\n",
      "\u001b[0;31mKeyError\u001b[0m                                  Traceback (most recent call last)",
      "Cell \u001b[0;32mIn[22], line 1\u001b[0m\n\u001b[0;32m----> 1\u001b[0m \u001b[43mgraphs\u001b[49m\u001b[38;5;241;43m.\u001b[39;49m\u001b[43mnx_remove_filler_nodes\u001b[49m\u001b[43m(\u001b[49m\u001b[43mG_nx_mm\u001b[49m\u001b[43m)\u001b[49m\n",
      "File \u001b[0;32m~/mambaforge/envs/py312_uscuni_simplification/lib/python3.12/site-packages/cityseer/tools/graphs.py:176\u001b[0m, in \u001b[0;36mnx_remove_filler_nodes\u001b[0;34m(nx_multigraph)\u001b[0m\n\u001b[1;32m    174\u001b[0m     geom: geometry\u001b[38;5;241m.\u001b[39mLineString \u001b[38;5;241m=\u001b[39m edge_data[\u001b[38;5;124m\"\u001b[39m\u001b[38;5;124mgeom\u001b[39m\u001b[38;5;124m\"\u001b[39m]\n\u001b[1;32m    175\u001b[0m \u001b[38;5;28;01mexcept\u001b[39;00m \u001b[38;5;167;01mKeyError\u001b[39;00m \u001b[38;5;28;01mas\u001b[39;00m err:\n\u001b[0;32m--> 176\u001b[0m     \u001b[38;5;28;01mraise\u001b[39;00m \u001b[38;5;167;01mKeyError\u001b[39;00m(\u001b[38;5;124mf\u001b[39m\u001b[38;5;124m'\u001b[39m\u001b[38;5;124mMissing \u001b[39m\u001b[38;5;124m\"\u001b[39m\u001b[38;5;124mgeom\u001b[39m\u001b[38;5;124m\"\u001b[39m\u001b[38;5;124m attribute for edge \u001b[39m\u001b[38;5;132;01m{\u001b[39;00mtrailing_nd\u001b[38;5;132;01m}\u001b[39;00m\u001b[38;5;124m-\u001b[39m\u001b[38;5;132;01m{\u001b[39;00mnext_link_nd\u001b[38;5;132;01m}\u001b[39;00m\u001b[38;5;124m'\u001b[39m) \u001b[38;5;28;01mfrom\u001b[39;00m \u001b[38;5;21;01merr\u001b[39;00m\n\u001b[1;32m    177\u001b[0m \u001b[38;5;28;01mif\u001b[39;00m geom\u001b[38;5;241m.\u001b[39mgeom_type \u001b[38;5;241m!=\u001b[39m \u001b[38;5;124m\"\u001b[39m\u001b[38;5;124mLineString\u001b[39m\u001b[38;5;124m\"\u001b[39m:\n\u001b[1;32m    178\u001b[0m     \u001b[38;5;28;01mraise\u001b[39;00m \u001b[38;5;167;01mTypeError\u001b[39;00m(\u001b[38;5;124mf\u001b[39m\u001b[38;5;124m\"\u001b[39m\u001b[38;5;124mExpecting LineString geometry but found \u001b[39m\u001b[38;5;132;01m{\u001b[39;00mgeom\u001b[38;5;241m.\u001b[39mgeom_type\u001b[38;5;132;01m}\u001b[39;00m\u001b[38;5;124m geometry.\u001b[39m\u001b[38;5;124m\"\u001b[39m)\n",
      "\u001b[0;31mKeyError\u001b[0m: 'Missing \"geom\" attribute for edge 4-2'"
     ]
    }
   ],
   "source": [
    "graphs.nx_remove_filler_nodes(G_nx_mm)"
   ]
  },
  {
   "cell_type": "markdown",
   "id": "b34bf6eb-6839-4613-a18c-871827de7dd8",
   "metadata": {},
   "source": [
    "#### 3.2. – `graphs.nx_remove_filler_nodes()`\n",
    "* parameters – see [here](https://github.com/benchmark-urbanism/cityseer-api/blob/30c9e9bf9078b111a297e3aeab4034465444afee/pysrc/cityseer/tools/graphs.py#L86C5-L86C27)\n",
    "  * none\n",
    "* called [here](https://github.com/benchmark-urbanism/cityseer-api/blob/850d451886532d9dfd204c3be609ef7136746d2c/pysrc/cityseer/tools/io.py#L357)"
   ]
  },
  {
   "cell_type": "code",
   "execution_count": 23,
   "id": "f5d63a30-8954-4ca4-961f-d05d75d46420",
   "metadata": {
    "execution": {
     "iopub.execute_input": "2024-03-10T21:39:18.951410Z",
     "iopub.status.busy": "2024-03-10T21:39:18.951053Z",
     "iopub.status.idle": "2024-03-10T21:39:29.722206Z",
     "shell.execute_reply": "2024-03-10T21:39:29.721015Z",
     "shell.execute_reply.started": "2024-03-10T21:39:18.951384Z"
    }
   },
   "outputs": [
    {
     "name": "stderr",
     "output_type": "stream",
     "text": [
      "INFO:cityseer.tools.graphs:Removing filler nodes.\n",
      "100%|███████████████████████████████████████████████████████████████████████████████████████████████████████████████████████████████| 80052/80052 [00:09<00:00, 8168.91it/s]"
     ]
    },
    {
     "name": "stdout",
     "output_type": "stream",
     "text": [
      "NetworkX-Momepy: `nx_remove_filler_nodes - 1`: Douala\n",
      "\t* MultiGraph with 23326 nodes and 32020 edges\n"
     ]
    },
    {
     "name": "stderr",
     "output_type": "stream",
     "text": [
      "\n"
     ]
    }
   ],
   "source": [
    "# rfn1st - \"remove filler nodes - 1st call\"\n",
    "G_nx_cs_rfn1st = graphs.nx_remove_filler_nodes(G_nx_mm_smp)\n",
    "print(graph_size(f\"{nxmp}: `nx_remove_filler_nodes - 1`: {city}\", G_nx_cs_rfn1st))"
   ]
  },
  {
   "cell_type": "markdown",
   "id": "5e35316f-fb07-4fde-b109-551b150431c2",
   "metadata": {},
   "source": [
    "* Significant decrease in elements.\n",
    "\n",
    "#### 3.3. – `graphs.nx_remove_dangling_nodes()`\n",
    "* parameters – see [here](https://github.com/benchmark-urbanism/cityseer-api/blob/30c9e9bf9078b111a297e3aeab4034465444afee/pysrc/cityseer/tools/graphs.py#L235)\n",
    "  * `despine: int = 15`\n",
    "  * `remove_disconnected: int = remove_disconnected` --> 100\n",
    "  * `cleanup_filler_nodes: bool = True`\n",
    "* called [here](https://github.com/benchmark-urbanism/cityseer-api/blob/850d451886532d9dfd204c3be609ef7136746d2c/pysrc/cityseer/tools/io.py#L359)\n",
    "* func(s) called within:\n",
    "  * `nx_remove_filler_nodes()` – 2nd call"
   ]
  },
  {
   "cell_type": "code",
   "execution_count": 24,
   "id": "0c11e4e2-5b66-4a60-9308-2b49d6aab6f4",
   "metadata": {
    "execution": {
     "iopub.execute_input": "2024-03-10T21:39:29.725400Z",
     "iopub.status.busy": "2024-03-10T21:39:29.724965Z",
     "iopub.status.idle": "2024-03-10T21:39:31.223703Z",
     "shell.execute_reply": "2024-03-10T21:39:31.223109Z",
     "shell.execute_reply.started": "2024-03-10T21:39:29.725337Z"
    }
   },
   "outputs": [
    {
     "name": "stderr",
     "output_type": "stream",
     "text": [
      "INFO:cityseer.tools.graphs:Removing dangling nodes.\n",
      "100%|█████████████████████████████████████████████████████████████████████████████████████████████████████████████████████████████| 23187/23187 [00:00<00:00, 267488.11it/s]\n",
      "INFO:cityseer.tools.graphs:Removing filler nodes.\n",
      "100%|█████████████████████████████████████████████████████████████████████████████████████████████████████████████████████████████| 23149/23149 [00:00<00:00, 526985.65it/s]"
     ]
    },
    {
     "name": "stdout",
     "output_type": "stream",
     "text": [
      "NetworkX-Momepy: `nx_remove_dangling_nodes`: Douala\n",
      "\t* MultiGraph with 23115 nodes and 31814 edges\n"
     ]
    },
    {
     "name": "stderr",
     "output_type": "stream",
     "text": [
      "\n"
     ]
    }
   ],
   "source": [
    "# rdn - \"remove dangling nodes\"\n",
    "G_nx_cs_rdn = graphs.nx_remove_dangling_nodes(\n",
    "    G_nx_cs_rfn1st,\n",
    "    despine=15,\n",
    "    remove_disconnected=remove_disconnected,\n",
    "    cleanup_filler_nodes=True,\n",
    ")\n",
    "print(graph_size(f\"{nxmp}: `nx_remove_dangling_nodes`: {city}\", G_nx_cs_rdn))"
   ]
  },
  {
   "cell_type": "markdown",
   "id": "9f33b90b-3e37-4d03-9c0a-815a119f2416",
   "metadata": {},
   "source": [
    "#### 3.4. – `graphs.nx_consolidate_nodes(crawl=True, buffer_dist=12)`  - 1st call\n",
    "* parameters – see [here](https://github.com/benchmark-urbanism/cityseer-api/blob/850d451886532d9dfd204c3be609ef7136746d2c/pysrc/cityseer/tools/graphs.py#L656)\n",
    "  * `buffer_dist: float = crawl_consolidate_dist` --> 12\n",
    "  * `neighbour_policy: str | None = None`\n",
    "  * `crawl: bool = True`\n",
    "  * `centroid_by_itx: bool = True`\n",
    "  * `merge_edges_by_midline: bool = True`\n",
    "  * `contains_buffer_dist: int = contains_buffer_dist` --> 50\n",
    "* called [here](https://github.com/benchmark-urbanism/cityseer-api/blob/850d451886532d9dfd204c3be609ef7136746d2c/pysrc/cityseer/tools/io.py#L360) \n",
    "* func(s) called within:\n",
    "  * `graphs.nx_remove_filler_nodes()` – 3rd call\n",
    "  * ***>>>> `graphs.nx_merge_parallel_edges()` – 1st call <<<<***"
   ]
  },
  {
   "cell_type": "code",
   "execution_count": 25,
   "id": "9649f311-4563-4491-b4bd-5e10263b7ddb",
   "metadata": {
    "execution": {
     "iopub.execute_input": "2024-03-10T21:39:31.225288Z",
     "iopub.status.busy": "2024-03-10T21:39:31.224893Z",
     "iopub.status.idle": "2024-03-10T21:39:35.090339Z",
     "shell.execute_reply": "2024-03-10T21:39:35.089538Z",
     "shell.execute_reply.started": "2024-03-10T21:39:31.225264Z"
    }
   },
   "outputs": [
    {
     "name": "stderr",
     "output_type": "stream",
     "text": [
      "INFO:cityseer.tools.util:Creating nodes STR tree\n",
      "100%|█████████████████████████████████████████████████████████████████████████████████████████████████████████████████████████████| 23115/23115 [00:00<00:00, 125786.35it/s]\n",
      "INFO:cityseer.tools.graphs:Consolidating nodes.\n",
      "100%|███████████████████████████████████████████████████████████████████████████████████████████████████████████████████████████████| 23115/23115 [00:02<00:00, 8353.80it/s]\n",
      "INFO:cityseer.tools.graphs:Removing filler nodes.\n",
      "100%|█████████████████████████████████████████████████████████████████████████████████████████████████████████████████████████████| 21817/21817 [00:00<00:00, 504892.00it/s]\n",
      "INFO:cityseer.tools.graphs:Merging parallel edges within buffer of 50.\n",
      "100%|██████████████████████████████████████████████████████████████████████████████████████████████████████████████████████████████| 30436/30436 [00:00<00:00, 98322.45it/s]"
     ]
    },
    {
     "name": "stdout",
     "output_type": "stream",
     "text": [
      "NetworkX-Momepy: `nx_consolidate_nodes` - 1: Douala\n",
      "\t* MultiGraph with 21790 nodes and 30262 edges\n"
     ]
    },
    {
     "name": "stderr",
     "output_type": "stream",
     "text": [
      "\n"
     ]
    }
   ],
   "source": [
    "# cn1st - \"consolidate nodes - 1st call\"\n",
    "G_nx_cs_cn1st = graphs.nx_consolidate_nodes(\n",
    "    G_nx_cs_rdn,\n",
    "    buffer_dist=crawl_consolidate_dist,\n",
    "    neighbour_policy=None,\n",
    "    crawl=True,\n",
    "    centroid_by_itx=True,\n",
    "    merge_edges_by_midline=True,\n",
    "    contains_buffer_dist=contains_buffer_dist,\n",
    ")\n",
    "print(graph_size(f\"{nxmp}: `nx_consolidate_nodes` - 1: {city}\", G_nx_cs_cn1st))"
   ]
  },
  {
   "cell_type": "markdown",
   "id": "1817d127-8db3-4372-8056-c33c1fe84749",
   "metadata": {},
   "source": [
    "#### 3.5. – `graphs.nx_split_opposing_geoms()` - 1st call\n",
    "* parameters – see [here](https://github.com/benchmark-urbanism/cityseer-api/blob/850d451886532d9dfd204c3be609ef7136746d2c/pysrc/cityseer/tools/graphs.py#L809)\n",
    "  * `buffer_dist: float = parallel_consolidate_dist` --> 15\n",
    "  * `merge_edges_by_midline: bool = True`\n",
    "  * `contains_buffer_dist: int = contains_buffer_dist` --> 50\n",
    "* called [here](https://github.com/benchmark-urbanism/cityseer-api/blob/850d451886532d9dfd204c3be609ef7136746d2c/pysrc/cityseer/tools/io.py#L366)\n",
    "* func(s) called within:\n",
    "  * ***>>>> `graphs.nx_merge_parallel_edges()` – 2nd call <<<<***"
   ]
  },
  {
   "cell_type": "code",
   "execution_count": 26,
   "id": "24faee64-9f89-4606-9795-f3bba03ee72f",
   "metadata": {
    "execution": {
     "iopub.execute_input": "2024-03-10T21:39:35.093178Z",
     "iopub.status.busy": "2024-03-10T21:39:35.092848Z",
     "iopub.status.idle": "2024-03-10T21:39:41.050627Z",
     "shell.execute_reply": "2024-03-10T21:39:41.049741Z",
     "shell.execute_reply.started": "2024-03-10T21:39:35.093160Z"
    }
   },
   "outputs": [
    {
     "name": "stderr",
     "output_type": "stream",
     "text": [
      "INFO:cityseer.tools.util:Creating edges STR tree.\n",
      "100%|█████████████████████████████████████████████████████████████████████████████████████████████████████████████████████████████| 30262/30262 [00:00<00:00, 680517.21it/s]\n",
      "INFO:cityseer.tools.graphs:Splitting opposing edges.\n",
      "100%|███████████████████████████████████████████████████████████████████████████████████████████████████████████████████████████████| 21790/21790 [00:04<00:00, 4687.38it/s]\n",
      "INFO:cityseer.tools.graphs:Merging parallel edges within buffer of 50.\n",
      "100%|█████████████████████████████████████████████████████████████████████████████████████████████████████████████████████████████| 30728/30728 [00:00<00:00, 211183.20it/s]"
     ]
    },
    {
     "name": "stdout",
     "output_type": "stream",
     "text": [
      "NetworkX-Momepy: `nx_split_opposing_geoms` - 1: Douala\n",
      "\t* MultiGraph with 22256 nodes and 30728 edges\n"
     ]
    },
    {
     "name": "stderr",
     "output_type": "stream",
     "text": [
      "\n"
     ]
    }
   ],
   "source": [
    "# sog1st - \"split opposing geoms - 1st call\"\n",
    "G_nx_cs_sog1st = graphs.nx_split_opposing_geoms(\n",
    "    G_nx_cs_cn1st,\n",
    "    buffer_dist=parallel_consolidate_dist,\n",
    "    merge_edges_by_midline=True,\n",
    "    contains_buffer_dist=contains_buffer_dist\n",
    ")\n",
    "print(graph_size(f\"{nxmp}: `nx_split_opposing_geoms` - 1: {city}\", G_nx_cs_sog1st))"
   ]
  },
  {
   "cell_type": "markdown",
   "id": "70079b6b-5d45-4e49-b6eb-bffe41b098ac",
   "metadata": {},
   "source": [
    "#### 3.6. – `graphs.nx_consolidate_nodes(crawl=False, buffer_dist=15)`  - 2nd call\n",
    "* parameters\n",
    "  * `buffer_dist: float = parallel_consolidate_dist` --> 15\n",
    "  * `neighbour_policy: str | None = None`\n",
    "  * `crawl: bool = False`\n",
    "  * `centroid_by_itx: bool = True`\n",
    "  * `merge_edges_by_midline: bool = True`\n",
    "  * `contains_buffer_dist: int = contains_buffer_dist` --> 50\n",
    "* called [here](https://github.com/benchmark-urbanism/cityseer-api/blob/850d451886532d9dfd204c3be609ef7136746d2c/pysrc/cityseer/tools/io.py#L369)\n",
    "* func(s) called within:\n",
    "  * `graphs.nx_remove_filler_nodes()` – 3rd call\n",
    "  * ***>>>> `graphs.nx_merge_parallel_edges()` – 2nd call <<<<***"
   ]
  },
  {
   "cell_type": "code",
   "execution_count": 27,
   "id": "24aa74a1-0441-4dd8-8478-460adc4a55d2",
   "metadata": {
    "execution": {
     "iopub.execute_input": "2024-03-10T21:39:41.051872Z",
     "iopub.status.busy": "2024-03-10T21:39:41.051526Z",
     "iopub.status.idle": "2024-03-10T21:39:44.517264Z",
     "shell.execute_reply": "2024-03-10T21:39:44.516408Z",
     "shell.execute_reply.started": "2024-03-10T21:39:41.051840Z"
    }
   },
   "outputs": [
    {
     "name": "stderr",
     "output_type": "stream",
     "text": [
      "INFO:cityseer.tools.util:Creating nodes STR tree\n",
      "100%|█████████████████████████████████████████████████████████████████████████████████████████████████████████████████████████████| 22256/22256 [00:00<00:00, 122219.96it/s]\n",
      "INFO:cityseer.tools.graphs:Consolidating nodes.\n",
      "100%|██████████████████████████████████████████████████████████████████████████████████████████████████████████████████████████████| 22256/22256 [00:02<00:00, 10046.26it/s]\n",
      "INFO:cityseer.tools.graphs:Removing filler nodes.\n",
      "100%|█████████████████████████████████████████████████████████████████████████████████████████████████████████████████████████████| 21456/21456 [00:00<00:00, 308687.79it/s]\n",
      "INFO:cityseer.tools.graphs:Merging parallel edges within buffer of 50.\n",
      "100%|██████████████████████████████████████████████████████████████████████████████████████████████████████████████████████████████| 30125/30125 [00:00<00:00, 65254.81it/s]"
     ]
    },
    {
     "name": "stdout",
     "output_type": "stream",
     "text": [
      "NetworkX-Momepy: `nx_consolidate_nodes` - 2: Douala\n",
      "\t* MultiGraph with 21328 nodes and 29709 edges\n"
     ]
    },
    {
     "name": "stderr",
     "output_type": "stream",
     "text": [
      "\n"
     ]
    }
   ],
   "source": [
    "# cn2nd - \"consolidate nodes - 2nd call\"\n",
    "G_nx_cs_cn2nd = graphs.nx_consolidate_nodes(\n",
    "    G_nx_cs_sog1st,\n",
    "    buffer_dist=parallel_consolidate_dist,\n",
    "    neighbour_policy=None,\n",
    "    crawl=False,\n",
    "    centroid_by_itx=True,\n",
    "    merge_edges_by_midline=True,\n",
    "    contains_buffer_dist=contains_buffer_dist,\n",
    ")\n",
    "print(graph_size(f\"{nxmp}: `nx_consolidate_nodes` - 2: {city}\", G_nx_cs_cn2nd))"
   ]
  },
  {
   "cell_type": "markdown",
   "id": "68136549-bfaa-45b5-b9d5-4fff990ea5f4",
   "metadata": {},
   "source": [
    "#### 3.7. – `nx_remove_filler_nodes` – 4th call\n",
    "* parameters – see above\n",
    "  * none\n",
    "* called [here](https://github.com/benchmark-urbanism/cityseer-api/blob/850d451886532d9dfd204c3be609ef7136746d2c/pysrc/cityseer/tools/io.py#L374)"
   ]
  },
  {
   "cell_type": "code",
   "execution_count": 28,
   "id": "36a0a43d-e0c7-4413-ad64-7b089f2645b5",
   "metadata": {
    "execution": {
     "iopub.execute_input": "2024-03-10T21:39:44.518574Z",
     "iopub.status.busy": "2024-03-10T21:39:44.518306Z",
     "iopub.status.idle": "2024-03-10T21:39:44.808764Z",
     "shell.execute_reply": "2024-03-10T21:39:44.807847Z",
     "shell.execute_reply.started": "2024-03-10T21:39:44.518554Z"
    }
   },
   "outputs": [
    {
     "name": "stderr",
     "output_type": "stream",
     "text": [
      "INFO:cityseer.tools.graphs:Removing filler nodes.\n",
      "100%|█████████████████████████████████████████████████████████████████████████████████████████████████████████████████████████████| 21328/21328 [00:00<00:00, 373526.00it/s]"
     ]
    },
    {
     "name": "stdout",
     "output_type": "stream",
     "text": [
      "NetworkX-Momepy: `nx_remove_filler_nodes - 4`: Douala\n",
      "\t* MultiGraph with 21272 nodes and 29653 edges\n"
     ]
    },
    {
     "name": "stderr",
     "output_type": "stream",
     "text": [
      "\n"
     ]
    }
   ],
   "source": [
    "# rfn4th - \"remove filler nodes - 4th call\"\n",
    "G_nx_cs_rfn4th = graphs.nx_remove_filler_nodes(G_nx_cs_cn2nd)\n",
    "print(graph_size(f\"{nxmp}: `nx_remove_filler_nodes - 4`: {city}\", G_nx_cs_rfn4th))"
   ]
  },
  {
   "cell_type": "markdown",
   "id": "cc612537-915c-4889-a092-83c93186433c",
   "metadata": {},
   "source": [
    "#### 3.8. – `graphs.nx_iron_edges()` – 1st call\n",
    "* parameters – see [here](https://github.com/benchmark-urbanism/cityseer-api/blob/850d451886532d9dfd204c3be609ef7136746d2c/pysrc/cityseer/tools/graphs.py#L452)\n",
    "  * none\n",
    "* called [here](https://github.com/benchmark-urbanism/cityseer-api/blob/850d451886532d9dfd204c3be609ef7136746d2c/pysrc/cityseer/tools/io.py#L376)\n",
    "* func(s) called within:\n",
    "  * ***>>>> `graphs.nx_merge_parallel_edges()` – 3rd call <<<<***"
   ]
  },
  {
   "cell_type": "code",
   "execution_count": 29,
   "id": "82ec0c1b-4aee-4ada-90c5-1b1fdceed11e",
   "metadata": {
    "execution": {
     "iopub.execute_input": "2024-03-10T21:39:44.810162Z",
     "iopub.status.busy": "2024-03-10T21:39:44.809740Z",
     "iopub.status.idle": "2024-03-10T21:39:52.383577Z",
     "shell.execute_reply": "2024-03-10T21:39:52.382693Z",
     "shell.execute_reply.started": "2024-03-10T21:39:44.810145Z"
    }
   },
   "outputs": [
    {
     "name": "stderr",
     "output_type": "stream",
     "text": [
      "INFO:cityseer.tools.graphs:Ironing edges.\n",
      "100%|███████████████████████████████████████████████████████████████████████████████████████████████████████████████████████████████| 29653/29653 [00:06<00:00, 4617.51it/s]\n",
      "INFO:cityseer.tools.graphs:Merging parallel edges within buffer of 1.\n",
      "100%|█████████████████████████████████████████████████████████████████████████████████████████████████████████████████████████████| 29653/29653 [00:00<00:00, 222991.44it/s]"
     ]
    },
    {
     "name": "stdout",
     "output_type": "stream",
     "text": [
      "NetworkX-Momepy: `nx_iron_edges - 1`: Douala\n",
      "\t* MultiGraph with 21272 nodes and 29653 edges\n"
     ]
    },
    {
     "name": "stderr",
     "output_type": "stream",
     "text": [
      "\n"
     ]
    }
   ],
   "source": [
    "# ie1st - \"iron edges - 1st call\"\n",
    "G_nx_cs_ie1st = graphs.nx_iron_edges(G_nx_cs_rfn4th)\n",
    "print(graph_size(f\"{nxmp}: `nx_iron_edges - 1`: {city}\", G_nx_cs_ie1st))"
   ]
  },
  {
   "cell_type": "markdown",
   "id": "b3b0c57b-a323-4380-9c50-a4fcebcf56dd",
   "metadata": {},
   "source": [
    "#### 3.9. – `graphs.nx_split_opposing_geoms()` - 2nd call\n",
    "* parameters – see [here](https://github.com/benchmark-urbanism/cityseer-api/blob/850d451886532d9dfd204c3be609ef7136746d2c/pysrc/cityseer/tools/graphs.py#L809)\n",
    "  * `buffer_dist: float = parallel_consolidate_dist` --> 15\n",
    "  * `merge_edges_by_midline: bool = True`\n",
    "  * `contains_buffer_dist: int = contains_buffer_dist` --> 50\n",
    "* called [here](https://github.com/benchmark-urbanism/cityseer-api/blob/850d451886532d9dfd204c3be609ef7136746d2c/pysrc/cityseer/tools/io.py#L377)\n",
    "* func(s) called within:\n",
    "  * ***>>>> `graphs.nx_merge_parallel_edges()` – 3rd call <<<<*** "
   ]
  },
  {
   "cell_type": "code",
   "execution_count": 30,
   "id": "b227ea57-6c67-45c7-b419-acd07dcefb32",
   "metadata": {
    "execution": {
     "iopub.execute_input": "2024-03-10T21:39:52.384879Z",
     "iopub.status.busy": "2024-03-10T21:39:52.384342Z",
     "iopub.status.idle": "2024-03-10T21:39:56.205136Z",
     "shell.execute_reply": "2024-03-10T21:39:56.204191Z",
     "shell.execute_reply.started": "2024-03-10T21:39:52.384860Z"
    }
   },
   "outputs": [
    {
     "name": "stderr",
     "output_type": "stream",
     "text": [
      "INFO:cityseer.tools.util:Creating edges STR tree.\n",
      "100%|█████████████████████████████████████████████████████████████████████████████████████████████████████████████████████████████| 29653/29653 [00:00<00:00, 747244.98it/s]\n",
      "INFO:cityseer.tools.graphs:Splitting opposing edges.\n",
      "100%|███████████████████████████████████████████████████████████████████████████████████████████████████████████████████████████████| 21272/21272 [00:03<00:00, 6457.57it/s]\n",
      "INFO:cityseer.tools.graphs:Merging parallel edges within buffer of 50.\n",
      "100%|█████████████████████████████████████████████████████████████████████████████████████████████████████████████████████████████| 29734/29734 [00:00<00:00, 221378.25it/s]"
     ]
    },
    {
     "name": "stdout",
     "output_type": "stream",
     "text": [
      "NetworkX-Momepy: `nx_split_opposing_geoms` - 2: Douala\n",
      "\t* MultiGraph with 21353 nodes and 29732 edges\n"
     ]
    },
    {
     "name": "stderr",
     "output_type": "stream",
     "text": [
      "\n"
     ]
    }
   ],
   "source": [
    "# sog2nd - \"split opposing geoms - 2nd call\"\n",
    "G_nx_cs_sog2nd = graphs.nx_split_opposing_geoms(\n",
    "    G_nx_cs_ie1st,\n",
    "    buffer_dist=parallel_consolidate_dist,\n",
    "    merge_edges_by_midline=True,\n",
    "    contains_buffer_dist=contains_buffer_dist\n",
    ")\n",
    "print(graph_size(f\"{nxmp}: `nx_split_opposing_geoms` - 2: {city}\", G_nx_cs_sog2nd))"
   ]
  },
  {
   "cell_type": "markdown",
   "id": "63bfd849-ba98-40c7-9061-dce6d45b249a",
   "metadata": {},
   "source": [
    "#### 3.10. – `graphs.nx_consolidate_nodes(crawl=False, buffer_dist=15)`  - 3rd call\n",
    "* parameters\n",
    "  * `buffer_dist: float = parallel_consolidate_dist` --> 15\n",
    "  * `neighbour_policy: str | None = None`\n",
    "  * `crawl: bool = False`\n",
    "  * `centroid_by_itx: bool = True`\n",
    "  * `merge_edges_by_midline: bool = True`\n",
    "  * `contains_buffer_dist: int = contains_buffer_dist` --> 50\n",
    "* called [here](https://github.com/benchmark-urbanism/cityseer-api/blob/850d451886532d9dfd204c3be609ef7136746d2c/pysrc/cityseer/tools/io.py#L380)\n",
    "* func(s) called within:\n",
    "  * `graphs.nx_remove_filler_nodes()` – 5th call\n",
    "  * ***>>>> `graphs.nx_merge_parallel_edges()` – 4th call <<<<***"
   ]
  },
  {
   "cell_type": "code",
   "execution_count": 31,
   "id": "83d82eef-cd5e-4566-9e8c-3838aadfe55b",
   "metadata": {
    "execution": {
     "iopub.execute_input": "2024-03-10T21:39:56.206834Z",
     "iopub.status.busy": "2024-03-10T21:39:56.206524Z",
     "iopub.status.idle": "2024-03-10T21:39:59.311672Z",
     "shell.execute_reply": "2024-03-10T21:39:59.310814Z",
     "shell.execute_reply.started": "2024-03-10T21:39:56.206815Z"
    }
   },
   "outputs": [
    {
     "name": "stderr",
     "output_type": "stream",
     "text": [
      "INFO:cityseer.tools.util:Creating nodes STR tree\n",
      "100%|█████████████████████████████████████████████████████████████████████████████████████████████████████████████████████████████| 21353/21353 [00:00<00:00, 111830.44it/s]\n",
      "INFO:cityseer.tools.graphs:Consolidating nodes.\n",
      "100%|██████████████████████████████████████████████████████████████████████████████████████████████████████████████████████████████| 21353/21353 [00:01<00:00, 14396.51it/s]\n",
      "INFO:cityseer.tools.graphs:Removing filler nodes.\n",
      "100%|█████████████████████████████████████████████████████████████████████████████████████████████████████████████████████████████| 21256/21256 [00:00<00:00, 680020.79it/s]\n",
      "INFO:cityseer.tools.graphs:Merging parallel edges within buffer of 50.\n",
      "100%|██████████████████████████████████████████████████████████████████████████████████████████████████████████████████████████████| 29670/29670 [00:00<00:00, 32433.49it/s]"
     ]
    },
    {
     "name": "stdout",
     "output_type": "stream",
     "text": [
      "NetworkX-Momepy: `nx_consolidate_nodes` - 3: Douala\n",
      "\t* MultiGraph with 21250 nodes and 29590 edges\n"
     ]
    },
    {
     "name": "stderr",
     "output_type": "stream",
     "text": [
      "\n"
     ]
    }
   ],
   "source": [
    "# cn3rd - \"consolidate nodes - 3rd call\"\n",
    "G_nx_cs_cn3rd = graphs.nx_consolidate_nodes(\n",
    "    G_nx_cs_sog2nd,\n",
    "    buffer_dist=parallel_consolidate_dist,\n",
    "    neighbour_policy=None,\n",
    "    crawl=False,\n",
    "    centroid_by_itx=True,\n",
    "    merge_edges_by_midline=True,\n",
    "    contains_buffer_dist=contains_buffer_dist,\n",
    ")\n",
    "print(graph_size(f\"{nxmp}: `nx_consolidate_nodes` - 3: {city}\", G_nx_cs_cn3rd))"
   ]
  },
  {
   "cell_type": "markdown",
   "id": "865fd14d-d05b-4bbe-ab63-d5f41c1c8275",
   "metadata": {},
   "source": [
    "#### 3.11. – `nx_remove_filler_nodes` – 5th call\n",
    "* parameters – see above\n",
    "  * none\n",
    "* called [here](https://github.com/benchmark-urbanism/cityseer-api/blob/850d451886532d9dfd204c3be609ef7136746d2c/pysrc/cityseer/tools/io.py#L385)"
   ]
  },
  {
   "cell_type": "code",
   "execution_count": 32,
   "id": "148c9f37-2c7e-4552-84dc-2dea2443d60d",
   "metadata": {
    "execution": {
     "iopub.execute_input": "2024-03-10T21:39:59.315174Z",
     "iopub.status.busy": "2024-03-10T21:39:59.314897Z",
     "iopub.status.idle": "2024-03-10T21:39:59.565130Z",
     "shell.execute_reply": "2024-03-10T21:39:59.564133Z",
     "shell.execute_reply.started": "2024-03-10T21:39:59.315156Z"
    }
   },
   "outputs": [
    {
     "name": "stderr",
     "output_type": "stream",
     "text": [
      "INFO:cityseer.tools.graphs:Removing filler nodes.\n",
      "100%|█████████████████████████████████████████████████████████████████████████████████████████████████████████████████████████████| 21250/21250 [00:00<00:00, 682933.44it/s]"
     ]
    },
    {
     "name": "stdout",
     "output_type": "stream",
     "text": [
      "NetworkX-Momepy: `nx_remove_filler_nodes - 6`: Douala\n",
      "\t* MultiGraph with 21243 nodes and 29583 edges\n"
     ]
    },
    {
     "name": "stderr",
     "output_type": "stream",
     "text": [
      "\n"
     ]
    }
   ],
   "source": [
    "# rfn6th - \"remove filler nodes - 6th call\"\n",
    "G_nx_cs_rfn6th = graphs.nx_remove_filler_nodes(G_nx_cs_cn3rd)\n",
    "print(graph_size(f\"{nxmp}: `nx_remove_filler_nodes - 6`: {city}\", G_nx_cs_rfn6th))"
   ]
  },
  {
   "cell_type": "markdown",
   "id": "5c86207e-d823-4cda-a73a-9c65550d4329",
   "metadata": {},
   "source": [
    "#### 3.12. – `graphs.nx_iron_edges()` – 2nd call\n",
    "* parameters – see above\n",
    "  * none\n",
    "* called [here](https://github.com/benchmark-urbanism/cityseer-api/blob/850d451886532d9dfd204c3be609ef7136746d2c/pysrc/cityseer/tools/io.py#L387)\n",
    "* func(s) called within:\n",
    "  * ***>>>> `graphs.nx_merge_parallel_edges()` – 5th call <<<<***"
   ]
  },
  {
   "cell_type": "code",
   "execution_count": 33,
   "id": "63c619b7-f8c7-4639-9664-a15ad0792f6e",
   "metadata": {
    "execution": {
     "iopub.execute_input": "2024-03-10T21:39:59.566784Z",
     "iopub.status.busy": "2024-03-10T21:39:59.566355Z",
     "iopub.status.idle": "2024-03-10T21:40:05.732369Z",
     "shell.execute_reply": "2024-03-10T21:40:05.731511Z",
     "shell.execute_reply.started": "2024-03-10T21:39:59.566765Z"
    }
   },
   "outputs": [
    {
     "name": "stderr",
     "output_type": "stream",
     "text": [
      "INFO:cityseer.tools.graphs:Ironing edges.\n",
      "100%|███████████████████████████████████████████████████████████████████████████████████████████████████████████████████████████████| 29583/29583 [00:05<00:00, 5151.38it/s]\n",
      "INFO:cityseer.tools.graphs:Merging parallel edges within buffer of 1.\n",
      "100%|█████████████████████████████████████████████████████████████████████████████████████████████████████████████████████████████| 29583/29583 [00:00<00:00, 229732.01it/s]"
     ]
    },
    {
     "name": "stdout",
     "output_type": "stream",
     "text": [
      "NetworkX-Momepy: `nx_iron_edges - 2`: Douala\n",
      "\t* MultiGraph with 21243 nodes and 29583 edges\n"
     ]
    },
    {
     "name": "stderr",
     "output_type": "stream",
     "text": [
      "\n"
     ]
    }
   ],
   "source": [
    "# ie2nd - \"iron edges - 2nd call\"\n",
    "G_nx_cs_ie2nd = graphs.nx_iron_edges(G_nx_cs_rfn6th)\n",
    "print(graph_size(f\"{nxmp}: `nx_iron_edges - 2`: {city}\", G_nx_cs_ie2nd))"
   ]
  },
  {
   "cell_type": "markdown",
   "id": "df68ff4a-759c-4924-8a11-e1ba30606ed5",
   "metadata": {},
   "source": [
    "------------------------------\n",
    "## 4. Initial vs. Final"
   ]
  },
  {
   "cell_type": "code",
   "execution_count": 34,
   "id": "b1a589fc-fba6-4c74-a7bd-6ebd5b89526a",
   "metadata": {
    "execution": {
     "iopub.execute_input": "2024-03-10T21:40:05.733364Z",
     "iopub.status.busy": "2024-03-10T21:40:05.733080Z",
     "iopub.status.idle": "2024-03-10T21:40:05.820453Z",
     "shell.execute_reply": "2024-03-10T21:40:05.819744Z",
     "shell.execute_reply.started": "2024-03-10T21:40:05.733344Z"
    }
   },
   "outputs": [
    {
     "name": "stdout",
     "output_type": "stream",
     "text": [
      "Started with raw: Douala\n",
      "\t* MultiGraph with 80052 nodes and 88746 edges\n",
      "Ended with – simplified: Douala\n",
      "\t* MultiGraph with 21243 nodes and 29583 edges\n"
     ]
    }
   ],
   "source": [
    "print(\n",
    "    f\"Started with {graph_size(f'raw: {city}', G_nx_cs)}\\n\"\n",
    "    f\"Ended with – {graph_size(f'simplified: {city}', G_nx_cs_ie2nd)}\"\n",
    ")"
   ]
  },
  {
   "cell_type": "markdown",
   "id": "625631bf-85fc-4805-a0df-2d065a8df1fe",
   "metadata": {},
   "source": [
    "### Prep for some viz"
   ]
  },
  {
   "cell_type": "code",
   "execution_count": 37,
   "id": "8cf1f784-6623-41d9-8881-9ab3efe817aa",
   "metadata": {
    "execution": {
     "iopub.execute_input": "2024-03-10T21:41:26.719089Z",
     "iopub.status.busy": "2024-03-10T21:41:26.718811Z",
     "iopub.status.idle": "2024-03-10T21:41:26.722189Z",
     "shell.execute_reply": "2024-03-10T21:41:26.721305Z",
     "shell.execute_reply.started": "2024-03-10T21:41:26.719069Z"
    }
   },
   "outputs": [],
   "source": [
    "fpath = pathlib.Path(\"..\", \"usecases\", \"809\", \"cityseer\", \"outdata\")\n",
    "fbase = \"{}_{}_{}.geojson\""
   ]
  },
  {
   "cell_type": "markdown",
   "id": "81eb8184-903b-441e-bf19-648ceec7b19e",
   "metadata": {},
   "source": [
    "##### Raw/bare network"
   ]
  },
  {
   "cell_type": "code",
   "execution_count": 38,
   "id": "e44e1cc9-2af4-49d1-b6a9-864f829128bf",
   "metadata": {
    "execution": {
     "iopub.execute_input": "2024-03-10T21:41:28.431396Z",
     "iopub.status.busy": "2024-03-10T21:41:28.430905Z",
     "iopub.status.idle": "2024-03-10T21:41:43.934705Z",
     "shell.execute_reply": "2024-03-10T21:41:43.934120Z",
     "shell.execute_reply.started": "2024-03-10T21:41:28.431360Z"
    },
    "scrolled": true
   },
   "outputs": [],
   "source": [
    "mm_nodes_raw, mm_edges_raw = momepy.nx_to_gdf(G_nx_mm)\n",
    "(\n",
    "    mm_nodes_raw\n",
    "    .to_crs(4326)\n",
    "    .to_file(fpath / fbase.format(\"mm\", \"nodes\", \"raw\"))\n",
    ")\n",
    "(\n",
    "    mm_edges_raw\n",
    "    .to_crs(4326)\n",
    "    .to_file(fpath / fbase.format(\"mm\", \"edges\", \"raw\"))\n",
    ")"
   ]
  },
  {
   "cell_type": "markdown",
   "id": "0d926057-296a-4663-ac36-7aa99b752938",
   "metadata": {
    "execution": {
     "iopub.execute_input": "2024-03-10T20:48:15.373823Z",
     "iopub.status.busy": "2024-03-10T20:48:15.373221Z",
     "iopub.status.idle": "2024-03-10T20:48:15.379839Z",
     "shell.execute_reply": "2024-03-10T20:48:15.378431Z",
     "shell.execute_reply.started": "2024-03-10T20:48:15.373780Z"
    }
   },
   "source": [
    "##### Simplified network"
   ]
  },
  {
   "cell_type": "code",
   "execution_count": 39,
   "id": "3e4d1ba3-1b61-4bdb-a458-af9cb15a8e3d",
   "metadata": {
    "execution": {
     "iopub.execute_input": "2024-03-10T21:41:43.936691Z",
     "iopub.status.busy": "2024-03-10T21:41:43.936135Z",
     "iopub.status.idle": "2024-03-10T21:41:50.620955Z",
     "shell.execute_reply": "2024-03-10T21:41:50.620076Z",
     "shell.execute_reply.started": "2024-03-10T21:41:43.936657Z"
    }
   },
   "outputs": [
    {
     "name": "stderr",
     "output_type": "stream",
     "text": [
      "INFO:cityseer.tools.io:Preparing node and edge arrays from networkX graph.\n"
     ]
    }
   ],
   "source": [
    "cs_road_simp = (\n",
    "    io\n",
    "    .geopandas_from_nx(G_nx_cs_ie2nd, crs=roads_bare.crs)\n",
    "    .rename_geometry(\"geometry\")\n",
    ")\n",
    "cs_G_simp = momepy.gdf_to_nx(cs_road_simp, integer_labels=True)\n",
    "cs_nodes_simp, cs_edges_simp = momepy.nx_to_gdf(cs_G_simp)\n",
    "(\n",
    "    cs_nodes_simp\n",
    "    .to_crs(4326)\n",
    "    .to_file(fpath / fbase.format(\"cs\", \"nodes\", \"simplified\"))\n",
    ")\n",
    "(\n",
    "    cs_edges_simp\n",
    "    .to_crs(4326)\n",
    "    .to_file(fpath / fbase.format(\"cs\", \"edges\", \"simplified\"))\n",
    ")"
   ]
  },
  {
   "cell_type": "code",
   "execution_count": 40,
   "id": "70936af5-741a-48d9-83a6-787b1a75f4c2",
   "metadata": {
    "execution": {
     "iopub.execute_input": "2024-03-10T21:41:50.622414Z",
     "iopub.status.busy": "2024-03-10T21:41:50.622090Z",
     "iopub.status.idle": "2024-03-10T21:41:55.788582Z",
     "shell.execute_reply": "2024-03-10T21:41:55.787657Z",
     "shell.execute_reply.started": "2024-03-10T21:41:50.622395Z"
    }
   },
   "outputs": [],
   "source": [
    "cs_nodes_simp, cs_edges_simp = momepy.nx_to_gdf(cs_G_simp)\n",
    "cs_nodes_simp.to_file(fpath / fbase.format(\"cs\", \"nodes\", \"simplified\"))\n",
    "cs_edges_simp.to_file(fpath / fbase.format(\"cs\", \"edges\", \"simplified\"))"
   ]
  },
  {
   "cell_type": "markdown",
   "id": "57da27cc-a03a-4358-8fa0-185d439426e1",
   "metadata": {
    "execution": {
     "iopub.status.busy": "2024-03-06T02:50:20.361065Z",
     "iopub.status.idle": "2024-03-06T02:50:20.361364Z",
     "shell.execute_reply": "2024-03-06T02:50:20.361262Z",
     "shell.execute_reply.started": "2024-03-06T02:50:20.361252Z"
    }
   },
   "source": [
    "-------------------------------\n",
    "\n",
    "## 5. Other stuff\n",
    "\n",
    "* `graphs.nx_weight_by_dissolved_edges()`\n",
    "  * see [here](https://github.com/benchmark-urbanism/cityseer-api/blob/850d451886532d9dfd204c3be609ef7136746d2c/pysrc/cityseer/tools/graphs.py#L1345)"
   ]
  },
  {
   "cell_type": "markdown",
   "id": "8fb19815-cde4-4748-a76c-b0b914363641",
   "metadata": {},
   "source": [
    "-----------------------------------"
   ]
  }
 ],
 "metadata": {
  "gist_info": {
   "create_date": "2024-01-22T01:48:06Z",
   "gist_id": "582dc1f207054a861eda93e975713b4b",
   "gist_url": "https://gist.github.com/jGaboardi/582dc1f207054a861eda93e975713b4b"
  },
  "kernelspec": {
   "display_name": "Python [conda env:py312_uscuni_simplification]",
   "language": "python",
   "name": "conda-env-py312_uscuni_simplification-py"
  },
  "language_info": {
   "codemirror_mode": {
    "name": "ipython",
    "version": 3
   },
   "file_extension": ".py",
   "mimetype": "text/x-python",
   "name": "python",
   "nbconvert_exporter": "python",
   "pygments_lexer": "ipython3",
   "version": "3.12.2"
  }
 },
 "nbformat": 4,
 "nbformat_minor": 5
}
