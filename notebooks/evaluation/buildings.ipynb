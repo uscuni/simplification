{
 "cells": [
  {
   "cell_type": "markdown",
   "metadata": {},
   "source": [
    "# Enhanced evaluation with building data\n",
    "\n",
    "To Do:\n",
    "- [x] fetch OSM building data for all FUAs\n",
    "- [ ] re-run neatnet: `methods/neatnet-buildings.ipynb`, where in the 2nd case we use an exclusion mask for polygons containing buildings\n",
    "- [ ] re-run statistical_comparison but *only* for neatnet with vs. without builings\n",
    "- [ ] comparison plots of neatnet with vs. without buildings"
   ]
  },
  {
   "cell_type": "code",
   "execution_count": 1,
   "metadata": {},
   "outputs": [],
   "source": [
    "import os\n",
    "\n",
    "import geopandas as gpd\n",
    "import osmnx as ox\n",
    "\n",
    "from core import utils"
   ]
  },
  {
   "cell_type": "markdown",
   "metadata": {},
   "source": [
    "Fetching building data"
   ]
  },
  {
   "cell_type": "code",
   "execution_count": 2,
   "metadata": {},
   "outputs": [
    {
     "name": "stdout",
     "output_type": "stream",
     "text": [
      "Fetching building data for Aleppo\n",
      "Downloaded buildings for Aleppo\n",
      "Removing 12 of 300129 rows (non-polygon types)\n",
      "Building data for Aleppo saved\n",
      "Fetching building data for Auckland\n",
      "Downloaded buildings for Auckland\n",
      "Removing 26 of 368602 rows (non-polygon types)\n",
      "Building data for Auckland saved\n",
      "Fetching building data for Bucaramanga\n",
      "Downloaded buildings for Bucaramanga\n",
      "Removing 22 of 79776 rows (non-polygon types)\n",
      "Building data for Bucaramanga saved\n",
      "Fetching building data for Douala\n",
      "Downloaded buildings for Douala\n",
      "Removing 37 of 289375 rows (non-polygon types)\n",
      "Building data for Douala saved\n",
      "Fetching building data for Liège\n",
      "Downloaded buildings for Liège\n",
      "Removing 121 of 582406 rows (non-polygon types)\n",
      "Building data for Liège saved\n",
      "Fetching building data for Salt Lake City\n",
      "Downloaded buildings for Salt Lake City\n",
      "Removing 246 of 247754 rows (non-polygon types)\n",
      "Building data for Salt Lake City saved\n",
      "Fetching building data for Wuhan\n",
      "Downloaded buildings for Wuhan\n",
      "Removing 46 of 37296 rows (non-polygon types)\n",
      "Building data for Wuhan saved\n"
     ]
    }
   ],
   "source": [
    "for fua in utils.fua_city:\n",
    "    # make folders for building data\n",
    "    city = utils.fua_city[fua]\n",
    "    fp_buildings = f\"../../data/{fua}/buildings/\"\n",
    "    os.makedirs(fp_buildings, exist_ok=True)\n",
    "    print(f\"Fetching building data for {city}\")\n",
    "\n",
    "    # read in original data\n",
    "    gdf = utils.read_original(fua)\n",
    "    gdf = gdf.to_crs(\"EPSG:4326\")\n",
    "    bbox = gdf.union_all().envelope\n",
    "    buildings = ox.features_from_polygon(\n",
    "        polygon=bbox,\n",
    "        tags={\"building\": True},\n",
    "    )\n",
    "    buildings = buildings.explode()\n",
    "    print(f\"Downloaded buildings for {city}\")\n",
    "    not_polygons_count = len(buildings[buildings.geometry.type != \"Polygon\"])\n",
    "    print(f\"Removing {not_polygons_count} of {len(buildings)} rows (non-polygon types)\")\n",
    "    buildings = buildings[buildings.geometry.type == \"Polygon\"]\n",
    "    buildings.reset_index(drop=True, inplace=True)\n",
    "    buildings[[\"geometry\"]].to_parquet(fp_buildings + \"buildings.parquet\", index=False)\n",
    "    print(f\"Building data for {city} saved\")"
   ]
  }
 ],
 "metadata": {
  "kernelspec": {
   "display_name": "tests",
   "language": "python",
   "name": "python3"
  },
  "language_info": {
   "codemirror_mode": {
    "name": "ipython",
    "version": 3
   },
   "file_extension": ".py",
   "mimetype": "text/x-python",
   "name": "python",
   "nbconvert_exporter": "python",
   "pygments_lexer": "ipython3",
   "version": "3.12.8"
  }
 },
 "nbformat": 4,
 "nbformat_minor": 2
}
