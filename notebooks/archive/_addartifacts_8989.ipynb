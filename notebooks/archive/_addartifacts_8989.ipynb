{
 "cells": [
  {
   "cell_type": "markdown",
   "metadata": {},
   "source": [
    "Adding \"is_artifact\" column to Wuhan (8989)\n",
    "\n",
    "cf. here: https://github.com/martinfleis/urban-block-artifacts/blob/main/code/08_validation.ipynb "
   ]
  },
  {
   "cell_type": "code",
   "execution_count": 1,
   "metadata": {},
   "outputs": [],
   "source": [
    "import json\n",
    "\n",
    "import dask_geopandas\n",
    "import geopandas as gpd"
   ]
  },
  {
   "cell_type": "code",
   "execution_count": 3,
   "metadata": {},
   "outputs": [],
   "source": [
    "with open(\"../data/04_peaks_results.json\") as f:\n",
    "    results = json.load(f)\n",
    "\n",
    "myid = 8989\n",
    "city = \"Wuhan\"\n",
    "polygons = gpd.read_parquet(f\"../data/{myid}/polygons/\")\n",
    "\n",
    "# find predicted artifacts\n",
    "option = \"circular_compactness_index\"\n",
    "threshold = results[city][option][\"threshold\"]\n",
    "polygons[\"is_artifact\"] = False  # set default to False\n",
    "polygons.loc[polygons[\"circular_compactness_index\"] <= threshold, \"is_artifact\"] = (\n",
    "    True  # set to True for polygons where index is below the threshold\n",
    ")"
   ]
  },
  {
   "cell_type": "code",
   "execution_count": 4,
   "metadata": {},
   "outputs": [],
   "source": [
    "# save polygons to a partitioned GeoParquet, overwriting original polygons\n",
    "polygons = dask_geopandas.from_geopandas(polygons, npartitions=10)\n",
    "polygons.to_parquet(f\"../data/{int(myid)}/polygons/\")"
   ]
  }
 ],
 "metadata": {
  "kernelspec": {
   "display_name": "Python 3 (ipykernel)",
   "language": "python",
   "name": "python3"
  },
  "language_info": {
   "codemirror_mode": {
    "name": "ipython",
    "version": 3
   },
   "file_extension": ".py",
   "mimetype": "text/x-python",
   "name": "python",
   "nbconvert_exporter": "python",
   "pygments_lexer": "ipython3",
   "version": "3.11.10"
  }
 },
 "nbformat": 4,
 "nbformat_minor": 4
}
