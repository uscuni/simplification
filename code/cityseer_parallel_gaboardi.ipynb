{
 "cells": [
  {
   "cell_type": "markdown",
   "id": "07bfd607-b784-4fa9-a706-60084383e81a",
   "metadata": {},
   "source": [
    "# `nx_merge_parallel_edges()` with [`cityseer`](https://github.com/benchmark-urbanism/cityseer-api)\n",
    "\n",
    "* **Simons, G.** (2023). *The cityseer Python package for pedestrian-scale network-based urban analysis*. Environment and Planning B: Urban Analytics and City Science, 50(5), 1328-1344. https://doi.org/10.1177/23998083221133827\n",
    "\n",
    "-----------------\n",
    "\n",
    "1. Setup\n",
    "2. Prep `cityseer` graph\n",
    "3. Experiment\n",
    "4. Viz\n",
    "\n",
    "-----------------\n",
    "\n",
    "## 1. Setup"
   ]
  },
  {
   "cell_type": "code",
   "execution_count": 1,
   "id": "571e1dd3-ce27-4c26-a199-30da6e77ebb8",
   "metadata": {
    "execution": {
     "iopub.execute_input": "2024-06-12T21:40:23.957934Z",
     "iopub.status.busy": "2024-06-12T21:40:23.957595Z",
     "iopub.status.idle": "2024-06-12T21:40:23.983413Z",
     "shell.execute_reply": "2024-06-12T21:40:23.983108Z",
     "shell.execute_reply.started": "2024-06-12T21:40:23.957913Z"
    }
   },
   "outputs": [
    {
     "name": "stdout",
     "output_type": "stream",
     "text": [
      "Last updated: 2024-06-12T17:40:23.976317-04:00\n",
      "\n",
      "Python implementation: CPython\n",
      "Python version       : 3.11.9\n",
      "IPython version      : 8.25.0\n",
      "\n",
      "Compiler    : Clang 16.0.6 \n",
      "OS          : Darwin\n",
      "Release     : 23.5.0\n",
      "Machine     : arm64\n",
      "Processor   : arm\n",
      "CPU cores   : 8\n",
      "Architecture: 64bit\n",
      "\n"
     ]
    }
   ],
   "source": [
    "%load_ext watermark\n",
    "%watermark"
   ]
  },
  {
   "cell_type": "code",
   "execution_count": 2,
   "id": "f4ec78c3-cc55-4c1d-aef0-ed33b44b98b5",
   "metadata": {
    "execution": {
     "iopub.execute_input": "2024-06-12T21:40:23.984134Z",
     "iopub.status.busy": "2024-06-12T21:40:23.984039Z",
     "iopub.status.idle": "2024-06-12T21:40:25.712685Z",
     "shell.execute_reply": "2024-06-12T21:40:25.712484Z",
     "shell.execute_reply.started": "2024-06-12T21:40:23.984121Z"
    }
   },
   "outputs": [
    {
     "name": "stdout",
     "output_type": "stream",
     "text": [
      "Watermark: 2.4.3\n",
      "\n",
      "core     : 0.1.dev99+gb02958b.d20240608\n",
      "momepy   : 0.7.1.dev43+g6f1d740\n",
      "cityseer : 4.12.0\n",
      "pyproj   : 3.6.1\n",
      "networkx : 3.3\n",
      "geopandas: 0.14.4\n",
      "\n"
     ]
    }
   ],
   "source": [
    "import cityseer  # noqa: F401\n",
    "import geopandas\n",
    "import momepy\n",
    "import networkx\n",
    "import pyproj\n",
    "import core\n",
    "from cityseer.tools import graphs, io\n",
    "\n",
    "%watermark -w\n",
    "%watermark -iv"
   ]
  },
  {
   "cell_type": "code",
   "execution_count": 3,
   "id": "91bd144e-b567-4edd-8693-5b7d8d40bd16",
   "metadata": {
    "execution": {
     "iopub.execute_input": "2024-06-12T21:40:25.713241Z",
     "iopub.status.busy": "2024-06-12T21:40:25.713079Z",
     "iopub.status.idle": "2024-06-12T21:40:25.727125Z",
     "shell.execute_reply": "2024-06-12T21:40:25.726930Z",
     "shell.execute_reply.started": "2024-06-12T21:40:25.713233Z"
    }
   },
   "outputs": [
    {
     "data": {
      "text/plain": [
       "\u001b[0;31mSignature:\u001b[0m\n",
       "\u001b[0mgraphs\u001b[0m\u001b[0;34m.\u001b[0m\u001b[0mnx_merge_parallel_edges\u001b[0m\u001b[0;34m(\u001b[0m\u001b[0;34m\u001b[0m\n",
       "\u001b[0;34m\u001b[0m    \u001b[0mnx_multigraph\u001b[0m\u001b[0;34m:\u001b[0m \u001b[0;34m'MultiGraph'\u001b[0m\u001b[0;34m,\u001b[0m\u001b[0;34m\u001b[0m\n",
       "\u001b[0;34m\u001b[0m    \u001b[0mmerge_edges_by_midline\u001b[0m\u001b[0;34m:\u001b[0m \u001b[0;34m'bool'\u001b[0m\u001b[0;34m,\u001b[0m\u001b[0;34m\u001b[0m\n",
       "\u001b[0;34m\u001b[0m    \u001b[0mcontains_buffer_dist\u001b[0m\u001b[0;34m:\u001b[0m \u001b[0;34m'int'\u001b[0m\u001b[0;34m,\u001b[0m\u001b[0;34m\u001b[0m\n",
       "\u001b[0;34m\u001b[0m\u001b[0;34m)\u001b[0m \u001b[0;34m->\u001b[0m \u001b[0;34m'MultiGraph'\u001b[0m\u001b[0;34m\u001b[0m\u001b[0;34m\u001b[0m\u001b[0m\n",
       "\u001b[0;31mDocstring:\u001b[0m\n",
       "Check a MultiGraph for duplicate edges; which, if found, will be merged.\n",
       "\n",
       "The shortest of these parallel edges is selected and buffered by `contains_buffer_dist`. If this buffer contains an\n",
       "adjacent edge, then the adjacent edge is merged. Edges falling outside this buffer are retained.\n",
       "\n",
       "When candidate edges are found for merging, they are replaced by a single new edge. The new geometry selected from\n",
       "either:\n",
       "- An imaginary centreline of the combined edges if `merge_edges_by_midline` is set to `True`;\n",
       "- Else, the shortest edge is retained, with longer edges discarded.\n",
       "\n",
       "Parameters\n",
       "----------\n",
       "nx_multigraph: MultiGraph\n",
       "    A `networkX` `MultiGraph` in a projected coordinate system, containing `x` and `y` node attributes, and `geom`\n",
       "    edge attributes containing `LineString` geoms.\n",
       "merge_edges_by_midline: bool\n",
       "    Whether to merge parallel edges by an imaginary centreline. If set to False, then the shortest edge will be\n",
       "    retained as the new geometry and the longer edges will be discarded. Defaults to True.\n",
       "contains_buffer_dist: int\n",
       "    The buffer distance to consider when checking if parallel edges sharing the same start and end nodes are\n",
       "    sufficiently adjacent to be merged.\n",
       "\n",
       "Returns\n",
       "-------\n",
       "MultiGraph\n",
       "    A `networkX` `MultiGraph` with consolidated nodes.\n",
       "\u001b[0;31mFile:\u001b[0m      ~/miniforge3/envs/py311_uscuni_simplification/lib/python3.11/site-packages/cityseer/tools/graphs.py\n",
       "\u001b[0;31mType:\u001b[0m      function"
      ]
     },
     "metadata": {},
     "output_type": "display_data"
    }
   ],
   "source": [
    "graphs.nx_merge_parallel_edges?"
   ]
  },
  {
   "cell_type": "markdown",
   "id": "cffc8744-2905-404c-8a65-fae30a62c8b8",
   "metadata": {},
   "source": [
    "### Funtions"
   ]
  },
  {
   "cell_type": "code",
   "execution_count": 4,
   "id": "528114a6-c02f-4546-bea7-e96dc36a108f",
   "metadata": {
    "execution": {
     "iopub.execute_input": "2024-06-12T21:40:25.727588Z",
     "iopub.status.busy": "2024-06-12T21:40:25.727515Z",
     "iopub.status.idle": "2024-06-12T21:40:25.729484Z",
     "shell.execute_reply": "2024-06-12T21:40:25.729304Z",
     "shell.execute_reply.started": "2024-06-12T21:40:25.727580Z"
    }
   },
   "outputs": [],
   "source": [
    "def merge_parallel_routine(\n",
    "    graph: networkx.Graph, midline: bool, buff: int | float\n",
    ") -> networkx.Graph:\n",
    "    # \"simple geoms\"\n",
    "    _g = graphs.nx_simple_geoms(graph.copy())\n",
    "    print(core.utils.graph_size(f\"simple geoms: {city}\", _g))\n",
    "\n",
    "    # \"remove filler nodes\"\n",
    "    _g = graphs.nx_remove_filler_nodes(_g.copy())\n",
    "    print(core.utils.graph_size(f\"remove filler nodes: {city}\", _g))\n",
    "\n",
    "    # run ``nx_merge_parallel_edges``\n",
    "    _g = graphs.nx_merge_parallel_edges(_g.copy(), midline, buff)\n",
    "    print(core.utils.graph_size(f\"merged parallel edges\\n  {buff=}m\", _g))\n",
    "\n",
    "    return _g"
   ]
  },
  {
   "cell_type": "code",
   "execution_count": 5,
   "id": "95c1248f-9972-4bc2-a88e-a0988b6f4f1c",
   "metadata": {
    "execution": {
     "iopub.execute_input": "2024-06-12T21:40:25.729827Z",
     "iopub.status.busy": "2024-06-12T21:40:25.729770Z",
     "iopub.status.idle": "2024-06-12T21:40:25.731658Z",
     "shell.execute_reply": "2024-06-12T21:40:25.731491Z",
     "shell.execute_reply.started": "2024-06-12T21:40:25.729821Z"
    }
   },
   "outputs": [],
   "source": [
    "def convert_cs2mm(\n",
    "    graph: networkx.Graph, crs: pyproj.CRS\n",
    ") -> tuple[geopandas.GeoDataFrame, geopandas.GeoDataFrame]:\n",
    "    \"\"\"conversion from ``cityseer`` format to ``momepy``/``geopandas``\"\"\"\n",
    "\n",
    "    cs_gdf = io.geopandas_from_nx(graph, crs=crs).rename_geometry(\"geometry\")\n",
    "    mm_nx = momepy.gdf_to_nx(cs_gdf, integer_labels=True)\n",
    "\n",
    "    n, e = momepy.nx_to_gdf(mm_nx)\n",
    "    n = n[[\"nodeID\", \"geometry\"]].copy()\n",
    "    e = e[[\"node_start\", \"node_end\", \"geometry\"]].copy()\n",
    "\n",
    "    return n, e"
   ]
  },
  {
   "cell_type": "markdown",
   "id": "5dd4cc4a-2185-483d-a61a-1e51c7e7bfd9",
   "metadata": {},
   "source": [
    "-----------------------------------------\n",
    "## 2. Prep `cityseer` graph"
   ]
  },
  {
   "cell_type": "markdown",
   "id": "ae1a3c13-d774-4d49-935c-06ca03209b40",
   "metadata": {},
   "source": [
    "* https://cityseer.benchmarkurbanism.com/tools/graphs#nx-merge-parallel-edges"
   ]
  },
  {
   "cell_type": "code",
   "execution_count": 6,
   "id": "961ffe2d-9f18-4532-b500-22154ce569c3",
   "metadata": {
    "execution": {
     "iopub.execute_input": "2024-06-12T21:40:25.732863Z",
     "iopub.status.busy": "2024-06-12T21:40:25.732790Z",
     "iopub.status.idle": "2024-06-12T21:40:25.735098Z",
     "shell.execute_reply": "2024-06-12T21:40:25.734942Z",
     "shell.execute_reply.started": "2024-06-12T21:40:25.732856Z"
    }
   },
   "outputs": [
    {
     "data": {
      "text/plain": [
       "1656"
      ]
     },
     "execution_count": 6,
     "metadata": {},
     "output_type": "execute_result"
    }
   ],
   "source": [
    "# city = \"Douala\"\n",
    "city = \"Liège\"\n",
    "core.utils.city_fua[city]"
   ]
  },
  {
   "cell_type": "code",
   "execution_count": 7,
   "id": "b9ae12c1-97fd-4c5e-bc9d-434242e54b57",
   "metadata": {
    "execution": {
     "iopub.execute_input": "2024-06-12T21:40:25.735446Z",
     "iopub.status.busy": "2024-06-12T21:40:25.735388Z",
     "iopub.status.idle": "2024-06-12T21:40:25.843054Z",
     "shell.execute_reply": "2024-06-12T21:40:25.842794Z",
     "shell.execute_reply.started": "2024-06-12T21:40:25.735439Z"
    }
   },
   "outputs": [],
   "source": [
    "roads_bare = core.utils.read_parquet_roads(core.utils.city_fua[city])\n",
    "orig_crs = roads_bare.crs"
   ]
  },
  {
   "cell_type": "markdown",
   "id": "71a21223-efaf-4579-b330-207e8e9d02b7",
   "metadata": {},
   "source": [
    "### Convert edges `geopandas.GeoDataFrame` to `cityseer`-compatible `networkx.Graph`\n",
    "* performs an initial 1-meter parallel edge buffer"
   ]
  },
  {
   "cell_type": "code",
   "execution_count": 8,
   "id": "51e454d4-a271-4a83-9e83-ac1d8a40d831",
   "metadata": {
    "execution": {
     "iopub.execute_input": "2024-06-12T21:40:25.843585Z",
     "iopub.status.busy": "2024-06-12T21:40:25.843508Z",
     "iopub.status.idle": "2024-06-12T21:40:29.180830Z",
     "shell.execute_reply": "2024-06-12T21:40:29.180588Z",
     "shell.execute_reply.started": "2024-06-12T21:40:25.843576Z"
    }
   },
   "outputs": [
    {
     "name": "stderr",
     "output_type": "stream",
     "text": [
      "INFO:cityseer.tools.graphs:Merging parallel edges within buffer of 1.\n",
      "100%|███████████████████████████████| 105174/105174 [00:00<00:00, 270345.20it/s]"
     ]
    },
    {
     "name": "stdout",
     "output_type": "stream",
     "text": [
      "NetworkX Graph from CitySeer: Liège\n",
      "\t* MultiGraph with 98777 nodes and 105156 edges\n"
     ]
    },
    {
     "name": "stderr",
     "output_type": "stream",
     "text": [
      "\n"
     ]
    }
   ],
   "source": [
    "G = io.nx_from_generic_geopandas(roads_bare)\n",
    "print(core.utils.graph_size(f\"NetworkX Graph from CitySeer: {city}\", G))"
   ]
  },
  {
   "cell_type": "markdown",
   "id": "bd8efc17-b80e-448b-a8f9-478a2a9ed602",
   "metadata": {},
   "source": [
    "--------------------------------------\n",
    "\n",
    "## 3. Experiement\n",
    "\n",
    "### params\n",
    "* Merge parallel edges by 2 methods: a derived centerline and the shortest edge\n",
    "* Use a buffer of 5m to 100m, by 5m"
   ]
  },
  {
   "cell_type": "code",
   "execution_count": 9,
   "id": "305501bd-3ee4-49c4-adf3-3059c9bf550b",
   "metadata": {
    "execution": {
     "iopub.execute_input": "2024-06-12T21:40:29.181333Z",
     "iopub.status.busy": "2024-06-12T21:40:29.181255Z",
     "iopub.status.idle": "2024-06-12T21:40:29.182942Z",
     "shell.execute_reply": "2024-06-12T21:40:29.182742Z",
     "shell.execute_reply.started": "2024-06-12T21:40:29.181325Z"
    }
   },
   "outputs": [],
   "source": [
    "merge_edges_by_midline = [True, False]\n",
    "contains_buffer_dists = list(range(5, 101, 5))"
   ]
  },
  {
   "cell_type": "code",
   "execution_count": 10,
   "id": "4f09f3a7-15a4-4018-8051-15d0ce1c4fb5",
   "metadata": {
    "execution": {
     "iopub.execute_input": "2024-06-12T21:40:29.183264Z",
     "iopub.status.busy": "2024-06-12T21:40:29.183200Z",
     "iopub.status.idle": "2024-06-12T21:46:49.098326Z",
     "shell.execute_reply": "2024-06-12T21:46:49.098006Z",
     "shell.execute_reply.started": "2024-06-12T21:40:29.183256Z"
    }
   },
   "outputs": [
    {
     "name": "stderr",
     "output_type": "stream",
     "text": [
      "INFO:cityseer.tools.graphs:Generating interpolated edge geometries.\n",
      "100%|███████████████████████████████| 105156/105156 [00:00<00:00, 203681.33it/s]\n"
     ]
    },
    {
     "name": "stdout",
     "output_type": "stream",
     "text": [
      "simple geoms: Liège\n",
      "\t* MultiGraph with 98777 nodes and 105156 edges\n"
     ]
    },
    {
     "name": "stderr",
     "output_type": "stream",
     "text": [
      "INFO:cityseer.tools.graphs:Removing filler nodes.\n",
      "100%|██████████████████████████████████| 98777/98777 [00:04<00:00, 23148.14it/s]\n",
      "INFO:cityseer.tools.graphs:Merging parallel edges within buffer of 5.\n"
     ]
    },
    {
     "name": "stdout",
     "output_type": "stream",
     "text": [
      "remove filler nodes: Liège\n",
      "\t* MultiGraph with 22216 nodes and 28595 edges\n"
     ]
    },
    {
     "name": "stderr",
     "output_type": "stream",
     "text": [
      "100%|█████████████████████████████████| 28595/28595 [00:00<00:00, 416727.03it/s]\n",
      "INFO:cityseer.tools.io:Preparing node and edge arrays from networkX graph.\n"
     ]
    },
    {
     "name": "stdout",
     "output_type": "stream",
     "text": [
      "merged parallel edges\n",
      "  buff=5m\n",
      "\t* MultiGraph with 22216 nodes and 28591 edges\n"
     ]
    },
    {
     "name": "stderr",
     "output_type": "stream",
     "text": [
      "INFO:cityseer.tools.graphs:Generating interpolated edge geometries.\n",
      "100%|███████████████████████████████| 105156/105156 [00:00<00:00, 200966.63it/s]\n"
     ]
    },
    {
     "name": "stdout",
     "output_type": "stream",
     "text": [
      "simple geoms: Liège\n",
      "\t* MultiGraph with 98777 nodes and 105156 edges\n"
     ]
    },
    {
     "name": "stderr",
     "output_type": "stream",
     "text": [
      "INFO:cityseer.tools.graphs:Removing filler nodes.\n",
      "100%|██████████████████████████████████| 98777/98777 [00:04<00:00, 23309.13it/s]\n",
      "INFO:cityseer.tools.graphs:Merging parallel edges within buffer of 10.\n"
     ]
    },
    {
     "name": "stdout",
     "output_type": "stream",
     "text": [
      "remove filler nodes: Liège\n",
      "\t* MultiGraph with 22216 nodes and 28595 edges\n"
     ]
    },
    {
     "name": "stderr",
     "output_type": "stream",
     "text": [
      "100%|█████████████████████████████████| 28595/28595 [00:00<00:00, 358238.57it/s]\n",
      "INFO:cityseer.tools.io:Preparing node and edge arrays from networkX graph.\n"
     ]
    },
    {
     "name": "stdout",
     "output_type": "stream",
     "text": [
      "merged parallel edges\n",
      "  buff=10m\n",
      "\t* MultiGraph with 22216 nodes and 28553 edges\n"
     ]
    },
    {
     "name": "stderr",
     "output_type": "stream",
     "text": [
      "INFO:cityseer.tools.graphs:Generating interpolated edge geometries.\n",
      "100%|███████████████████████████████| 105156/105156 [00:00<00:00, 200795.90it/s]\n"
     ]
    },
    {
     "name": "stdout",
     "output_type": "stream",
     "text": [
      "simple geoms: Liège\n",
      "\t* MultiGraph with 98777 nodes and 105156 edges\n"
     ]
    },
    {
     "name": "stderr",
     "output_type": "stream",
     "text": [
      "INFO:cityseer.tools.graphs:Removing filler nodes.\n",
      "100%|██████████████████████████████████| 98777/98777 [00:04<00:00, 23260.53it/s]\n",
      "INFO:cityseer.tools.graphs:Merging parallel edges within buffer of 15.\n"
     ]
    },
    {
     "name": "stdout",
     "output_type": "stream",
     "text": [
      "remove filler nodes: Liège\n",
      "\t* MultiGraph with 22216 nodes and 28595 edges\n"
     ]
    },
    {
     "name": "stderr",
     "output_type": "stream",
     "text": [
      "100%|█████████████████████████████████| 28595/28595 [00:00<00:00, 313064.95it/s]\n",
      "INFO:cityseer.tools.io:Preparing node and edge arrays from networkX graph.\n"
     ]
    },
    {
     "name": "stdout",
     "output_type": "stream",
     "text": [
      "merged parallel edges\n",
      "  buff=15m\n",
      "\t* MultiGraph with 22216 nodes and 28499 edges\n"
     ]
    },
    {
     "name": "stderr",
     "output_type": "stream",
     "text": [
      "INFO:cityseer.tools.graphs:Generating interpolated edge geometries.\n",
      "100%|███████████████████████████████| 105156/105156 [00:00<00:00, 136759.46it/s]\n"
     ]
    },
    {
     "name": "stdout",
     "output_type": "stream",
     "text": [
      "simple geoms: Liège\n",
      "\t* MultiGraph with 98777 nodes and 105156 edges\n"
     ]
    },
    {
     "name": "stderr",
     "output_type": "stream",
     "text": [
      "INFO:cityseer.tools.graphs:Removing filler nodes.\n",
      "100%|██████████████████████████████████| 98777/98777 [00:04<00:00, 22648.62it/s]\n",
      "INFO:cityseer.tools.graphs:Merging parallel edges within buffer of 20.\n"
     ]
    },
    {
     "name": "stdout",
     "output_type": "stream",
     "text": [
      "remove filler nodes: Liège\n",
      "\t* MultiGraph with 22216 nodes and 28595 edges\n"
     ]
    },
    {
     "name": "stderr",
     "output_type": "stream",
     "text": [
      "100%|█████████████████████████████████| 28595/28595 [00:00<00:00, 258447.93it/s]"
     ]
    },
    {
     "name": "stdout",
     "output_type": "stream",
     "text": [
      "merged parallel edges\n",
      "  buff=20m\n",
      "\t* MultiGraph with 22216 nodes and 28415 edges"
     ]
    },
    {
     "name": "stderr",
     "output_type": "stream",
     "text": [
      "\n",
      "INFO:cityseer.tools.io:Preparing node and edge arrays from networkX graph.\n"
     ]
    },
    {
     "name": "stdout",
     "output_type": "stream",
     "text": [
      "\n"
     ]
    },
    {
     "name": "stderr",
     "output_type": "stream",
     "text": [
      "INFO:cityseer.tools.graphs:Generating interpolated edge geometries.\n",
      "100%|███████████████████████████████| 105156/105156 [00:00<00:00, 199886.35it/s]\n"
     ]
    },
    {
     "name": "stdout",
     "output_type": "stream",
     "text": [
      "simple geoms: Liège\n",
      "\t* MultiGraph with 98777 nodes and 105156 edges\n"
     ]
    },
    {
     "name": "stderr",
     "output_type": "stream",
     "text": [
      "INFO:cityseer.tools.graphs:Removing filler nodes.\n",
      "100%|██████████████████████████████████| 98777/98777 [00:04<00:00, 22957.29it/s]\n",
      "INFO:cityseer.tools.graphs:Merging parallel edges within buffer of 25.\n"
     ]
    },
    {
     "name": "stdout",
     "output_type": "stream",
     "text": [
      "remove filler nodes: Liège\n",
      "\t* MultiGraph with 22216 nodes and 28595 edges\n"
     ]
    },
    {
     "name": "stderr",
     "output_type": "stream",
     "text": [
      "100%|█████████████████████████████████| 28595/28595 [00:00<00:00, 234531.49it/s]\n",
      "INFO:cityseer.tools.io:Preparing node and edge arrays from networkX graph.\n"
     ]
    },
    {
     "name": "stdout",
     "output_type": "stream",
     "text": [
      "merged parallel edges\n",
      "  buff=25m\n",
      "\t* MultiGraph with 22216 nodes and 28370 edges\n"
     ]
    },
    {
     "name": "stderr",
     "output_type": "stream",
     "text": [
      "INFO:cityseer.tools.graphs:Generating interpolated edge geometries.\n",
      "100%|███████████████████████████████| 105156/105156 [00:00<00:00, 197953.32it/s]\n"
     ]
    },
    {
     "name": "stdout",
     "output_type": "stream",
     "text": [
      "simple geoms: Liège\n",
      "\t* MultiGraph with 98777 nodes and 105156 edges\n"
     ]
    },
    {
     "name": "stderr",
     "output_type": "stream",
     "text": [
      "INFO:cityseer.tools.graphs:Removing filler nodes.\n",
      "100%|██████████████████████████████████| 98777/98777 [00:04<00:00, 23138.23it/s]\n",
      "INFO:cityseer.tools.graphs:Merging parallel edges within buffer of 30.\n"
     ]
    },
    {
     "name": "stdout",
     "output_type": "stream",
     "text": [
      "remove filler nodes: Liège\n",
      "\t* MultiGraph with 22216 nodes and 28595 edges\n"
     ]
    },
    {
     "name": "stderr",
     "output_type": "stream",
     "text": [
      "100%|█████████████████████████████████| 28595/28595 [00:00<00:00, 221174.59it/s]\n",
      "INFO:cityseer.tools.io:Preparing node and edge arrays from networkX graph.\n"
     ]
    },
    {
     "name": "stdout",
     "output_type": "stream",
     "text": [
      "merged parallel edges\n",
      "  buff=30m\n",
      "\t* MultiGraph with 22216 nodes and 28333 edges\n"
     ]
    },
    {
     "name": "stderr",
     "output_type": "stream",
     "text": [
      "INFO:cityseer.tools.graphs:Generating interpolated edge geometries.\n",
      "100%|███████████████████████████████| 105156/105156 [00:00<00:00, 196255.35it/s]\n"
     ]
    },
    {
     "name": "stdout",
     "output_type": "stream",
     "text": [
      "simple geoms: Liège\n",
      "\t* MultiGraph with 98777 nodes and 105156 edges\n"
     ]
    },
    {
     "name": "stderr",
     "output_type": "stream",
     "text": [
      "INFO:cityseer.tools.graphs:Removing filler nodes.\n",
      "100%|██████████████████████████████████| 98777/98777 [00:04<00:00, 22706.58it/s]\n",
      "INFO:cityseer.tools.graphs:Merging parallel edges within buffer of 35.\n"
     ]
    },
    {
     "name": "stdout",
     "output_type": "stream",
     "text": [
      "remove filler nodes: Liège\n",
      "\t* MultiGraph with 22216 nodes and 28595 edges\n"
     ]
    },
    {
     "name": "stderr",
     "output_type": "stream",
     "text": [
      "100%|█████████████████████████████████| 28595/28595 [00:00<00:00, 208416.74it/s]\n",
      "INFO:cityseer.tools.io:Preparing node and edge arrays from networkX graph.\n"
     ]
    },
    {
     "name": "stdout",
     "output_type": "stream",
     "text": [
      "merged parallel edges\n",
      "  buff=35m\n",
      "\t* MultiGraph with 22216 nodes and 28294 edges\n"
     ]
    },
    {
     "name": "stderr",
     "output_type": "stream",
     "text": [
      "INFO:cityseer.tools.graphs:Generating interpolated edge geometries.\n",
      "100%|███████████████████████████████| 105156/105156 [00:00<00:00, 124818.56it/s]\n"
     ]
    },
    {
     "name": "stdout",
     "output_type": "stream",
     "text": [
      "simple geoms: Liège\n",
      "\t* MultiGraph with 98777 nodes and 105156 edges\n"
     ]
    },
    {
     "name": "stderr",
     "output_type": "stream",
     "text": [
      "INFO:cityseer.tools.graphs:Removing filler nodes.\n",
      "100%|██████████████████████████████████| 98777/98777 [00:04<00:00, 23150.73it/s]\n",
      "INFO:cityseer.tools.graphs:Merging parallel edges within buffer of 40.\n"
     ]
    },
    {
     "name": "stdout",
     "output_type": "stream",
     "text": [
      "remove filler nodes: Liège\n",
      "\t* MultiGraph with 22216 nodes and 28595 edges\n"
     ]
    },
    {
     "name": "stderr",
     "output_type": "stream",
     "text": [
      "100%|█████████████████████████████████| 28595/28595 [00:00<00:00, 200098.31it/s]\n",
      "INFO:cityseer.tools.io:Preparing node and edge arrays from networkX graph.\n"
     ]
    },
    {
     "name": "stdout",
     "output_type": "stream",
     "text": [
      "merged parallel edges\n",
      "  buff=40m\n",
      "\t* MultiGraph with 22216 nodes and 28270 edges\n"
     ]
    },
    {
     "name": "stderr",
     "output_type": "stream",
     "text": [
      "INFO:cityseer.tools.graphs:Generating interpolated edge geometries.\n",
      "100%|███████████████████████████████| 105156/105156 [00:00<00:00, 123883.01it/s]\n"
     ]
    },
    {
     "name": "stdout",
     "output_type": "stream",
     "text": [
      "simple geoms: Liège\n",
      "\t* MultiGraph with 98777 nodes and 105156 edges\n"
     ]
    },
    {
     "name": "stderr",
     "output_type": "stream",
     "text": [
      "INFO:cityseer.tools.graphs:Removing filler nodes.\n",
      "100%|██████████████████████████████████| 98777/98777 [00:04<00:00, 23196.32it/s]\n",
      "INFO:cityseer.tools.graphs:Merging parallel edges within buffer of 45.\n"
     ]
    },
    {
     "name": "stdout",
     "output_type": "stream",
     "text": [
      "remove filler nodes: Liège\n",
      "\t* MultiGraph with 22216 nodes and 28595 edges\n"
     ]
    },
    {
     "name": "stderr",
     "output_type": "stream",
     "text": [
      "100%|█████████████████████████████████| 28595/28595 [00:00<00:00, 192077.89it/s]\n",
      "INFO:cityseer.tools.io:Preparing node and edge arrays from networkX graph.\n"
     ]
    },
    {
     "name": "stdout",
     "output_type": "stream",
     "text": [
      "merged parallel edges\n",
      "  buff=45m\n",
      "\t* MultiGraph with 22216 nodes and 28238 edges\n"
     ]
    },
    {
     "name": "stderr",
     "output_type": "stream",
     "text": [
      "INFO:cityseer.tools.graphs:Generating interpolated edge geometries.\n",
      "100%|███████████████████████████████| 105156/105156 [00:00<00:00, 195452.19it/s]\n"
     ]
    },
    {
     "name": "stdout",
     "output_type": "stream",
     "text": [
      "simple geoms: Liège\n",
      "\t* MultiGraph with 98777 nodes and 105156 edges\n"
     ]
    },
    {
     "name": "stderr",
     "output_type": "stream",
     "text": [
      "INFO:cityseer.tools.graphs:Removing filler nodes.\n",
      "100%|██████████████████████████████████| 98777/98777 [00:04<00:00, 23020.66it/s]\n",
      "INFO:cityseer.tools.graphs:Merging parallel edges within buffer of 50.\n"
     ]
    },
    {
     "name": "stdout",
     "output_type": "stream",
     "text": [
      "remove filler nodes: Liège\n",
      "\t* MultiGraph with 22216 nodes and 28595 edges\n"
     ]
    },
    {
     "name": "stderr",
     "output_type": "stream",
     "text": [
      "100%|█████████████████████████████████| 28595/28595 [00:00<00:00, 181726.08it/s]\n",
      "INFO:cityseer.tools.io:Preparing node and edge arrays from networkX graph.\n"
     ]
    },
    {
     "name": "stdout",
     "output_type": "stream",
     "text": [
      "merged parallel edges\n",
      "  buff=50m\n",
      "\t* MultiGraph with 22216 nodes and 28222 edges\n"
     ]
    },
    {
     "name": "stderr",
     "output_type": "stream",
     "text": [
      "INFO:cityseer.tools.graphs:Generating interpolated edge geometries.\n",
      "100%|███████████████████████████████| 105156/105156 [00:00<00:00, 181408.47it/s]\n"
     ]
    },
    {
     "name": "stdout",
     "output_type": "stream",
     "text": [
      "simple geoms: Liège\n",
      "\t* MultiGraph with 98777 nodes and 105156 edges\n"
     ]
    },
    {
     "name": "stderr",
     "output_type": "stream",
     "text": [
      "INFO:cityseer.tools.graphs:Removing filler nodes.\n",
      "100%|██████████████████████████████████| 98777/98777 [00:04<00:00, 23005.04it/s]\n",
      "INFO:cityseer.tools.graphs:Merging parallel edges within buffer of 55.\n"
     ]
    },
    {
     "name": "stdout",
     "output_type": "stream",
     "text": [
      "remove filler nodes: Liège\n",
      "\t* MultiGraph with 22216 nodes and 28595 edges\n"
     ]
    },
    {
     "name": "stderr",
     "output_type": "stream",
     "text": [
      "100%|█████████████████████████████████| 28595/28595 [00:00<00:00, 183620.48it/s]\n",
      "INFO:cityseer.tools.io:Preparing node and edge arrays from networkX graph.\n"
     ]
    },
    {
     "name": "stdout",
     "output_type": "stream",
     "text": [
      "merged parallel edges\n",
      "  buff=55m\n",
      "\t* MultiGraph with 22216 nodes and 28208 edges\n"
     ]
    },
    {
     "name": "stderr",
     "output_type": "stream",
     "text": [
      "INFO:cityseer.tools.graphs:Generating interpolated edge geometries.\n",
      "100%|███████████████████████████████| 105156/105156 [00:00<00:00, 192277.21it/s]\n"
     ]
    },
    {
     "name": "stdout",
     "output_type": "stream",
     "text": [
      "simple geoms: Liège\n",
      "\t* MultiGraph with 98777 nodes and 105156 edges\n"
     ]
    },
    {
     "name": "stderr",
     "output_type": "stream",
     "text": [
      "INFO:cityseer.tools.graphs:Removing filler nodes.\n",
      "100%|██████████████████████████████████| 98777/98777 [00:04<00:00, 23083.73it/s]\n",
      "INFO:cityseer.tools.graphs:Merging parallel edges within buffer of 60.\n"
     ]
    },
    {
     "name": "stdout",
     "output_type": "stream",
     "text": [
      "remove filler nodes: Liège\n",
      "\t* MultiGraph with 22216 nodes and 28595 edges\n"
     ]
    },
    {
     "name": "stderr",
     "output_type": "stream",
     "text": [
      "100%|█████████████████████████████████| 28595/28595 [00:00<00:00, 180109.96it/s]\n",
      "INFO:cityseer.tools.io:Preparing node and edge arrays from networkX graph.\n"
     ]
    },
    {
     "name": "stdout",
     "output_type": "stream",
     "text": [
      "merged parallel edges\n",
      "  buff=60m\n",
      "\t* MultiGraph with 22216 nodes and 28196 edges\n"
     ]
    },
    {
     "name": "stderr",
     "output_type": "stream",
     "text": [
      "INFO:cityseer.tools.graphs:Generating interpolated edge geometries.\n",
      "100%|███████████████████████████████| 105156/105156 [00:00<00:00, 116504.20it/s]\n"
     ]
    },
    {
     "name": "stdout",
     "output_type": "stream",
     "text": [
      "simple geoms: Liège\n",
      "\t* MultiGraph with 98777 nodes and 105156 edges\n"
     ]
    },
    {
     "name": "stderr",
     "output_type": "stream",
     "text": [
      "INFO:cityseer.tools.graphs:Removing filler nodes.\n",
      "100%|██████████████████████████████████| 98777/98777 [00:04<00:00, 22761.83it/s]\n",
      "INFO:cityseer.tools.graphs:Merging parallel edges within buffer of 65.\n"
     ]
    },
    {
     "name": "stdout",
     "output_type": "stream",
     "text": [
      "remove filler nodes: Liège\n",
      "\t* MultiGraph with 22216 nodes and 28595 edges\n"
     ]
    },
    {
     "name": "stderr",
     "output_type": "stream",
     "text": [
      "100%|█████████████████████████████████| 28595/28595 [00:00<00:00, 180071.56it/s]\n",
      "INFO:cityseer.tools.io:Preparing node and edge arrays from networkX graph.\n"
     ]
    },
    {
     "name": "stdout",
     "output_type": "stream",
     "text": [
      "merged parallel edges\n",
      "  buff=65m\n",
      "\t* MultiGraph with 22216 nodes and 28190 edges\n"
     ]
    },
    {
     "name": "stderr",
     "output_type": "stream",
     "text": [
      "INFO:cityseer.tools.graphs:Generating interpolated edge geometries.\n",
      "100%|███████████████████████████████| 105156/105156 [00:00<00:00, 194305.52it/s]\n"
     ]
    },
    {
     "name": "stdout",
     "output_type": "stream",
     "text": [
      "simple geoms: Liège\n",
      "\t* MultiGraph with 98777 nodes and 105156 edges\n"
     ]
    },
    {
     "name": "stderr",
     "output_type": "stream",
     "text": [
      "INFO:cityseer.tools.graphs:Removing filler nodes.\n",
      "100%|██████████████████████████████████| 98777/98777 [00:04<00:00, 23179.74it/s]\n",
      "INFO:cityseer.tools.graphs:Merging parallel edges within buffer of 70.\n"
     ]
    },
    {
     "name": "stdout",
     "output_type": "stream",
     "text": [
      "remove filler nodes: Liège\n",
      "\t* MultiGraph with 22216 nodes and 28595 edges\n"
     ]
    },
    {
     "name": "stderr",
     "output_type": "stream",
     "text": [
      "100%|█████████████████████████████████| 28595/28595 [00:00<00:00, 177597.37it/s]\n",
      "INFO:cityseer.tools.io:Preparing node and edge arrays from networkX graph.\n"
     ]
    },
    {
     "name": "stdout",
     "output_type": "stream",
     "text": [
      "merged parallel edges\n",
      "  buff=70m\n",
      "\t* MultiGraph with 22216 nodes and 28181 edges\n"
     ]
    },
    {
     "name": "stderr",
     "output_type": "stream",
     "text": [
      "INFO:cityseer.tools.graphs:Generating interpolated edge geometries.\n",
      "100%|███████████████████████████████| 105156/105156 [00:00<00:00, 196520.57it/s]\n"
     ]
    },
    {
     "name": "stdout",
     "output_type": "stream",
     "text": [
      "simple geoms: Liège\n",
      "\t* MultiGraph with 98777 nodes and 105156 edges\n"
     ]
    },
    {
     "name": "stderr",
     "output_type": "stream",
     "text": [
      "INFO:cityseer.tools.graphs:Removing filler nodes.\n",
      "100%|██████████████████████████████████| 98777/98777 [00:04<00:00, 23167.59it/s]\n",
      "INFO:cityseer.tools.graphs:Merging parallel edges within buffer of 75.\n"
     ]
    },
    {
     "name": "stdout",
     "output_type": "stream",
     "text": [
      "remove filler nodes: Liège\n",
      "\t* MultiGraph with 22216 nodes and 28595 edges\n"
     ]
    },
    {
     "name": "stderr",
     "output_type": "stream",
     "text": [
      "100%|█████████████████████████████████| 28595/28595 [00:00<00:00, 175372.39it/s]\n",
      "INFO:cityseer.tools.io:Preparing node and edge arrays from networkX graph.\n"
     ]
    },
    {
     "name": "stdout",
     "output_type": "stream",
     "text": [
      "merged parallel edges\n",
      "  buff=75m\n",
      "\t* MultiGraph with 22216 nodes and 28176 edges\n"
     ]
    },
    {
     "name": "stderr",
     "output_type": "stream",
     "text": [
      "INFO:cityseer.tools.graphs:Generating interpolated edge geometries.\n",
      "100%|███████████████████████████████| 105156/105156 [00:00<00:00, 183719.00it/s]\n"
     ]
    },
    {
     "name": "stdout",
     "output_type": "stream",
     "text": [
      "simple geoms: Liège\n",
      "\t* MultiGraph with 98777 nodes and 105156 edges\n"
     ]
    },
    {
     "name": "stderr",
     "output_type": "stream",
     "text": [
      "INFO:cityseer.tools.graphs:Removing filler nodes.\n",
      "100%|██████████████████████████████████| 98777/98777 [00:04<00:00, 23083.35it/s]\n",
      "INFO:cityseer.tools.graphs:Merging parallel edges within buffer of 80.\n"
     ]
    },
    {
     "name": "stdout",
     "output_type": "stream",
     "text": [
      "remove filler nodes: Liège\n",
      "\t* MultiGraph with 22216 nodes and 28595 edges\n"
     ]
    },
    {
     "name": "stderr",
     "output_type": "stream",
     "text": [
      "100%|█████████████████████████████████| 28595/28595 [00:00<00:00, 165502.18it/s]\n",
      "INFO:cityseer.tools.io:Preparing node and edge arrays from networkX graph.\n"
     ]
    },
    {
     "name": "stdout",
     "output_type": "stream",
     "text": [
      "merged parallel edges\n",
      "  buff=80m\n",
      "\t* MultiGraph with 22216 nodes and 28171 edges\n"
     ]
    },
    {
     "name": "stderr",
     "output_type": "stream",
     "text": [
      "INFO:cityseer.tools.graphs:Generating interpolated edge geometries.\n",
      "100%|███████████████████████████████| 105156/105156 [00:00<00:00, 187167.32it/s]\n"
     ]
    },
    {
     "name": "stdout",
     "output_type": "stream",
     "text": [
      "simple geoms: Liège\n",
      "\t* MultiGraph with 98777 nodes and 105156 edges\n"
     ]
    },
    {
     "name": "stderr",
     "output_type": "stream",
     "text": [
      "INFO:cityseer.tools.graphs:Removing filler nodes.\n",
      "100%|██████████████████████████████████| 98777/98777 [00:04<00:00, 22445.12it/s]\n",
      "INFO:cityseer.tools.graphs:Merging parallel edges within buffer of 85.\n"
     ]
    },
    {
     "name": "stdout",
     "output_type": "stream",
     "text": [
      "remove filler nodes: Liège\n",
      "\t* MultiGraph with 22216 nodes and 28595 edges\n"
     ]
    },
    {
     "name": "stderr",
     "output_type": "stream",
     "text": [
      "100%|█████████████████████████████████| 28595/28595 [00:00<00:00, 173081.74it/s]\n",
      "INFO:cityseer.tools.io:Preparing node and edge arrays from networkX graph.\n"
     ]
    },
    {
     "name": "stdout",
     "output_type": "stream",
     "text": [
      "merged parallel edges\n",
      "  buff=85m\n",
      "\t* MultiGraph with 22216 nodes and 28166 edges\n"
     ]
    },
    {
     "name": "stderr",
     "output_type": "stream",
     "text": [
      "INFO:cityseer.tools.graphs:Generating interpolated edge geometries.\n",
      "100%|███████████████████████████████| 105156/105156 [00:00<00:00, 192406.22it/s]\n"
     ]
    },
    {
     "name": "stdout",
     "output_type": "stream",
     "text": [
      "simple geoms: Liège\n",
      "\t* MultiGraph with 98777 nodes and 105156 edges\n"
     ]
    },
    {
     "name": "stderr",
     "output_type": "stream",
     "text": [
      "INFO:cityseer.tools.graphs:Removing filler nodes.\n",
      "100%|██████████████████████████████████| 98777/98777 [00:04<00:00, 23117.10it/s]\n",
      "INFO:cityseer.tools.graphs:Merging parallel edges within buffer of 90.\n"
     ]
    },
    {
     "name": "stdout",
     "output_type": "stream",
     "text": [
      "remove filler nodes: Liège\n",
      "\t* MultiGraph with 22216 nodes and 28595 edges\n"
     ]
    },
    {
     "name": "stderr",
     "output_type": "stream",
     "text": [
      "100%|█████████████████████████████████| 28595/28595 [00:00<00:00, 170274.08it/s]\n",
      "INFO:cityseer.tools.io:Preparing node and edge arrays from networkX graph.\n"
     ]
    },
    {
     "name": "stdout",
     "output_type": "stream",
     "text": [
      "merged parallel edges\n",
      "  buff=90m\n",
      "\t* MultiGraph with 22216 nodes and 28155 edges\n"
     ]
    },
    {
     "name": "stderr",
     "output_type": "stream",
     "text": [
      "INFO:cityseer.tools.graphs:Generating interpolated edge geometries.\n",
      "100%|███████████████████████████████| 105156/105156 [00:00<00:00, 195025.51it/s]\n"
     ]
    },
    {
     "name": "stdout",
     "output_type": "stream",
     "text": [
      "simple geoms: Liège\n",
      "\t* MultiGraph with 98777 nodes and 105156 edges\n"
     ]
    },
    {
     "name": "stderr",
     "output_type": "stream",
     "text": [
      "INFO:cityseer.tools.graphs:Removing filler nodes.\n",
      "100%|██████████████████████████████████| 98777/98777 [00:04<00:00, 23098.76it/s]\n",
      "INFO:cityseer.tools.graphs:Merging parallel edges within buffer of 95.\n"
     ]
    },
    {
     "name": "stdout",
     "output_type": "stream",
     "text": [
      "remove filler nodes: Liège\n",
      "\t* MultiGraph with 22216 nodes and 28595 edges\n"
     ]
    },
    {
     "name": "stderr",
     "output_type": "stream",
     "text": [
      "100%|█████████████████████████████████| 28595/28595 [00:00<00:00, 170081.87it/s]\n",
      "INFO:cityseer.tools.io:Preparing node and edge arrays from networkX graph.\n"
     ]
    },
    {
     "name": "stdout",
     "output_type": "stream",
     "text": [
      "merged parallel edges\n",
      "  buff=95m\n",
      "\t* MultiGraph with 22216 nodes and 28152 edges\n"
     ]
    },
    {
     "name": "stderr",
     "output_type": "stream",
     "text": [
      "INFO:cityseer.tools.graphs:Generating interpolated edge geometries.\n",
      "100%|███████████████████████████████| 105156/105156 [00:00<00:00, 193863.12it/s]\n"
     ]
    },
    {
     "name": "stdout",
     "output_type": "stream",
     "text": [
      "simple geoms: Liège\n",
      "\t* MultiGraph with 98777 nodes and 105156 edges\n"
     ]
    },
    {
     "name": "stderr",
     "output_type": "stream",
     "text": [
      "INFO:cityseer.tools.graphs:Removing filler nodes.\n",
      "100%|██████████████████████████████████| 98777/98777 [00:04<00:00, 23118.63it/s]\n",
      "INFO:cityseer.tools.graphs:Merging parallel edges within buffer of 100.\n"
     ]
    },
    {
     "name": "stdout",
     "output_type": "stream",
     "text": [
      "remove filler nodes: Liège\n",
      "\t* MultiGraph with 22216 nodes and 28595 edges\n"
     ]
    },
    {
     "name": "stderr",
     "output_type": "stream",
     "text": [
      "100%|█████████████████████████████████| 28595/28595 [00:00<00:00, 169144.96it/s]\n",
      "INFO:cityseer.tools.io:Preparing node and edge arrays from networkX graph.\n"
     ]
    },
    {
     "name": "stdout",
     "output_type": "stream",
     "text": [
      "merged parallel edges\n",
      "  buff=100m\n",
      "\t* MultiGraph with 22216 nodes and 28150 edges\n"
     ]
    },
    {
     "name": "stderr",
     "output_type": "stream",
     "text": [
      "INFO:cityseer.tools.graphs:Generating interpolated edge geometries.\n",
      "100%|███████████████████████████████| 105156/105156 [00:00<00:00, 105637.40it/s]\n"
     ]
    },
    {
     "name": "stdout",
     "output_type": "stream",
     "text": [
      "simple geoms: Liège\n",
      "\t* MultiGraph with 98777 nodes and 105156 edges\n"
     ]
    },
    {
     "name": "stderr",
     "output_type": "stream",
     "text": [
      "INFO:cityseer.tools.graphs:Removing filler nodes.\n",
      "100%|██████████████████████████████████| 98777/98777 [00:04<00:00, 23237.25it/s]\n",
      "INFO:cityseer.tools.graphs:Merging parallel edges within buffer of 5.\n"
     ]
    },
    {
     "name": "stdout",
     "output_type": "stream",
     "text": [
      "remove filler nodes: Liège\n",
      "\t* MultiGraph with 22216 nodes and 28595 edges\n"
     ]
    },
    {
     "name": "stderr",
     "output_type": "stream",
     "text": [
      "100%|█████████████████████████████████| 28595/28595 [00:00<00:00, 424585.71it/s]\n",
      "INFO:cityseer.tools.io:Preparing node and edge arrays from networkX graph.\n"
     ]
    },
    {
     "name": "stdout",
     "output_type": "stream",
     "text": [
      "merged parallel edges\n",
      "  buff=5m\n",
      "\t* MultiGraph with 22216 nodes and 28591 edges\n"
     ]
    },
    {
     "name": "stderr",
     "output_type": "stream",
     "text": [
      "INFO:cityseer.tools.graphs:Generating interpolated edge geometries.\n",
      "100%|███████████████████████████████| 105156/105156 [00:00<00:00, 196433.57it/s]\n"
     ]
    },
    {
     "name": "stdout",
     "output_type": "stream",
     "text": [
      "simple geoms: Liège\n",
      "\t* MultiGraph with 98777 nodes and 105156 edges\n"
     ]
    },
    {
     "name": "stderr",
     "output_type": "stream",
     "text": [
      "INFO:cityseer.tools.graphs:Removing filler nodes.\n",
      "100%|██████████████████████████████████| 98777/98777 [00:04<00:00, 23094.45it/s]\n",
      "INFO:cityseer.tools.graphs:Merging parallel edges within buffer of 10.\n"
     ]
    },
    {
     "name": "stdout",
     "output_type": "stream",
     "text": [
      "remove filler nodes: Liège\n",
      "\t* MultiGraph with 22216 nodes and 28595 edges\n"
     ]
    },
    {
     "name": "stderr",
     "output_type": "stream",
     "text": [
      "100%|█████████████████████████████████| 28595/28595 [00:00<00:00, 421998.25it/s]\n",
      "INFO:cityseer.tools.io:Preparing node and edge arrays from networkX graph.\n"
     ]
    },
    {
     "name": "stdout",
     "output_type": "stream",
     "text": [
      "merged parallel edges\n",
      "  buff=10m\n",
      "\t* MultiGraph with 22216 nodes and 28553 edges\n"
     ]
    },
    {
     "name": "stderr",
     "output_type": "stream",
     "text": [
      "INFO:cityseer.tools.graphs:Generating interpolated edge geometries.\n",
      "100%|███████████████████████████████| 105156/105156 [00:00<00:00, 195245.31it/s]\n"
     ]
    },
    {
     "name": "stdout",
     "output_type": "stream",
     "text": [
      "simple geoms: Liège\n",
      "\t* MultiGraph with 98777 nodes and 105156 edges\n"
     ]
    },
    {
     "name": "stderr",
     "output_type": "stream",
     "text": [
      "INFO:cityseer.tools.graphs:Removing filler nodes.\n",
      "100%|██████████████████████████████████| 98777/98777 [00:04<00:00, 22931.63it/s]\n",
      "INFO:cityseer.tools.graphs:Merging parallel edges within buffer of 15.\n"
     ]
    },
    {
     "name": "stdout",
     "output_type": "stream",
     "text": [
      "remove filler nodes: Liège\n",
      "\t* MultiGraph with 22216 nodes and 28595 edges\n"
     ]
    },
    {
     "name": "stderr",
     "output_type": "stream",
     "text": [
      "100%|██████████████████████████████████| 28595/28595 [00:00<00:00, 36865.14it/s]\n",
      "INFO:cityseer.tools.io:Preparing node and edge arrays from networkX graph.\n"
     ]
    },
    {
     "name": "stdout",
     "output_type": "stream",
     "text": [
      "merged parallel edges\n",
      "  buff=15m\n",
      "\t* MultiGraph with 22216 nodes and 28499 edges\n"
     ]
    },
    {
     "name": "stderr",
     "output_type": "stream",
     "text": [
      "INFO:cityseer.tools.graphs:Generating interpolated edge geometries.\n",
      "100%|███████████████████████████████| 105156/105156 [00:00<00:00, 196090.79it/s]\n"
     ]
    },
    {
     "name": "stdout",
     "output_type": "stream",
     "text": [
      "simple geoms: Liège\n",
      "\t* MultiGraph with 98777 nodes and 105156 edges\n"
     ]
    },
    {
     "name": "stderr",
     "output_type": "stream",
     "text": [
      "INFO:cityseer.tools.graphs:Removing filler nodes.\n",
      "100%|██████████████████████████████████| 98777/98777 [00:04<00:00, 23145.20it/s]\n",
      "INFO:cityseer.tools.graphs:Merging parallel edges within buffer of 20.\n"
     ]
    },
    {
     "name": "stdout",
     "output_type": "stream",
     "text": [
      "remove filler nodes: Liège\n",
      "\t* MultiGraph with 22216 nodes and 28595 edges\n"
     ]
    },
    {
     "name": "stderr",
     "output_type": "stream",
     "text": [
      "100%|█████████████████████████████████| 28595/28595 [00:00<00:00, 375405.73it/s]\n",
      "INFO:cityseer.tools.io:Preparing node and edge arrays from networkX graph.\n"
     ]
    },
    {
     "name": "stdout",
     "output_type": "stream",
     "text": [
      "merged parallel edges\n",
      "  buff=20m\n",
      "\t* MultiGraph with 22216 nodes and 28415 edges\n"
     ]
    },
    {
     "name": "stderr",
     "output_type": "stream",
     "text": [
      "INFO:cityseer.tools.graphs:Generating interpolated edge geometries.\n",
      "100%|███████████████████████████████| 105156/105156 [00:00<00:00, 196581.19it/s]\n"
     ]
    },
    {
     "name": "stdout",
     "output_type": "stream",
     "text": [
      "simple geoms: Liège\n",
      "\t* MultiGraph with 98777 nodes and 105156 edges\n"
     ]
    },
    {
     "name": "stderr",
     "output_type": "stream",
     "text": [
      "INFO:cityseer.tools.graphs:Removing filler nodes.\n",
      "100%|██████████████████████████████████| 98777/98777 [00:04<00:00, 23171.84it/s]\n",
      "INFO:cityseer.tools.graphs:Merging parallel edges within buffer of 25.\n"
     ]
    },
    {
     "name": "stdout",
     "output_type": "stream",
     "text": [
      "remove filler nodes: Liège\n",
      "\t* MultiGraph with 22216 nodes and 28595 edges\n"
     ]
    },
    {
     "name": "stderr",
     "output_type": "stream",
     "text": [
      "100%|██████████████████████████████████| 28595/28595 [00:00<00:00, 35714.92it/s]\n",
      "INFO:cityseer.tools.io:Preparing node and edge arrays from networkX graph.\n"
     ]
    },
    {
     "name": "stdout",
     "output_type": "stream",
     "text": [
      "merged parallel edges\n",
      "  buff=25m\n",
      "\t* MultiGraph with 22216 nodes and 28370 edges\n"
     ]
    },
    {
     "name": "stderr",
     "output_type": "stream",
     "text": [
      "INFO:cityseer.tools.graphs:Generating interpolated edge geometries.\n",
      "100%|███████████████████████████████| 105156/105156 [00:00<00:00, 194910.19it/s]\n"
     ]
    },
    {
     "name": "stdout",
     "output_type": "stream",
     "text": [
      "simple geoms: Liège\n",
      "\t* MultiGraph with 98777 nodes and 105156 edges\n"
     ]
    },
    {
     "name": "stderr",
     "output_type": "stream",
     "text": [
      "INFO:cityseer.tools.graphs:Removing filler nodes.\n",
      "100%|██████████████████████████████████| 98777/98777 [00:04<00:00, 23229.37it/s]\n",
      "INFO:cityseer.tools.graphs:Merging parallel edges within buffer of 30.\n"
     ]
    },
    {
     "name": "stdout",
     "output_type": "stream",
     "text": [
      "remove filler nodes: Liège\n",
      "\t* MultiGraph with 22216 nodes and 28595 edges\n"
     ]
    },
    {
     "name": "stderr",
     "output_type": "stream",
     "text": [
      "100%|█████████████████████████████████| 28595/28595 [00:00<00:00, 402371.64it/s]\n",
      "INFO:cityseer.tools.io:Preparing node and edge arrays from networkX graph.\n"
     ]
    },
    {
     "name": "stdout",
     "output_type": "stream",
     "text": [
      "merged parallel edges\n",
      "  buff=30m\n",
      "\t* MultiGraph with 22216 nodes and 28333 edges\n"
     ]
    },
    {
     "name": "stderr",
     "output_type": "stream",
     "text": [
      "INFO:cityseer.tools.graphs:Generating interpolated edge geometries.\n",
      "100%|███████████████████████████████| 105156/105156 [00:00<00:00, 191536.07it/s]\n"
     ]
    },
    {
     "name": "stdout",
     "output_type": "stream",
     "text": [
      "simple geoms: Liège\n",
      "\t* MultiGraph with 98777 nodes and 105156 edges\n"
     ]
    },
    {
     "name": "stderr",
     "output_type": "stream",
     "text": [
      "INFO:cityseer.tools.graphs:Removing filler nodes.\n",
      "100%|██████████████████████████████████| 98777/98777 [00:04<00:00, 23132.31it/s]\n",
      "INFO:cityseer.tools.graphs:Merging parallel edges within buffer of 35.\n"
     ]
    },
    {
     "name": "stdout",
     "output_type": "stream",
     "text": [
      "remove filler nodes: Liège\n",
      "\t* MultiGraph with 22216 nodes and 28595 edges\n"
     ]
    },
    {
     "name": "stderr",
     "output_type": "stream",
     "text": [
      "100%|█████████████████████████████████| 28595/28595 [00:00<00:00, 402843.31it/s]\n",
      "INFO:cityseer.tools.io:Preparing node and edge arrays from networkX graph.\n"
     ]
    },
    {
     "name": "stdout",
     "output_type": "stream",
     "text": [
      "merged parallel edges\n",
      "  buff=35m\n",
      "\t* MultiGraph with 22216 nodes and 28294 edges\n"
     ]
    },
    {
     "name": "stderr",
     "output_type": "stream",
     "text": [
      "INFO:cityseer.tools.graphs:Generating interpolated edge geometries.\n",
      "100%|███████████████████████████████| 105156/105156 [00:00<00:00, 195105.22it/s]\n"
     ]
    },
    {
     "name": "stdout",
     "output_type": "stream",
     "text": [
      "simple geoms: Liège\n",
      "\t* MultiGraph with 98777 nodes and 105156 edges\n"
     ]
    },
    {
     "name": "stderr",
     "output_type": "stream",
     "text": [
      "INFO:cityseer.tools.graphs:Removing filler nodes.\n",
      "100%|██████████████████████████████████| 98777/98777 [00:04<00:00, 23089.76it/s]\n",
      "INFO:cityseer.tools.graphs:Merging parallel edges within buffer of 40.\n"
     ]
    },
    {
     "name": "stdout",
     "output_type": "stream",
     "text": [
      "remove filler nodes: Liège\n",
      "\t* MultiGraph with 22216 nodes and 28595 edges\n"
     ]
    },
    {
     "name": "stderr",
     "output_type": "stream",
     "text": [
      "100%|█████████████████████████████████| 28595/28595 [00:00<00:00, 403188.64it/s]\n",
      "INFO:cityseer.tools.io:Preparing node and edge arrays from networkX graph.\n"
     ]
    },
    {
     "name": "stdout",
     "output_type": "stream",
     "text": [
      "merged parallel edges\n",
      "  buff=40m\n",
      "\t* MultiGraph with 22216 nodes and 28270 edges\n"
     ]
    },
    {
     "name": "stderr",
     "output_type": "stream",
     "text": [
      "INFO:cityseer.tools.graphs:Generating interpolated edge geometries.\n",
      "100%|███████████████████████████████| 105156/105156 [00:00<00:00, 195533.20it/s]\n"
     ]
    },
    {
     "name": "stdout",
     "output_type": "stream",
     "text": [
      "simple geoms: Liège\n",
      "\t* MultiGraph with 98777 nodes and 105156 edges\n"
     ]
    },
    {
     "name": "stderr",
     "output_type": "stream",
     "text": [
      "INFO:cityseer.tools.graphs:Removing filler nodes.\n",
      "100%|██████████████████████████████████| 98777/98777 [00:04<00:00, 23183.67it/s]\n",
      "INFO:cityseer.tools.graphs:Merging parallel edges within buffer of 45.\n"
     ]
    },
    {
     "name": "stdout",
     "output_type": "stream",
     "text": [
      "remove filler nodes: Liège\n",
      "\t* MultiGraph with 22216 nodes and 28595 edges\n"
     ]
    },
    {
     "name": "stderr",
     "output_type": "stream",
     "text": [
      "100%|█████████████████████████████████| 28595/28595 [00:00<00:00, 400805.12it/s]\n",
      "INFO:cityseer.tools.io:Preparing node and edge arrays from networkX graph.\n"
     ]
    },
    {
     "name": "stdout",
     "output_type": "stream",
     "text": [
      "merged parallel edges\n",
      "  buff=45m\n",
      "\t* MultiGraph with 22216 nodes and 28238 edges\n"
     ]
    },
    {
     "name": "stderr",
     "output_type": "stream",
     "text": [
      "INFO:cityseer.tools.graphs:Generating interpolated edge geometries.\n",
      "100%|███████████████████████████████| 105156/105156 [00:00<00:00, 195434.35it/s]\n"
     ]
    },
    {
     "name": "stdout",
     "output_type": "stream",
     "text": [
      "simple geoms: Liège\n",
      "\t* MultiGraph with 98777 nodes and 105156 edges\n"
     ]
    },
    {
     "name": "stderr",
     "output_type": "stream",
     "text": [
      "INFO:cityseer.tools.graphs:Removing filler nodes.\n",
      "100%|██████████████████████████████████| 98777/98777 [00:04<00:00, 23048.47it/s]\n",
      "INFO:cityseer.tools.graphs:Merging parallel edges within buffer of 50.\n"
     ]
    },
    {
     "name": "stdout",
     "output_type": "stream",
     "text": [
      "remove filler nodes: Liège\n",
      "\t* MultiGraph with 22216 nodes and 28595 edges\n"
     ]
    },
    {
     "name": "stderr",
     "output_type": "stream",
     "text": [
      "100%|█████████████████████████████████| 28595/28595 [00:00<00:00, 400221.98it/s]\n",
      "INFO:cityseer.tools.io:Preparing node and edge arrays from networkX graph.\n"
     ]
    },
    {
     "name": "stdout",
     "output_type": "stream",
     "text": [
      "merged parallel edges\n",
      "  buff=50m\n",
      "\t* MultiGraph with 22216 nodes and 28222 edges\n"
     ]
    },
    {
     "name": "stderr",
     "output_type": "stream",
     "text": [
      "INFO:cityseer.tools.graphs:Generating interpolated edge geometries.\n",
      "100%|███████████████████████████████| 105156/105156 [00:00<00:00, 195686.50it/s]\n"
     ]
    },
    {
     "name": "stdout",
     "output_type": "stream",
     "text": [
      "simple geoms: Liège\n",
      "\t* MultiGraph with 98777 nodes and 105156 edges\n"
     ]
    },
    {
     "name": "stderr",
     "output_type": "stream",
     "text": [
      "INFO:cityseer.tools.graphs:Removing filler nodes.\n",
      "100%|██████████████████████████████████| 98777/98777 [00:04<00:00, 23086.03it/s]\n",
      "INFO:cityseer.tools.graphs:Merging parallel edges within buffer of 55.\n"
     ]
    },
    {
     "name": "stdout",
     "output_type": "stream",
     "text": [
      "remove filler nodes: Liège\n",
      "\t* MultiGraph with 22216 nodes and 28595 edges\n"
     ]
    },
    {
     "name": "stderr",
     "output_type": "stream",
     "text": [
      "100%|█████████████████████████████████| 28595/28595 [00:00<00:00, 406195.49it/s]\n",
      "INFO:cityseer.tools.io:Preparing node and edge arrays from networkX graph.\n"
     ]
    },
    {
     "name": "stdout",
     "output_type": "stream",
     "text": [
      "merged parallel edges\n",
      "  buff=55m\n",
      "\t* MultiGraph with 22216 nodes and 28208 edges\n"
     ]
    },
    {
     "name": "stderr",
     "output_type": "stream",
     "text": [
      "INFO:cityseer.tools.graphs:Generating interpolated edge geometries.\n",
      "100%|███████████████████████████████| 105156/105156 [00:00<00:00, 194813.08it/s]\n"
     ]
    },
    {
     "name": "stdout",
     "output_type": "stream",
     "text": [
      "simple geoms: Liège\n",
      "\t* MultiGraph with 98777 nodes and 105156 edges\n"
     ]
    },
    {
     "name": "stderr",
     "output_type": "stream",
     "text": [
      "INFO:cityseer.tools.graphs:Removing filler nodes.\n",
      "100%|██████████████████████████████████| 98777/98777 [00:04<00:00, 23138.24it/s]\n",
      "INFO:cityseer.tools.graphs:Merging parallel edges within buffer of 60.\n"
     ]
    },
    {
     "name": "stdout",
     "output_type": "stream",
     "text": [
      "remove filler nodes: Liège\n",
      "\t* MultiGraph with 22216 nodes and 28595 edges\n"
     ]
    },
    {
     "name": "stderr",
     "output_type": "stream",
     "text": [
      "100%|█████████████████████████████████| 28595/28595 [00:00<00:00, 401665.53it/s]\n",
      "INFO:cityseer.tools.io:Preparing node and edge arrays from networkX graph.\n"
     ]
    },
    {
     "name": "stdout",
     "output_type": "stream",
     "text": [
      "merged parallel edges\n",
      "  buff=60m\n",
      "\t* MultiGraph with 22216 nodes and 28196 edges\n"
     ]
    },
    {
     "name": "stderr",
     "output_type": "stream",
     "text": [
      "INFO:cityseer.tools.graphs:Generating interpolated edge geometries.\n",
      "100%|███████████████████████████████| 105156/105156 [00:00<00:00, 188416.80it/s]\n"
     ]
    },
    {
     "name": "stdout",
     "output_type": "stream",
     "text": [
      "simple geoms: Liège\n",
      "\t* MultiGraph with 98777 nodes and 105156 edges\n"
     ]
    },
    {
     "name": "stderr",
     "output_type": "stream",
     "text": [
      "INFO:cityseer.tools.graphs:Removing filler nodes.\n",
      "100%|██████████████████████████████████| 98777/98777 [00:04<00:00, 22938.21it/s]\n"
     ]
    },
    {
     "name": "stdout",
     "output_type": "stream",
     "text": [
      "remove filler nodes: Liège\n",
      "\t* MultiGraph with 22216 nodes and 28595 edges\n"
     ]
    },
    {
     "name": "stderr",
     "output_type": "stream",
     "text": [
      "INFO:cityseer.tools.graphs:Merging parallel edges within buffer of 65.\n",
      "100%|█████████████████████████████████| 28595/28595 [00:00<00:00, 384718.92it/s]\n",
      "INFO:cityseer.tools.io:Preparing node and edge arrays from networkX graph.\n"
     ]
    },
    {
     "name": "stdout",
     "output_type": "stream",
     "text": [
      "merged parallel edges\n",
      "  buff=65m\n",
      "\t* MultiGraph with 22216 nodes and 28190 edges\n"
     ]
    },
    {
     "name": "stderr",
     "output_type": "stream",
     "text": [
      "INFO:cityseer.tools.graphs:Generating interpolated edge geometries.\n",
      "100%|███████████████████████████████| 105156/105156 [00:00<00:00, 175017.80it/s]\n"
     ]
    },
    {
     "name": "stdout",
     "output_type": "stream",
     "text": [
      "simple geoms: Liège\n",
      "\t* MultiGraph with 98777 nodes and 105156 edges\n"
     ]
    },
    {
     "name": "stderr",
     "output_type": "stream",
     "text": [
      "INFO:cityseer.tools.graphs:Removing filler nodes.\n",
      "100%|██████████████████████████████████| 98777/98777 [00:04<00:00, 22815.20it/s]\n",
      "INFO:cityseer.tools.graphs:Merging parallel edges within buffer of 70.\n"
     ]
    },
    {
     "name": "stdout",
     "output_type": "stream",
     "text": [
      "remove filler nodes: Liège\n",
      "\t* MultiGraph with 22216 nodes and 28595 edges\n"
     ]
    },
    {
     "name": "stderr",
     "output_type": "stream",
     "text": [
      "100%|█████████████████████████████████| 28595/28595 [00:00<00:00, 402242.09it/s]\n",
      "INFO:cityseer.tools.io:Preparing node and edge arrays from networkX graph.\n"
     ]
    },
    {
     "name": "stdout",
     "output_type": "stream",
     "text": [
      "merged parallel edges\n",
      "  buff=70m\n",
      "\t* MultiGraph with 22216 nodes and 28181 edges\n"
     ]
    },
    {
     "name": "stderr",
     "output_type": "stream",
     "text": [
      "INFO:cityseer.tools.graphs:Generating interpolated edge geometries.\n",
      "100%|███████████████████████████████| 105156/105156 [00:00<00:00, 194795.01it/s]\n"
     ]
    },
    {
     "name": "stdout",
     "output_type": "stream",
     "text": [
      "simple geoms: Liège\n",
      "\t* MultiGraph with 98777 nodes and 105156 edges\n"
     ]
    },
    {
     "name": "stderr",
     "output_type": "stream",
     "text": [
      "INFO:cityseer.tools.graphs:Removing filler nodes.\n",
      "100%|██████████████████████████████████| 98777/98777 [00:04<00:00, 23104.36it/s]\n",
      "INFO:cityseer.tools.graphs:Merging parallel edges within buffer of 75.\n"
     ]
    },
    {
     "name": "stdout",
     "output_type": "stream",
     "text": [
      "remove filler nodes: Liège\n",
      "\t* MultiGraph with 22216 nodes and 28595 edges\n"
     ]
    },
    {
     "name": "stderr",
     "output_type": "stream",
     "text": [
      "100%|█████████████████████████████████| 28595/28595 [00:00<00:00, 400988.71it/s]\n",
      "INFO:cityseer.tools.io:Preparing node and edge arrays from networkX graph.\n"
     ]
    },
    {
     "name": "stdout",
     "output_type": "stream",
     "text": [
      "merged parallel edges\n",
      "  buff=75m\n",
      "\t* MultiGraph with 22216 nodes and 28176 edges\n"
     ]
    },
    {
     "name": "stderr",
     "output_type": "stream",
     "text": [
      "INFO:cityseer.tools.graphs:Generating interpolated edge geometries.\n",
      "100%|███████████████████████████████| 105156/105156 [00:00<00:00, 195746.51it/s]\n"
     ]
    },
    {
     "name": "stdout",
     "output_type": "stream",
     "text": [
      "simple geoms: Liège\n",
      "\t* MultiGraph with 98777 nodes and 105156 edges\n"
     ]
    },
    {
     "name": "stderr",
     "output_type": "stream",
     "text": [
      "INFO:cityseer.tools.graphs:Removing filler nodes.\n",
      "100%|██████████████████████████████████| 98777/98777 [00:04<00:00, 22165.74it/s]\n",
      "INFO:cityseer.tools.graphs:Merging parallel edges within buffer of 80.\n"
     ]
    },
    {
     "name": "stdout",
     "output_type": "stream",
     "text": [
      "remove filler nodes: Liège\n",
      "\t* MultiGraph with 22216 nodes and 28595 edges\n"
     ]
    },
    {
     "name": "stderr",
     "output_type": "stream",
     "text": [
      "100%|█████████████████████████████████| 28595/28595 [00:00<00:00, 393633.28it/s]\n",
      "INFO:cityseer.tools.io:Preparing node and edge arrays from networkX graph.\n"
     ]
    },
    {
     "name": "stdout",
     "output_type": "stream",
     "text": [
      "merged parallel edges\n",
      "  buff=80m\n",
      "\t* MultiGraph with 22216 nodes and 28171 edges\n"
     ]
    },
    {
     "name": "stderr",
     "output_type": "stream",
     "text": [
      "INFO:cityseer.tools.graphs:Generating interpolated edge geometries.\n",
      "100%|████████████████████████████████| 105156/105156 [00:01<00:00, 88288.55it/s]\n"
     ]
    },
    {
     "name": "stdout",
     "output_type": "stream",
     "text": [
      "simple geoms: Liège\n",
      "\t* MultiGraph with 98777 nodes and 105156 edges\n"
     ]
    },
    {
     "name": "stderr",
     "output_type": "stream",
     "text": [
      "INFO:cityseer.tools.graphs:Removing filler nodes.\n",
      "100%|██████████████████████████████████| 98777/98777 [00:04<00:00, 23054.52it/s]\n",
      "INFO:cityseer.tools.graphs:Merging parallel edges within buffer of 85.\n"
     ]
    },
    {
     "name": "stdout",
     "output_type": "stream",
     "text": [
      "remove filler nodes: Liège\n",
      "\t* MultiGraph with 22216 nodes and 28595 edges\n"
     ]
    },
    {
     "name": "stderr",
     "output_type": "stream",
     "text": [
      "100%|██████████████████████████████████| 28595/28595 [00:00<00:00, 29751.50it/s]\n",
      "INFO:cityseer.tools.io:Preparing node and edge arrays from networkX graph.\n"
     ]
    },
    {
     "name": "stdout",
     "output_type": "stream",
     "text": [
      "merged parallel edges\n",
      "  buff=85m\n",
      "\t* MultiGraph with 22216 nodes and 28166 edges\n"
     ]
    },
    {
     "name": "stderr",
     "output_type": "stream",
     "text": [
      "INFO:cityseer.tools.graphs:Generating interpolated edge geometries.\n",
      "100%|███████████████████████████████| 105156/105156 [00:00<00:00, 190831.16it/s]\n"
     ]
    },
    {
     "name": "stdout",
     "output_type": "stream",
     "text": [
      "simple geoms: Liège\n",
      "\t* MultiGraph with 98777 nodes and 105156 edges\n"
     ]
    },
    {
     "name": "stderr",
     "output_type": "stream",
     "text": [
      "INFO:cityseer.tools.graphs:Removing filler nodes.\n",
      "100%|██████████████████████████████████| 98777/98777 [00:04<00:00, 22984.90it/s]\n",
      "INFO:cityseer.tools.graphs:Merging parallel edges within buffer of 90.\n"
     ]
    },
    {
     "name": "stdout",
     "output_type": "stream",
     "text": [
      "remove filler nodes: Liège\n",
      "\t* MultiGraph with 22216 nodes and 28595 edges\n"
     ]
    },
    {
     "name": "stderr",
     "output_type": "stream",
     "text": [
      "100%|█████████████████████████████████| 28595/28595 [00:00<00:00, 392893.11it/s]\n",
      "INFO:cityseer.tools.io:Preparing node and edge arrays from networkX graph.\n"
     ]
    },
    {
     "name": "stdout",
     "output_type": "stream",
     "text": [
      "merged parallel edges\n",
      "  buff=90m\n",
      "\t* MultiGraph with 22216 nodes and 28155 edges\n"
     ]
    },
    {
     "name": "stderr",
     "output_type": "stream",
     "text": [
      "INFO:cityseer.tools.graphs:Generating interpolated edge geometries.\n",
      "100%|███████████████████████████████| 105156/105156 [00:00<00:00, 195426.64it/s]\n"
     ]
    },
    {
     "name": "stdout",
     "output_type": "stream",
     "text": [
      "simple geoms: Liège\n",
      "\t* MultiGraph with 98777 nodes and 105156 edges\n"
     ]
    },
    {
     "name": "stderr",
     "output_type": "stream",
     "text": [
      "INFO:cityseer.tools.graphs:Removing filler nodes.\n",
      "100%|██████████████████████████████████| 98777/98777 [00:04<00:00, 23172.15it/s]\n",
      "INFO:cityseer.tools.graphs:Merging parallel edges within buffer of 95.\n"
     ]
    },
    {
     "name": "stdout",
     "output_type": "stream",
     "text": [
      "remove filler nodes: Liège\n",
      "\t* MultiGraph with 22216 nodes and 28595 edges\n"
     ]
    },
    {
     "name": "stderr",
     "output_type": "stream",
     "text": [
      "100%|█████████████████████████████████| 28595/28595 [00:00<00:00, 403133.08it/s]\n",
      "INFO:cityseer.tools.io:Preparing node and edge arrays from networkX graph.\n"
     ]
    },
    {
     "name": "stdout",
     "output_type": "stream",
     "text": [
      "merged parallel edges\n",
      "  buff=95m\n",
      "\t* MultiGraph with 22216 nodes and 28152 edges\n"
     ]
    },
    {
     "name": "stderr",
     "output_type": "stream",
     "text": [
      "INFO:cityseer.tools.graphs:Generating interpolated edge geometries.\n",
      "100%|███████████████████████████████| 105156/105156 [00:00<00:00, 195521.85it/s]\n"
     ]
    },
    {
     "name": "stdout",
     "output_type": "stream",
     "text": [
      "simple geoms: Liège\n",
      "\t* MultiGraph with 98777 nodes and 105156 edges\n"
     ]
    },
    {
     "name": "stderr",
     "output_type": "stream",
     "text": [
      "INFO:cityseer.tools.graphs:Removing filler nodes.\n",
      "100%|██████████████████████████████████| 98777/98777 [00:04<00:00, 23117.46it/s]\n",
      "INFO:cityseer.tools.graphs:Merging parallel edges within buffer of 100.\n"
     ]
    },
    {
     "name": "stdout",
     "output_type": "stream",
     "text": [
      "remove filler nodes: Liège\n",
      "\t* MultiGraph with 22216 nodes and 28595 edges\n"
     ]
    },
    {
     "name": "stderr",
     "output_type": "stream",
     "text": [
      "100%|█████████████████████████████████| 28595/28595 [00:00<00:00, 398182.40it/s]\n",
      "INFO:cityseer.tools.io:Preparing node and edge arrays from networkX graph.\n"
     ]
    },
    {
     "name": "stdout",
     "output_type": "stream",
     "text": [
      "merged parallel edges\n",
      "  buff=100m\n",
      "\t* MultiGraph with 22216 nodes and 28150 edges\n"
     ]
    }
   ],
   "source": [
    "results = {}\n",
    "\n",
    "for merge_midline in merge_edges_by_midline:\n",
    "    results[merge_midline] = {}\n",
    "    for contains_buffer_dist in contains_buffer_dists:\n",
    "        results[merge_midline][contains_buffer_dist] = {}\n",
    "\n",
    "        # simple geoms >> remove filler nodes >> merge parallel edges\n",
    "        _G = merge_parallel_routine(G.copy(), merge_midline, contains_buffer_dist)\n",
    "\n",
    "        # conversion from ``cityseer`` format to ``momepy``/``geopandas``\n",
    "        nodes, edges = convert_cs2mm(_G, orig_crs)\n",
    "\n",
    "        results[merge_midline][contains_buffer_dist][\"nodes\"] = nodes\n",
    "        results[merge_midline][contains_buffer_dist][\"edges\"] = edges"
   ]
  },
  {
   "cell_type": "markdown",
   "id": "c63d93c0-0b02-4f9c-802f-ae09c4607f56",
   "metadata": {},
   "source": [
    "---------------------------------\n",
    "\n",
    "## 4. Viz\n",
    "\n",
    "### use cases"
   ]
  },
  {
   "cell_type": "code",
   "execution_count": 11,
   "id": "b4a86df2-2422-44eb-85f1-8cf7a74ee125",
   "metadata": {
    "execution": {
     "iopub.execute_input": "2024-06-12T21:46:49.098804Z",
     "iopub.status.busy": "2024-06-12T21:46:49.098730Z",
     "iopub.status.idle": "2024-06-12T21:46:49.101177Z",
     "shell.execute_reply": "2024-06-12T21:46:49.100951Z",
     "shell.execute_reply.started": "2024-06-12T21:46:49.098797Z"
    }
   },
   "outputs": [],
   "source": [
    "points, fpath_base = core.utils.load_usecases(city)"
   ]
  },
  {
   "cell_type": "code",
   "execution_count": 12,
   "id": "ae9eeb7c-eb9d-4822-846f-6a9d48ba95b8",
   "metadata": {
    "execution": {
     "iopub.execute_input": "2024-06-12T21:46:49.101705Z",
     "iopub.status.busy": "2024-06-12T21:46:49.101596Z",
     "iopub.status.idle": "2024-06-12T21:46:49.103605Z",
     "shell.execute_reply": "2024-06-12T21:46:49.103422Z",
     "shell.execute_reply.started": "2024-06-12T21:46:49.101697Z"
    }
   },
   "outputs": [
    {
     "data": {
      "text/plain": [
       "{'roundabout': {'coords': [5.587873, 50.641955],\n",
       "  'address': 'Place du Congrès',\n",
       "  'comments': '...'},\n",
       " 'highway': {'coords': [5.560604, 50.632068],\n",
       "  'address': 'A602 / Rue de Puisatiers',\n",
       "  'comments': '...'},\n",
       " 'parkinglot': {'coords': [5.592738, 50.616253],\n",
       "  'address': 'Carrefour Quai des Vennes',\n",
       "  'comments': '...'},\n",
       " 'intersection': {'coords': [5.511301, 50.618373],\n",
       "  'address': 'Pont de Seraing',\n",
       "  'comments': '...'},\n",
       " 'parallel_edges_1': {'coords': [5.5708487, 50.6236314],\n",
       "  'address': 'LIEGE Place des Franchises',\n",
       "  'comments': 'small, textbook case'},\n",
       " 'parallel_edges_2': {'coords': [5.6192988, 50.6928202],\n",
       "  'address': \"WBCC, Rue d'Abhooz 82, 4040 Herstal, Belgium\",\n",
       "  'comments': 'parking lot of parallel edges'},\n",
       " 'parallel_edges_3': {'coords': [5.6202498, 50.6790271],\n",
       "  'address': 'Rue du Coq Mosan 7, 4040 Herstal, Belgium',\n",
       "  'comments': 'collapsed neighborhood - parallel edges'}}"
      ]
     },
     "execution_count": 12,
     "metadata": {},
     "output_type": "execute_result"
    }
   ],
   "source": [
    "points"
   ]
  },
  {
   "cell_type": "code",
   "execution_count": 13,
   "id": "eb81555f-4670-476b-839c-331bf225f5f8",
   "metadata": {
    "execution": {
     "iopub.execute_input": "2024-06-12T21:46:49.104003Z",
     "iopub.status.busy": "2024-06-12T21:46:49.103927Z",
     "iopub.status.idle": "2024-06-12T21:46:49.105674Z",
     "shell.execute_reply": "2024-06-12T21:46:49.105503Z",
     "shell.execute_reply.started": "2024-06-12T21:46:49.103996Z"
    }
   },
   "outputs": [
    {
     "data": {
      "text/plain": [
       "PosixPath('/Users/jgaboardi/github_repos/uscuni/simplification/usecases/1656')"
      ]
     },
     "execution_count": 13,
     "metadata": {},
     "output_type": "execute_result"
    }
   ],
   "source": [
    "fpath_base"
   ]
  },
  {
   "cell_type": "code",
   "execution_count": 14,
   "id": "6dbd6444-0d3a-4f46-8a0b-995134fb5637",
   "metadata": {
    "execution": {
     "iopub.execute_input": "2024-06-12T21:46:49.106006Z",
     "iopub.status.busy": "2024-06-12T21:46:49.105942Z",
     "iopub.status.idle": "2024-06-12T21:46:49.107925Z",
     "shell.execute_reply": "2024-06-12T21:46:49.107753Z",
     "shell.execute_reply.started": "2024-06-12T21:46:49.105999Z"
    }
   },
   "outputs": [
    {
     "data": {
      "text/plain": [
       "PosixPath('/Users/jgaboardi/github_repos/uscuni/simplification/usecases/1656/cityseer')"
      ]
     },
     "execution_count": 14,
     "metadata": {},
     "output_type": "execute_result"
    }
   ],
   "source": [
    "package = \"cityseer\"\n",
    "fpath_pack = fpath_base / package\n",
    "fpath_pack"
   ]
  },
  {
   "cell_type": "markdown",
   "id": "383c6524-6e4b-48d9-89e8-89d442520fc8",
   "metadata": {},
   "source": [
    "### class experiments"
   ]
  },
  {
   "cell_type": "code",
   "execution_count": 15,
   "id": "370b9fa3-978d-45a9-9315-0260f1dc19c8",
   "metadata": {
    "execution": {
     "iopub.execute_input": "2024-06-12T21:46:49.108267Z",
     "iopub.status.busy": "2024-06-12T21:46:49.108210Z",
     "iopub.status.idle": "2024-06-12T21:46:49.109955Z",
     "shell.execute_reply": "2024-06-12T21:46:49.109768Z",
     "shell.execute_reply.started": "2024-06-12T21:46:49.108261Z"
    }
   },
   "outputs": [
    {
     "data": {
      "text/plain": [
       "['parallel_edges_1', 'parallel_edges_2', 'parallel_edges_3']"
      ]
     },
     "execution_count": 15,
     "metadata": {},
     "output_type": "execute_result"
    }
   ],
   "source": [
    "contexts = [\"parallel_edges_1\", \"parallel_edges_2\", \"parallel_edges_3\"]\n",
    "contexts"
   ]
  },
  {
   "cell_type": "code",
   "execution_count": 16,
   "id": "fd876f9e-016a-4345-89ad-165e1a24dbc7",
   "metadata": {
    "execution": {
     "iopub.execute_input": "2024-06-12T21:46:49.110290Z",
     "iopub.status.busy": "2024-06-12T21:46:49.110236Z",
     "iopub.status.idle": "2024-06-12T21:48:29.523815Z",
     "shell.execute_reply": "2024-06-12T21:48:29.523478Z",
     "shell.execute_reply.started": "2024-06-12T21:46:49.110285Z"
    }
   },
   "outputs": [],
   "source": [
    "for context in contexts:\n",
    "    # isolate central AOI\n",
    "    point = points[context][\"coords\"]\n",
    "    center = core.viz.context.location(point, orig_crs)\n",
    "\n",
    "    for merge_midline in merge_edges_by_midline:\n",
    "        # make subfolder for plot saving\n",
    "        _context = f\"{context}_midline_{merge_midline}\"\n",
    "        fpath_context = core.viz.context.path(_context, fpath_pack)\n",
    "\n",
    "        for contains_buffer_dist in contains_buffer_dists:\n",
    "            # Make class-param plot\n",
    "            buff_pad_3 = f\"{contains_buffer_dist:03d}\"\n",
    "            fmt_title = (\n",
    "                f\"Contains Buffer Dist: {buff_pad_3}m\\n\"\n",
    "                f\"Merge Edges by Midline: {merge_midline}\"\n",
    "            )\n",
    "            fmt_fname = f\"{buff_pad_3}_{merge_midline}\"\n",
    "            core.viz.context.param_plot(\n",
    "                results[merge_midline][contains_buffer_dist][\"nodes\"],\n",
    "                results[merge_midline][contains_buffer_dist][\"edges\"],\n",
    "                center,\n",
    "                fmt_title,\n",
    "                fmt_fname,\n",
    "                fpath_context,\n",
    "                orig_crs,\n",
    "            )\n",
    "\n",
    "        # Make Video\n",
    "        core.viz.context.video(fpath_context)"
   ]
  },
  {
   "cell_type": "markdown",
   "id": "8fb19815-cde4-4748-a76c-b0b914363641",
   "metadata": {},
   "source": [
    "-----------------------------------"
   ]
  }
 ],
 "metadata": {
  "gist_info": {
   "create_date": "2024-01-22T01:48:06Z",
   "gist_id": "582dc1f207054a861eda93e975713b4b",
   "gist_url": "https://gist.github.com/jGaboardi/582dc1f207054a861eda93e975713b4b"
  },
  "kernelspec": {
   "display_name": "Python 3 (ipykernel)",
   "language": "python",
   "name": "python3"
  },
  "language_info": {
   "codemirror_mode": {
    "name": "ipython",
    "version": 3
   },
   "file_extension": ".py",
   "mimetype": "text/x-python",
   "name": "python",
   "nbconvert_exporter": "python",
   "pygments_lexer": "ipython3",
   "version": "3.11.9"
  }
 },
 "nbformat": 4,
 "nbformat_minor": 5
}
